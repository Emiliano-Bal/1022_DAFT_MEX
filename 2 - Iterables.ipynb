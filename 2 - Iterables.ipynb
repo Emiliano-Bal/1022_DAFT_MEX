{
<<<<<<< HEAD
 "cells": [
  {
   "cell_type": "markdown",
   "metadata": {},
   "source": [
    "# Aula III - Iterables\n",
    "## Python's inherent `data structures`\n",
    "- Lists (recap)\n",
    "- Tuples\n",
    "- Dicts\n",
    "- Sets"
   ]
  },
  {
   "cell_type": "markdown",
   "metadata": {},
   "source": [
    "## Lists\n",
    "- **Ordered sequence** of elements\n",
    "\n",
    "- **Mutable** (lists support index assignment)"
   ]
  },
  {
   "cell_type": "code",
   "execution_count": 16,
   "metadata": {},
   "outputs": [
    {
     "name": "stdout",
     "output_type": "stream",
     "text": [
      "[10, 20, 30]\n"
     ]
    }
   ],
   "source": [
    "list_ex = [10, 20, 30]\n",
    "print(list_ex)"
   ]
  },
  {
   "cell_type": "code",
   "execution_count": 17,
   "metadata": {},
   "outputs": [
    {
     "name": "stdout",
     "output_type": "stream",
     "text": [
      "10\n",
      "20\n",
      "30\n"
     ]
    }
   ],
   "source": [
    "print(list_ex[0])\n",
    "print(list_ex[1])\n",
    "print(list_ex[2])"
   ]
  },
  {
   "cell_type": "markdown",
   "metadata": {},
   "source": [
    "Lists are **mutable** - we can change specific elements in lists directly:"
   ]
  },
  {
   "cell_type": "code",
   "execution_count": 18,
   "metadata": {},
   "outputs": [
    {
     "name": "stdout",
     "output_type": "stream",
     "text": [
      "['Zero', 20, 30]\n",
      "Zero\n",
      "20\n",
      "30\n"
     ]
    }
   ],
   "source": [
    "list_ex[0] = 'Zero'\n",
    "print(list_ex)\n",
    "print(list_ex[0])\n",
    "print(list_ex[1])\n",
    "print(list_ex[2])"
   ]
  },
  {
   "cell_type": "markdown",
   "metadata": {},
   "source": [
    "### Methods\n",
    "We can use the **methods** `.append()` and `.extend()` to include **new elements** in a lista:\n",
    "\n",
    "- `append` adds an element to the end of a list;\n",
    "- `extend` adds elements from another list (or other iterable) to the end of the list."
   ]
  },
  {
   "cell_type": "code",
   "execution_count": 19,
   "metadata": {
    "scrolled": true
   },
   "outputs": [
    {
     "name": "stdout",
     "output_type": "stream",
     "text": [
      "['Zero', 20, 30, 40]\n"
     ]
    }
   ],
   "source": [
    "list_ex.append(40)\n",
    "print(list_ex)"
   ]
  },
  {
   "cell_type": "code",
   "execution_count": 20,
   "metadata": {},
   "outputs": [
    {
     "name": "stdout",
     "output_type": "stream",
     "text": [
      "40\n",
      "50\n",
      "60\n",
      "70\n"
     ]
    }
   ],
   "source": [
    "a = [40,50,60,70]\n",
    "for i in a:\n",
    "    print(i)\n",
    "    list_ex.append(i)"
   ]
  },
  {
   "cell_type": "code",
   "execution_count": 21,
   "metadata": {},
   "outputs": [
    {
     "data": {
      "text/plain": [
       "['Zero', 20, 30, 40, 40, 50, 60, 70]"
      ]
     },
     "execution_count": 21,
     "metadata": {},
     "output_type": "execute_result"
    }
   ],
   "source": [
    "list_ex"
   ]
  },
  {
   "cell_type": "code",
   "execution_count": 23,
   "metadata": {
    "scrolled": true
   },
   "outputs": [
    {
     "name": "stdout",
     "output_type": "stream",
     "text": [
      "['Zero', 20, 30, 40, 40, 50, 60, 70, 50, 60, 60, 50, 60, 60]\n"
     ]
    }
   ],
   "source": [
    "list_ex.extend([50, 60, 60])\n",
    "print(list_ex)"
   ]
  },
  {
   "cell_type": "markdown",
   "metadata": {},
   "source": [
    "The `.extend()` method does not flatten lists!"
   ]
  },
  {
   "cell_type": "code",
   "execution_count": 24,
   "metadata": {},
   "outputs": [
    {
     "name": "stdout",
     "output_type": "stream",
     "text": [
      "['Zero', 20, 30, 40, 40, 50, 60, 70, 50, 60, 60, 50, 60, 60, 70, [80, 90]]\n"
     ]
    }
   ],
   "source": [
    "minha_extensao = [70, [80, 90]]\n",
    "list_ex.extend(minha_extensao)\n",
    "print(list_ex)"
   ]
  },
  {
   "cell_type": "markdown",
   "metadata": {},
   "source": [
    "We can use the `.pop()` and `.remove()` methods to remove elements from lists:\n",
    "\n",
    "* `pop` removes an element at a given index and returns it\n",
    "* `removes` finds the first occurence of an element in the list and removes that occurence."
   ]
  },
  {
   "cell_type": "code",
   "execution_count": 25,
   "metadata": {},
   "outputs": [
    {
     "name": "stdout",
     "output_type": "stream",
     "text": [
      "[80, 90]\n",
      "['Zero', 20, 30, 40, 40, 50, 60, 70, 50, 60, 60, 50, 60, 60, 70]\n"
     ]
    }
   ],
   "source": [
    "ultimo_elemento = list_ex.pop()\n",
    "print(ultimo_elemento)\n",
    "print(list_ex)"
   ]
  },
  {
   "cell_type": "code",
   "execution_count": 26,
   "metadata": {},
   "outputs": [
    {
     "name": "stdout",
     "output_type": "stream",
     "text": [
      "Zero\n",
      "[20, 30, 40, 40, 50, 60, 70, 50, 60, 60, 50, 60, 60, 70]\n"
     ]
    }
   ],
   "source": [
    "primeiro_elemento = list_ex.pop(0)\n",
    "print(primeiro_elemento)\n",
    "print(list_ex)"
   ]
  },
  {
   "cell_type": "code",
   "execution_count": 27,
   "metadata": {},
   "outputs": [
    {
     "name": "stdout",
     "output_type": "stream",
     "text": [
      "[20, 40, 40, 50, 60, 70, 50, 60, 60, 50, 60, 60, 70]\n"
     ]
    }
   ],
   "source": [
    "list_ex.remove(30)\n",
    "print(list_ex)"
   ]
  },
  {
   "cell_type": "code",
   "execution_count": 28,
   "metadata": {},
   "outputs": [
    {
     "name": "stdout",
     "output_type": "stream",
     "text": [
      "[20, 40, 40, 50, 70, 50, 60, 60, 50, 60, 60, 70]\n"
     ]
    }
   ],
   "source": [
    "list_ex.remove(60)\n",
    "print(list_ex)"
   ]
  },
  {
   "cell_type": "markdown",
   "metadata": {},
   "source": [
    "### Slices\n",
    "\n",
    "Besides *integer indexing*, lists support indexing through **slices** through the `[:]` notation, with syntax `[starting_index:ending_index]`\n",
    "\n",
    "* `a_list[start:stop]` -> all the items in `a_list` between `start` and `end-1` indexes;\n",
    "* `a_list[start:]` -> all the items in `a_list` from the `start` index to the end;\n",
    "* `a_list[:stop]` -> all the items in `a_list` from the beggining to the `end` index;\n",
    "* `a_list[:]` -> a copy of the entire list"
   ]
  },
  {
   "cell_type": "code",
   "execution_count": 60,
   "metadata": {},
   "outputs": [
    {
     "name": "stdout",
     "output_type": "stream",
     "text": [
      "[1, 2, 3, 4, 5, 6, 7, 8, 9, 10]\n"
     ]
    }
   ],
   "source": [
    "list_ex = [1,2,3,4,5,6,7,8,9,10]\n",
    "print(list_ex[:])"
   ]
  },
  {
   "cell_type": "code",
   "execution_count": 50,
   "metadata": {},
   "outputs": [
    {
     "name": "stdout",
     "output_type": "stream",
     "text": [
      "[3, 4]\n"
     ]
    }
   ],
   "source": [
    "print(list_ex[2:4])"
   ]
  },
  {
   "cell_type": "code",
   "execution_count": 51,
   "metadata": {},
   "outputs": [
    {
     "name": "stdout",
     "output_type": "stream",
     "text": [
      "[1, 2, 3, 4]\n"
     ]
    }
   ],
   "source": [
    "print(list_ex[:4])"
   ]
  },
  {
   "cell_type": "code",
   "execution_count": 52,
   "metadata": {},
   "outputs": [
    {
     "name": "stdout",
     "output_type": "stream",
     "text": [
      "[2, 3, 4, 5, 6, 7, 8, 9, 10]\n"
     ]
    }
   ],
   "source": [
    "print(list_ex[1:])"
   ]
  },
  {
   "cell_type": "markdown",
   "metadata": {},
   "source": [
    "We can also *count backwards* through negative indexing: the index `[-1]` is the **last element** of the list, `[-2]` the second-to-last, etc..."
   ]
  },
  {
   "cell_type": "code",
   "execution_count": 61,
   "metadata": {},
   "outputs": [
    {
     "data": {
      "text/plain": [
       "[]"
      ]
     },
     "execution_count": 61,
     "metadata": {},
     "output_type": "execute_result"
    }
   ],
   "source": [
    "list_ex[-1:0]"
   ]
  },
  {
   "cell_type": "code",
   "execution_count": 54,
   "metadata": {
    "scrolled": true
   },
   "outputs": [
    {
     "data": {
      "text/plain": [
       "[8, 9]"
      ]
     },
     "execution_count": 54,
     "metadata": {},
     "output_type": "execute_result"
    }
   ],
   "source": [
    "list_ex[-3:-1]"
   ]
  },
  {
   "cell_type": "code",
   "execution_count": null,
   "metadata": {},
   "outputs": [],
   "source": []
  },
  {
   "cell_type": "code",
   "execution_count": null,
   "metadata": {},
   "outputs": [],
   "source": []
  },
  {
   "cell_type": "code",
   "execution_count": null,
   "metadata": {},
   "outputs": [],
   "source": []
  },
  {
   "cell_type": "markdown",
   "metadata": {},
   "source": [
    "### Challenge - unpacking lists"
   ]
  },
  {
   "cell_type": "code",
   "execution_count": null,
   "metadata": {},
   "outputs": [],
   "source": []
  },
  {
   "cell_type": "code",
   "execution_count": 71,
   "metadata": {
    "scrolled": true
   },
   "outputs": [
    {
     "name": "stdout",
     "output_type": "stream",
     "text": [
      "[1, [2, [3, [4]]]]\n"
     ]
    }
   ],
   "source": [
    "list_ex = [1, [2, [3, [4]]]]\n",
    "print(list_ex)"
   ]
  },
  {
   "cell_type": "code",
   "execution_count": 72,
   "metadata": {},
   "outputs": [
    {
     "name": "stdout",
     "output_type": "stream",
     "text": [
      "[4, 3, 2, 1]\n"
     ]
    },
    {
     "data": {
      "text/plain": [
       "[1, 2, 3, 4]"
      ]
     },
     "execution_count": 72,
     "metadata": {},
     "output_type": "execute_result"
    }
   ],
   "source": [
    "a = []\n",
    "while len(list_ex) > 0:\n",
    "    i = list_ex.pop()\n",
    "    if type(i) == list:\n",
    "        list_ex.extend(i)\n",
    "    else:\n",
    "        a.append(i)\n",
    "\n",
    "print(a)\n",
    "a[::-1]\n",
    "\n"
   ]
  },
  {
   "cell_type": "markdown",
   "metadata": {},
   "source": [
    "## Tuples\n",
    "- **Ordered sequence** of elements\n",
    "\n",
    "- **Imutable**, do not suppport index item assignment\n",
    "### Criando uma tupla"
   ]
  },
  {
   "cell_type": "code",
   "execution_count": 73,
   "metadata": {
    "ExecuteTime": {
     "end_time": "2020-07-09T22:45:47.947147Z",
     "start_time": "2020-07-09T22:45:47.939168Z"
    }
   },
   "outputs": [
    {
     "data": {
      "text/plain": [
       "tuple"
      ]
     },
     "execution_count": 73,
     "metadata": {},
     "output_type": "execute_result"
    }
   ],
   "source": [
    "tupla = (10,)\n",
    "type(tupla)"
   ]
  },
  {
   "cell_type": "code",
   "execution_count": 74,
   "metadata": {},
   "outputs": [
    {
     "name": "stdout",
     "output_type": "stream",
     "text": [
      "(10, 20, 30)\n"
     ]
    }
   ],
   "source": [
    "tuple_ex = (10, 20, 30)\n",
    "print(tuple_ex)"
   ]
  },
  {
   "cell_type": "markdown",
   "metadata": {},
   "source": [
    "We can use multiple assignment to unpack a tuple (and a list!):"
   ]
  },
  {
   "cell_type": "code",
   "execution_count": 75,
   "metadata": {},
   "outputs": [
    {
     "name": "stdout",
     "output_type": "stream",
     "text": [
      "10\n",
      "20\n",
      "30\n"
     ]
    }
   ],
   "source": [
    "a, b, c = tuple_ex\n",
    "print(a)\n",
    "print(b)\n",
    "print(c)"
   ]
  },
  {
   "cell_type": "markdown",
   "metadata": {},
   "source": [
    "We can convert lists into uples and vice-versa through the `list()` and `tuple()` functions:"
   ]
  },
  {
   "cell_type": "code",
   "execution_count": 77,
   "metadata": {
    "ExecuteTime": {
     "end_time": "2020-07-09T22:53:37.037379Z",
     "start_time": "2020-07-09T22:53:37.033390Z"
    }
   },
   "outputs": [
    {
     "name": "stdout",
     "output_type": "stream",
     "text": [
      "[10, 20, 30]\n",
      "(10, 20, 30)\n",
      "<class 'tuple'>\n"
     ]
    }
   ],
   "source": [
    "my_list = [10, 20, 30]\n",
    "my_tuple = tuple(my_list)\n",
    "print(my_list)\n",
    "print(my_tuple)\n",
    "print(type(my_tuple))"
   ]
  },
  {
   "cell_type": "code",
   "execution_count": 78,
   "metadata": {},
   "outputs": [
    {
     "name": "stdout",
     "output_type": "stream",
     "text": [
      "<class 'tuple'>\n"
     ]
    }
   ],
   "source": [
    "tuple_ex = tuple([10, 20, 30])\n",
    "print(type(tuple_ex))"
   ]
  },
  {
   "cell_type": "code",
   "execution_count": 80,
   "metadata": {},
   "outputs": [
    {
     "name": "stdout",
     "output_type": "stream",
     "text": [
      "<class 'tuple'>\n"
     ]
    }
   ],
   "source": [
    "a = ('a', 3, [1,2,3])\n",
    "print(type(a))"
   ]
  },
  {
   "cell_type": "markdown",
   "metadata": {},
   "source": [
    "We can iterate through tuples with `for` loops:"
   ]
  },
  {
   "cell_type": "code",
   "execution_count": 81,
   "metadata": {},
   "outputs": [
    {
     "name": "stdout",
     "output_type": "stream",
     "text": [
      "0\n",
      "1\n",
      "2\n",
      "3\n",
      "4\n",
      "5\n"
     ]
    }
   ],
   "source": [
    "minha_tupla = (0, 1, 2, 3, 4, 5)\n",
    "for i in minha_tupla:\n",
    "    print(i)"
   ]
  },
  {
   "cell_type": "markdown",
   "metadata": {},
   "source": [
    "## Tuple methods\n",
    "\n",
    "- `.count()`: counts the number of times a given value occurs in a tuple;\n",
    "- `.index()`: returns the first index of a given element in a tuple."
   ]
  },
  {
   "cell_type": "code",
   "execution_count": 99,
   "metadata": {
    "ExecuteTime": {
     "end_time": "2020-07-09T23:32:03.570210Z",
     "start_time": "2020-07-09T23:32:03.566220Z"
    }
   },
   "outputs": [
    {
     "data": {
      "text/plain": [
       "2"
      ]
     },
     "execution_count": 99,
     "metadata": {},
     "output_type": "execute_result"
    }
   ],
   "source": [
    "y = (1, 3, 7, 4, 6, 3, 8, 8, 'Pedro')\n",
    "y.count(8)"
   ]
  },
  {
   "cell_type": "code",
   "execution_count": 100,
   "metadata": {
    "scrolled": true
   },
   "outputs": [
    {
     "data": {
      "text/plain": [
       "6"
      ]
     },
     "execution_count": 100,
     "metadata": {},
     "output_type": "execute_result"
    }
   ],
   "source": [
    "y.index(8)"
   ]
  },
  {
   "cell_type": "code",
   "execution_count": 102,
   "metadata": {},
   "outputs": [
    {
     "name": "stdout",
     "output_type": "stream",
     "text": [
      "1\n",
      "3\n",
      "7\n",
      "4\n",
      "6\n",
      "3\n",
      "8\n",
      "8\n",
      "Pedro\n"
     ]
    }
   ],
   "source": [
    "x = -1\n",
    "for x in y:\n",
    "    if y.count(x) <= 0:\n",
    "        print(f'{x} is not in {y}')\n",
    "    else:\n",
    "        print(x)"
   ]
  },
  {
   "cell_type": "markdown",
   "metadata": {},
   "source": [
    "(These methods also exist in lists):"
   ]
  },
  {
   "cell_type": "code",
   "execution_count": 103,
   "metadata": {},
   "outputs": [],
   "source": [
    "y_list = list(y)"
   ]
  },
  {
   "cell_type": "code",
   "execution_count": 104,
   "metadata": {},
   "outputs": [
    {
     "data": {
      "text/plain": [
       "2"
      ]
     },
     "execution_count": 104,
     "metadata": {},
     "output_type": "execute_result"
    }
   ],
   "source": [
    "y_list.count(8)"
   ]
  },
  {
   "cell_type": "code",
   "execution_count": 105,
   "metadata": {},
   "outputs": [
    {
     "data": {
      "text/plain": [
       "6"
      ]
     },
     "execution_count": 105,
     "metadata": {},
     "output_type": "execute_result"
    }
   ],
   "source": [
    "y_list.index(8)"
   ]
  },
  {
   "cell_type": "markdown",
   "metadata": {},
   "source": [
    "## Native functions - `sorted()`, `range()` e `len()`\n",
    "\n",
    "- `sorted()`: Order a tuple (or any **iterable**);\n",
    "- `range()`: creates an iterable from two integers."
   ]
  },
  {
   "cell_type": "code",
   "execution_count": 106,
   "metadata": {},
   "outputs": [],
   "source": [
    "y = (1, 3, 7, 4, 6, 3, 8, 8)"
   ]
  },
  {
   "cell_type": "code",
   "execution_count": 107,
   "metadata": {},
   "outputs": [
    {
     "name": "stdout",
     "output_type": "stream",
     "text": [
      "[8, 8, 7, 6, 4, 3, 3, 1]\n"
     ]
    }
   ],
   "source": [
    "print(sorted(y, reverse=True))"
   ]
  },
  {
   "cell_type": "markdown",
   "metadata": {},
   "source": [
    "The `sorted()` function does not change the original tuple - if we want to store the sorted values we must do so explictly through *variable assignment*:"
   ]
  },
  {
   "cell_type": "code",
   "execution_count": 108,
   "metadata": {},
   "outputs": [
    {
     "data": {
      "text/plain": [
       "(1, 3, 7, 4, 6, 3, 8, 8)"
      ]
     },
     "execution_count": 108,
     "metadata": {},
     "output_type": "execute_result"
    }
   ],
   "source": [
    "y"
   ]
  },
  {
   "cell_type": "code",
   "execution_count": 115,
   "metadata": {},
   "outputs": [
    {
     "name": "stdout",
     "output_type": "stream",
     "text": [
      "range(0, 10)\n"
     ]
    }
   ],
   "source": [
    "my_range = range(10)\n",
    "print(my_range)"
   ]
  },
  {
   "cell_type": "markdown",
   "metadata": {},
   "source": [
    "The range functions create a **lazy** iterable: to see all it's values we must convert it to a list or loop through it with a for:"
   ]
  },
  {
   "cell_type": "code",
   "execution_count": 116,
   "metadata": {},
   "outputs": [
    {
     "name": "stdout",
     "output_type": "stream",
     "text": [
      "0\n",
      "1\n",
      "2\n",
      "3\n",
      "4\n",
      "5\n",
      "6\n",
      "7\n",
      "8\n",
      "9\n"
     ]
    }
   ],
   "source": [
    "for i in range(10):\n",
    "    print(i)"
   ]
  },
  {
   "cell_type": "code",
   "execution_count": 123,
   "metadata": {},
   "outputs": [
    {
     "name": "stdout",
     "output_type": "stream",
     "text": [
      "[0, 2, 4, 6, 8, 10, 12, 14, 16, 18, 20]\n"
     ]
    }
   ],
   "source": [
    "a = list(range(0,21,2))\n",
    "print(a)"
   ]
  },
  {
   "cell_type": "code",
   "execution_count": 117,
   "metadata": {},
   "outputs": [
    {
     "data": {
      "text/plain": [
       "[0, 1, 2, 3, 4, 5, 6, 7, 8, 9]"
      ]
     },
     "execution_count": 117,
     "metadata": {},
     "output_type": "execute_result"
    }
   ],
   "source": [
    "list(my_range)"
   ]
  },
  {
   "cell_type": "markdown",
   "metadata": {},
   "source": [
    "The `len()` function returns the number of elements in an **iterable**:"
   ]
  },
  {
   "cell_type": "code",
   "execution_count": 118,
   "metadata": {},
   "outputs": [
    {
     "data": {
      "text/plain": [
       "3"
      ]
     },
     "execution_count": 118,
     "metadata": {},
     "output_type": "execute_result"
    }
   ],
   "source": [
    "len([1, 2, 3])"
   ]
  },
  {
   "cell_type": "code",
   "execution_count": 124,
   "metadata": {
    "scrolled": true
   },
   "outputs": [
    {
     "data": {
      "text/plain": [
       "11"
      ]
     },
     "execution_count": 124,
     "metadata": {},
     "output_type": "execute_result"
    }
   ],
   "source": [
    "len(a)"
   ]
  },
  {
   "cell_type": "markdown",
   "metadata": {},
   "source": [
    "# Dictionaries\n",
    "## What is a dictionary?\n",
    "\n",
    "In the real world, a book containing unique **words** and the different **meanings** of each word. In Python `dicts` are a collection of `key : value` pairs:\n",
    "\n",
    "`keys`: are the **unique** words;\n",
    "\n",
    "`values`: the meanings.\n",
    "\n",
    "## Creating a Dictionary\n",
    "\n",
    "- Syntax `{key1: value1, key2 : value2}`"
   ]
  },
  {
   "cell_type": "code",
   "execution_count": 125,
   "metadata": {},
   "outputs": [],
   "source": [
    "my_dict={}"
   ]
  },
  {
   "cell_type": "code",
   "execution_count": 126,
   "metadata": {},
   "outputs": [],
   "source": [
    "my_dict=dict()"
   ]
  },
  {
   "cell_type": "code",
   "execution_count": 127,
   "metadata": {},
   "outputs": [
    {
     "data": {
      "text/plain": [
       "dict"
      ]
     },
     "execution_count": 127,
     "metadata": {},
     "output_type": "execute_result"
    }
   ],
   "source": [
    "type(my_dict)"
   ]
  },
  {
   "cell_type": "code",
   "execution_count": 138,
   "metadata": {
    "ExecuteTime": {
     "end_time": "2020-07-10T00:09:37.869696Z",
     "start_time": "2020-07-10T00:09:37.865676Z"
    }
   },
   "outputs": [
    {
     "name": "stdout",
     "output_type": "stream",
     "text": [
      "{'Beans': 10, 'Rice': 8, 'Bananas': 1}\n"
     ]
    }
   ],
   "source": [
    "my_dict = {\n",
    "            'Beans': 10,\n",
    "            'Rice': 8,\n",
    "            'Bananas': 1\n",
    "          }\n",
    "print(my_dict)"
   ]
  },
  {
   "cell_type": "markdown",
   "metadata": {},
   "source": [
    "We can add new elements to a `dict` using **index notation**:"
   ]
  },
  {
   "cell_type": "code",
   "execution_count": 139,
   "metadata": {},
   "outputs": [
    {
     "name": "stdout",
     "output_type": "stream",
     "text": [
      "{'Beans': 10, 'Rice': 8, 'Bananas': 1, 'Soybeans': 19}\n"
     ]
    }
   ],
   "source": [
    "my_dict['Soybeans'] = 19\n",
    "print(my_dict)"
   ]
  },
  {
   "cell_type": "markdown",
   "metadata": {},
   "source": [
    "Each `key` in a `dict` **MUST BE UNIQUE**! If we try to create duplicate keys, the `dict` will simply **update** that `key`'s value:"
   ]
  },
  {
   "cell_type": "code",
   "execution_count": 140,
   "metadata": {},
   "outputs": [
    {
     "name": "stdout",
     "output_type": "stream",
     "text": [
      "{'Soybeans': 9}\n"
     ]
    }
   ],
   "source": [
    "my_dict = {\n",
    "            'Soybeans': 10,\n",
    "            'Soybeans': 8,\n",
    "            'Soybeans': 1\n",
    "          }\n",
    "my_dict['Soybeans'] = 9\n",
    "print(my_dict)"
   ]
  },
  {
   "cell_type": "markdown",
   "metadata": {},
   "source": [
    "We can use this explictly to change the `values` in a `dict`:"
   ]
  },
  {
   "cell_type": "code",
   "execution_count": 143,
   "metadata": {},
   "outputs": [
    {
     "data": {
      "text/plain": [
       "{'Soybeans': 10, 'Beans': 8, 'Rice': 1}"
      ]
     },
     "execution_count": 143,
     "metadata": {},
     "output_type": "execute_result"
    }
   ],
   "source": [
    "my_dict = {\n",
    "            'Soybeans': 10,\n",
    "            'Beans': 8,\n",
    "            'Rice': 1\n",
    "          }\n",
    "my_dict"
   ]
  },
  {
   "cell_type": "code",
   "execution_count": 144,
   "metadata": {},
   "outputs": [
    {
     "name": "stdout",
     "output_type": "stream",
     "text": [
      "{'Soybeans': 15, 'Beans': 8, 'Rice': 1}\n"
     ]
    }
   ],
   "source": [
    "my_dict['Soybeans'] = 15\n",
    "print(my_dict)"
   ]
  },
  {
   "cell_type": "markdown",
   "metadata": {},
   "source": [
    "Podemos guardar los valores en variables "
   ]
  },
  {
   "cell_type": "code",
   "execution_count": 152,
   "metadata": {
    "ExecuteTime": {
     "end_time": "2020-07-10T00:10:26.565681Z",
     "start_time": "2020-07-10T00:10:26.560695Z"
    }
   },
   "outputs": [
    {
     "name": "stdout",
     "output_type": "stream",
     "text": [
      "The price for 10 kg is $150 \n"
     ]
    }
   ],
   "source": [
    "preco_10kg_gb = my_dict['Soybeans']*10\n",
    "print(f'The price for 10 kg is ${preco_10kg_gb} ')"
   ]
  },
  {
   "cell_type": "markdown",
   "metadata": {},
   "source": [
    "## Dictionary methods\n",
    "\n",
    "Although a `dict` is not directly **iterable** - we can't loop through it - we can use it's methods to loop through 3 different iterables composing the `dict`\n",
    "\n",
    "- `.values()` is a list of the different `values` in the `dict`;\n",
    "\n",
    "- `.keys()` is a list of the different `keys` in the `dict`;\n",
    "\n",
    "- `.items()` is a list of the different `(key, value)` pair (represented as tuples)."
   ]
  },
  {
   "cell_type": "code",
   "execution_count": 153,
   "metadata": {},
   "outputs": [
    {
     "data": {
      "text/plain": [
       "dict_values([15, 8, 1])"
      ]
     },
     "execution_count": 153,
     "metadata": {},
     "output_type": "execute_result"
    }
   ],
   "source": [
    "my_dict.values()"
   ]
  },
  {
   "cell_type": "code",
   "execution_count": 154,
   "metadata": {},
   "outputs": [
    {
     "data": {
      "text/plain": [
       "dict_keys(['Soybeans', 'Beans', 'Rice'])"
      ]
     },
     "execution_count": 154,
     "metadata": {},
     "output_type": "execute_result"
    }
   ],
   "source": [
    "my_dict.keys()"
   ]
  },
  {
   "cell_type": "code",
   "execution_count": 155,
   "metadata": {},
   "outputs": [
    {
     "data": {
      "text/plain": [
       "dict_items([('Soybeans', 15), ('Beans', 8), ('Rice', 1)])"
      ]
     },
     "execution_count": 155,
     "metadata": {},
     "output_type": "execute_result"
    }
   ],
   "source": [
    "my_dict.items()"
   ]
  },
  {
   "cell_type": "markdown",
   "metadata": {},
   "source": [
    "## Adding items to the dictionary\n",
    "\n",
    "We can **add** a `key` to a `dict` using **index notation** (`[key_name]`):"
   ]
  },
  {
   "cell_type": "code",
   "execution_count": 156,
   "metadata": {},
   "outputs": [],
   "source": [
    "my_dict['Chickpeas'] = 9"
   ]
  },
  {
   "cell_type": "code",
   "execution_count": 157,
   "metadata": {},
   "outputs": [
    {
     "data": {
      "text/plain": [
       "dict_keys(['Soybeans', 'Beans', 'Rice', 'Chickpeas'])"
      ]
     },
     "execution_count": 157,
     "metadata": {},
     "output_type": "execute_result"
    }
   ],
   "source": [
    "my_dict.keys()"
   ]
  },
  {
   "cell_type": "code",
   "execution_count": 158,
   "metadata": {},
   "outputs": [
    {
     "data": {
      "text/plain": [
       "{'Soybeans': 15, 'Beans': 8, 'Rice': 1, 'Chickpeas': 9}"
      ]
     },
     "execution_count": 158,
     "metadata": {},
     "output_type": "execute_result"
    }
   ],
   "source": [
    "my_dict"
   ]
  },
  {
   "cell_type": "markdown",
   "metadata": {},
   "source": [
    "We can also use the `.update()` method to update the values and add keys to a `dict` from a different `dict"
   ]
  },
  {
   "cell_type": "code",
   "execution_count": 159,
   "metadata": {},
   "outputs": [
    {
     "name": "stdout",
     "output_type": "stream",
     "text": [
      "{'Chickpeas': 5, 'Whole-grain Rice': 8.5}\n"
     ]
    }
   ],
   "source": [
    "new_dict = dict()\n",
    "new_dict['Chickpeas'] = 5\n",
    "new_dict['Whole-grain Rice'] = 8.5\n",
    "print(new_dict)"
   ]
  },
  {
   "cell_type": "code",
   "execution_count": 160,
   "metadata": {},
   "outputs": [
    {
     "name": "stdout",
     "output_type": "stream",
     "text": [
      "{'Soybeans': 15, 'Beans': 8, 'Rice': 1, 'Chickpeas': 5, 'Whole-grain Rice': 8.5}\n"
     ]
    }
   ],
   "source": [
    "my_dict.update(new_dict)\n",
    "print(my_dict)"
   ]
  },
  {
   "cell_type": "code",
   "execution_count": 161,
   "metadata": {},
   "outputs": [
    {
     "name": "stdout",
     "output_type": "stream",
     "text": [
      "{'Soybeans': 15, 'Beans': 8, 'Rice': 1, 'Chickpeas': 5, 'Whole-grain Rice': 8.5}\n"
     ]
    }
   ],
   "source": [
    "print(my_dict)"
   ]
  },
  {
   "cell_type": "markdown",
   "metadata": {},
   "source": [
    "We can also use different iterables to add/update values in a dictionary:"
   ]
  },
  {
   "cell_type": "code",
   "execution_count": 162,
   "metadata": {},
   "outputs": [],
   "source": [
    "keys = ['White Beans', 'Syrian Chickpeas', 'White Beans']\n",
    "values = [9.50, 13, 8.50]"
   ]
  },
  {
   "cell_type": "code",
   "execution_count": 163,
   "metadata": {},
   "outputs": [
    {
     "name": "stdout",
     "output_type": "stream",
     "text": [
      "White Beans 9.5\n",
      "Syrian Chickpeas 13\n",
      "White Beans 8.5\n"
     ]
    }
   ],
   "source": [
    "for i in range(len(keys)):\n",
    "    print(keys[i], values[i])\n",
    "    my_dict[keys[i]] = values[i]"
   ]
  },
  {
   "cell_type": "code",
   "execution_count": 164,
   "metadata": {},
   "outputs": [
    {
     "name": "stdout",
     "output_type": "stream",
     "text": [
      "{'Soybeans': 15, 'Beans': 8, 'Rice': 1, 'Chickpeas': 5, 'Whole-grain Rice': 8.5, 'White Beans': 8.5, 'Syrian Chickpeas': 13}\n"
     ]
    }
   ],
   "source": [
    "print(my_dict)"
   ]
  },
  {
   "cell_type": "markdown",
   "metadata": {},
   "source": [
    "We can also use multiple assignment in a `for` loop to add/update `key : value` pairs from an uple to a dict:"
   ]
  },
  {
   "cell_type": "code",
   "execution_count": 166,
   "metadata": {},
   "outputs": [],
   "source": [
    "new_prices = [('Lentilha Verde', 9), ('Abobrinha', 3), ('Beringela', 8)]"
   ]
  },
  {
   "cell_type": "code",
   "execution_count": 167,
   "metadata": {},
   "outputs": [
    {
     "name": "stdout",
     "output_type": "stream",
     "text": [
      "{'Soybeans': 15, 'Beans': 8, 'Rice': 1, 'Chickpeas': 5, 'Whole-grain Rice': 8.5, 'White Beans': 8.5, 'Syrian Chickpeas': 13, 'Lentilha Verde': 9, 'Abobrinha': 3, 'Beringela': 8}\n"
     ]
    }
   ],
   "source": [
    "for product, price in new_prices:\n",
    "    my_dict[product] = price\n",
    "print(my_dict)"
   ]
  },
  {
   "cell_type": "markdown",
   "metadata": {},
   "source": [
    "## Values can be anything! \n"
   ]
  },
  {
   "cell_type": "code",
   "execution_count": 168,
   "metadata": {},
   "outputs": [
    {
     "name": "stdout",
     "output_type": "stream",
     "text": [
      "{'id': 1, 'size': 80, 'lot_size': (20, 30), 'address': {'street': 'Al. das Maritacas', 'number': 1637, 'neigh': 'Cidade Jardim', 'zip': 39272440}}\n"
     ]
    }
   ],
   "source": [
    "casa = dict()\n",
    "casa['id'] = 1\n",
    "casa['size'] = 80\n",
    "casa['lot_size'] = (20, 30)\n",
    "casa['address'] = dict()\n",
    "casa['address']['street'] = 'Al. das Maritacas'\n",
    "casa['address']['number'] = 1637\n",
    "casa['address']['neigh'] = 'Cidade Jardim'\n",
    "casa['address']['zip'] = 39272440\n",
    "print(casa)"
   ]
  },
  {
   "cell_type": "code",
   "execution_count": 169,
   "metadata": {},
   "outputs": [
    {
     "name": "stdout",
     "output_type": "stream",
     "text": [
      "<class 'dict'>\n",
      "<class 'tuple'>\n",
      "<class 'dict'>\n"
     ]
    }
   ],
   "source": [
    "print(type(casa))\n",
    "print(type(casa['lot_size']))\n",
    "print(type(casa['address']))"
   ]
  },
  {
   "cell_type": "code",
   "execution_count": 172,
   "metadata": {
    "scrolled": true
   },
   "outputs": [
    {
     "name": "stdout",
     "output_type": "stream",
     "text": [
      "Al. das Maritacas\n"
     ]
    }
   ],
   "source": [
    "print(casa['address']['street'])"
   ]
  },
  {
   "cell_type": "markdown",
   "metadata": {},
   "source": [
    "## Real world example\n",
    "\n",
    "Dictionaries are often used to represent complex data in real-world applications. Let's see how they show up when we use an **API** to find weather data for specific cities!"
   ]
  },
  {
   "cell_type": "code",
   "execution_count": 173,
   "metadata": {},
   "outputs": [],
   "source": [
    "import requests\n",
    "TOKEN = 'c0c9147ec699d5205de0cbb2f5ad611c9aae0b41edeaf6092728677d06356836'\n",
    "url = \"https://api.ambeedata.com/weather/latest/by-lat-lng\"\n",
    "headers = {\n",
    "    'x-api-key': TOKEN,\n",
    "    'Content-type': \"application/json\"\n",
    "    }\n"
   ]
  },
  {
   "cell_type": "code",
   "execution_count": 174,
   "metadata": {},
   "outputs": [],
   "source": [
    "querystring = {\"lat\":\"19\",\"lng\":\"-99\"}\n",
    "response = requests.request(\"GET\", url, headers=headers, params=querystring)\n",
    "ql_ar_mx = response.json()"
   ]
  },
  {
   "cell_type": "code",
   "execution_count": 175,
   "metadata": {},
   "outputs": [],
   "source": [
    "querystring = {\"lat\":\"-21\",\"lng\":\"-47\"}\n",
    "response = requests.request(\"GET\", url, headers=headers, params=querystring)\n",
    "ql_ar_pira = response.json()"
   ]
  },
  {
   "cell_type": "code",
   "execution_count": 176,
   "metadata": {},
   "outputs": [
    {
     "name": "stdout",
     "output_type": "stream",
     "text": [
      "{'message': 'success', 'data': {'time': 1666106772, 'lat': 19, 'lng': -99, 'summary': 'Overcast', 'icon': 'cloudy', 'temperature': 60.85, 'apparentTemperature': 62.68, 'dewPoint': 60.85, 'humidity': 1, 'pressure': 1018.3, 'windSpeed': 1.88, 'windGust': 3.87, 'windBearing': 88, 'cloudCover': 0.97, 'uvIndex': 4, 'precipIntensity': 0.0056, 'precipProbability': 0.11, 'precipType': 'rain', 'visibility': 10, 'ozone': 251.7}}\n"
     ]
    }
   ],
   "source": [
    "print(ql_ar_mx)"
   ]
  },
  {
   "cell_type": "code",
   "execution_count": 177,
   "metadata": {
    "scrolled": true
   },
   "outputs": [
    {
     "name": "stdout",
     "output_type": "stream",
     "text": [
      "{'message': 'success', 'data': {'time': 1666106773, 'lat': -21, 'lng': -47, 'summary': 'Partly Cloudy', 'icon': 'partly-cloudy-day', 'temperature': 84.45, 'apparentTemperature': 84.45, 'dewPoint': 54.29, 'humidity': 0.36, 'pressure': 1016.2, 'windSpeed': 9.42, 'windGust': 9.42, 'windBearing': 35, 'cloudCover': 0.5, 'uvIndex': 9, 'precipIntensity': 0, 'precipProbability': 0, 'visibility': 10, 'ozone': 278.4}}\n"
     ]
    }
   ],
   "source": [
    "print(ql_ar_pira)"
   ]
  },
  {
   "cell_type": "code",
   "execution_count": 180,
   "metadata": {},
   "outputs": [
    {
     "data": {
      "text/plain": [
       "84.45"
      ]
     },
     "execution_count": 180,
     "metadata": {},
     "output_type": "execute_result"
    }
   ],
   "source": [
    "ql_ar_pira['data']['temperature']"
   ]
  },
  {
   "cell_type": "markdown",
   "metadata": {},
   "source": [
    "## Iterating over a dictionary"
   ]
  },
  {
   "cell_type": "code",
   "execution_count": 181,
   "metadata": {
    "ExecuteTime": {
     "end_time": "2020-07-10T00:32:18.522307Z",
     "start_time": "2020-07-10T00:32:18.518319Z"
    }
   },
   "outputs": [
    {
     "name": "stdout",
     "output_type": "stream",
     "text": [
      "id: 1\n",
      "size: 80\n",
      "lot_size: (20, 30)\n",
      "address: {'street': 'Al. das Maritacas', 'number': 1637, 'neigh': 'Cidade Jardim', 'zip': 39272440}\n"
     ]
    }
   ],
   "source": [
    "for chave in casa.keys():\n",
    "    print(f'{chave}: {casa[chave]}')"
   ]
  },
  {
   "cell_type": "code",
   "execution_count": 182,
   "metadata": {},
   "outputs": [
    {
     "name": "stdout",
     "output_type": "stream",
     "text": [
      "('id', 1)\n",
      "('size', 80)\n",
      "('lot_size', (20, 30))\n",
      "('address', {'street': 'Al. das Maritacas', 'number': 1637, 'neigh': 'Cidade Jardim', 'zip': 39272440})\n"
     ]
    }
   ],
   "source": [
    "for atributo in casa.items():\n",
    "    print(atributo)"
   ]
  },
  {
   "cell_type": "code",
   "execution_count": 183,
   "metadata": {},
   "outputs": [
    {
     "name": "stdout",
     "output_type": "stream",
     "text": [
      "1\n",
      "80\n",
      "(20, 30)\n",
      "{'street': 'Al. das Maritacas', 'number': 1637, 'neigh': 'Cidade Jardim', 'zip': 39272440}\n"
     ]
    }
   ],
   "source": [
    "for valor in casa.values():\n",
    "    print(valor)"
   ]
  },
  {
   "cell_type": "markdown",
   "metadata": {},
   "source": [
    "## Iterating over items"
   ]
  },
  {
   "cell_type": "code",
   "execution_count": 184,
   "metadata": {},
   "outputs": [],
   "source": [
    "my_dict = {\n",
    "            'Chickpeas': 10,\n",
    "            'Beans': 8,\n",
    "            'Rice': 1\n",
    "          }"
   ]
  },
  {
   "cell_type": "code",
   "execution_count": 185,
   "metadata": {},
   "outputs": [
    {
     "name": "stdout",
     "output_type": "stream",
     "text": [
      "dict_items([('Chickpeas', 10), ('Beans', 8), ('Rice', 1)])\n"
     ]
    }
   ],
   "source": [
    "print(my_dict.items())"
   ]
  },
  {
   "cell_type": "code",
   "execution_count": 186,
   "metadata": {},
   "outputs": [
    {
     "name": "stdout",
     "output_type": "stream",
     "text": [
      "10\n",
      "8\n"
     ]
    }
   ],
   "source": [
    "for grao, preco in my_dict.items():\n",
    "    if grao == 'Beans' or grao == 'Chickpeas':\n",
    "        print(preco)"
   ]
  },
  {
   "cell_type": "markdown",
   "metadata": {},
   "source": [
    "## The `in` operator"
   ]
  },
  {
   "cell_type": "code",
   "execution_count": 187,
   "metadata": {
    "ExecuteTime": {
     "end_time": "2020-07-10T00:35:27.646645Z",
     "start_time": "2020-07-10T00:35:27.642656Z"
    }
   },
   "outputs": [
    {
     "data": {
      "text/plain": [
       "True"
      ]
     },
     "execution_count": 187,
     "metadata": {},
     "output_type": "execute_result"
    }
   ],
   "source": [
    "1 in [1, 2, 3]"
   ]
  },
  {
   "cell_type": "code",
   "execution_count": 188,
   "metadata": {},
   "outputs": [
    {
     "data": {
      "text/plain": [
       "True"
      ]
     },
     "execution_count": 188,
     "metadata": {},
     "output_type": "execute_result"
    }
   ],
   "source": [
    "8 in my_dict.values()"
   ]
  },
  {
   "cell_type": "markdown",
   "metadata": {},
   "source": [
    "This operator works in any iterable!"
   ]
  },
  {
   "cell_type": "code",
   "execution_count": 189,
   "metadata": {},
   "outputs": [
    {
     "data": {
      "text/plain": [
       "False"
      ]
     },
     "execution_count": 189,
     "metadata": {},
     "output_type": "execute_result"
    }
   ],
   "source": [
    "'abcd' in 'abc'"
   ]
  },
  {
   "cell_type": "code",
   "execution_count": 190,
   "metadata": {},
   "outputs": [
    {
     "data": {
      "text/plain": [
       "True"
      ]
     },
     "execution_count": 190,
     "metadata": {},
     "output_type": "execute_result"
    }
   ],
   "source": [
    "'abc' in 'abcd'"
   ]
  },
  {
   "cell_type": "code",
   "execution_count": 191,
   "metadata": {
    "ExecuteTime": {
     "end_time": "2020-07-10T00:35:58.854050Z",
     "start_time": "2020-07-10T00:35:58.851057Z"
    }
   },
   "outputs": [
    {
     "data": {
      "text/plain": [
       "True"
      ]
     },
     "execution_count": 191,
     "metadata": {},
     "output_type": "execute_result"
    }
   ],
   "source": [
    "1 in (1, 2, 3)"
   ]
  },
  {
   "cell_type": "markdown",
   "metadata": {},
   "source": [
    "# `sets`\n",
    "\n",
    "Sets are collections of **unique elements** - a `dict`'s keys is a `set`!"
   ]
  },
  {
   "cell_type": "code",
   "execution_count": 192,
   "metadata": {},
   "outputs": [],
   "source": [
    "my_list = ['Pedro', 'Adriano', 'Pedro', 'Adriano', 'Pedro', 'Adriano']"
   ]
  },
  {
   "cell_type": "code",
   "execution_count": 193,
   "metadata": {},
   "outputs": [
    {
     "data": {
      "text/plain": [
       "['Pedro', 'Adriano', 'Pedro', 'Adriano', 'Pedro', 'Adriano']"
      ]
     },
     "execution_count": 193,
     "metadata": {},
     "output_type": "execute_result"
    }
   ],
   "source": [
    "my_list"
   ]
  },
  {
   "cell_type": "code",
   "execution_count": 194,
   "metadata": {},
   "outputs": [
    {
     "data": {
      "text/plain": [
       "{'Adriano', 'Pedro'}"
      ]
     },
     "execution_count": 194,
     "metadata": {},
     "output_type": "execute_result"
    }
   ],
   "source": [
    "set(my_list)"
   ]
  },
  {
   "cell_type": "markdown",
   "metadata": {},
   "source": [
    "We can use set conversion to find out how many unique elements an iterable has:"
   ]
  },
  {
   "cell_type": "code",
   "execution_count": 195,
   "metadata": {
    "ExecuteTime": {
     "end_time": "2020-07-10T00:41:55.690528Z",
     "start_time": "2020-07-10T00:41:55.686511Z"
    }
   },
   "outputs": [
    {
     "name": "stdout",
     "output_type": "stream",
     "text": [
      "Size of the list: 15, size of the set: 8\n"
     ]
    }
   ],
   "source": [
    "list_x = [1,2,3,4,4,4,4,4,5,6,6,6,7,7,8]\n",
    "set_x = set(list_x)\n",
    "print(f'Size of the list: {len(list_x)}, size of the set: {len(set_x)}')"
   ]
  },
  {
   "cell_type": "markdown",
   "metadata": {},
   "source": [
    "## `set` methods\n",
    "\n",
    "- `A.intersection(B)` common elements between sets A & B;\n",
    "- `A.difference(B)` elements in A not in B;\n",
    "- `A.union(B)` the set of all elements in A or in B.\n"
   ]
  },
  {
   "cell_type": "code",
   "execution_count": 196,
   "metadata": {},
   "outputs": [],
   "source": [
    "x = {1, 2, 3, 4, 5, 6, 7, 8}"
   ]
  },
  {
   "cell_type": "code",
   "execution_count": 197,
   "metadata": {},
   "outputs": [],
   "source": [
    "y = {6, 7, 8, 9, 10, 11, 12}"
   ]
  },
  {
   "cell_type": "code",
   "execution_count": 198,
   "metadata": {
    "ExecuteTime": {
     "end_time": "2020-07-10T00:44:50.502397Z",
     "start_time": "2020-07-10T00:44:50.498409Z"
    }
   },
   "outputs": [
    {
     "data": {
      "text/plain": [
       "{6, 7, 8}"
      ]
     },
     "execution_count": 198,
     "metadata": {},
     "output_type": "execute_result"
    }
   ],
   "source": [
    "x.intersection(y)"
   ]
  },
  {
   "cell_type": "code",
   "execution_count": 199,
   "metadata": {},
   "outputs": [
    {
     "data": {
      "text/plain": [
       "{6, 7, 8}"
      ]
     },
     "execution_count": 199,
     "metadata": {},
     "output_type": "execute_result"
    }
   ],
   "source": [
    "y.intersection(x)"
   ]
  },
  {
   "cell_type": "code",
   "execution_count": 200,
   "metadata": {},
   "outputs": [
    {
     "data": {
      "text/plain": [
       "{1, 2, 3, 4, 5}"
      ]
     },
     "execution_count": 200,
     "metadata": {},
     "output_type": "execute_result"
    }
   ],
   "source": [
    "x.difference(y)"
   ]
  },
  {
   "cell_type": "code",
   "execution_count": 201,
   "metadata": {},
   "outputs": [
    {
     "data": {
      "text/plain": [
       "{9, 10, 11, 12}"
      ]
     },
     "execution_count": 201,
     "metadata": {},
     "output_type": "execute_result"
    }
   ],
   "source": [
    "y.difference(x)"
   ]
  },
  {
   "cell_type": "code",
   "execution_count": 202,
   "metadata": {},
   "outputs": [
    {
     "data": {
      "text/plain": [
       "{1, 2, 3, 4, 5}"
      ]
     },
     "execution_count": 202,
     "metadata": {},
     "output_type": "execute_result"
    }
   ],
   "source": [
    "x-y # x.difference(y)"
   ]
  },
  {
   "cell_type": "code",
   "execution_count": 203,
   "metadata": {},
   "outputs": [
    {
     "data": {
      "text/plain": [
       "{9, 10, 11, 12}"
      ]
     },
     "execution_count": 203,
     "metadata": {},
     "output_type": "execute_result"
    }
   ],
   "source": [
    "y-x # y.difference(y)"
   ]
  },
  {
   "cell_type": "code",
   "execution_count": 204,
   "metadata": {},
   "outputs": [
    {
     "data": {
      "text/plain": [
       "{1, 2, 3, 4, 5, 6, 7, 8, 9, 10, 11, 12}"
      ]
     },
     "execution_count": 204,
     "metadata": {},
     "output_type": "execute_result"
    }
   ],
   "source": [
    "x.union(y)"
   ]
  },
  {
   "cell_type": "code",
   "execution_count": 205,
   "metadata": {},
   "outputs": [
    {
     "data": {
      "text/plain": [
       "{1, 2, 3, 4, 5, 9, 10, 11, 12}"
      ]
     },
     "execution_count": 205,
     "metadata": {},
     "output_type": "execute_result"
    }
   ],
   "source": [
    "(x-y).union(y-x)"
   ]
  },
  {
   "cell_type": "code",
   "execution_count": 206,
   "metadata": {},
   "outputs": [
    {
     "data": {
      "text/plain": [
       "{1, 2, 3, 4, 5, 9, 10, 11, 12}"
      ]
     },
     "execution_count": 206,
     "metadata": {},
     "output_type": "execute_result"
    }
   ],
   "source": [
    "x.symmetric_difference(y)"
   ]
  },
  {
   "cell_type": "code",
   "execution_count": 207,
   "metadata": {},
   "outputs": [],
   "source": [
    "x = set([1,2,3])"
   ]
  },
  {
   "cell_type": "code",
   "execution_count": 209,
   "metadata": {},
   "outputs": [
    {
     "data": {
      "text/plain": [
       "False"
      ]
     },
     "execution_count": 209,
     "metadata": {},
     "output_type": "execute_result"
    }
   ],
   "source": [
    "set([1,2,3,25]).issubset(x)"
   ]
  },
  {
   "cell_type": "code",
   "execution_count": 210,
   "metadata": {
    "ExecuteTime": {
     "end_time": "2020-07-10T00:47:18.291003Z",
     "start_time": "2020-07-10T00:47:18.286016Z"
    }
   },
   "outputs": [
    {
     "name": "stdout",
     "output_type": "stream",
     "text": [
      "Missing columns: set()\n"
     ]
    }
   ],
   "source": [
    "# Practical example\n",
    "col_names = set(['qtd_cartoes', 'vlr_cartao','qtd_cheques','vlr_cheques'])\n",
    "incoming_col_names = set(['qtd_cartoes', 'vlr_cartao','qtd_cheques','vlr_cheques'])\n",
    "\n",
    "# print(f'Missing columns: {set(col_names) - set(incoming_col_names)}')\n",
    "missing_columns = col_names.difference(incoming_col_names)\n",
    "print(f'Missing columns: {missing_columns}')"
   ]
  },
  {
   "cell_type": "code",
   "execution_count": 211,
   "metadata": {},
   "outputs": [
    {
     "data": {
      "text/plain": [
       "dict_values([10, 8, 1])"
      ]
     },
     "execution_count": 211,
     "metadata": {},
     "output_type": "execute_result"
    }
   ],
   "source": [
    "my_dict.values()"
   ]
  },
  {
   "cell_type": "code",
   "execution_count": null,
   "metadata": {},
   "outputs": [],
   "source": []
  }
 ],
 "metadata": {
  "kernelspec": {
   "display_name": "Python 3 (ipykernel)",
   "language": "python",
   "name": "python3"
  },
  "language_info": {
   "codemirror_mode": {
    "name": "ipython",
    "version": 3
   },
   "file_extension": ".py",
   "mimetype": "text/x-python",
   "name": "python",
   "nbconvert_exporter": "python",
   "pygments_lexer": "ipython3",
   "version": "3.9.12"
  },
  "toc": {
   "base_numbering": 1,
   "nav_menu": {},
   "number_sections": true,
   "sideBar": true,
   "skip_h1_title": false,
   "title_cell": "Table of Contents",
   "title_sidebar": "Contents",
   "toc_cell": false,
   "toc_position": {},
   "toc_section_display": true,
   "toc_window_display": false
  },
  "varInspector": {
   "cols": {
    "lenName": 16,
    "lenType": 16,
    "lenVar": 40
   },
   "kernels_config": {
    "python": {
     "delete_cmd_postfix": "",
     "delete_cmd_prefix": "del ",
     "library": "var_list.py",
     "varRefreshCmd": "print(var_dic_list())"
=======
  "cells": [
    {
      "cell_type": "markdown",
      "metadata": {
        "id": "0ZE0cy2nZOXP"
      },
      "source": [
        "# Class II - Iterables\n",
        "## Python's inherent `data structures`\n",
        "- Lists (recap)\n",
        "- Tuples\n",
        "- Dicts\n",
        "- Sets"
      ]
>>>>>>> 91172f089dd9f9ff13d96f3a66821c3bb8240e8f
    },
    {
      "cell_type": "markdown",
      "metadata": {
        "id": "lZ5sCv6BZOXQ"
      },
      "source": [
        "## Lists\n",
        "- **Ordered sequence** of elements\n",
        "\n",
        "- **Mutable** (lists support index assignment)"
      ]
    },
    {
      "cell_type": "code",
      "execution_count": 1,
      "metadata": {
        "id": "vRp-NT1PZOXR",
        "outputId": "b5f6c748-949a-4ff8-b062-2d265364cce9",
        "colab": {
          "base_uri": "https://localhost:8080/"
        }
      },
      "outputs": [
        {
          "output_type": "stream",
          "name": "stdout",
          "text": [
            "[10, 20, 30]\n"
          ]
        }
      ],
      "source": [
        "list_ex = [10, 20, 30]\n",
        "print(list_ex)"
      ]
    },
    {
      "cell_type": "code",
      "execution_count": 2,
      "metadata": {
        "id": "nyP9lWqEZOXS",
        "outputId": "9dd09e10-24ef-4473-e851-e7206666e943",
        "colab": {
          "base_uri": "https://localhost:8080/"
        }
      },
      "outputs": [
        {
          "output_type": "stream",
          "name": "stdout",
          "text": [
            "10\n",
            "20\n",
            "30\n"
          ]
        }
      ],
      "source": [
        "print(list_ex[0])\n",
        "print(list_ex[1])\n",
        "print(list_ex[2])"
      ]
    },
    {
      "cell_type": "code",
      "source": [
        "type(list_ex[0])"
      ],
      "metadata": {
        "id": "xOWFiJi1aoiO",
        "outputId": "6c947f4b-a6c5-4a3f-a72d-6b991e37258e",
        "colab": {
          "base_uri": "https://localhost:8080/"
        }
      },
      "execution_count": 4,
      "outputs": [
        {
          "output_type": "execute_result",
          "data": {
            "text/plain": [
              "int"
            ]
          },
          "metadata": {},
          "execution_count": 4
        }
      ]
    },
    {
      "cell_type": "code",
      "source": [
        "list_ex[0]"
      ],
      "metadata": {
        "id": "aQ0kAJAQa5bN",
        "outputId": "00fa8b9f-35ec-4a8b-e22b-0e1b08e62380",
        "colab": {
          "base_uri": "https://localhost:8080/"
        }
      },
      "execution_count": 5,
      "outputs": [
        {
          "output_type": "execute_result",
          "data": {
            "text/plain": [
              "10"
            ]
          },
          "metadata": {},
          "execution_count": 5
        }
      ]
    },
    {
      "cell_type": "markdown",
      "metadata": {
        "id": "q2L8N3RWZOXS"
      },
      "source": [
        "Lists are **mutable** - we can change specific elements in lists directly:"
      ]
    },
    {
      "cell_type": "code",
      "execution_count": 6,
      "metadata": {
        "id": "RXtWNWxPZOXT",
        "outputId": "d63b1e0c-399d-4776-f68b-a3a73d4a3c10",
        "colab": {
          "base_uri": "https://localhost:8080/"
        }
      },
      "outputs": [
        {
          "output_type": "stream",
          "name": "stdout",
          "text": [
            "['Zero', 20, 30]\n",
            "Zero\n",
            "20\n",
            "30\n"
          ]
        }
      ],
      "source": [
        "list_ex[0] = 'Zero'\n",
        "print(list_ex)\n",
        "print(list_ex[0])\n",
        "print(list_ex[1])\n",
        "print(list_ex[2])"
      ]
    },
    {
      "cell_type": "code",
      "source": [
        "'abc'[0] = 'b'"
      ],
      "metadata": {
        "id": "lGqVxB5Oa-xR",
        "outputId": "7d9ddf67-72c6-427f-a3e5-d6ed02a480d9",
        "colab": {
          "base_uri": "https://localhost:8080/",
          "height": 187
        }
      },
      "execution_count": 8,
      "outputs": [
        {
          "output_type": "error",
          "ename": "TypeError",
          "evalue": "ignored",
          "traceback": [
            "\u001b[0;31m---------------------------------------------------------------------------\u001b[0m",
            "\u001b[0;31mTypeError\u001b[0m                                 Traceback (most recent call last)",
            "\u001b[0;32m<ipython-input-8-4870cb4fe302>\u001b[0m in \u001b[0;36m<module>\u001b[0;34m\u001b[0m\n\u001b[0;32m----> 1\u001b[0;31m \u001b[0;34m'abc'\u001b[0m\u001b[0;34m[\u001b[0m\u001b[0;36m0\u001b[0m\u001b[0;34m]\u001b[0m \u001b[0;34m=\u001b[0m \u001b[0;34m'b'\u001b[0m\u001b[0;34m\u001b[0m\u001b[0;34m\u001b[0m\u001b[0m\n\u001b[0m",
            "\u001b[0;31mTypeError\u001b[0m: 'str' object does not support item assignment"
          ]
        }
      ]
    },
    {
      "cell_type": "markdown",
      "metadata": {
        "id": "hDG-KVfVZOXT"
      },
      "source": [
        "### Methods\n",
        "We can use the **methods** `.append()` and `.extend()` to include **new elements** in a lista:\n",
        "\n",
        "- `append` adds an element to the end of a list;\n",
        "- `extend` adds elements from another list (or other iterable) to the end of the list."
      ]
    },
    {
      "cell_type": "code",
      "source": [
        "list_ex"
      ],
      "metadata": {
        "id": "LZyZG2YKbTEi",
        "outputId": "aef320e9-6618-41a2-8906-28a0f295bae7",
        "colab": {
          "base_uri": "https://localhost:8080/"
        }
      },
      "execution_count": 10,
      "outputs": [
        {
          "output_type": "execute_result",
          "data": {
            "text/plain": [
              "['Zero', 20, 30, 40]"
            ]
          },
          "metadata": {},
          "execution_count": 10
        }
      ]
    },
    {
      "cell_type": "code",
      "execution_count": 12,
      "metadata": {
        "id": "wn99HYnyZOXT",
        "outputId": "51e8c674-63a2-485a-e840-62a45fe777cc",
        "colab": {
          "base_uri": "https://localhost:8080/"
        }
      },
      "outputs": [
        {
          "output_type": "stream",
          "name": "stdout",
          "text": [
            "['Zero', 20, 30, 40, 40, 40]\n"
          ]
        }
      ],
      "source": [
        "list_ex.append(40)\n",
        "print(list_ex)"
      ]
    },
    {
      "cell_type": "code",
      "source": [
        "a = [50, 60, 60]\n",
        "for element in a:\n",
        "  print(element)\n",
        "  list_ex.append(element)"
      ],
      "metadata": {
        "id": "phEk-KaVbo2S",
        "outputId": "da2454af-76ea-4074-ab16-75dd723fae3b",
        "colab": {
          "base_uri": "https://localhost:8080/"
        }
      },
      "execution_count": 13,
      "outputs": [
        {
          "output_type": "stream",
          "name": "stdout",
          "text": [
            "50\n",
            "60\n",
            "60\n"
          ]
        }
      ]
    },
    {
      "cell_type": "code",
      "source": [
        "list_ex"
      ],
      "metadata": {
        "id": "Vv6JTl10b18h",
        "outputId": "4af6dfaf-3d8e-4128-dc43-d4d3da92d112",
        "colab": {
          "base_uri": "https://localhost:8080/"
        }
      },
      "execution_count": 14,
      "outputs": [
        {
          "output_type": "execute_result",
          "data": {
            "text/plain": [
              "['Zero', 20, 30, 40, 40, 40, 50, 60, 60]"
            ]
          },
          "metadata": {},
          "execution_count": 14
        }
      ]
    },
    {
      "cell_type": "code",
      "execution_count": 15,
      "metadata": {
        "id": "CVh95wE-ZOXU",
        "outputId": "36298b61-5b8b-4a83-e43a-3f509308744d",
        "colab": {
          "base_uri": "https://localhost:8080/"
        }
      },
      "outputs": [
        {
          "output_type": "stream",
          "name": "stdout",
          "text": [
            "['Zero', 20, 30, 40, 40, 40, 50, 60, 60, 50, 60, 60]\n"
          ]
        }
      ],
      "source": [
        "b = [50, 60, 60]\n",
        "list_ex.extend(b)\n",
        "print(list_ex)"
      ]
    },
    {
      "cell_type": "code",
      "source": [],
      "metadata": {
        "id": "w2uliC_XcHFN",
        "outputId": "cd2db0fa-cad3-42cc-848b-a38bee23c629",
        "colab": {
          "base_uri": "https://localhost:8080/",
          "height": 58
        }
      },
      "execution_count": 17,
      "outputs": [
        {
          "output_type": "execute_result",
          "data": {
            "text/plain": [
              "'aaaaaa'"
            ],
            "application/vnd.google.colaboratory.intrinsic+json": {
              "type": "string"
            }
          },
          "metadata": {},
          "execution_count": 17
        }
      ]
    },
    {
      "cell_type": "markdown",
      "metadata": {
        "id": "IyrGOzQBZOXU"
      },
      "source": [
        "The `.extend()` method does not flatten lists!"
      ]
    },
    {
      "cell_type": "code",
      "source": [
        "[1, [2, 3]]\n",
        "[1, 2, 3]"
      ],
      "metadata": {
        "id": "A6D1Y7H2caEy"
      },
      "execution_count": null,
      "outputs": []
    },
    {
      "cell_type": "code",
      "execution_count": 18,
      "metadata": {
        "id": "AZft_9sqZOXU",
        "outputId": "07e34aa6-a3e2-4aba-b0cf-66ee1979acac",
        "colab": {
          "base_uri": "https://localhost:8080/"
        }
      },
      "outputs": [
        {
          "output_type": "stream",
          "name": "stdout",
          "text": [
            "['Zero', 20, 30, 40, 40, 40, 50, 60, 60, 50, 60, 60, 70, [80, 90]]\n"
          ]
        }
      ],
      "source": [
        "minha_extensao = [70, [80, 90]]\n",
        "list_ex.extend(minha_extensao)\n",
        "print(list_ex)"
      ]
    },
    {
      "cell_type": "markdown",
      "metadata": {
        "id": "8SvNyle3ZOXV"
      },
      "source": [
        "We can use the `.pop()` and `.remove()` methods to remove elements from lists:\n",
        "\n",
        "* `pop` removes an element at a given index and returns it\n",
        "* `removes` finds the first occurence of an element in the list and removes that occurence."
      ]
    },
    {
      "cell_type": "code",
      "source": [
        "list_ex.pop()\n",
        "print(list_ex)"
      ],
      "metadata": {
        "id": "qFjjrdU4cvPE",
        "outputId": "2528bd19-ab7a-4cf4-cb97-a46243954732",
        "colab": {
          "base_uri": "https://localhost:8080/"
        }
      },
      "execution_count": 21,
      "outputs": [
        {
          "output_type": "stream",
          "name": "stdout",
          "text": [
            "['Zero', 20, 30, 40, 40, 40, 50, 60, 60, 50, 60]\n"
          ]
        }
      ]
    },
    {
      "cell_type": "code",
      "source": [
        "\n",
        "last_elem = list_ex.pop()\n",
        "print(last_elem)\n",
        "print(list_ex)"
      ],
      "metadata": {
        "id": "GOTHg_4Sc2Ib",
        "outputId": "444ef90b-bec4-4e93-a5c4-5e7b3f551241",
        "colab": {
          "base_uri": "https://localhost:8080/"
        }
      },
      "execution_count": 23,
      "outputs": [
        {
          "output_type": "stream",
          "name": "stdout",
          "text": [
            "50\n",
            "['Zero', 20, 30, 40, 40, 40, 50, 60, 60]\n"
          ]
        }
      ]
    },
    {
      "cell_type": "code",
      "execution_count": 24,
      "metadata": {
        "id": "s5JSiTDxZOXV",
        "outputId": "688f64ba-d7e6-4faa-f09d-6bc4e532dd37",
        "colab": {
          "base_uri": "https://localhost:8080/"
        }
      },
      "outputs": [
        {
          "output_type": "stream",
          "name": "stdout",
          "text": [
            "60\n",
            "['Zero', 20, 30, 40, 40, 40, 50, 60]\n"
          ]
        }
      ],
      "source": [
        "ultimo_elemento = list_ex.pop()\n",
        "print(ultimo_elemento)\n",
        "print(list_ex)"
      ]
    },
    {
      "cell_type": "code",
      "execution_count": 25,
      "metadata": {
        "id": "YllsmN45ZOXV",
        "outputId": "01e315d1-4323-4bb6-9918-6be209a98c85",
        "colab": {
          "base_uri": "https://localhost:8080/"
        }
      },
      "outputs": [
        {
          "output_type": "stream",
          "name": "stdout",
          "text": [
            "Zero\n",
            "[20, 30, 40, 40, 40, 50, 60]\n"
          ]
        }
      ],
      "source": [
        "primeiro_elemento = list_ex.pop(0)\n",
        "print(primeiro_elemento)\n",
        "print(list_ex)"
      ]
    },
    {
      "cell_type": "code",
      "source": [
        "type(primeiro_elemento)"
      ],
      "metadata": {
        "id": "IKftrHHadL6a",
        "outputId": "4655b75b-104c-4c83-cba0-adcbfb94dd1a",
        "colab": {
          "base_uri": "https://localhost:8080/"
        }
      },
      "execution_count": 26,
      "outputs": [
        {
          "output_type": "execute_result",
          "data": {
            "text/plain": [
              "str"
            ]
          },
          "metadata": {},
          "execution_count": 26
        }
      ]
    },
    {
      "cell_type": "code",
      "source": [
        "print(list_ex)"
      ],
      "metadata": {
        "id": "ipXxARHxdY_k",
        "outputId": "eef61b01-1bc0-4c43-e00b-9acf59180540",
        "colab": {
          "base_uri": "https://localhost:8080/"
        }
      },
      "execution_count": 27,
      "outputs": [
        {
          "output_type": "stream",
          "name": "stdout",
          "text": [
            "[20, 30, 40, 40, 40, 50, 60]\n"
          ]
        }
      ]
    },
    {
      "cell_type": "code",
      "execution_count": 28,
      "metadata": {
        "id": "HI2eGNCqZOXW",
        "outputId": "e2fdcf43-6edb-452e-915e-1ff81f5b9076",
        "colab": {
          "base_uri": "https://localhost:8080/"
        }
      },
      "outputs": [
        {
          "output_type": "stream",
          "name": "stdout",
          "text": [
            "[20, 40, 40, 40, 50, 60]\n"
          ]
        }
      ],
      "source": [
        "list_ex.remove(30)\n",
        "print(list_ex)"
      ]
    },
    {
      "cell_type": "code",
      "execution_count": 32,
      "metadata": {
        "id": "K202hNySZOXW",
        "outputId": "0a82d340-b1db-4a90-9936-f6df718c5ccb",
        "colab": {
          "base_uri": "https://localhost:8080/",
          "height": 204
        }
      },
      "outputs": [
        {
          "output_type": "error",
          "ename": "ValueError",
          "evalue": "ignored",
          "traceback": [
            "\u001b[0;31m---------------------------------------------------------------------------\u001b[0m",
            "\u001b[0;31mValueError\u001b[0m                                Traceback (most recent call last)",
            "\u001b[0;32m<ipython-input-32-0c7b82a9c351>\u001b[0m in \u001b[0;36m<module>\u001b[0;34m\u001b[0m\n\u001b[0;32m----> 1\u001b[0;31m \u001b[0mlist_ex\u001b[0m\u001b[0;34m.\u001b[0m\u001b[0mremove\u001b[0m\u001b[0;34m(\u001b[0m\u001b[0;36m40\u001b[0m\u001b[0;34m)\u001b[0m\u001b[0;34m\u001b[0m\u001b[0;34m\u001b[0m\u001b[0m\n\u001b[0m\u001b[1;32m      2\u001b[0m \u001b[0mprint\u001b[0m\u001b[0;34m(\u001b[0m\u001b[0mlist_ex\u001b[0m\u001b[0;34m)\u001b[0m\u001b[0;34m\u001b[0m\u001b[0;34m\u001b[0m\u001b[0m\n",
            "\u001b[0;31mValueError\u001b[0m: list.remove(x): x not in list"
          ]
        }
      ],
      "source": [
        "list_ex.remove(20)\n",
        "print(list_ex)"
      ]
    },
    {
      "cell_type": "markdown",
      "metadata": {
        "id": "7v7BoyPLZOXW"
      },
      "source": [
        "### Slices\n",
        "\n",
        "Besides *integer indexing*, lists support indexing through **slices** through the `[:]` notation, with syntax `[starting_index:ending_index]`\n",
        "\n",
        "* `a_list[start:stop]` -> all the items in `a_list` between `start` and `end-1` indexes;\n",
        "* `a_list[start:]` -> all the items in `a_list` from the `start` index to the end;\n",
        "* `a_list[:stop]` -> all the items in `a_list` from the beggining to the `end` index;\n",
        "* `a_list[:]` -> a copy of the entire list"
      ]
    },
    {
      "cell_type": "code",
      "source": [
        "list_ex = [10, 20, 30, 40, 40, 40, 50, 60, 70, 80]\n",
        "print(list_ex)"
      ],
      "metadata": {
        "id": "NpPO9Crtd2aU",
        "outputId": "2731c0a3-cbcf-46e0-b50e-c54559079c05",
        "colab": {
          "base_uri": "https://localhost:8080/"
        }
      },
      "execution_count": 34,
      "outputs": [
        {
          "output_type": "stream",
          "name": "stdout",
          "text": [
            "[10, 20, 30, 40, 40, 40, 50, 60, 70, 80]\n"
          ]
        }
      ]
    },
    {
      "cell_type": "code",
      "execution_count": 35,
      "metadata": {
        "id": "H8OceWXkZOXX",
        "outputId": "032c2b66-6d72-489f-8b99-746161239766",
        "colab": {
          "base_uri": "https://localhost:8080/"
        }
      },
      "outputs": [
        {
          "output_type": "stream",
          "name": "stdout",
          "text": [
            "[10, 20, 30, 40, 40, 40, 50, 60, 70, 80]\n"
          ]
        }
      ],
      "source": [
        "print(list_ex[:])"
      ]
    },
    {
      "cell_type": "code",
      "execution_count": 43,
      "metadata": {
        "id": "RZkpQnLAZOXX",
        "outputId": "73fb5bd9-d81b-4c6f-c937-8500ffad92c2",
        "colab": {
          "base_uri": "https://localhost:8080/"
        }
      },
      "outputs": [
        {
          "output_type": "execute_result",
          "data": {
            "text/plain": [
              "[40]"
            ]
          },
          "metadata": {},
          "execution_count": 43
        }
      ],
      "source": [
        "list_ex[4:5]"
      ]
    },
    {
      "cell_type": "code",
      "source": [
        "list_ex[4]"
      ],
      "metadata": {
        "id": "zExzpRnTedDZ",
        "outputId": "0a17d096-b457-46cc-e506-5eec61dd46b4",
        "colab": {
          "base_uri": "https://localhost:8080/"
        }
      },
      "execution_count": 39,
      "outputs": [
        {
          "output_type": "execute_result",
          "data": {
            "text/plain": [
              "40"
            ]
          },
          "metadata": {},
          "execution_count": 39
        }
      ]
    },
    {
      "cell_type": "code",
      "execution_count": 44,
      "metadata": {
        "id": "5XaInuihZOXX",
        "outputId": "dbc56167-7b35-422c-ba0f-3c90c78cdf78",
        "colab": {
          "base_uri": "https://localhost:8080/"
        }
      },
      "outputs": [
        {
          "output_type": "stream",
          "name": "stdout",
          "text": [
            "[10, 20, 30, 40]\n"
          ]
        }
      ],
      "source": [
        "print(list_ex[:4])"
      ]
    },
    {
      "cell_type": "code",
      "source": [
        "list_ex"
      ],
      "metadata": {
        "id": "0OPXEYnYe1gw",
        "outputId": "fd901c55-03b1-4d0c-eec0-91251bb6959f",
        "colab": {
          "base_uri": "https://localhost:8080/"
        }
      },
      "execution_count": 46,
      "outputs": [
        {
          "output_type": "execute_result",
          "data": {
            "text/plain": [
              "[10, 20, 30, 40, 40, 40, 50, 60, 70, 80]"
            ]
          },
          "metadata": {},
          "execution_count": 46
        }
      ]
    },
    {
      "cell_type": "code",
      "execution_count": 45,
      "metadata": {
        "id": "Z0XwUEOBZOXY",
        "outputId": "1acd91b3-c131-4df0-8c7c-4dfd82fa327c",
        "colab": {
          "base_uri": "https://localhost:8080/"
        }
      },
      "outputs": [
        {
          "output_type": "stream",
          "name": "stdout",
          "text": [
            "[20, 30, 40, 40, 40, 50, 60, 70, 80]\n"
          ]
        }
      ],
      "source": [
        "list_ex[1:]"
      ]
    },
    {
      "cell_type": "markdown",
      "metadata": {
        "id": "m9WerMNzZOXY"
      },
      "source": [
        "We can also *count backwards* through negative indexing: the index `[-1]` is the **last element** of the list, `[-2]` the second-to-last, etc..."
      ]
    },
    {
      "cell_type": "code",
      "execution_count": 47,
      "metadata": {
        "id": "iX9ThvjbZOXY",
        "outputId": "735d415a-6be8-4b05-df90-7ccde1793117",
        "colab": {
          "base_uri": "https://localhost:8080/"
        }
      },
      "outputs": [
        {
          "output_type": "execute_result",
          "data": {
            "text/plain": [
              "80"
            ]
          },
          "metadata": {},
          "execution_count": 47
        }
      ],
      "source": [
        "list_ex[-1]"
      ]
    },
    {
      "cell_type": "code",
      "execution_count": 49,
      "metadata": {
        "id": "ASXJKl-kZOXZ",
        "outputId": "d184761f-afcc-4b38-a9cd-56550702bea7",
        "colab": {
          "base_uri": "https://localhost:8080/"
        }
      },
      "outputs": [
        {
          "output_type": "execute_result",
          "data": {
            "text/plain": [
              "[60, 70, 80]"
            ]
          },
          "metadata": {},
          "execution_count": 49
        }
      ],
      "source": [
        "list_ex[-3:]"
      ]
    },
    {
      "cell_type": "markdown",
      "metadata": {
        "id": "BktRhSSKZOXZ"
      },
      "source": [
        "### Challenge - unpacking lists"
      ]
    },
    {
      "cell_type": "code",
      "source": [
        "list_ex = [1, [2, [3, [4]]]]\n",
        "print(list_ex)"
      ],
      "metadata": {
        "id": "Zl2JVTmYfbyM",
        "outputId": "65e5c753-c0b0-45c2-a825-4d2bde3055b4",
        "colab": {
          "base_uri": "https://localhost:8080/"
        }
      },
      "execution_count": 50,
      "outputs": [
        {
          "output_type": "stream",
          "name": "stdout",
          "text": [
            "[1, [2, [3, [4]]]]\n"
          ]
        }
      ]
    },
    {
      "cell_type": "code",
      "source": [
        "\n",
        "print(list_ex)"
      ],
      "metadata": {
        "id": "XqfmAKVhffgL",
        "outputId": "3ff5895c-ccea-46f3-b1ff-7dd442e77d9f",
        "colab": {
          "base_uri": "https://localhost:8080/"
        }
      },
      "execution_count": 52,
      "outputs": [
        {
          "output_type": "stream",
          "name": "stdout",
          "text": [
            "[1, [2, [3, [4]]]]\n"
          ]
        }
      ]
    },
    {
      "cell_type": "code",
      "source": [
        "list_ex[1]"
      ],
      "metadata": {
        "id": "iCnt4Zqtfs3Q",
        "outputId": "04244f15-7c54-46b9-a47e-2bb539154da2",
        "colab": {
          "base_uri": "https://localhost:8080/"
        }
      },
      "execution_count": 56,
      "outputs": [
        {
          "output_type": "execute_result",
          "data": {
            "text/plain": [
              "[2, [3, [4]]]"
            ]
          },
          "metadata": {},
          "execution_count": 56
        }
      ]
    },
    {
      "cell_type": "code",
      "execution_count": 69,
      "metadata": {
        "id": "UzVKVcG6ZOXZ",
        "outputId": "2cfcf59f-7066-4001-d5c9-234a7f91afcd",
        "colab": {
          "base_uri": "https://localhost:8080/"
        }
      },
      "outputs": [
        {
          "output_type": "stream",
          "name": "stdout",
          "text": [
            "[5, [2, [1]]]\n",
            "[2, [1]]\n",
            "[1]\n",
            "1\n",
            "2\n",
            "5\n",
            "4\n"
          ]
        },
        {
          "output_type": "execute_result",
          "data": {
            "text/plain": [
              "[4, 5, 2, 1]"
            ]
          },
          "metadata": {},
          "execution_count": 69
        }
      ],
      "source": [
        "# Um jeito mais bonito de achatar listas\n",
        "list_ex = [4, [5, [2, [1]]]]\n",
        "chata = []\n",
        "\n",
        "while len(list_ex) > 0:\n",
        "    elemento = list_ex.pop()\n",
        "    if type(elemento) == list:\n",
        "        list_ex.extend(elemento)\n",
        "    else:\n",
        "        chata.append(elemento)\n",
        "chata[::-1]"
      ]
    },
    {
      "cell_type": "markdown",
      "metadata": {
        "id": "y9D42fDmZOXa"
      },
      "source": [
        "## Tuples\n",
        "- **Ordered sequence** of elements\n",
        "\n",
        "- **Imutable**, do not suppport index item assignment\n",
        "### Criando uma tupla"
      ]
    },
    {
      "cell_type": "code",
      "execution_count": 72,
      "metadata": {
        "ExecuteTime": {
          "end_time": "2020-07-09T22:45:47.947147Z",
          "start_time": "2020-07-09T22:45:47.939168Z"
        },
        "id": "_V-Hfw7HZOXa",
        "outputId": "814cdba7-1523-4a2b-b74c-ba678314c87a",
        "colab": {
          "base_uri": "https://localhost:8080/"
        }
      },
      "outputs": [
        {
          "output_type": "stream",
          "name": "stdout",
          "text": [
            "(10,)\n"
          ]
        }
      ],
      "source": [
        "tupla = (10,)\n",
        "print(tupla)"
      ]
    },
    {
      "cell_type": "code",
      "execution_count": 73,
      "metadata": {
        "id": "sKHTLKrWZOXa",
        "outputId": "86b9c3c8-0eab-45d2-f165-237e0f99bf85",
        "colab": {
          "base_uri": "https://localhost:8080/"
        }
      },
      "outputs": [
        {
          "output_type": "stream",
          "name": "stdout",
          "text": [
            "(10, 20, 30)\n"
          ]
        }
      ],
      "source": [
        "tuple_ex = (10, 20, 30)\n",
        "print(tuple_ex)"
      ]
    },
    {
      "cell_type": "markdown",
      "metadata": {
        "id": "yIAtFKC4ZOXa"
      },
      "source": [
        "We can use multiple assignment to unpack a tuple (and a list!):"
      ]
    },
    {
      "cell_type": "code",
      "execution_count": 74,
      "metadata": {
        "id": "-aunktCmZOXb",
        "outputId": "20cc62cb-3260-412b-e9b3-6c8297ae754b",
        "colab": {
          "base_uri": "https://localhost:8080/"
        }
      },
      "outputs": [
        {
          "output_type": "stream",
          "name": "stdout",
          "text": [
            "10\n",
            "20\n",
            "30\n"
          ]
        }
      ],
      "source": [
        "a, b, c = tuple_ex\n",
        "print(a)\n",
        "print(b)\n",
        "print(c)"
      ]
    },
    {
      "cell_type": "markdown",
      "metadata": {
        "id": "SugprPpCZOXb"
      },
      "source": [
        "We can convert lists into uples and vice-versa through the `list()` and `tuple()` functions:"
      ]
    },
    {
      "cell_type": "code",
      "execution_count": null,
      "metadata": {
        "ExecuteTime": {
          "end_time": "2020-07-09T22:53:37.037379Z",
          "start_time": "2020-07-09T22:53:37.033390Z"
        },
        "id": "YOD-rvlIZOXb"
      },
      "outputs": [],
      "source": [
        "minha_lista = [10, 20, 30]\n",
        "minha_upla = tuple(minha_lista)\n",
        "print(minha_lista)\n",
        "print(minha_upla)\n",
        "print(type(minha_upla))"
      ]
    },
    {
      "cell_type": "code",
      "source": [
        "minha_lista = (10, 20, 30)\n",
        "list(minha_lista)"
      ],
      "metadata": {
        "id": "ci4rkPUaiUFl",
        "outputId": "109123e5-8061-4bca-bd53-507c5f63f885",
        "colab": {
          "base_uri": "https://localhost:8080/"
        }
      },
      "execution_count": 80,
      "outputs": [
        {
          "output_type": "execute_result",
          "data": {
            "text/plain": [
              "[10, 20, 30]"
            ]
          },
          "metadata": {},
          "execution_count": 80
        }
      ]
    },
    {
      "cell_type": "code",
      "execution_count": 82,
      "metadata": {
        "id": "MsVSn-ddZOXb",
        "outputId": "20018958-d159-4197-de65-36d28737e9da",
        "colab": {
          "base_uri": "https://localhost:8080/"
        }
      },
      "outputs": [
        {
          "output_type": "stream",
          "name": "stdout",
          "text": [
            "<class 'tuple'>\n"
          ]
        }
      ],
      "source": [
        "tuple_ex = tuple([10, 20, 30])\n",
        "print(type(tuple_ex))"
      ]
    },
    {
      "cell_type": "markdown",
      "metadata": {
        "id": "NOmbJNE3ZOXc"
      },
      "source": [
        "We can iterate through tuples with `for` loops:"
      ]
    },
    {
      "cell_type": "code",
      "execution_count": null,
      "metadata": {
        "id": "rp4XXcIMZOXc"
      },
      "outputs": [],
      "source": [
        "minha_tupla = (0, 1, 2, 3, 4, 5)\n",
        "for i in minha_tupla:\n",
        "    print(i)"
      ]
    },
    {
      "cell_type": "markdown",
      "metadata": {
        "id": "prAx4qOwZOXc"
      },
      "source": [
        "## Tuple methods\n",
        "\n",
        "- `.count()`: counts the number of times a given value occurs in a tuple;\n",
        "- `.index()`: returns the first index of a given element in a tuple."
      ]
    },
    {
      "cell_type": "code",
      "execution_count": 91,
      "metadata": {
        "ExecuteTime": {
          "end_time": "2020-07-09T23:32:03.570210Z",
          "start_time": "2020-07-09T23:32:03.566220Z"
        },
        "id": "vWK_241rZOXc",
        "outputId": "db9fff0e-1b39-4136-e19c-63177202bd7e",
        "colab": {
          "base_uri": "https://localhost:8080/"
        }
      },
      "outputs": [
        {
          "output_type": "execute_result",
          "data": {
            "text/plain": [
              "0"
            ]
          },
          "metadata": {},
          "execution_count": 91
        }
      ],
      "source": [
        "y = (1, 3, 7, 4, 6, 3, 8, 8, 'Pedro')\n",
        "y.count(-1)"
      ]
    },
    {
      "cell_type": "code",
      "execution_count": 92,
      "metadata": {
        "id": "GZqD8P6aZOXc",
        "outputId": "76b36d9d-02e7-429b-99ea-314782ea3470",
        "colab": {
          "base_uri": "https://localhost:8080/"
        }
      },
      "outputs": [
        {
          "output_type": "execute_result",
          "data": {
            "text/plain": [
              "4"
            ]
          },
          "metadata": {},
          "execution_count": 92
        }
      ],
      "source": [
        "y.index(6)"
      ]
    },
    {
      "cell_type": "code",
      "source": [
        "x = -1\n",
        "if y.count(x) > 0:\n",
        "  print(y.index(x))\n",
        "else:\n",
        "  print(f'x = {x} not in y!')"
      ],
      "metadata": {
        "id": "aXKsUYr2jf6V",
        "outputId": "6816d677-5ec5-4fa4-b78f-9c33521ab473",
        "colab": {
          "base_uri": "https://localhost:8080/"
        }
      },
      "execution_count": 94,
      "outputs": [
        {
          "output_type": "stream",
          "name": "stdout",
          "text": [
            "x = -1 not in y!\n"
          ]
        }
      ]
    },
    {
      "cell_type": "code",
      "source": [
        "y[6]"
      ],
      "metadata": {
        "id": "Y5ubPERqjTfO",
        "outputId": "c9f3bd90-ce4d-48b7-f995-7c40e9fb6d1d",
        "colab": {
          "base_uri": "https://localhost:8080/"
        }
      },
      "execution_count": 88,
      "outputs": [
        {
          "output_type": "execute_result",
          "data": {
            "text/plain": [
              "8"
            ]
          },
          "metadata": {},
          "execution_count": 88
        }
      ]
    },
    {
      "cell_type": "markdown",
      "metadata": {
        "id": "S8V8e1tpZOXc"
      },
      "source": [
        "(These methods also exist in lists):"
      ]
    },
    {
      "cell_type": "code",
      "execution_count": 95,
      "metadata": {
        "id": "qcS11k9wZOXc"
      },
      "outputs": [],
      "source": [
        "y_list = list(y)"
      ]
    },
    {
      "cell_type": "code",
      "execution_count": 96,
      "metadata": {
        "id": "o6qygMJeZOXd",
        "outputId": "1c6cd0d1-7642-4ba8-ec84-7d070b7ac2f1",
        "colab": {
          "base_uri": "https://localhost:8080/"
        }
      },
      "outputs": [
        {
          "output_type": "execute_result",
          "data": {
            "text/plain": [
              "[1, 3, 7, 4, 6, 3, 8, 8, 'Pedro']"
            ]
          },
          "metadata": {},
          "execution_count": 96
        }
      ],
      "source": [
        "y_list"
      ]
    },
    {
      "cell_type": "code",
      "execution_count": 97,
      "metadata": {
        "id": "4Y2OT3wiZOXd",
        "outputId": "de3690ae-8e07-476a-be8d-e1dceb103b10",
        "colab": {
          "base_uri": "https://localhost:8080/"
        }
      },
      "outputs": [
        {
          "output_type": "execute_result",
          "data": {
            "text/plain": [
              "6"
            ]
          },
          "metadata": {},
          "execution_count": 97
        }
      ],
      "source": [
        "y.index(8)"
      ]
    },
    {
      "cell_type": "markdown",
      "metadata": {
        "id": "H5RIkIpfZOXd"
      },
      "source": [
        "## Native functions - `sorted()`, `range()` e `len()`\n",
        "\n",
        "- `sorted()`: Order a tuple (or any **iterable**);\n",
        "- `range()`: creates an iterable from two integers."
      ]
    },
    {
      "cell_type": "code",
      "execution_count": 98,
      "metadata": {
        "id": "82tih_D-ZOXd"
      },
      "outputs": [],
      "source": [
        "y = (1, 3, 7, 4, 6, 3, 8, 8)"
      ]
    },
    {
      "cell_type": "code",
      "execution_count": 101,
      "metadata": {
        "id": "Agxy_0xoZOXd",
        "outputId": "b4b95361-e2db-4c7d-a0e1-45a6e7112600",
        "colab": {
          "base_uri": "https://localhost:8080/"
        }
      },
      "outputs": [
        {
          "output_type": "stream",
          "name": "stdout",
          "text": [
            "[8, 8, 7, 6, 4, 3, 3, 1]\n"
          ]
        }
      ],
      "source": [
        "print(sorted(y, reverse=True))"
      ]
    },
    {
      "cell_type": "markdown",
      "metadata": {
        "id": "gHpNGSpsZOXd"
      },
      "source": [
        "The `sorted()` function does not change the original tuple - if we want to store the sorted values we must do so explictly through *variable assignment*:"
      ]
    },
    {
      "cell_type": "code",
      "execution_count": 102,
      "metadata": {
        "id": "VtoTeFk0ZOXd",
        "outputId": "61d6473a-496b-4d5f-9f8b-d56c14b65b79",
        "colab": {
          "base_uri": "https://localhost:8080/"
        }
      },
      "outputs": [
        {
          "output_type": "execute_result",
          "data": {
            "text/plain": [
              "(1, 3, 7, 4, 6, 3, 8, 8)"
            ]
          },
          "metadata": {},
          "execution_count": 102
        }
      ],
      "source": [
        "y"
      ]
    },
    {
      "cell_type": "code",
      "source": [
        "y_sorted = sorted(y, reverse=True)"
      ],
      "metadata": {
        "id": "q1UcIh_xkNoQ"
      },
      "execution_count": 103,
      "outputs": []
    },
    {
      "cell_type": "code",
      "source": [
        "y_sorted"
      ],
      "metadata": {
        "id": "MBIvw2fhkQUY",
        "outputId": "7b14925a-d9bc-491a-e02f-de933f65bdba",
        "colab": {
          "base_uri": "https://localhost:8080/"
        }
      },
      "execution_count": 104,
      "outputs": [
        {
          "output_type": "execute_result",
          "data": {
            "text/plain": [
              "[8, 8, 7, 6, 4, 3, 3, 1]"
            ]
          },
          "metadata": {},
          "execution_count": 104
        }
      ]
    },
    {
      "cell_type": "code",
      "source": [
        "y = sorted(y, reverse=True)"
      ],
      "metadata": {
        "id": "fdsuuThXkSOe"
      },
      "execution_count": 105,
      "outputs": []
    },
    {
      "cell_type": "code",
      "execution_count": 106,
      "metadata": {
        "id": "sAo6uaCmZOXd",
        "outputId": "ec9d0c05-e067-459e-88d6-d566a23a25d5",
        "colab": {
          "base_uri": "https://localhost:8080/"
        }
      },
      "outputs": [
        {
          "output_type": "stream",
          "name": "stdout",
          "text": [
            "range(0, 10)\n"
          ]
        }
      ],
      "source": [
        "meu_range = range(10)\n",
        "print(meu_range)"
      ]
    },
    {
      "cell_type": "markdown",
      "metadata": {
        "id": "F2RNcvNEZOXd"
      },
      "source": [
        "The range functions create a **lazy** iterable: to see all it's values we must convert it to a list or loop through it with a for:"
      ]
    },
    {
      "cell_type": "code",
      "execution_count": 107,
      "metadata": {
        "id": "uw6zkkMvZOXe",
        "outputId": "84b2bcb7-3270-4fdd-dcc9-910c2665184a",
        "colab": {
          "base_uri": "https://localhost:8080/"
        }
      },
      "outputs": [
        {
          "output_type": "stream",
          "name": "stdout",
          "text": [
            "0\n",
            "1\n",
            "2\n",
            "3\n",
            "4\n",
            "5\n",
            "6\n",
            "7\n",
            "8\n",
            "9\n"
          ]
        }
      ],
      "source": [
        "for i in range(10):\n",
        "    print(i)"
      ]
    },
    {
      "cell_type": "code",
      "execution_count": 117,
      "metadata": {
        "id": "RBJ8wHScZOXe",
        "outputId": "58d48e3c-c910-43b4-91a6-f232723534b9",
        "colab": {
          "base_uri": "https://localhost:8080/"
        }
      },
      "outputs": [
        {
          "output_type": "execute_result",
          "data": {
            "text/plain": [
              "[3, 8]"
            ]
          },
          "metadata": {},
          "execution_count": 117
        }
      ],
      "source": [
        "list(range(3, 10,5))"
      ]
    },
    {
      "cell_type": "markdown",
      "metadata": {
        "id": "0A65Rgc1ZOXe"
      },
      "source": [
        "The `len()` function returns the number of elements in an **iterable**:"
      ]
    },
    {
      "cell_type": "code",
      "execution_count": 118,
      "metadata": {
        "id": "JCgNSW4GZOXe",
        "outputId": "ad98b57e-3c38-4292-db6e-7aa9272424dd",
        "colab": {
          "base_uri": "https://localhost:8080/"
        }
      },
      "outputs": [
        {
          "output_type": "execute_result",
          "data": {
            "text/plain": [
              "3"
            ]
          },
          "metadata": {},
          "execution_count": 118
        }
      ],
      "source": [
        "len([1, 2, 3])"
      ]
    },
    {
      "cell_type": "code",
      "execution_count": 119,
      "metadata": {
        "id": "ZLJKHRowZOXe",
        "outputId": "8c3420a2-561c-46d0-bc7c-ab0866619195",
        "colab": {
          "base_uri": "https://localhost:8080/"
        }
      },
      "outputs": [
        {
          "output_type": "execute_result",
          "data": {
            "text/plain": [
              "10"
            ]
          },
          "metadata": {},
          "execution_count": 119
        }
      ],
      "source": [
        "len(meu_range)"
      ]
    },
    {
      "cell_type": "markdown",
      "metadata": {
        "id": "WsnTTu53ZOXe"
      },
      "source": [
        "# Dictionaries\n",
        "## What is a dictionary?\n",
        "\n",
        "In the real world, a book containing unique **words** and the different **meanings** of each word. In Python `dicts` are a collection of `key : value` pairs:\n",
        "\n",
        "`keys`: are the **unique** words;\n",
        "\n",
        "`values`: the meanings.\n",
        "\n",
        "## Creating a Dictionary\n",
        "\n",
        "- Syntax `{key1: value1, key2 : value2}`"
      ]
    },
    {
      "cell_type": "code",
      "execution_count": 126,
      "metadata": {
        "id": "oLIGZfmwZOXe"
      },
      "outputs": [],
      "source": [
        "my_dict = {}"
      ]
    },
    {
      "cell_type": "code",
      "source": [
        "type(my_dict)"
      ],
      "metadata": {
        "id": "qvdbMZT5nIWM",
        "outputId": "ca84dd2b-2071-4cc9-a9b6-fff3c0530d8d",
        "colab": {
          "base_uri": "https://localhost:8080/"
        }
      },
      "execution_count": 127,
      "outputs": [
        {
          "output_type": "execute_result",
          "data": {
            "text/plain": [
              "dict"
            ]
          },
          "metadata": {},
          "execution_count": 127
        }
      ]
    },
    {
      "cell_type": "code",
      "source": [
        "my_dict"
      ],
      "metadata": {
        "id": "K9MFxIZGnkiU",
        "outputId": "fa5aea1c-69da-4ce4-c56d-b2b3dd3e87d0",
        "colab": {
          "base_uri": "https://localhost:8080/"
        }
      },
      "execution_count": 128,
      "outputs": [
        {
          "output_type": "execute_result",
          "data": {
            "text/plain": [
              "{}"
            ]
          },
          "metadata": {},
          "execution_count": 128
        }
      ]
    },
    {
      "cell_type": "code",
      "execution_count": 129,
      "metadata": {
        "id": "9ohsLYuYZOXf"
      },
      "outputs": [],
      "source": [
        "my_dict = dict()"
      ]
    },
    {
      "cell_type": "code",
      "execution_count": 130,
      "metadata": {
        "id": "FrFUTZ_NZOXf",
        "outputId": "b7e9b6ca-8bd5-402e-fa17-4949d3092c0f",
        "colab": {
          "base_uri": "https://localhost:8080/"
        }
      },
      "outputs": [
        {
          "output_type": "execute_result",
          "data": {
            "text/plain": [
              "dict"
            ]
          },
          "metadata": {},
          "execution_count": 130
        }
      ],
      "source": [
        "type(my_dict)"
      ]
    },
    {
      "cell_type": "code",
      "source": [
        "my_dict"
      ],
      "metadata": {
        "id": "Ut326mNfnNTO",
        "outputId": "e5c65628-8ce9-496f-f92c-aa5536420183",
        "colab": {
          "base_uri": "https://localhost:8080/"
        }
      },
      "execution_count": 131,
      "outputs": [
        {
          "output_type": "execute_result",
          "data": {
            "text/plain": [
              "{}"
            ]
          },
          "metadata": {},
          "execution_count": 131
        }
      ]
    },
    {
      "cell_type": "code",
      "execution_count": 132,
      "metadata": {
        "ExecuteTime": {
          "end_time": "2020-07-10T00:09:37.869696Z",
          "start_time": "2020-07-10T00:09:37.865676Z"
        },
        "id": "-E900uzqZOXf",
        "outputId": "cc302cc5-c5cf-4145-9683-884ec42e5049",
        "colab": {
          "base_uri": "https://localhost:8080/"
        }
      },
      "outputs": [
        {
          "output_type": "stream",
          "name": "stdout",
          "text": [
            "{'Beans': 10, 'Rice': 8, 'Bananas': 1}\n"
          ]
        }
      ],
      "source": [
        "my_dict = {\n",
        "            'Beans': 10,\n",
        "            'Rice': 8,\n",
        "            'Bananas': 1\n",
        "          }\n",
        "print(my_dict)"
      ]
    },
    {
      "cell_type": "code",
      "source": [
        "my_dict['Bananas']"
      ],
      "metadata": {
        "id": "pxtQcmbUnaEr",
        "outputId": "0ebc2f73-6531-4df7-b509-ca4d6d6e469a",
        "colab": {
          "base_uri": "https://localhost:8080/"
        }
      },
      "execution_count": 134,
      "outputs": [
        {
          "output_type": "execute_result",
          "data": {
            "text/plain": [
              "1"
            ]
          },
          "metadata": {},
          "execution_count": 134
        }
      ]
    },
    {
      "cell_type": "markdown",
      "metadata": {
        "id": "cxsqEebDZOXf"
      },
      "source": [
        "We can add new elements to a `dict` using **index notation**:"
      ]
    },
    {
      "cell_type": "code",
      "execution_count": 135,
      "metadata": {
        "id": "I50BYPYXZOXf",
        "outputId": "b458c9b3-27a3-4830-f6ac-dd40b4593efd",
        "colab": {
          "base_uri": "https://localhost:8080/"
        }
      },
      "outputs": [
        {
          "output_type": "stream",
          "name": "stdout",
          "text": [
            "{'Beans': 10, 'Rice': 8, 'Bananas': 1, 'Soybeans': 9}\n"
          ]
        }
      ],
      "source": [
        "my_dict['Soybeans'] = 9\n",
        "print(my_dict)"
      ]
    },
    {
      "cell_type": "code",
      "source": [
        "my_dict['Soybeans']"
      ],
      "metadata": {
        "id": "So_XZ4mkoGnK",
        "outputId": "2130fd69-4152-4f25-e19a-b391b50a2984",
        "colab": {
          "base_uri": "https://localhost:8080/"
        }
      },
      "execution_count": 136,
      "outputs": [
        {
          "output_type": "execute_result",
          "data": {
            "text/plain": [
              "9"
            ]
          },
          "metadata": {},
          "execution_count": 136
        }
      ]
    },
    {
      "cell_type": "markdown",
      "metadata": {
        "id": "69AlZ_HGZOXf"
      },
      "source": [
        "Each `key` in a `dict` **MUST BE UNIQUE**! If we try to create duplicate keys, the `dict` will simply **update** that `key`'s value:"
      ]
    },
    {
      "cell_type": "code",
      "execution_count": 139,
      "metadata": {
        "id": "SXzvrBe7ZOXf",
        "outputId": "9b71bdbf-d35f-4f58-bd05-4df78ad9e0e9",
        "colab": {
          "base_uri": "https://localhost:8080/"
        }
      },
      "outputs": [
        {
          "output_type": "stream",
          "name": "stdout",
          "text": [
            "{'Soybeans': 9}\n"
          ]
        }
      ],
      "source": [
        "my_dict = {\n",
        "            'Soybeans': 10,\n",
        "            'Soybeans': 8,\n",
        "            'Soybeans': 1\n",
        "          }\n",
        "my_dict['Soybeans'] = 9\n",
        "print(my_dict)"
      ]
    },
    {
      "cell_type": "code",
      "source": [
        "my_dict_list = {\n",
        "    0 : [1, 2, 3],\n",
        "    1 : [4, 5, 6]\n",
        "}"
      ],
      "metadata": {
        "id": "M0HyZF22ojiR"
      },
      "execution_count": 140,
      "outputs": []
    },
    {
      "cell_type": "code",
      "source": [
        "my_dict_list"
      ],
      "metadata": {
        "id": "HZmh-Z85opE1",
        "outputId": "8a2b131c-673a-4a09-c01a-d757ee8ce35d",
        "colab": {
          "base_uri": "https://localhost:8080/"
        }
      },
      "execution_count": 141,
      "outputs": [
        {
          "output_type": "execute_result",
          "data": {
            "text/plain": [
              "{0: [1, 2, 3], 1: [4, 5, 6]}"
            ]
          },
          "metadata": {},
          "execution_count": 141
        }
      ]
    },
    {
      "cell_type": "code",
      "source": [
        "my_dict_list[0]"
      ],
      "metadata": {
        "id": "aBc9jRtNosC5",
        "outputId": "a2bd7842-58a6-4768-8042-8075ef849003",
        "colab": {
          "base_uri": "https://localhost:8080/"
        }
      },
      "execution_count": 142,
      "outputs": [
        {
          "output_type": "execute_result",
          "data": {
            "text/plain": [
              "[1, 2, 3]"
            ]
          },
          "metadata": {},
          "execution_count": 142
        }
      ]
    },
    {
      "cell_type": "code",
      "source": [
        "my_list = [[1,2,3], [4,5,6]]"
      ],
      "metadata": {
        "id": "fbntH8Zgot-G"
      },
      "execution_count": 143,
      "outputs": []
    },
    {
      "cell_type": "code",
      "source": [
        "my_list[1]"
      ],
      "metadata": {
        "id": "_s4rTyInoxW8",
        "outputId": "845c3c48-d03a-4028-b526-db557bd55489",
        "colab": {
          "base_uri": "https://localhost:8080/"
        }
      },
      "execution_count": 145,
      "outputs": [
        {
          "output_type": "execute_result",
          "data": {
            "text/plain": [
              "[4, 5, 6]"
            ]
          },
          "metadata": {},
          "execution_count": 145
        }
      ]
    },
    {
      "cell_type": "markdown",
      "metadata": {
        "id": "k-rRewX5ZOXf"
      },
      "source": [
        "We can use this explictly to change the `values` in a `dict`:"
      ]
    },
    {
      "cell_type": "code",
      "execution_count": 146,
      "metadata": {
        "id": "k4vscf76ZOXg"
      },
      "outputs": [],
      "source": [
        "my_dict = {\n",
        "            'Soybeans': 10,\n",
        "            'Beans': 8,\n",
        "            'Rice': 1\n",
        "          }"
      ]
    },
    {
      "cell_type": "code",
      "execution_count": 147,
      "metadata": {
        "id": "WxUX6gCKZOXg",
        "outputId": "14316c39-521c-484e-914c-7dd6154cf2d9",
        "colab": {
          "base_uri": "https://localhost:8080/"
        }
      },
      "outputs": [
        {
          "output_type": "stream",
          "name": "stdout",
          "text": [
            "{'Soybeans': 15, 'Beans': 8, 'Rice': 1}\n"
          ]
        }
      ],
      "source": [
        "my_dict['Soybeans'] = 15\n",
        "print(my_dict)"
      ]
    },
    {
      "cell_type": "markdown",
      "metadata": {
        "id": "5qhfvZ27ZOXg"
      },
      "source": [
        "Também podemos guardar e utilizar os valores de um dicionário em variáveis:"
      ]
    },
    {
      "cell_type": "code",
      "source": [
        "my_dict['Soybeans']"
      ],
      "metadata": {
        "id": "6szx1Rv-pEg7",
        "outputId": "18261c57-f0bf-46b3-fae9-00e6390d5e46",
        "colab": {
          "base_uri": "https://localhost:8080/"
        }
      },
      "execution_count": 148,
      "outputs": [
        {
          "output_type": "execute_result",
          "data": {
            "text/plain": [
              "15"
            ]
          },
          "metadata": {},
          "execution_count": 148
        }
      ]
    },
    {
      "cell_type": "code",
      "execution_count": 149,
      "metadata": {
        "ExecuteTime": {
          "end_time": "2020-07-10T00:10:26.565681Z",
          "start_time": "2020-07-10T00:10:26.560695Z"
        },
        "id": "853uNnQhZOXg",
        "outputId": "49dc2748-b550-4abd-e7ab-03d4871feab0",
        "colab": {
          "base_uri": "https://localhost:8080/"
        }
      },
      "outputs": [
        {
          "output_type": "stream",
          "name": "stdout",
          "text": [
            "150\n"
          ]
        }
      ],
      "source": [
        "preco_10kg_gb = my_dict['Soybeans']*10\n",
        "print(preco_10kg_gb)"
      ]
    },
    {
      "cell_type": "markdown",
      "metadata": {
        "id": "rfKDfX17ZOXg"
      },
      "source": [
        "## Dictionary methods\n",
        "\n",
        "Although a `dict` is not directly **iterable** - we can't loop through it - we can use it's methods to loop through 3 different iterables composing the `dict`\n",
        "\n",
        "- `.values()` is a list of the different `values` in the `dict`;\n",
        "\n",
        "- `.keys()` is a list of the different `keys` in the `dict`;\n",
        "\n",
        "- `.items()` is a list of the different `(key, value)` pair (represented as tuples)."
      ]
    },
    {
      "cell_type": "code",
      "source": [
        "my_dict"
      ],
      "metadata": {
        "id": "K6Oj4JlLpW_H",
        "outputId": "53996df7-ae4e-4b66-91aa-9fc3c8d6e585",
        "colab": {
          "base_uri": "https://localhost:8080/"
        }
      },
      "execution_count": 151,
      "outputs": [
        {
          "output_type": "execute_result",
          "data": {
            "text/plain": [
              "{'Soybeans': 15, 'Beans': 8, 'Rice': 1}"
            ]
          },
          "metadata": {},
          "execution_count": 151
        }
      ]
    },
    {
      "cell_type": "code",
      "execution_count": 152,
      "metadata": {
        "id": "K1IE2bvSZOXg",
        "outputId": "08ee964c-afad-48a6-d3a5-e077b59ed8cd",
        "colab": {
          "base_uri": "https://localhost:8080/"
        }
      },
      "outputs": [
        {
          "output_type": "execute_result",
          "data": {
            "text/plain": [
              "dict_values([15, 8, 1])"
            ]
          },
          "metadata": {},
          "execution_count": 152
        }
      ],
      "source": [
        "my_dict.values()"
      ]
    },
    {
      "cell_type": "code",
      "execution_count": 153,
      "metadata": {
        "id": "OmsZIfgwZOXg",
        "outputId": "16e0ac14-f662-4b99-df74-83740833eadf",
        "colab": {
          "base_uri": "https://localhost:8080/"
        }
      },
      "outputs": [
        {
          "output_type": "execute_result",
          "data": {
            "text/plain": [
              "dict_keys(['Soybeans', 'Beans', 'Rice'])"
            ]
          },
          "metadata": {},
          "execution_count": 153
        }
      ],
      "source": [
        "my_dict.keys()"
      ]
    },
    {
      "cell_type": "code",
      "execution_count": 154,
      "metadata": {
        "id": "ZUUsdkBoZOXg",
        "outputId": "39d8f274-c9f1-4c88-f680-4b39bea1cc21",
        "colab": {
          "base_uri": "https://localhost:8080/"
        }
      },
      "outputs": [
        {
          "output_type": "execute_result",
          "data": {
            "text/plain": [
              "dict_items([('Soybeans', 15), ('Beans', 8), ('Rice', 1)])"
            ]
          },
          "metadata": {},
          "execution_count": 154
        }
      ],
      "source": [
        "my_dict.items()"
      ]
    },
    {
      "cell_type": "markdown",
      "metadata": {
        "id": "lw4T-tPwZOXg"
      },
      "source": [
        "## Adding items to the dictionary\n",
        "\n",
        "We can **add** a `key` to a `dict` using **index notation** (`[key_name]`):"
      ]
    },
    {
      "cell_type": "code",
      "execution_count": 155,
      "metadata": {
        "id": "s2UOhKYHZOXh"
      },
      "outputs": [],
      "source": [
        "my_dict['Chickpeas'] = 9"
      ]
    },
    {
      "cell_type": "code",
      "execution_count": 156,
      "metadata": {
        "id": "Ji8-oGW6ZOXh",
        "outputId": "ab9b3da0-9b24-4fe6-ff08-3d20bfe32199",
        "colab": {
          "base_uri": "https://localhost:8080/"
        }
      },
      "outputs": [
        {
          "output_type": "execute_result",
          "data": {
            "text/plain": [
              "dict_keys(['Soybeans', 'Beans', 'Rice', 'Chickpeas'])"
            ]
          },
          "metadata": {},
          "execution_count": 156
        }
      ],
      "source": [
        "my_dict.keys()"
      ]
    },
    {
      "cell_type": "code",
      "execution_count": 157,
      "metadata": {
        "id": "nC53JB1KZOXh",
        "outputId": "7ae3bad2-0bc3-4a79-9a69-c0574959eb0f",
        "colab": {
          "base_uri": "https://localhost:8080/"
        }
      },
      "outputs": [
        {
          "output_type": "execute_result",
          "data": {
            "text/plain": [
              "{'Soybeans': 15, 'Beans': 8, 'Rice': 1, 'Chickpeas': 9}"
            ]
          },
          "metadata": {},
          "execution_count": 157
        }
      ],
      "source": [
        "my_dict"
      ]
    },
    {
      "cell_type": "markdown",
      "metadata": {
        "id": "J_EgiJUIZOXh"
      },
      "source": [
        "We can also use the `.update()` method to update the values and add keys to a `dict` from a different `dict"
      ]
    },
    {
      "cell_type": "code",
      "execution_count": 158,
      "metadata": {
        "id": "YwwOAP2_ZOXh",
        "outputId": "cef2247f-8587-4d7b-c9f3-3a236c11c4ed",
        "colab": {
          "base_uri": "https://localhost:8080/"
        }
      },
      "outputs": [
        {
          "output_type": "stream",
          "name": "stdout",
          "text": [
            "{'Chickpeas': 5, 'Whole-grain Rice': 8.5}\n"
          ]
        }
      ],
      "source": [
        "new_dict = dict()\n",
        "new_dict['Chickpeas'] = 5\n",
        "new_dict['Whole-grain Rice'] = 8.5\n",
        "print(new_dict)"
      ]
    },
    {
      "cell_type": "code",
      "execution_count": 159,
      "metadata": {
        "id": "xN-wRth0ZOXh",
        "outputId": "5d60554e-def2-4d62-b060-c42577f5bf6b",
        "colab": {
          "base_uri": "https://localhost:8080/"
        }
      },
      "outputs": [
        {
          "output_type": "stream",
          "name": "stdout",
          "text": [
            "{'Soybeans': 15, 'Beans': 8, 'Rice': 1, 'Chickpeas': 5, 'Whole-grain Rice': 8.5}\n"
          ]
        }
      ],
      "source": [
        "my_dict.update(new_dict)\n",
        "print(my_dict)"
      ]
    },
    {
      "cell_type": "code",
      "execution_count": 160,
      "metadata": {
        "id": "YH7kypscZOXh",
        "outputId": "a8248ee2-f779-425c-b2e2-4eef610066bd",
        "colab": {
          "base_uri": "https://localhost:8080/"
        }
      },
      "outputs": [
        {
          "output_type": "stream",
          "name": "stdout",
          "text": [
            "{'Soybeans': 15, 'Beans': 8, 'Rice': 1, 'Chickpeas': 5, 'Whole-grain Rice': 8.5}\n"
          ]
        }
      ],
      "source": [
        "print(my_dict)"
      ]
    },
    {
      "cell_type": "markdown",
      "metadata": {
        "id": "OeE2HL5cZOXh"
      },
      "source": [
        "We can also use different iterables to add/update values in a dictionary:"
      ]
    },
    {
      "cell_type": "code",
      "execution_count": 161,
      "metadata": {
        "id": "e6Eh5QcyZOXh"
      },
      "outputs": [],
      "source": [
        "graos = ['White Beans', 'Syrian Chickpeas', 'White Beans']\n",
        "valores = [9.50, 13, 8.50]"
      ]
    },
    {
      "cell_type": "code",
      "source": [
        "list(range(len(graos)))"
      ],
      "metadata": {
        "id": "r7LDoGFbqHSu",
        "outputId": "0f414edf-02ce-4df7-cc1a-25cf4ac33002",
        "colab": {
          "base_uri": "https://localhost:8080/"
        }
      },
      "execution_count": 165,
      "outputs": [
        {
          "output_type": "execute_result",
          "data": {
            "text/plain": [
              "[0, 1, 2]"
            ]
          },
          "metadata": {},
          "execution_count": 165
        }
      ]
    },
    {
      "cell_type": "code",
      "execution_count": 166,
      "metadata": {
        "id": "v5BLFZb6ZOXh",
        "outputId": "84a9363b-022d-47a1-cb75-465eb062695e",
        "colab": {
          "base_uri": "https://localhost:8080/"
        }
      },
      "outputs": [
        {
          "output_type": "stream",
          "name": "stdout",
          "text": [
            "White Beans 9.5\n",
            "Syrian Chickpeas 13\n",
            "White Beans 8.5\n"
          ]
        }
      ],
      "source": [
        "for i in range(len(graos)):\n",
        "    print(graos[i], valores[i])\n",
        "    my_dict[graos[i]] = valores[i]"
      ]
    },
    {
      "cell_type": "code",
      "source": [
        "graos[2]"
      ],
      "metadata": {
        "id": "zlLhORN6qaQb",
        "outputId": "087e1b56-f5c0-4d56-f682-8f7df1eec7d4",
        "colab": {
          "base_uri": "https://localhost:8080/",
          "height": 58
        }
      },
      "execution_count": 167,
      "outputs": [
        {
          "output_type": "execute_result",
          "data": {
            "text/plain": [
              "'White Beans'"
            ],
            "application/vnd.google.colaboratory.intrinsic+json": {
              "type": "string"
            }
          },
          "metadata": {},
          "execution_count": 167
        }
      ]
    },
    {
      "cell_type": "code",
      "execution_count": 163,
      "metadata": {
        "id": "dpEbJmgiZOXi",
        "outputId": "83572aee-67f8-41b4-b185-2988d6b20604",
        "colab": {
          "base_uri": "https://localhost:8080/"
        }
      },
      "outputs": [
        {
          "output_type": "stream",
          "name": "stdout",
          "text": [
            "{'Soybeans': 15, 'Beans': 8, 'Rice': 1, 'Chickpeas': 5, 'Whole-grain Rice': 8.5, 'White Beans': 8.5, 'Syrian Chickpeas': 13}\n"
          ]
        }
      ],
      "source": [
        "print(my_dict)"
      ]
    },
    {
      "cell_type": "markdown",
      "metadata": {
        "id": "GgavpXmPZOXi"
      },
      "source": [
        "We can also use multiple assignment in a `for` loop to add/update `key : value` pairs from an uple to a dict:"
      ]
    },
    {
      "cell_type": "code",
      "execution_count": 168,
      "metadata": {
        "id": "zTcMBFVLZOXi"
      },
      "outputs": [],
      "source": [
        "novos_precos = [('Lentilha Verde', 9), ('Abobrinha', 3), ('Beringela', 8)]"
      ]
    },
    {
      "cell_type": "code",
      "source": [
        "for produto, preco in novos_precos:\n",
        "  print(produto)\n",
        "  print(preco)"
      ],
      "metadata": {
        "id": "_b6h-RQ_qye9",
        "outputId": "11fe47cf-8dfe-4f86-a143-970341b90974",
        "colab": {
          "base_uri": "https://localhost:8080/"
        }
      },
      "execution_count": 175,
      "outputs": [
        {
          "output_type": "stream",
          "name": "stdout",
          "text": [
            "Lentilha Verde\n",
            "9\n",
            "Abobrinha\n",
            "3\n",
            "Beringela\n",
            "8\n"
          ]
        }
      ]
    },
    {
      "cell_type": "code",
      "execution_count": 176,
      "metadata": {
        "id": "e2KsSwspZOXi",
        "outputId": "7c6b555f-4a88-4bb8-c44f-ea2979034e73",
        "colab": {
          "base_uri": "https://localhost:8080/"
        }
      },
      "outputs": [
        {
          "output_type": "stream",
          "name": "stdout",
          "text": [
            "{'Soybeans': 15, 'Beans': 8, 'Rice': 1, 'Chickpeas': 5, 'Whole-grain Rice': 8.5, 'White Beans': 8.5, 'Syrian Chickpeas': 13, 'Lentilha Verde': 9, 'Abobrinha': 3, 'Beringela': 8}\n"
          ]
        }
      ],
      "source": [
        "for produto, preco in novos_precos:\n",
        "    my_dict[produto] = preco\n",
        "print(my_dict)"
      ]
    },
    {
      "cell_type": "markdown",
      "metadata": {
        "id": "ZGsB0BJDZOXi"
      },
      "source": [
        "## Values can be anything!"
      ]
    },
    {
      "cell_type": "code",
      "execution_count": 177,
      "metadata": {
        "id": "GtFUQrTiZOXi",
        "outputId": "a2b2ec0a-d1d9-4044-eaf4-5e39034ab0e2",
        "colab": {
          "base_uri": "https://localhost:8080/"
        }
      },
      "outputs": [
        {
          "output_type": "stream",
          "name": "stdout",
          "text": [
            "{'id': 1, 'size': 80, 'lot_size': (20, 30), 'address': {'street': 'Al. das Maritacas', 'number': 1637, 'neigh': 'Cidade Jardim', 'zip': 39272440}}\n"
          ]
        }
      ],
      "source": [
        "casa = dict()\n",
        "casa['id'] = 1\n",
        "casa['size'] = 80\n",
        "casa['lot_size'] = (20, 30)\n",
        "casa['address'] = dict()\n",
        "casa['address']['street'] = 'Al. das Maritacas'\n",
        "casa['address']['number'] = 1637\n",
        "casa['address']['neigh'] = 'Cidade Jardim'\n",
        "casa['address']['zip'] = 39272440\n",
        "print(casa)"
      ]
    },
    {
      "cell_type": "code",
      "source": [
        "casa['address']['street']"
      ],
      "metadata": {
        "id": "2mH3erd3rg22",
        "outputId": "c731bf48-4de9-4c73-8498-731baa55cda7",
        "colab": {
          "base_uri": "https://localhost:8080/",
          "height": 58
        }
      },
      "execution_count": 181,
      "outputs": [
        {
          "output_type": "execute_result",
          "data": {
            "text/plain": [
              "'Al. das Maritacas'"
            ],
            "application/vnd.google.colaboratory.intrinsic+json": {
              "type": "string"
            }
          },
          "metadata": {},
          "execution_count": 181
        }
      ]
    },
    {
      "cell_type": "code",
      "source": [],
      "metadata": {
        "id": "P4y5Ynoar3ag"
      },
      "execution_count": null,
      "outputs": []
    },
    {
      "cell_type": "code",
      "execution_count": null,
      "metadata": {
        "id": "Og9sj7vjZOXi"
      },
      "outputs": [],
      "source": [
        "print(type(casa))\n",
        "print(type(casa['lot_size']))\n",
        "print(type(casa['address']))"
      ]
    },
    {
      "cell_type": "code",
      "execution_count": null,
      "metadata": {
        "id": "3GoO0feMZOXi"
      },
      "outputs": [],
      "source": [
        "print(casa['address']['street'])"
      ]
    },
    {
      "cell_type": "code",
      "source": [
        "my_dict = dict()\n",
        "my_dict[0] = dict()\n",
        "my_dict[0]['Pedro'] = ['1', 2, 3]"
      ],
      "metadata": {
        "id": "DHES5Zlgr6hC"
      },
      "execution_count": 184,
      "outputs": []
    },
    {
      "cell_type": "code",
      "source": [
        "my_dict"
      ],
      "metadata": {
        "id": "sjD3gwaYsDgI",
        "outputId": "973c3c21-10b5-4aac-961e-fcd2960a2a98",
        "colab": {
          "base_uri": "https://localhost:8080/"
        }
      },
      "execution_count": 185,
      "outputs": [
        {
          "output_type": "execute_result",
          "data": {
            "text/plain": [
              "{0: {'Pedro': ['1', 2, 3]}}"
            ]
          },
          "metadata": {},
          "execution_count": 185
        }
      ]
    },
    {
      "cell_type": "code",
      "source": [
        "my_dict[(1,2,3)] = 'a'"
      ],
      "metadata": {
        "id": "7DIIVfXMsFdK"
      },
      "execution_count": 187,
      "outputs": []
    },
    {
      "cell_type": "code",
      "source": [
        "my_dict"
      ],
      "metadata": {
        "id": "zosHn4lcsPpY",
        "outputId": "4922c174-1d30-4319-b6b6-ac100d1ab2f4",
        "colab": {
          "base_uri": "https://localhost:8080/"
        }
      },
      "execution_count": 188,
      "outputs": [
        {
          "output_type": "execute_result",
          "data": {
            "text/plain": [
              "{0: {'Pedro': ['1', 2, 3]}, (1, 2, 3): 'a'}"
            ]
          },
          "metadata": {},
          "execution_count": 188
        }
      ]
    },
    {
      "cell_type": "markdown",
      "metadata": {
        "id": "re94qW9mZOXi"
      },
      "source": [
        "## Real world example\n",
        "\n",
        "Dictionaries are often used to represent complex data in real-world applications. Let's see how they show up when we use an **API** to find weather data for specific cities!"
      ]
    },
    {
      "cell_type": "code",
      "execution_count": 189,
      "metadata": {
        "id": "cf1cki2cZOXj"
      },
      "outputs": [],
      "source": [
        "import requests\n",
        "TOKEN = 'c0c9147ec699d5205de0cbb2f5ad611c9aae0b41edeaf6092728677d06356836'\n",
        "url = \"https://api.ambeedata.com/weather/latest/by-lat-lng\"\n",
        "headers = {\n",
        "    'x-api-key': TOKEN,\n",
        "    'Content-type': \"application/json\"\n",
        "    }"
      ]
    },
    {
      "cell_type": "code",
      "execution_count": 190,
      "metadata": {
        "id": "8eLkaM9NZOXj"
      },
      "outputs": [],
      "source": [
        "querystring = {\"lat\":\"19\",\"lng\":\"-99\"}\n",
        "response = requests.request(\"GET\", url, headers=headers, params=querystring)\n",
        "ql_ar_mx = response.json()"
      ]
    },
    {
      "cell_type": "code",
      "execution_count": 191,
      "metadata": {
        "id": "Gc9_vfI_ZOXj"
      },
      "outputs": [],
      "source": [
        "querystring = {\"lat\":\"-21\",\"lng\":\"-47\"}\n",
        "response = requests.request(\"GET\", url, headers=headers, params=querystring)\n",
        "ql_ar_pira = response.json()"
      ]
    },
    {
      "cell_type": "code",
      "execution_count": 192,
      "metadata": {
        "id": "zSnCwLf1ZOXj",
        "outputId": "250e9f1d-29da-4874-a28f-dfd9f41075b8",
        "colab": {
          "base_uri": "https://localhost:8080/"
        }
      },
      "outputs": [
        {
          "output_type": "stream",
          "name": "stdout",
          "text": [
            "{'message': 'success', 'data': {'time': 1666106684, 'lat': 19, 'lng': -99, 'summary': 'Overcast', 'icon': 'cloudy', 'temperature': 60.78, 'apparentTemperature': 62.6, 'dewPoint': 60.78, 'humidity': 1, 'pressure': 1018.3, 'windSpeed': 1.88, 'windGust': 3.88, 'windBearing': 87, 'cloudCover': 0.97, 'uvIndex': 3, 'precipIntensity': 0.0056, 'precipProbability': 0.11, 'precipType': 'rain', 'visibility': 10, 'ozone': 251.7}}\n"
          ]
        }
      ],
      "source": [
        "print(ql_ar_mx)"
      ]
    },
    {
      "cell_type": "code",
      "execution_count": 193,
      "metadata": {
        "id": "T-HzKWNEZOXj",
        "outputId": "d553fc24-835a-4f72-d388-3284e2cfa2be",
        "colab": {
          "base_uri": "https://localhost:8080/"
        }
      },
      "outputs": [
        {
          "output_type": "stream",
          "name": "stdout",
          "text": [
            "{'message': 'success', 'data': {'time': 1666106686, 'lat': -21, 'lng': -47, 'summary': 'Partly Cloudy', 'icon': 'partly-cloudy-day', 'temperature': 84.4, 'apparentTemperature': 84.4, 'dewPoint': 54.33, 'humidity': 0.36, 'pressure': 1016.2, 'windSpeed': 9.44, 'windGust': 9.44, 'windBearing': 35, 'cloudCover': 0.5, 'uvIndex': 9, 'precipIntensity': 0, 'precipProbability': 0, 'visibility': 10, 'ozone': 278.4}}\n"
          ]
        }
      ],
      "source": [
        "print(ql_ar_pira)"
      ]
    },
    {
      "cell_type": "code",
      "source": [
        "cur_temp = ql_ar_pira['data']['temperature']"
      ],
      "metadata": {
        "id": "YrVN--JqsrH3"
      },
      "execution_count": 200,
      "outputs": []
    },
    {
      "cell_type": "code",
      "source": [
        "cur_temp"
      ],
      "metadata": {
        "id": "tiTgO1QutGXC",
        "outputId": "1be413b6-64cc-4eaa-c730-152cccb1de3b",
        "colab": {
          "base_uri": "https://localhost:8080/"
        }
      },
      "execution_count": 201,
      "outputs": [
        {
          "output_type": "execute_result",
          "data": {
            "text/plain": [
              "84.4"
            ]
          },
          "metadata": {},
          "execution_count": 201
        }
      ]
    },
    {
      "cell_type": "markdown",
      "metadata": {
        "id": "wOaBYkl6ZOXj"
      },
      "source": [
        "## Iterating over a dictionary"
      ]
    },
    {
      "cell_type": "code",
      "execution_count": 205,
      "metadata": {
        "ExecuteTime": {
          "end_time": "2020-07-10T00:32:18.522307Z",
          "start_time": "2020-07-10T00:32:18.518319Z"
        },
        "id": "crAPd7pCZOXj",
        "outputId": "617a3167-4abe-4051-ae6a-cfa669ff3ce6",
        "colab": {
          "base_uri": "https://localhost:8080/"
        }
      },
      "outputs": [
        {
          "output_type": "stream",
          "name": "stdout",
          "text": [
            "id is 1\n",
            "size is 80\n",
            "lot_size is (20, 30)\n",
            "address is {'street': 'Al. das Maritacas', 'number': 1637, 'neigh': 'Cidade Jardim', 'zip': 39272440}\n"
          ]
        }
      ],
      "source": [
        "for chave in casa.keys():\n",
        "  print(f'{chave} is {casa[chave]}')"
      ]
    },
    {
      "cell_type": "code",
      "execution_count": 208,
      "metadata": {
        "id": "L96YOVi7ZOXj",
        "outputId": "440e623f-103a-42bd-f2e4-52598754988c",
        "colab": {
          "base_uri": "https://localhost:8080/"
        }
      },
      "outputs": [
        {
          "output_type": "stream",
          "name": "stdout",
          "text": [
            "id is 1\n",
            "size is 80\n",
            "lot_size is (20, 30)\n",
            "address is {'street': 'Al. das Maritacas', 'number': 1637, 'neigh': 'Cidade Jardim', 'zip': 39272440}\n"
          ]
        }
      ],
      "source": [
        "for atributo in casa.items():\n",
        "  chave, value = atributo\n",
        "  print(f'{chave} is {value}')"
      ]
    },
    {
      "cell_type": "code",
      "execution_count": 209,
      "metadata": {
        "id": "9a5AggJsZOXj",
        "outputId": "4bced01b-98fc-4cab-b407-15a31fb142ea",
        "colab": {
          "base_uri": "https://localhost:8080/"
        }
      },
      "outputs": [
        {
          "output_type": "stream",
          "name": "stdout",
          "text": [
            "1\n",
            "80\n",
            "(20, 30)\n",
            "{'street': 'Al. das Maritacas', 'number': 1637, 'neigh': 'Cidade Jardim', 'zip': 39272440}\n"
          ]
        }
      ],
      "source": [
        "for valor in casa.values():\n",
        "    print(valor)"
      ]
    },
    {
      "cell_type": "markdown",
      "metadata": {
        "id": "ilhoI6wYZOXj"
      },
      "source": [
        "## Iterating over items"
      ]
    },
    {
      "cell_type": "code",
      "execution_count": 210,
      "metadata": {
        "id": "H7TfUwlyZOXk"
      },
      "outputs": [],
      "source": [
        "my_dict = {\n",
        "            'Chickpeas': 10,\n",
        "            'Beans': 8,\n",
        "            'Rice': 1\n",
        "          }"
      ]
    },
    {
      "cell_type": "code",
      "execution_count": 211,
      "metadata": {
        "id": "O26t7VYfZOXk",
        "outputId": "06ad6fc8-1632-49ab-81ec-e8e158e0169c",
        "colab": {
          "base_uri": "https://localhost:8080/"
        }
      },
      "outputs": [
        {
          "output_type": "stream",
          "name": "stdout",
          "text": [
            "dict_items([('Chickpeas', 10), ('Beans', 8), ('Rice', 1)])\n"
          ]
        }
      ],
      "source": [
        "print(my_dict.items())"
      ]
    },
    {
      "cell_type": "code",
      "execution_count": 212,
      "metadata": {
        "id": "pyYv96xhZOXk",
        "outputId": "80940924-eaac-45fa-f1f2-cb062b922ae3",
        "colab": {
          "base_uri": "https://localhost:8080/"
        }
      },
      "outputs": [
        {
          "output_type": "stream",
          "name": "stdout",
          "text": [
            "10\n",
            "8\n"
          ]
        }
      ],
      "source": [
        "for grao, preco in my_dict.items():\n",
        "    if grao == 'Beans' or grao == 'Chickpeas':\n",
        "        print(preco)"
      ]
    },
    {
      "cell_type": "code",
      "source": [
        "my_dict.items()"
      ],
      "metadata": {
        "id": "pnCURczFuRy2",
        "outputId": "4023a9e4-6cff-478f-c56e-367183370c7c",
        "colab": {
          "base_uri": "https://localhost:8080/"
        }
      },
      "execution_count": 215,
      "outputs": [
        {
          "output_type": "execute_result",
          "data": {
            "text/plain": [
              "dict_items([('Chickpeas', 10), ('Beans', 8), ('Rice', 1)])"
            ]
          },
          "metadata": {},
          "execution_count": 215
        }
      ]
    },
    {
      "cell_type": "code",
      "source": [
        "for grao, preco in my_dict.items():\n",
        "    if preco > 5:\n",
        "      print(grao)"
      ],
      "metadata": {
        "id": "pukOCJYguHMy",
        "outputId": "6ac77cc3-5636-40af-9549-2ca4848d7c84",
        "colab": {
          "base_uri": "https://localhost:8080/"
        }
      },
      "execution_count": 213,
      "outputs": [
        {
          "output_type": "stream",
          "name": "stdout",
          "text": [
            "Chickpeas\n",
            "Beans\n"
          ]
        }
      ]
    },
    {
      "cell_type": "code",
      "source": [
        "for grao in my_dict.keys():\n",
        "  if my_dict[grao] > 5:\n",
        "    print(grao)"
      ],
      "metadata": {
        "id": "Fn_M4SHzuLGG",
        "outputId": "141aef1b-89db-4954-d0d7-0b5eba2de810",
        "colab": {
          "base_uri": "https://localhost:8080/"
        }
      },
      "execution_count": 214,
      "outputs": [
        {
          "output_type": "stream",
          "name": "stdout",
          "text": [
            "Chickpeas\n",
            "Beans\n"
          ]
        }
      ]
    },
    {
      "cell_type": "markdown",
      "metadata": {
        "id": "BsJzRb4fZOXk"
      },
      "source": [
        "## The `in` operator"
      ]
    },
    {
      "cell_type": "code",
      "execution_count": 219,
      "metadata": {
        "ExecuteTime": {
          "end_time": "2020-07-10T00:35:27.646645Z",
          "start_time": "2020-07-10T00:35:27.642656Z"
        },
        "id": "Vec05mLsZOXk",
        "outputId": "2cb96beb-7460-4c0f-dd5a-66cbea01854f",
        "colab": {
          "base_uri": "https://localhost:8080/"
        }
      },
      "outputs": [
        {
          "output_type": "execute_result",
          "data": {
            "text/plain": [
              "False"
            ]
          },
          "metadata": {},
          "execution_count": 219
        }
      ],
      "source": [
        "5 in [1, 2, 3]"
      ]
    },
    {
      "cell_type": "code",
      "execution_count": 221,
      "metadata": {
        "id": "ILvh8CopZOXk",
        "outputId": "40e5fb92-4c0e-4d13-f698-e579709cb5ab",
        "colab": {
          "base_uri": "https://localhost:8080/"
        }
      },
      "outputs": [
        {
          "output_type": "execute_result",
          "data": {
            "text/plain": [
              "True"
            ]
          },
          "metadata": {},
          "execution_count": 221
        }
      ],
      "source": [
        "'Beans' in my_dict.keys()"
      ]
    },
    {
      "cell_type": "markdown",
      "metadata": {
        "id": "U1NEjx5tZOXk"
      },
      "source": [
        "This operator works in any iterable!"
      ]
    },
    {
      "cell_type": "code",
      "execution_count": 222,
      "metadata": {
        "id": "LgLKBdRvZOXk",
        "outputId": "b4a33d28-26d4-4d0d-9d05-f31f5830081c",
        "colab": {
          "base_uri": "https://localhost:8080/"
        }
      },
      "outputs": [
        {
          "output_type": "execute_result",
          "data": {
            "text/plain": [
              "False"
            ]
          },
          "metadata": {},
          "execution_count": 222
        }
      ],
      "source": [
        "'abcd' in 'abc'"
      ]
    },
    {
      "cell_type": "code",
      "execution_count": 223,
      "metadata": {
        "id": "P4MtVOk4ZOXk",
        "outputId": "b8f67617-f4eb-47e5-bc14-328a1c349d00",
        "colab": {
          "base_uri": "https://localhost:8080/"
        }
      },
      "outputs": [
        {
          "output_type": "execute_result",
          "data": {
            "text/plain": [
              "True"
            ]
          },
          "metadata": {},
          "execution_count": 223
        }
      ],
      "source": [
        "'abc' in 'abcd'"
      ]
    },
    {
      "cell_type": "code",
      "execution_count": 225,
      "metadata": {
        "ExecuteTime": {
          "end_time": "2020-07-10T00:35:58.854050Z",
          "start_time": "2020-07-10T00:35:58.851057Z"
        },
        "id": "j6Y5m5XNZOXk",
        "outputId": "8ca6d728-a54f-4614-9378-22d7ce0e4b65",
        "colab": {
          "base_uri": "https://localhost:8080/"
        }
      },
      "outputs": [
        {
          "output_type": "execute_result",
          "data": {
            "text/plain": [
              "False"
            ]
          },
          "metadata": {},
          "execution_count": 225
        }
      ],
      "source": [
        "4 in (1, 2, 3)"
      ]
    },
    {
      "cell_type": "markdown",
      "metadata": {
        "id": "vXgQAj0QZOXk"
      },
      "source": [
        "# `sets`\n",
        "\n",
        "Sets are collections of **unique elements** - a `dict`'s keys is a `set`!"
      ]
    },
    {
      "cell_type": "code",
      "execution_count": 226,
      "metadata": {
        "id": "kMsGuMhuZOXk"
      },
      "outputs": [],
      "source": [
        "my_list = ['Pedro', 'Adriano', 'Pedro', 'Adriano', 'Pedro', 'Adriano']"
      ]
    },
    {
      "cell_type": "code",
      "execution_count": 227,
      "metadata": {
        "id": "YeBbf2iaZOXk",
        "outputId": "03981ab7-c8fe-4e2b-c4d0-306f0fd75586",
        "colab": {
          "base_uri": "https://localhost:8080/"
        }
      },
      "outputs": [
        {
          "output_type": "execute_result",
          "data": {
            "text/plain": [
              "['Pedro', 'Adriano', 'Pedro', 'Adriano', 'Pedro', 'Adriano']"
            ]
          },
          "metadata": {},
          "execution_count": 227
        }
      ],
      "source": [
        "my_list"
      ]
    },
    {
      "cell_type": "code",
      "execution_count": 228,
      "metadata": {
        "id": "gr4rVbiQZOXl",
        "outputId": "bc12423e-85a6-4c6f-b125-ce0620c704cb",
        "colab": {
          "base_uri": "https://localhost:8080/"
        }
      },
      "outputs": [
        {
          "output_type": "execute_result",
          "data": {
            "text/plain": [
              "{'Adriano', 'Pedro'}"
            ]
          },
          "metadata": {},
          "execution_count": 228
        }
      ],
      "source": [
        "set(my_list)"
      ]
    },
    {
      "cell_type": "markdown",
      "metadata": {
        "id": "XVpGHJAOZOXl"
      },
      "source": [
        "We can use set conversion to find out how many unique elements an iterable has:"
      ]
    },
    {
      "cell_type": "code",
      "source": [
        "list_x = [1,2,3,4,4,4,4,4,5,6,6,6,7,7,8]"
      ],
      "metadata": {
        "id": "DBsdBK3bvnwQ"
      },
      "execution_count": 230,
      "outputs": []
    },
    {
      "cell_type": "code",
      "source": [
        "set_x = set(list_x)\n",
        "set_x"
      ],
      "metadata": {
        "id": "2I7d27ULvrkX",
        "outputId": "d77de4d2-afea-4134-99c0-71520a56e0c8",
        "colab": {
          "base_uri": "https://localhost:8080/"
        }
      },
      "execution_count": 232,
      "outputs": [
        {
          "output_type": "execute_result",
          "data": {
            "text/plain": [
              "{1, 2, 3, 4, 5, 6, 7, 8}"
            ]
          },
          "metadata": {},
          "execution_count": 232
        }
      ]
    },
    {
      "cell_type": "code",
      "source": [
        "len(set_x)"
      ],
      "metadata": {
        "id": "_d6vKEKTvwgp",
        "outputId": "3dc555a2-f808-4350-fb69-5c7269c97040",
        "colab": {
          "base_uri": "https://localhost:8080/"
        }
      },
      "execution_count": 234,
      "outputs": [
        {
          "output_type": "execute_result",
          "data": {
            "text/plain": [
              "8"
            ]
          },
          "metadata": {},
          "execution_count": 234
        }
      ]
    },
    {
      "cell_type": "code",
      "execution_count": 235,
      "metadata": {
        "ExecuteTime": {
          "end_time": "2020-07-10T00:41:55.690528Z",
          "start_time": "2020-07-10T00:41:55.686511Z"
        },
        "id": "TSPH3B0uZOXl",
        "outputId": "0f78c18c-082c-4838-e0b4-7858d22b065d",
        "colab": {
          "base_uri": "https://localhost:8080/"
        }
      },
      "outputs": [
        {
          "output_type": "stream",
          "name": "stdout",
          "text": [
            "Size of the list: 15, size of the set: 8\n"
          ]
        }
      ],
      "source": [
        "print(f'Size of the list: {len(list_x)}, size of the set: {len(set_x)}')"
      ]
    },
    {
      "cell_type": "markdown",
      "metadata": {
        "id": "OeSkdKbaZOXl"
      },
      "source": [
        "## `set` methods\n",
        "\n",
        "- `A.intersection(B)` common elements between sets A & B;\n",
        "- `A.difference(B)` elements in A not in B;\n",
        "- `A.union(B)` the set of all elements in A or in B.\n"
      ]
    },
    {
      "cell_type": "code",
      "execution_count": 236,
      "metadata": {
        "id": "RKh8juXwZOXl"
      },
      "outputs": [],
      "source": [
        "x = {1, 2, 3, 4, 5, 6, 7, 8}"
      ]
    },
    {
      "cell_type": "code",
      "execution_count": 237,
      "metadata": {
        "id": "p3_Trvu6ZOXl"
      },
      "outputs": [],
      "source": [
        "y = {6, 7, 8, 9, 10, 11, 12}"
      ]
    },
    {
      "cell_type": "code",
      "execution_count": 238,
      "metadata": {
        "ExecuteTime": {
          "end_time": "2020-07-10T00:44:50.502397Z",
          "start_time": "2020-07-10T00:44:50.498409Z"
        },
        "id": "RXHDoSHAZOXl",
        "outputId": "27edec39-18e4-41af-87f7-afa52a77e23e",
        "colab": {
          "base_uri": "https://localhost:8080/"
        }
      },
      "outputs": [
        {
          "output_type": "execute_result",
          "data": {
            "text/plain": [
              "{6, 7, 8}"
            ]
          },
          "metadata": {},
          "execution_count": 238
        }
      ],
      "source": [
        "x.intersection(y)"
      ]
    },
    {
      "cell_type": "code",
      "execution_count": 239,
      "metadata": {
        "id": "ApKaHIujZOXl",
        "outputId": "afb6d92e-63a0-40ba-f7fe-9acf8bd87b71",
        "colab": {
          "base_uri": "https://localhost:8080/"
        }
      },
      "outputs": [
        {
          "output_type": "execute_result",
          "data": {
            "text/plain": [
              "{6, 7, 8}"
            ]
          },
          "metadata": {},
          "execution_count": 239
        }
      ],
      "source": [
        "y.intersection(x)"
      ]
    },
    {
      "cell_type": "code",
      "execution_count": 240,
      "metadata": {
        "id": "UfKngSVmZOXl",
        "outputId": "e537aeca-ecd5-46bb-c601-f405147037a7",
        "colab": {
          "base_uri": "https://localhost:8080/"
        }
      },
      "outputs": [
        {
          "output_type": "execute_result",
          "data": {
            "text/plain": [
              "{1, 2, 3, 4, 5}"
            ]
          },
          "metadata": {},
          "execution_count": 240
        }
      ],
      "source": [
        "x.difference(y)"
      ]
    },
    {
      "cell_type": "code",
      "execution_count": 241,
      "metadata": {
        "id": "i_XqJYKGZOXl",
        "outputId": "f3eabdac-0b49-4453-e2f5-eed9c9f1c662",
        "colab": {
          "base_uri": "https://localhost:8080/"
        }
      },
      "outputs": [
        {
          "output_type": "execute_result",
          "data": {
            "text/plain": [
              "{9, 10, 11, 12}"
            ]
          },
          "metadata": {},
          "execution_count": 241
        }
      ],
      "source": [
        "y.difference(x)"
      ]
    },
    {
      "cell_type": "code",
      "execution_count": 242,
      "metadata": {
        "id": "NjPZ46UqZOXl",
        "outputId": "a2bf4153-dff8-40a7-88e6-36bfc9e96646",
        "colab": {
          "base_uri": "https://localhost:8080/"
        }
      },
      "outputs": [
        {
          "output_type": "execute_result",
          "data": {
            "text/plain": [
              "{1, 2, 3, 4, 5}"
            ]
          },
          "metadata": {},
          "execution_count": 242
        }
      ],
      "source": [
        "x-y # x.difference(y)"
      ]
    },
    {
      "cell_type": "code",
      "execution_count": 243,
      "metadata": {
        "id": "VnAosjc2ZOXl",
        "outputId": "cb391a2b-af76-4f1a-873f-dc8250e76dfb",
        "colab": {
          "base_uri": "https://localhost:8080/"
        }
      },
      "outputs": [
        {
          "output_type": "execute_result",
          "data": {
            "text/plain": [
              "{9, 10, 11, 12}"
            ]
          },
          "metadata": {},
          "execution_count": 243
        }
      ],
      "source": [
        "y-x # y.difference(y)"
      ]
    },
    {
      "cell_type": "code",
      "execution_count": 244,
      "metadata": {
        "id": "8fAAm5RmZOXl",
        "outputId": "d19863af-33c1-45e8-cec5-297636d470ce",
        "colab": {
          "base_uri": "https://localhost:8080/"
        }
      },
      "outputs": [
        {
          "output_type": "execute_result",
          "data": {
            "text/plain": [
              "{1, 2, 3, 4, 5, 6, 7, 8, 9, 10, 11, 12}"
            ]
          },
          "metadata": {},
          "execution_count": 244
        }
      ],
      "source": [
        "x.union(y)"
      ]
    },
    {
      "cell_type": "code",
      "execution_count": 245,
      "metadata": {
        "id": "qQsFeqrRZOXm",
        "outputId": "05034c3d-4b1d-4dcd-beeb-de76c1d1088a",
        "colab": {
          "base_uri": "https://localhost:8080/"
        }
      },
      "outputs": [
        {
          "output_type": "execute_result",
          "data": {
            "text/plain": [
              "{1, 2, 3, 4, 5, 9, 10, 11, 12}"
            ]
          },
          "metadata": {},
          "execution_count": 245
        }
      ],
      "source": [
        "(x-y).union(y-x)"
      ]
    },
    {
      "cell_type": "code",
      "execution_count": 246,
      "metadata": {
        "id": "SAzqEMDUZOXm",
        "outputId": "14a62863-5892-4e4c-9c4c-6f210eb2a3b5",
        "colab": {
          "base_uri": "https://localhost:8080/"
        }
      },
      "outputs": [
        {
          "output_type": "execute_result",
          "data": {
            "text/plain": [
              "{1, 2, 3, 4, 5, 9, 10, 11, 12}"
            ]
          },
          "metadata": {},
          "execution_count": 246
        }
      ],
      "source": [
        "x.symmetric_difference(y)"
      ]
    },
    {
      "cell_type": "code",
      "execution_count": 250,
      "metadata": {
        "id": "rmy6QNB4ZOXm"
      },
      "outputs": [],
      "source": [
        "x = set([1,2,3])\n",
        "y = set([1, 2])"
      ]
    },
    {
      "cell_type": "code",
      "execution_count": 252,
      "metadata": {
        "id": "ynzfjhVDZOXm",
        "outputId": "8a0c65c9-7ade-4ece-8461-3440f938ec65",
        "colab": {
          "base_uri": "https://localhost:8080/"
        }
      },
      "outputs": [
        {
          "output_type": "execute_result",
          "data": {
            "text/plain": [
              "False"
            ]
          },
          "metadata": {},
          "execution_count": 252
        }
      ],
      "source": [
        "x.issubset(y)"
      ]
    },
    {
      "cell_type": "code",
      "execution_count": 255,
      "metadata": {
        "ExecuteTime": {
          "end_time": "2020-07-10T00:47:18.291003Z",
          "start_time": "2020-07-10T00:47:18.286016Z"
        },
        "id": "z8-qnKJIZOXm",
        "outputId": "ed4209c4-4a03-4dfb-de0c-7cc0a0f21b2d",
        "colab": {
          "base_uri": "https://localhost:8080/"
        }
      },
      "outputs": [
        {
          "output_type": "stream",
          "name": "stdout",
          "text": [
            "Missing columns: {'total_revenue'}\n"
          ]
        }
      ],
      "source": [
        "# Practical example\n",
        "col_names = set(['qtd_cartoes', 'vlr_cartao','qtd_cheques','vlr_cheques', 'total_revenue'])\n",
        "incoming_col_names = set(['qtd_cartoes', 'vlr_cartao','qtd_cheques','vlr_cheques'])\n",
        "\n",
        "# print(f'Missing columns: {set(col_names) - set(incoming_col_names)}')\n",
        "\n",
        "missing_columns = col_names.difference(incoming_col_names)\n",
        "\n",
        "print(f'Missing columns: {missing_columns}')"
      ]
    },
    {
      "cell_type": "code",
      "execution_count": null,
      "metadata": {
        "id": "2eaZw2JRZOXm"
      },
      "outputs": [],
      "source": [
        "my_dict.values()"
      ]
    },
    {
      "cell_type": "code",
      "execution_count": 256,
      "metadata": {
        "id": "Wjwzj8nKZOXm"
      },
      "outputs": [],
      "source": [
        "a_set = set([1, 2, 3])"
      ]
    },
    {
      "cell_type": "code",
      "source": [
        "a_set"
      ],
      "metadata": {
        "id": "KsvB0COUxt6E",
        "outputId": "ced77e51-e141-4755-f34a-b43579d9341d",
        "colab": {
          "base_uri": "https://localhost:8080/"
        }
      },
      "execution_count": 257,
      "outputs": [
        {
          "output_type": "execute_result",
          "data": {
            "text/plain": [
              "{1, 2, 3}"
            ]
          },
          "metadata": {},
          "execution_count": 257
        }
      ]
    },
    {
      "cell_type": "code",
      "source": [
        "my_dict = {}"
      ],
      "metadata": {
        "id": "dvSDkaTFxusq"
      },
      "execution_count": 258,
      "outputs": []
    },
    {
      "cell_type": "code",
      "source": [
        "my_dict[a_set] = 'Ha!'"
      ],
      "metadata": {
        "id": "YuLOwFpRyIwH",
        "outputId": "bab7a853-172e-4227-a349-90dadd54b8e5",
        "colab": {
          "base_uri": "https://localhost:8080/",
          "height": 187
        }
      },
      "execution_count": 265,
      "outputs": [
        {
          "output_type": "error",
          "ename": "TypeError",
          "evalue": "ignored",
          "traceback": [
            "\u001b[0;31m---------------------------------------------------------------------------\u001b[0m",
            "\u001b[0;31mTypeError\u001b[0m                                 Traceback (most recent call last)",
            "\u001b[0;32m<ipython-input-265-414ebabeb7d6>\u001b[0m in \u001b[0;36m<module>\u001b[0;34m\u001b[0m\n\u001b[0;32m----> 1\u001b[0;31m \u001b[0mmy_dict\u001b[0m\u001b[0;34m[\u001b[0m\u001b[0ma_set\u001b[0m\u001b[0;34m]\u001b[0m \u001b[0;34m=\u001b[0m \u001b[0;34m'Ha!'\u001b[0m\u001b[0;34m\u001b[0m\u001b[0;34m\u001b[0m\u001b[0m\n\u001b[0m",
            "\u001b[0;31mTypeError\u001b[0m: unhashable type: 'set'"
          ]
        }
      ]
    },
    {
      "cell_type": "code",
      "source": [
        "my_dict"
      ],
      "metadata": {
        "id": "ULF7efcxyNkS",
        "outputId": "7edc5f35-8eed-4be0-b792-c203eda4780b",
        "colab": {
          "base_uri": "https://localhost:8080/"
        }
      },
      "execution_count": 266,
      "outputs": [
        {
          "output_type": "execute_result",
          "data": {
            "text/plain": [
              "{(1, 2, 3, 4): 'Ha!'}"
            ]
          },
          "metadata": {},
          "execution_count": 266
        }
      ]
    },
    {
      "cell_type": "code",
      "source": [
        "a_set.add(4)"
      ],
      "metadata": {
        "id": "bdRwHNcdxw4Y"
      },
      "execution_count": 260,
      "outputs": []
    },
    {
      "cell_type": "code",
      "source": [
        "a_set"
      ],
      "metadata": {
        "id": "lcv12N1wxyyk",
        "outputId": "4f119c0f-ac80-4451-e0a0-44f8e1476449",
        "colab": {
          "base_uri": "https://localhost:8080/"
        }
      },
      "execution_count": 261,
      "outputs": [
        {
          "output_type": "execute_result",
          "data": {
            "text/plain": [
              "{1, 2, 3, 4}"
            ]
          },
          "metadata": {},
          "execution_count": 261
        }
      ]
    },
    {
      "cell_type": "code",
      "source": [],
      "metadata": {
        "id": "GJEbFlMgx2nL"
      },
      "execution_count": null,
      "outputs": []
    }
  ],
  "metadata": {
    "kernelspec": {
      "display_name": "Python 3.9.11 ('base')",
      "language": "python",
      "name": "python3"
    },
    "language_info": {
      "codemirror_mode": {
        "name": "ipython",
        "version": 3
      },
      "file_extension": ".py",
      "mimetype": "text/x-python",
      "name": "python",
      "nbconvert_exporter": "python",
      "pygments_lexer": "ipython3",
      "version": "3.9.11"
    },
    "toc": {
      "base_numbering": 1,
      "nav_menu": {},
      "number_sections": true,
      "sideBar": true,
      "skip_h1_title": false,
      "title_cell": "Table of Contents",
      "title_sidebar": "Contents",
      "toc_cell": false,
      "toc_position": {},
      "toc_section_display": true,
      "toc_window_display": false
    },
    "varInspector": {
      "cols": {
        "lenName": 16,
        "lenType": 16,
        "lenVar": 40
      },
      "kernels_config": {
        "python": {
          "delete_cmd_postfix": "",
          "delete_cmd_prefix": "del ",
          "library": "var_list.py",
          "varRefreshCmd": "print(var_dic_list())"
        },
        "r": {
          "delete_cmd_postfix": ") ",
          "delete_cmd_prefix": "rm(",
          "library": "var_list.r",
          "varRefreshCmd": "cat(var_dic_list()) "
        }
      },
      "types_to_exclude": [
        "module",
        "function",
        "builtin_function_or_method",
        "instance",
        "_Feature"
      ],
      "window_display": false
    },
    "vscode": {
      "interpreter": {
        "hash": "014f4a4a5af8f0104b12c029e500f4146d6d785e8cf714d2a35b7a9514230cd3"
      }
    },
    "colab": {
      "provenance": []
    }
  },
  "nbformat": 4,
  "nbformat_minor": 0
}