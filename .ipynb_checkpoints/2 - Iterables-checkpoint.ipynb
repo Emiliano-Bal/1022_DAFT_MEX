{
 "cells": [
  {
   "cell_type": "markdown",
   "metadata": {},
   "source": [
    "# Aula III - Iterables\n",
    "## Python's inherent `data structures`\n",
    "- Lists (recap)\n",
    "- Tuples\n",
    "- Dicts\n",
    "- Sets"
   ]
  },
  {
   "cell_type": "markdown",
   "metadata": {},
   "source": [
    "## Lists\n",
    "- **Ordered sequence** of elements\n",
    "\n",
    "- **Mutable** (lists support index assignment)"
   ]
  },
  {
   "cell_type": "code",
   "execution_count": 16,
   "metadata": {},
   "outputs": [
    {
     "name": "stdout",
     "output_type": "stream",
     "text": [
      "[10, 20, 30]\n"
     ]
    }
   ],
   "source": [
    "list_ex = [10, 20, 30]\n",
    "print(list_ex)"
   ]
  },
  {
   "cell_type": "code",
   "execution_count": 17,
   "metadata": {},
   "outputs": [
    {
     "name": "stdout",
     "output_type": "stream",
     "text": [
      "10\n",
      "20\n",
      "30\n"
     ]
    }
   ],
   "source": [
    "print(list_ex[0])\n",
    "print(list_ex[1])\n",
    "print(list_ex[2])"
   ]
  },
  {
   "cell_type": "markdown",
   "metadata": {},
   "source": [
    "Lists are **mutable** - we can change specific elements in lists directly:"
   ]
  },
  {
   "cell_type": "code",
   "execution_count": 18,
   "metadata": {},
   "outputs": [
    {
     "name": "stdout",
     "output_type": "stream",
     "text": [
      "['Zero', 20, 30]\n",
      "Zero\n",
      "20\n",
      "30\n"
     ]
    }
   ],
   "source": [
    "list_ex[0] = 'Zero'\n",
    "print(list_ex)\n",
    "print(list_ex[0])\n",
    "print(list_ex[1])\n",
    "print(list_ex[2])"
   ]
  },
  {
   "cell_type": "markdown",
   "metadata": {},
   "source": [
    "### Methods\n",
    "We can use the **methods** `.append()` and `.extend()` to include **new elements** in a lista:\n",
    "\n",
    "- `append` adds an element to the end of a list;\n",
    "- `extend` adds elements from another list (or other iterable) to the end of the list."
   ]
  },
  {
   "cell_type": "code",
   "execution_count": 19,
   "metadata": {
    "scrolled": true
   },
   "outputs": [
    {
     "name": "stdout",
     "output_type": "stream",
     "text": [
      "['Zero', 20, 30, 40]\n"
     ]
    }
   ],
   "source": [
    "list_ex.append(40)\n",
    "print(list_ex)"
   ]
  },
  {
   "cell_type": "code",
   "execution_count": 20,
   "metadata": {},
   "outputs": [
    {
     "name": "stdout",
     "output_type": "stream",
     "text": [
      "40\n",
      "50\n",
      "60\n",
      "70\n"
     ]
    }
   ],
   "source": [
    "a = [40,50,60,70]\n",
    "for i in a:\n",
    "    print(i)\n",
    "    list_ex.append(i)"
   ]
  },
  {
   "cell_type": "code",
   "execution_count": 21,
   "metadata": {},
   "outputs": [
    {
     "data": {
      "text/plain": [
       "['Zero', 20, 30, 40, 40, 50, 60, 70]"
      ]
     },
     "execution_count": 21,
     "metadata": {},
     "output_type": "execute_result"
    }
   ],
   "source": [
    "list_ex"
   ]
  },
  {
   "cell_type": "code",
   "execution_count": 23,
   "metadata": {
    "scrolled": true
   },
   "outputs": [
    {
     "name": "stdout",
     "output_type": "stream",
     "text": [
      "['Zero', 20, 30, 40, 40, 50, 60, 70, 50, 60, 60, 50, 60, 60]\n"
     ]
    }
   ],
   "source": [
    "list_ex.extend([50, 60, 60])\n",
    "print(list_ex)"
   ]
  },
  {
   "cell_type": "markdown",
   "metadata": {},
   "source": [
    "The `.extend()` method does not flatten lists!"
   ]
  },
  {
   "cell_type": "code",
   "execution_count": 24,
   "metadata": {},
   "outputs": [
    {
     "name": "stdout",
     "output_type": "stream",
     "text": [
      "['Zero', 20, 30, 40, 40, 50, 60, 70, 50, 60, 60, 50, 60, 60, 70, [80, 90]]\n"
     ]
    }
   ],
   "source": [
    "minha_extensao = [70, [80, 90]]\n",
    "list_ex.extend(minha_extensao)\n",
    "print(list_ex)"
   ]
  },
  {
   "cell_type": "markdown",
   "metadata": {},
   "source": [
    "We can use the `.pop()` and `.remove()` methods to remove elements from lists:\n",
    "\n",
    "* `pop` removes an element at a given index and returns it\n",
    "* `removes` finds the first occurence of an element in the list and removes that occurence."
   ]
  },
  {
   "cell_type": "code",
   "execution_count": 25,
   "metadata": {},
   "outputs": [
    {
     "name": "stdout",
     "output_type": "stream",
     "text": [
      "[80, 90]\n",
      "['Zero', 20, 30, 40, 40, 50, 60, 70, 50, 60, 60, 50, 60, 60, 70]\n"
     ]
    }
   ],
   "source": [
    "ultimo_elemento = list_ex.pop()\n",
    "print(ultimo_elemento)\n",
    "print(list_ex)"
   ]
  },
  {
   "cell_type": "code",
   "execution_count": 26,
   "metadata": {},
   "outputs": [
    {
     "name": "stdout",
     "output_type": "stream",
     "text": [
      "Zero\n",
      "[20, 30, 40, 40, 50, 60, 70, 50, 60, 60, 50, 60, 60, 70]\n"
     ]
    }
   ],
   "source": [
    "primeiro_elemento = list_ex.pop(0)\n",
    "print(primeiro_elemento)\n",
    "print(list_ex)"
   ]
  },
  {
   "cell_type": "code",
   "execution_count": 27,
   "metadata": {},
   "outputs": [
    {
     "name": "stdout",
     "output_type": "stream",
     "text": [
      "[20, 40, 40, 50, 60, 70, 50, 60, 60, 50, 60, 60, 70]\n"
     ]
    }
   ],
   "source": [
    "list_ex.remove(30)\n",
    "print(list_ex)"
   ]
  },
  {
   "cell_type": "code",
   "execution_count": 28,
   "metadata": {},
   "outputs": [
    {
     "name": "stdout",
     "output_type": "stream",
     "text": [
      "[20, 40, 40, 50, 70, 50, 60, 60, 50, 60, 60, 70]\n"
     ]
    }
   ],
   "source": [
    "list_ex.remove(60)\n",
    "print(list_ex)"
   ]
  },
  {
   "cell_type": "markdown",
   "metadata": {},
   "source": [
    "### Slices\n",
    "\n",
    "Besides *integer indexing*, lists support indexing through **slices** through the `[:]` notation, with syntax `[starting_index:ending_index]`\n",
    "\n",
    "* `a_list[start:stop]` -> all the items in `a_list` between `start` and `end-1` indexes;\n",
    "* `a_list[start:]` -> all the items in `a_list` from the `start` index to the end;\n",
    "* `a_list[:stop]` -> all the items in `a_list` from the beggining to the `end` index;\n",
    "* `a_list[:]` -> a copy of the entire list"
   ]
  },
  {
   "cell_type": "code",
   "execution_count": 60,
   "metadata": {},
   "outputs": [
    {
     "name": "stdout",
     "output_type": "stream",
     "text": [
      "[1, 2, 3, 4, 5, 6, 7, 8, 9, 10]\n"
     ]
    }
   ],
   "source": [
    "list_ex = [1,2,3,4,5,6,7,8,9,10]\n",
    "print(list_ex[:])"
   ]
  },
  {
   "cell_type": "code",
   "execution_count": 50,
   "metadata": {},
   "outputs": [
    {
     "name": "stdout",
     "output_type": "stream",
     "text": [
      "[3, 4]\n"
     ]
    }
   ],
   "source": [
    "print(list_ex[2:4])"
   ]
  },
  {
   "cell_type": "code",
   "execution_count": 51,
   "metadata": {},
   "outputs": [
    {
     "name": "stdout",
     "output_type": "stream",
     "text": [
      "[1, 2, 3, 4]\n"
     ]
    }
   ],
   "source": [
    "print(list_ex[:4])"
   ]
  },
  {
   "cell_type": "code",
   "execution_count": 52,
   "metadata": {},
   "outputs": [
    {
     "name": "stdout",
     "output_type": "stream",
     "text": [
      "[2, 3, 4, 5, 6, 7, 8, 9, 10]\n"
     ]
    }
   ],
   "source": [
    "print(list_ex[1:])"
   ]
  },
  {
   "cell_type": "markdown",
   "metadata": {},
   "source": [
    "We can also *count backwards* through negative indexing: the index `[-1]` is the **last element** of the list, `[-2]` the second-to-last, etc..."
   ]
  },
  {
   "cell_type": "code",
   "execution_count": 61,
   "metadata": {},
   "outputs": [
    {
     "data": {
      "text/plain": [
       "[]"
      ]
     },
     "execution_count": 61,
     "metadata": {},
     "output_type": "execute_result"
    }
   ],
   "source": [
    "list_ex[-1:0]"
   ]
  },
  {
   "cell_type": "code",
   "execution_count": 54,
   "metadata": {
    "scrolled": true
   },
   "outputs": [
    {
     "data": {
      "text/plain": [
       "[8, 9]"
      ]
     },
     "execution_count": 54,
     "metadata": {},
     "output_type": "execute_result"
    }
   ],
   "source": [
    "list_ex[-3:-1]"
   ]
  },
  {
   "cell_type": "code",
   "execution_count": null,
   "metadata": {},
   "outputs": [],
   "source": []
  },
  {
   "cell_type": "code",
   "execution_count": null,
   "metadata": {},
   "outputs": [],
   "source": []
  },
  {
   "cell_type": "code",
   "execution_count": null,
   "metadata": {},
   "outputs": [],
   "source": []
  },
  {
   "cell_type": "markdown",
   "metadata": {},
   "source": [
    "### Challenge - unpacking lists"
   ]
  },
  {
   "cell_type": "code",
   "execution_count": null,
   "metadata": {},
   "outputs": [],
   "source": []
  },
  {
   "cell_type": "code",
   "execution_count": 71,
   "metadata": {
    "scrolled": true
   },
   "outputs": [
    {
     "name": "stdout",
     "output_type": "stream",
     "text": [
      "[1, [2, [3, [4]]]]\n"
     ]
    }
   ],
   "source": [
    "list_ex = [1, [2, [3, [4]]]]\n",
    "print(list_ex)"
   ]
  },
  {
   "cell_type": "code",
   "execution_count": 72,
   "metadata": {},
   "outputs": [
    {
     "name": "stdout",
     "output_type": "stream",
     "text": [
      "[4, 3, 2, 1]\n"
     ]
    },
    {
     "data": {
      "text/plain": [
       "[1, 2, 3, 4]"
      ]
     },
     "execution_count": 72,
     "metadata": {},
     "output_type": "execute_result"
    }
   ],
   "source": [
    "a = []\n",
    "while len(list_ex) > 0:\n",
    "    i = list_ex.pop()\n",
    "    if type(i) == list:\n",
    "        list_ex.extend(i)\n",
    "    else:\n",
    "        a.append(i)\n",
    "\n",
    "print(a)\n",
    "a[::-1]\n",
    "\n"
   ]
  },
  {
   "cell_type": "markdown",
   "metadata": {},
   "source": [
    "## Tuples\n",
    "- **Ordered sequence** of elements\n",
    "\n",
    "- **Imutable**, do not suppport index item assignment\n",
    "### Criando uma tupla"
   ]
  },
  {
   "cell_type": "code",
   "execution_count": 73,
   "metadata": {
    "ExecuteTime": {
     "end_time": "2020-07-09T22:45:47.947147Z",
     "start_time": "2020-07-09T22:45:47.939168Z"
    }
   },
   "outputs": [
    {
     "data": {
      "text/plain": [
       "tuple"
      ]
     },
     "execution_count": 73,
     "metadata": {},
     "output_type": "execute_result"
    }
   ],
   "source": [
    "tupla = (10,)\n",
    "type(tupla)"
   ]
  },
  {
   "cell_type": "code",
   "execution_count": 74,
   "metadata": {},
   "outputs": [
    {
     "name": "stdout",
     "output_type": "stream",
     "text": [
      "(10, 20, 30)\n"
     ]
    }
   ],
   "source": [
    "tuple_ex = (10, 20, 30)\n",
    "print(tuple_ex)"
   ]
  },
  {
   "cell_type": "markdown",
   "metadata": {},
   "source": [
    "We can use multiple assignment to unpack a tuple (and a list!):"
   ]
  },
  {
   "cell_type": "code",
   "execution_count": 75,
   "metadata": {},
   "outputs": [
    {
     "name": "stdout",
     "output_type": "stream",
     "text": [
      "10\n",
      "20\n",
      "30\n"
     ]
    }
   ],
   "source": [
    "a, b, c = tuple_ex\n",
    "print(a)\n",
    "print(b)\n",
    "print(c)"
   ]
  },
  {
   "cell_type": "markdown",
   "metadata": {},
   "source": [
    "We can convert lists into uples and vice-versa through the `list()` and `tuple()` functions:"
   ]
  },
  {
   "cell_type": "code",
   "execution_count": 77,
   "metadata": {
    "ExecuteTime": {
     "end_time": "2020-07-09T22:53:37.037379Z",
     "start_time": "2020-07-09T22:53:37.033390Z"
    }
   },
   "outputs": [
    {
     "name": "stdout",
     "output_type": "stream",
     "text": [
      "[10, 20, 30]\n",
      "(10, 20, 30)\n",
      "<class 'tuple'>\n"
     ]
    }
   ],
   "source": [
    "my_list = [10, 20, 30]\n",
    "my_tuple = tuple(my_list)\n",
    "print(my_list)\n",
    "print(my_tuple)\n",
    "print(type(my_tuple))"
   ]
  },
  {
   "cell_type": "code",
   "execution_count": 78,
   "metadata": {},
   "outputs": [
    {
     "name": "stdout",
     "output_type": "stream",
     "text": [
      "<class 'tuple'>\n"
     ]
    }
   ],
   "source": [
    "tuple_ex = tuple([10, 20, 30])\n",
    "print(type(tuple_ex))"
   ]
  },
  {
   "cell_type": "code",
   "execution_count": 80,
   "metadata": {},
   "outputs": [
    {
     "name": "stdout",
     "output_type": "stream",
     "text": [
      "<class 'tuple'>\n"
     ]
    }
   ],
   "source": [
    "a = ('a', 3, [1,2,3])\n",
    "print(type(a))"
   ]
  },
  {
   "cell_type": "markdown",
   "metadata": {},
   "source": [
    "We can iterate through tuples with `for` loops:"
   ]
  },
  {
   "cell_type": "code",
   "execution_count": 81,
   "metadata": {},
   "outputs": [
    {
     "name": "stdout",
     "output_type": "stream",
     "text": [
      "0\n",
      "1\n",
      "2\n",
      "3\n",
      "4\n",
      "5\n"
     ]
    }
   ],
   "source": [
    "minha_tupla = (0, 1, 2, 3, 4, 5)\n",
    "for i in minha_tupla:\n",
    "    print(i)"
   ]
  },
  {
   "cell_type": "markdown",
   "metadata": {},
   "source": [
    "## Tuple methods\n",
    "\n",
    "- `.count()`: counts the number of times a given value occurs in a tuple;\n",
    "- `.index()`: returns the first index of a given element in a tuple."
   ]
  },
  {
   "cell_type": "code",
   "execution_count": 99,
   "metadata": {
    "ExecuteTime": {
     "end_time": "2020-07-09T23:32:03.570210Z",
     "start_time": "2020-07-09T23:32:03.566220Z"
    }
   },
   "outputs": [
    {
     "data": {
      "text/plain": [
       "2"
      ]
     },
     "execution_count": 99,
     "metadata": {},
     "output_type": "execute_result"
    }
   ],
   "source": [
    "y = (1, 3, 7, 4, 6, 3, 8, 8, 'Pedro')\n",
    "y.count(8)"
   ]
  },
  {
   "cell_type": "code",
   "execution_count": 100,
   "metadata": {
    "scrolled": true
   },
   "outputs": [
    {
     "data": {
      "text/plain": [
       "6"
      ]
     },
     "execution_count": 100,
     "metadata": {},
     "output_type": "execute_result"
    }
   ],
   "source": [
    "y.index(8)"
   ]
  },
  {
   "cell_type": "code",
   "execution_count": 102,
   "metadata": {},
   "outputs": [
    {
     "name": "stdout",
     "output_type": "stream",
     "text": [
      "1\n",
      "3\n",
      "7\n",
      "4\n",
      "6\n",
      "3\n",
      "8\n",
      "8\n",
      "Pedro\n"
     ]
    }
   ],
   "source": [
    "x = -1\n",
    "for x in y:\n",
    "    if y.count(x) <= 0:\n",
    "        print(f'{x} is not in {y}')\n",
    "    else:\n",
    "        print(x)"
   ]
  },
  {
   "cell_type": "markdown",
   "metadata": {},
   "source": [
    "(These methods also exist in lists):"
   ]
  },
  {
   "cell_type": "code",
   "execution_count": 103,
   "metadata": {},
   "outputs": [],
   "source": [
    "y_list = list(y)"
   ]
  },
  {
   "cell_type": "code",
   "execution_count": 104,
   "metadata": {},
   "outputs": [
    {
     "data": {
      "text/plain": [
       "2"
      ]
     },
     "execution_count": 104,
     "metadata": {},
     "output_type": "execute_result"
    }
   ],
   "source": [
    "y_list.count(8)"
   ]
  },
  {
   "cell_type": "code",
   "execution_count": 105,
   "metadata": {},
   "outputs": [
    {
     "data": {
      "text/plain": [
       "6"
      ]
     },
     "execution_count": 105,
     "metadata": {},
     "output_type": "execute_result"
    }
   ],
   "source": [
    "y_list.index(8)"
   ]
  },
  {
   "cell_type": "markdown",
   "metadata": {},
   "source": [
    "## Native functions - `sorted()`, `range()` e `len()`\n",
    "\n",
    "- `sorted()`: Order a tuple (or any **iterable**);\n",
    "- `range()`: creates an iterable from two integers."
   ]
  },
  {
   "cell_type": "code",
   "execution_count": 106,
   "metadata": {},
   "outputs": [],
   "source": [
    "y = (1, 3, 7, 4, 6, 3, 8, 8)"
   ]
  },
  {
   "cell_type": "code",
   "execution_count": 107,
   "metadata": {},
   "outputs": [
    {
     "name": "stdout",
     "output_type": "stream",
     "text": [
      "[8, 8, 7, 6, 4, 3, 3, 1]\n"
     ]
    }
   ],
   "source": [
    "print(sorted(y, reverse=True))"
   ]
  },
  {
   "cell_type": "markdown",
   "metadata": {},
   "source": [
    "The `sorted()` function does not change the original tuple - if we want to store the sorted values we must do so explictly through *variable assignment*:"
   ]
  },
  {
   "cell_type": "code",
   "execution_count": 108,
   "metadata": {},
   "outputs": [
    {
     "data": {
      "text/plain": [
       "(1, 3, 7, 4, 6, 3, 8, 8)"
      ]
     },
     "execution_count": 108,
     "metadata": {},
     "output_type": "execute_result"
    }
   ],
   "source": [
    "y"
   ]
  },
  {
   "cell_type": "code",
   "execution_count": 115,
   "metadata": {},
   "outputs": [
    {
     "name": "stdout",
     "output_type": "stream",
     "text": [
      "range(0, 10)\n"
     ]
    }
   ],
   "source": [
    "my_range = range(10)\n",
    "print(my_range)"
   ]
  },
  {
   "cell_type": "markdown",
   "metadata": {},
   "source": [
    "The range functions create a **lazy** iterable: to see all it's values we must convert it to a list or loop through it with a for:"
   ]
  },
  {
   "cell_type": "code",
   "execution_count": 116,
   "metadata": {},
   "outputs": [
    {
     "name": "stdout",
     "output_type": "stream",
     "text": [
      "0\n",
      "1\n",
      "2\n",
      "3\n",
      "4\n",
      "5\n",
      "6\n",
      "7\n",
      "8\n",
      "9\n"
     ]
    }
   ],
   "source": [
    "for i in range(10):\n",
    "    print(i)"
   ]
  },
  {
   "cell_type": "code",
   "execution_count": 123,
   "metadata": {},
   "outputs": [
    {
     "name": "stdout",
     "output_type": "stream",
     "text": [
      "[0, 2, 4, 6, 8, 10, 12, 14, 16, 18, 20]\n"
     ]
    }
   ],
   "source": [
    "a = list(range(0,21,2))\n",
    "print(a)"
   ]
  },
  {
   "cell_type": "code",
   "execution_count": 117,
   "metadata": {},
   "outputs": [
    {
     "data": {
      "text/plain": [
       "[0, 1, 2, 3, 4, 5, 6, 7, 8, 9]"
      ]
     },
     "execution_count": 117,
     "metadata": {},
     "output_type": "execute_result"
    }
   ],
   "source": [
    "list(my_range)"
   ]
  },
  {
   "cell_type": "markdown",
   "metadata": {},
   "source": [
    "The `len()` function returns the number of elements in an **iterable**:"
   ]
  },
  {
   "cell_type": "code",
   "execution_count": 118,
   "metadata": {},
   "outputs": [
    {
     "data": {
      "text/plain": [
       "3"
      ]
     },
     "execution_count": 118,
     "metadata": {},
     "output_type": "execute_result"
    }
   ],
   "source": [
    "len([1, 2, 3])"
   ]
  },
  {
   "cell_type": "code",
   "execution_count": 124,
   "metadata": {
    "scrolled": true
   },
   "outputs": [
    {
     "data": {
      "text/plain": [
       "11"
      ]
     },
     "execution_count": 124,
     "metadata": {},
     "output_type": "execute_result"
    }
   ],
   "source": [
    "len(a)"
   ]
  },
  {
   "cell_type": "markdown",
   "metadata": {},
   "source": [
    "# Dictionaries\n",
    "## What is a dictionary?\n",
    "\n",
    "In the real world, a book containing unique **words** and the different **meanings** of each word. In Python `dicts` are a collection of `key : value` pairs:\n",
    "\n",
    "`keys`: are the **unique** words;\n",
    "\n",
    "`values`: the meanings.\n",
    "\n",
    "## Creating a Dictionary\n",
    "\n",
    "- Syntax `{key1: value1, key2 : value2}`"
   ]
  },
  {
   "cell_type": "code",
   "execution_count": 125,
   "metadata": {},
   "outputs": [],
   "source": [
    "my_dict={}"
   ]
  },
  {
   "cell_type": "code",
   "execution_count": 126,
   "metadata": {},
   "outputs": [],
   "source": [
    "my_dict=dict()"
   ]
  },
  {
   "cell_type": "code",
   "execution_count": 127,
   "metadata": {},
   "outputs": [
    {
     "data": {
      "text/plain": [
       "dict"
      ]
     },
     "execution_count": 127,
     "metadata": {},
     "output_type": "execute_result"
    }
   ],
   "source": [
    "type(my_dict)"
   ]
  },
  {
   "cell_type": "code",
   "execution_count": 138,
   "metadata": {
    "ExecuteTime": {
     "end_time": "2020-07-10T00:09:37.869696Z",
     "start_time": "2020-07-10T00:09:37.865676Z"
    }
   },
   "outputs": [
    {
     "name": "stdout",
     "output_type": "stream",
     "text": [
      "{'Beans': 10, 'Rice': 8, 'Bananas': 1}\n"
     ]
    }
   ],
   "source": [
    "my_dict = {\n",
    "            'Beans': 10,\n",
    "            'Rice': 8,\n",
    "            'Bananas': 1\n",
    "          }\n",
    "print(my_dict)"
   ]
  },
  {
   "cell_type": "markdown",
   "metadata": {},
   "source": [
    "We can add new elements to a `dict` using **index notation**:"
   ]
  },
  {
   "cell_type": "code",
   "execution_count": 139,
   "metadata": {},
   "outputs": [
    {
     "name": "stdout",
     "output_type": "stream",
     "text": [
      "{'Beans': 10, 'Rice': 8, 'Bananas': 1, 'Soybeans': 19}\n"
     ]
    }
   ],
   "source": [
    "my_dict['Soybeans'] = 19\n",
    "print(my_dict)"
   ]
  },
  {
   "cell_type": "markdown",
   "metadata": {},
   "source": [
    "Each `key` in a `dict` **MUST BE UNIQUE**! If we try to create duplicate keys, the `dict` will simply **update** that `key`'s value:"
   ]
  },
  {
   "cell_type": "code",
   "execution_count": 140,
   "metadata": {},
   "outputs": [
    {
     "name": "stdout",
     "output_type": "stream",
     "text": [
      "{'Soybeans': 9}\n"
     ]
    }
   ],
   "source": [
    "my_dict = {\n",
    "            'Soybeans': 10,\n",
    "            'Soybeans': 8,\n",
    "            'Soybeans': 1\n",
    "          }\n",
    "my_dict['Soybeans'] = 9\n",
    "print(my_dict)"
   ]
  },
  {
   "cell_type": "markdown",
   "metadata": {},
   "source": [
    "We can use this explictly to change the `values` in a `dict`:"
   ]
  },
  {
   "cell_type": "code",
   "execution_count": 143,
   "metadata": {},
   "outputs": [
    {
     "data": {
      "text/plain": [
       "{'Soybeans': 10, 'Beans': 8, 'Rice': 1}"
      ]
     },
     "execution_count": 143,
     "metadata": {},
     "output_type": "execute_result"
    }
   ],
   "source": [
    "my_dict = {\n",
    "            'Soybeans': 10,\n",
    "            'Beans': 8,\n",
    "            'Rice': 1\n",
    "          }\n",
    "my_dict"
   ]
  },
  {
   "cell_type": "code",
   "execution_count": 144,
   "metadata": {},
   "outputs": [
    {
     "name": "stdout",
     "output_type": "stream",
     "text": [
      "{'Soybeans': 15, 'Beans': 8, 'Rice': 1}\n"
     ]
    }
   ],
   "source": [
    "my_dict['Soybeans'] = 15\n",
    "print(my_dict)"
   ]
  },
  {
   "cell_type": "markdown",
   "metadata": {},
   "source": [
    "Podemos guardar los valores en variables "
   ]
  },
  {
   "cell_type": "code",
   "execution_count": 152,
   "metadata": {
    "ExecuteTime": {
     "end_time": "2020-07-10T00:10:26.565681Z",
     "start_time": "2020-07-10T00:10:26.560695Z"
    }
   },
   "outputs": [
    {
     "name": "stdout",
     "output_type": "stream",
     "text": [
      "The price for 10 kg is $150 \n"
     ]
    }
   ],
   "source": [
    "preco_10kg_gb = my_dict['Soybeans']*10\n",
    "print(f'The price for 10 kg is ${preco_10kg_gb} ')"
   ]
  },
  {
   "cell_type": "markdown",
   "metadata": {},
   "source": [
    "## Dictionary methods\n",
    "\n",
    "Although a `dict` is not directly **iterable** - we can't loop through it - we can use it's methods to loop through 3 different iterables composing the `dict`\n",
    "\n",
    "- `.values()` is a list of the different `values` in the `dict`;\n",
    "\n",
    "- `.keys()` is a list of the different `keys` in the `dict`;\n",
    "\n",
    "- `.items()` is a list of the different `(key, value)` pair (represented as tuples)."
   ]
  },
  {
   "cell_type": "code",
   "execution_count": 153,
   "metadata": {},
   "outputs": [
    {
     "data": {
      "text/plain": [
       "dict_values([15, 8, 1])"
      ]
     },
     "execution_count": 153,
     "metadata": {},
     "output_type": "execute_result"
    }
   ],
   "source": [
    "my_dict.values()"
   ]
  },
  {
   "cell_type": "code",
   "execution_count": 154,
   "metadata": {},
   "outputs": [
    {
     "data": {
      "text/plain": [
       "dict_keys(['Soybeans', 'Beans', 'Rice'])"
      ]
     },
     "execution_count": 154,
     "metadata": {},
     "output_type": "execute_result"
    }
   ],
   "source": [
    "my_dict.keys()"
   ]
  },
  {
   "cell_type": "code",
   "execution_count": 155,
   "metadata": {},
   "outputs": [
    {
     "data": {
      "text/plain": [
       "dict_items([('Soybeans', 15), ('Beans', 8), ('Rice', 1)])"
      ]
     },
     "execution_count": 155,
     "metadata": {},
     "output_type": "execute_result"
    }
   ],
   "source": [
    "my_dict.items()"
   ]
  },
  {
   "cell_type": "markdown",
   "metadata": {},
   "source": [
    "## Adding items to the dictionary\n",
    "\n",
    "We can **add** a `key` to a `dict` using **index notation** (`[key_name]`):"
   ]
  },
  {
   "cell_type": "code",
   "execution_count": 156,
   "metadata": {},
   "outputs": [],
   "source": [
    "my_dict['Chickpeas'] = 9"
   ]
  },
  {
   "cell_type": "code",
   "execution_count": 157,
   "metadata": {},
   "outputs": [
    {
     "data": {
      "text/plain": [
       "dict_keys(['Soybeans', 'Beans', 'Rice', 'Chickpeas'])"
      ]
     },
     "execution_count": 157,
     "metadata": {},
     "output_type": "execute_result"
    }
   ],
   "source": [
    "my_dict.keys()"
   ]
  },
  {
   "cell_type": "code",
   "execution_count": 158,
   "metadata": {},
   "outputs": [
    {
     "data": {
      "text/plain": [
       "{'Soybeans': 15, 'Beans': 8, 'Rice': 1, 'Chickpeas': 9}"
      ]
     },
     "execution_count": 158,
     "metadata": {},
     "output_type": "execute_result"
    }
   ],
   "source": [
    "my_dict"
   ]
  },
  {
   "cell_type": "markdown",
   "metadata": {},
   "source": [
    "We can also use the `.update()` method to update the values and add keys to a `dict` from a different `dict"
   ]
  },
  {
   "cell_type": "code",
   "execution_count": 159,
   "metadata": {},
   "outputs": [
    {
     "name": "stdout",
     "output_type": "stream",
     "text": [
      "{'Chickpeas': 5, 'Whole-grain Rice': 8.5}\n"
     ]
    }
   ],
   "source": [
    "new_dict = dict()\n",
    "new_dict['Chickpeas'] = 5\n",
    "new_dict['Whole-grain Rice'] = 8.5\n",
    "print(new_dict)"
   ]
  },
  {
   "cell_type": "code",
   "execution_count": 160,
   "metadata": {},
   "outputs": [
    {
     "name": "stdout",
     "output_type": "stream",
     "text": [
      "{'Soybeans': 15, 'Beans': 8, 'Rice': 1, 'Chickpeas': 5, 'Whole-grain Rice': 8.5}\n"
     ]
    }
   ],
   "source": [
    "my_dict.update(new_dict)\n",
    "print(my_dict)"
   ]
  },
  {
   "cell_type": "code",
   "execution_count": 161,
   "metadata": {},
   "outputs": [
    {
     "name": "stdout",
     "output_type": "stream",
     "text": [
      "{'Soybeans': 15, 'Beans': 8, 'Rice': 1, 'Chickpeas': 5, 'Whole-grain Rice': 8.5}\n"
     ]
    }
   ],
   "source": [
    "print(my_dict)"
   ]
  },
  {
   "cell_type": "markdown",
   "metadata": {},
   "source": [
    "We can also use different iterables to add/update values in a dictionary:"
   ]
  },
  {
   "cell_type": "code",
   "execution_count": 162,
   "metadata": {},
   "outputs": [],
   "source": [
    "keys = ['White Beans', 'Syrian Chickpeas', 'White Beans']\n",
    "values = [9.50, 13, 8.50]"
   ]
  },
  {
   "cell_type": "code",
   "execution_count": 163,
   "metadata": {},
   "outputs": [
    {
     "name": "stdout",
     "output_type": "stream",
     "text": [
      "White Beans 9.5\n",
      "Syrian Chickpeas 13\n",
      "White Beans 8.5\n"
     ]
    }
   ],
   "source": [
    "for i in range(len(keys)):\n",
    "    print(keys[i], values[i])\n",
    "    my_dict[keys[i]] = values[i]"
   ]
  },
  {
   "cell_type": "code",
   "execution_count": 164,
   "metadata": {},
   "outputs": [
    {
     "name": "stdout",
     "output_type": "stream",
     "text": [
      "{'Soybeans': 15, 'Beans': 8, 'Rice': 1, 'Chickpeas': 5, 'Whole-grain Rice': 8.5, 'White Beans': 8.5, 'Syrian Chickpeas': 13}\n"
     ]
    }
   ],
   "source": [
    "print(my_dict)"
   ]
  },
  {
   "cell_type": "markdown",
   "metadata": {},
   "source": [
    "We can also use multiple assignment in a `for` loop to add/update `key : value` pairs from an uple to a dict:"
   ]
  },
  {
   "cell_type": "code",
   "execution_count": 166,
   "metadata": {},
   "outputs": [],
   "source": [
    "new_prices = [('Lentilha Verde', 9), ('Abobrinha', 3), ('Beringela', 8)]"
   ]
  },
  {
   "cell_type": "code",
   "execution_count": 167,
   "metadata": {},
   "outputs": [
    {
     "name": "stdout",
     "output_type": "stream",
     "text": [
      "{'Soybeans': 15, 'Beans': 8, 'Rice': 1, 'Chickpeas': 5, 'Whole-grain Rice': 8.5, 'White Beans': 8.5, 'Syrian Chickpeas': 13, 'Lentilha Verde': 9, 'Abobrinha': 3, 'Beringela': 8}\n"
     ]
    }
   ],
   "source": [
    "for product, price in new_prices:\n",
    "    my_dict[product] = price\n",
    "print(my_dict)"
   ]
  },
  {
   "cell_type": "markdown",
   "metadata": {},
   "source": [
    "## Values can be anything! \n"
   ]
  },
  {
   "cell_type": "code",
   "execution_count": 168,
   "metadata": {},
   "outputs": [
    {
     "name": "stdout",
     "output_type": "stream",
     "text": [
      "{'id': 1, 'size': 80, 'lot_size': (20, 30), 'address': {'street': 'Al. das Maritacas', 'number': 1637, 'neigh': 'Cidade Jardim', 'zip': 39272440}}\n"
     ]
    }
   ],
   "source": [
    "casa = dict()\n",
    "casa['id'] = 1\n",
    "casa['size'] = 80\n",
    "casa['lot_size'] = (20, 30)\n",
    "casa['address'] = dict()\n",
    "casa['address']['street'] = 'Al. das Maritacas'\n",
    "casa['address']['number'] = 1637\n",
    "casa['address']['neigh'] = 'Cidade Jardim'\n",
    "casa['address']['zip'] = 39272440\n",
    "print(casa)"
   ]
  },
  {
   "cell_type": "code",
   "execution_count": 169,
   "metadata": {},
   "outputs": [
    {
     "name": "stdout",
     "output_type": "stream",
     "text": [
      "<class 'dict'>\n",
      "<class 'tuple'>\n",
      "<class 'dict'>\n"
     ]
    }
   ],
   "source": [
    "print(type(casa))\n",
    "print(type(casa['lot_size']))\n",
    "print(type(casa['address']))"
   ]
  },
  {
   "cell_type": "code",
   "execution_count": 172,
   "metadata": {
    "scrolled": true
   },
   "outputs": [
    {
     "name": "stdout",
     "output_type": "stream",
     "text": [
      "Al. das Maritacas\n"
     ]
    }
   ],
   "source": [
    "print(casa['address']['street'])"
   ]
  },
  {
   "cell_type": "markdown",
   "metadata": {},
   "source": [
    "## Real world example\n",
    "\n",
    "Dictionaries are often used to represent complex data in real-world applications. Let's see how they show up when we use an **API** to find weather data for specific cities!"
   ]
  },
  {
   "cell_type": "code",
   "execution_count": 173,
   "metadata": {},
   "outputs": [],
   "source": [
    "import requests\n",
    "TOKEN = 'c0c9147ec699d5205de0cbb2f5ad611c9aae0b41edeaf6092728677d06356836'\n",
    "url = \"https://api.ambeedata.com/weather/latest/by-lat-lng\"\n",
    "headers = {\n",
    "    'x-api-key': TOKEN,\n",
    "    'Content-type': \"application/json\"\n",
    "    }\n"
   ]
  },
  {
   "cell_type": "code",
   "execution_count": 174,
   "metadata": {},
   "outputs": [],
   "source": [
    "querystring = {\"lat\":\"19\",\"lng\":\"-99\"}\n",
    "response = requests.request(\"GET\", url, headers=headers, params=querystring)\n",
    "ql_ar_mx = response.json()"
   ]
  },
  {
   "cell_type": "code",
   "execution_count": 175,
   "metadata": {},
   "outputs": [],
   "source": [
    "querystring = {\"lat\":\"-21\",\"lng\":\"-47\"}\n",
    "response = requests.request(\"GET\", url, headers=headers, params=querystring)\n",
    "ql_ar_pira = response.json()"
   ]
  },
  {
   "cell_type": "code",
   "execution_count": 176,
   "metadata": {},
   "outputs": [
    {
     "name": "stdout",
     "output_type": "stream",
     "text": [
      "{'message': 'success', 'data': {'time': 1666106772, 'lat': 19, 'lng': -99, 'summary': 'Overcast', 'icon': 'cloudy', 'temperature': 60.85, 'apparentTemperature': 62.68, 'dewPoint': 60.85, 'humidity': 1, 'pressure': 1018.3, 'windSpeed': 1.88, 'windGust': 3.87, 'windBearing': 88, 'cloudCover': 0.97, 'uvIndex': 4, 'precipIntensity': 0.0056, 'precipProbability': 0.11, 'precipType': 'rain', 'visibility': 10, 'ozone': 251.7}}\n"
     ]
    }
   ],
   "source": [
    "print(ql_ar_mx)"
   ]
  },
  {
   "cell_type": "code",
   "execution_count": 177,
   "metadata": {
    "scrolled": true
   },
   "outputs": [
    {
     "name": "stdout",
     "output_type": "stream",
     "text": [
      "{'message': 'success', 'data': {'time': 1666106773, 'lat': -21, 'lng': -47, 'summary': 'Partly Cloudy', 'icon': 'partly-cloudy-day', 'temperature': 84.45, 'apparentTemperature': 84.45, 'dewPoint': 54.29, 'humidity': 0.36, 'pressure': 1016.2, 'windSpeed': 9.42, 'windGust': 9.42, 'windBearing': 35, 'cloudCover': 0.5, 'uvIndex': 9, 'precipIntensity': 0, 'precipProbability': 0, 'visibility': 10, 'ozone': 278.4}}\n"
     ]
    }
   ],
   "source": [
    "print(ql_ar_pira)"
   ]
  },
  {
   "cell_type": "code",
   "execution_count": 180,
   "metadata": {},
   "outputs": [
    {
     "data": {
      "text/plain": [
       "84.45"
      ]
     },
     "execution_count": 180,
     "metadata": {},
     "output_type": "execute_result"
    }
   ],
   "source": [
    "ql_ar_pira['data']['temperature']"
   ]
  },
  {
   "cell_type": "markdown",
   "metadata": {},
   "source": [
    "## Iterating over a dictionary"
   ]
  },
  {
   "cell_type": "code",
   "execution_count": 181,
   "metadata": {
    "ExecuteTime": {
     "end_time": "2020-07-10T00:32:18.522307Z",
     "start_time": "2020-07-10T00:32:18.518319Z"
    }
   },
   "outputs": [
    {
     "name": "stdout",
     "output_type": "stream",
     "text": [
      "id: 1\n",
      "size: 80\n",
      "lot_size: (20, 30)\n",
      "address: {'street': 'Al. das Maritacas', 'number': 1637, 'neigh': 'Cidade Jardim', 'zip': 39272440}\n"
     ]
    }
   ],
   "source": [
    "for chave in casa.keys():\n",
    "    print(f'{chave}: {casa[chave]}')"
   ]
  },
  {
   "cell_type": "code",
   "execution_count": 182,
   "metadata": {},
   "outputs": [
    {
     "name": "stdout",
     "output_type": "stream",
     "text": [
      "('id', 1)\n",
      "('size', 80)\n",
      "('lot_size', (20, 30))\n",
      "('address', {'street': 'Al. das Maritacas', 'number': 1637, 'neigh': 'Cidade Jardim', 'zip': 39272440})\n"
     ]
    }
   ],
   "source": [
    "for atributo in casa.items():\n",
    "    print(atributo)"
   ]
  },
  {
   "cell_type": "code",
   "execution_count": 183,
   "metadata": {},
   "outputs": [
    {
     "name": "stdout",
     "output_type": "stream",
     "text": [
      "1\n",
      "80\n",
      "(20, 30)\n",
      "{'street': 'Al. das Maritacas', 'number': 1637, 'neigh': 'Cidade Jardim', 'zip': 39272440}\n"
     ]
    }
   ],
   "source": [
    "for valor in casa.values():\n",
    "    print(valor)"
   ]
  },
  {
   "cell_type": "markdown",
   "metadata": {},
   "source": [
    "## Iterating over items"
   ]
  },
  {
   "cell_type": "code",
   "execution_count": 184,
   "metadata": {},
   "outputs": [],
   "source": [
    "my_dict = {\n",
    "            'Chickpeas': 10,\n",
    "            'Beans': 8,\n",
    "            'Rice': 1\n",
    "          }"
   ]
  },
  {
   "cell_type": "code",
   "execution_count": 185,
   "metadata": {},
   "outputs": [
    {
     "name": "stdout",
     "output_type": "stream",
     "text": [
      "dict_items([('Chickpeas', 10), ('Beans', 8), ('Rice', 1)])\n"
     ]
    }
   ],
   "source": [
    "print(my_dict.items())"
   ]
  },
  {
   "cell_type": "code",
   "execution_count": 186,
   "metadata": {},
   "outputs": [
    {
     "name": "stdout",
     "output_type": "stream",
     "text": [
      "10\n",
      "8\n"
     ]
    }
   ],
   "source": [
    "for grao, preco in my_dict.items():\n",
    "    if grao == 'Beans' or grao == 'Chickpeas':\n",
    "        print(preco)"
   ]
  },
  {
   "cell_type": "markdown",
   "metadata": {},
   "source": [
    "## The `in` operator"
   ]
  },
  {
   "cell_type": "code",
   "execution_count": 187,
   "metadata": {
    "ExecuteTime": {
     "end_time": "2020-07-10T00:35:27.646645Z",
     "start_time": "2020-07-10T00:35:27.642656Z"
    }
   },
   "outputs": [
    {
     "data": {
      "text/plain": [
       "True"
      ]
     },
     "execution_count": 187,
     "metadata": {},
     "output_type": "execute_result"
    }
   ],
   "source": [
    "1 in [1, 2, 3]"
   ]
  },
  {
   "cell_type": "code",
   "execution_count": 188,
   "metadata": {},
   "outputs": [
    {
     "data": {
      "text/plain": [
       "True"
      ]
     },
     "execution_count": 188,
     "metadata": {},
     "output_type": "execute_result"
    }
   ],
   "source": [
    "8 in my_dict.values()"
   ]
  },
  {
   "cell_type": "markdown",
   "metadata": {},
   "source": [
    "This operator works in any iterable!"
   ]
  },
  {
   "cell_type": "code",
   "execution_count": 189,
   "metadata": {},
   "outputs": [
    {
     "data": {
      "text/plain": [
       "False"
      ]
     },
     "execution_count": 189,
     "metadata": {},
     "output_type": "execute_result"
    }
   ],
   "source": [
    "'abcd' in 'abc'"
   ]
  },
  {
   "cell_type": "code",
   "execution_count": 190,
   "metadata": {},
   "outputs": [
    {
     "data": {
      "text/plain": [
       "True"
      ]
     },
     "execution_count": 190,
     "metadata": {},
     "output_type": "execute_result"
    }
   ],
   "source": [
    "'abc' in 'abcd'"
   ]
  },
  {
   "cell_type": "code",
   "execution_count": 191,
   "metadata": {
    "ExecuteTime": {
     "end_time": "2020-07-10T00:35:58.854050Z",
     "start_time": "2020-07-10T00:35:58.851057Z"
    }
   },
   "outputs": [
    {
     "data": {
      "text/plain": [
       "True"
      ]
     },
     "execution_count": 191,
     "metadata": {},
     "output_type": "execute_result"
    }
   ],
   "source": [
    "1 in (1, 2, 3)"
   ]
  },
  {
   "cell_type": "markdown",
   "metadata": {},
   "source": [
    "# `sets`\n",
    "\n",
    "Sets are collections of **unique elements** - a `dict`'s keys is a `set`!"
   ]
  },
  {
   "cell_type": "code",
   "execution_count": 192,
   "metadata": {},
   "outputs": [],
   "source": [
    "my_list = ['Pedro', 'Adriano', 'Pedro', 'Adriano', 'Pedro', 'Adriano']"
   ]
  },
  {
   "cell_type": "code",
   "execution_count": 193,
   "metadata": {},
   "outputs": [
    {
     "data": {
      "text/plain": [
       "['Pedro', 'Adriano', 'Pedro', 'Adriano', 'Pedro', 'Adriano']"
      ]
     },
     "execution_count": 193,
     "metadata": {},
     "output_type": "execute_result"
    }
   ],
   "source": [
    "my_list"
   ]
  },
  {
   "cell_type": "code",
   "execution_count": 194,
   "metadata": {},
   "outputs": [
    {
     "data": {
      "text/plain": [
       "{'Adriano', 'Pedro'}"
      ]
     },
     "execution_count": 194,
     "metadata": {},
     "output_type": "execute_result"
    }
   ],
   "source": [
    "set(my_list)"
   ]
  },
  {
   "cell_type": "markdown",
   "metadata": {},
   "source": [
    "We can use set conversion to find out how many unique elements an iterable has:"
   ]
  },
  {
   "cell_type": "code",
   "execution_count": 195,
   "metadata": {
    "ExecuteTime": {
     "end_time": "2020-07-10T00:41:55.690528Z",
     "start_time": "2020-07-10T00:41:55.686511Z"
    }
   },
   "outputs": [
    {
     "name": "stdout",
     "output_type": "stream",
     "text": [
      "Size of the list: 15, size of the set: 8\n"
     ]
    }
   ],
   "source": [
    "list_x = [1,2,3,4,4,4,4,4,5,6,6,6,7,7,8]\n",
    "set_x = set(list_x)\n",
    "print(f'Size of the list: {len(list_x)}, size of the set: {len(set_x)}')"
   ]
  },
  {
   "cell_type": "markdown",
   "metadata": {},
   "source": [
    "## `set` methods\n",
    "\n",
    "- `A.intersection(B)` common elements between sets A & B;\n",
    "- `A.difference(B)` elements in A not in B;\n",
    "- `A.union(B)` the set of all elements in A or in B.\n"
   ]
  },
  {
   "cell_type": "code",
   "execution_count": 196,
   "metadata": {},
   "outputs": [],
   "source": [
    "x = {1, 2, 3, 4, 5, 6, 7, 8}"
   ]
  },
  {
   "cell_type": "code",
   "execution_count": 197,
   "metadata": {},
   "outputs": [],
   "source": [
    "y = {6, 7, 8, 9, 10, 11, 12}"
   ]
  },
  {
   "cell_type": "code",
   "execution_count": 198,
   "metadata": {
    "ExecuteTime": {
     "end_time": "2020-07-10T00:44:50.502397Z",
     "start_time": "2020-07-10T00:44:50.498409Z"
    }
   },
   "outputs": [
    {
     "data": {
      "text/plain": [
       "{6, 7, 8}"
      ]
     },
     "execution_count": 198,
     "metadata": {},
     "output_type": "execute_result"
    }
   ],
   "source": [
    "x.intersection(y)"
   ]
  },
  {
   "cell_type": "code",
   "execution_count": 199,
   "metadata": {},
   "outputs": [
    {
     "data": {
      "text/plain": [
       "{6, 7, 8}"
      ]
     },
     "execution_count": 199,
     "metadata": {},
     "output_type": "execute_result"
    }
   ],
   "source": [
    "y.intersection(x)"
   ]
  },
  {
   "cell_type": "code",
   "execution_count": 200,
   "metadata": {},
   "outputs": [
    {
     "data": {
      "text/plain": [
       "{1, 2, 3, 4, 5}"
      ]
     },
     "execution_count": 200,
     "metadata": {},
     "output_type": "execute_result"
    }
   ],
   "source": [
    "x.difference(y)"
   ]
  },
  {
   "cell_type": "code",
   "execution_count": 201,
   "metadata": {},
   "outputs": [
    {
     "data": {
      "text/plain": [
       "{9, 10, 11, 12}"
      ]
     },
     "execution_count": 201,
     "metadata": {},
     "output_type": "execute_result"
    }
   ],
   "source": [
    "y.difference(x)"
   ]
  },
  {
   "cell_type": "code",
   "execution_count": 202,
   "metadata": {},
   "outputs": [
    {
     "data": {
      "text/plain": [
       "{1, 2, 3, 4, 5}"
      ]
     },
     "execution_count": 202,
     "metadata": {},
     "output_type": "execute_result"
    }
   ],
   "source": [
    "x-y # x.difference(y)"
   ]
  },
  {
   "cell_type": "code",
   "execution_count": 203,
   "metadata": {},
   "outputs": [
    {
     "data": {
      "text/plain": [
       "{9, 10, 11, 12}"
      ]
     },
     "execution_count": 203,
     "metadata": {},
     "output_type": "execute_result"
    }
   ],
   "source": [
    "y-x # y.difference(y)"
   ]
  },
  {
   "cell_type": "code",
   "execution_count": 204,
   "metadata": {},
   "outputs": [
    {
     "data": {
      "text/plain": [
       "{1, 2, 3, 4, 5, 6, 7, 8, 9, 10, 11, 12}"
      ]
     },
     "execution_count": 204,
     "metadata": {},
     "output_type": "execute_result"
    }
   ],
   "source": [
    "x.union(y)"
   ]
  },
  {
   "cell_type": "code",
   "execution_count": 205,
   "metadata": {},
   "outputs": [
    {
     "data": {
      "text/plain": [
       "{1, 2, 3, 4, 5, 9, 10, 11, 12}"
      ]
     },
     "execution_count": 205,
     "metadata": {},
     "output_type": "execute_result"
    }
   ],
   "source": [
    "(x-y).union(y-x)"
   ]
  },
  {
   "cell_type": "code",
   "execution_count": 206,
   "metadata": {},
   "outputs": [
    {
     "data": {
      "text/plain": [
       "{1, 2, 3, 4, 5, 9, 10, 11, 12}"
      ]
     },
     "execution_count": 206,
     "metadata": {},
     "output_type": "execute_result"
    }
   ],
   "source": [
    "x.symmetric_difference(y)"
   ]
  },
  {
   "cell_type": "code",
   "execution_count": 207,
   "metadata": {},
   "outputs": [],
   "source": [
    "x = set([1,2,3])"
   ]
  },
  {
   "cell_type": "code",
   "execution_count": 209,
   "metadata": {},
   "outputs": [
    {
     "data": {
      "text/plain": [
       "False"
      ]
     },
     "execution_count": 209,
     "metadata": {},
     "output_type": "execute_result"
    }
   ],
   "source": [
    "set([1,2,3,25]).issubset(x)"
   ]
  },
  {
   "cell_type": "code",
   "execution_count": 210,
   "metadata": {
    "ExecuteTime": {
     "end_time": "2020-07-10T00:47:18.291003Z",
     "start_time": "2020-07-10T00:47:18.286016Z"
    }
   },
   "outputs": [
    {
     "name": "stdout",
     "output_type": "stream",
     "text": [
      "Missing columns: set()\n"
     ]
    }
   ],
   "source": [
    "# Practical example\n",
    "col_names = set(['qtd_cartoes', 'vlr_cartao','qtd_cheques','vlr_cheques'])\n",
    "incoming_col_names = set(['qtd_cartoes', 'vlr_cartao','qtd_cheques','vlr_cheques'])\n",
    "\n",
    "# print(f'Missing columns: {set(col_names) - set(incoming_col_names)}')\n",
    "missing_columns = col_names.difference(incoming_col_names)\n",
    "print(f'Missing columns: {missing_columns}')"
   ]
  },
  {
   "cell_type": "code",
   "execution_count": 211,
   "metadata": {},
   "outputs": [
    {
     "data": {
      "text/plain": [
       "dict_values([10, 8, 1])"
      ]
     },
     "execution_count": 211,
     "metadata": {},
     "output_type": "execute_result"
    }
   ],
   "source": [
    "my_dict.values()"
   ]
  },
  {
   "cell_type": "code",
   "execution_count": null,
   "metadata": {},
   "outputs": [],
   "source": []
  }
 ],
 "metadata": {
  "kernelspec": {
   "display_name": "Python 3 (ipykernel)",
   "language": "python",
   "name": "python3"
  },
  "language_info": {
   "codemirror_mode": {
    "name": "ipython",
    "version": 3
   },
   "file_extension": ".py",
   "mimetype": "text/x-python",
   "name": "python",
   "nbconvert_exporter": "python",
   "pygments_lexer": "ipython3",
   "version": "3.9.12"
  },
  "toc": {
   "base_numbering": 1,
   "nav_menu": {},
   "number_sections": true,
   "sideBar": true,
   "skip_h1_title": false,
   "title_cell": "Table of Contents",
   "title_sidebar": "Contents",
   "toc_cell": false,
   "toc_position": {},
   "toc_section_display": true,
   "toc_window_display": false
  },
  "varInspector": {
   "cols": {
    "lenName": 16,
    "lenType": 16,
    "lenVar": 40
   },
   "kernels_config": {
    "python": {
     "delete_cmd_postfix": "",
     "delete_cmd_prefix": "del ",
     "library": "var_list.py",
     "varRefreshCmd": "print(var_dic_list())"
    },
    "r": {
     "delete_cmd_postfix": ") ",
     "delete_cmd_prefix": "rm(",
     "library": "var_list.r",
     "varRefreshCmd": "cat(var_dic_list()) "
    }
   },
   "types_to_exclude": [
    "module",
    "function",
    "builtin_function_or_method",
    "instance",
    "_Feature"
   ],
   "window_display": false
  },
  "vscode": {
   "interpreter": {
    "hash": "014f4a4a5af8f0104b12c029e500f4146d6d785e8cf714d2a35b7a9514230cd3"
   }
  }
 },
 "nbformat": 4,
 "nbformat_minor": 4
}
