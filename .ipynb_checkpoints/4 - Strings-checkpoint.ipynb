{
 "cells": [
  {
   "cell_type": "markdown",
   "metadata": {},
   "source": [
    "# Aula IV - Strings no Python\n",
    "\n",
    "Como vimos durante o pré-work, `strngs` nos permitem represetar textos dentro do Python como uma sequência de carácteres. Hoje vamos nos aprofundar em strings, vendo diferentes usos e aplicações."
   ]
  },
  {
   "cell_type": "markdown",
   "metadata": {},
   "source": [
    "## String Equivalence"
   ]
  },
  {
   "cell_type": "code",
   "execution_count": 1,
   "metadata": {},
   "outputs": [],
   "source": [
    "nome_pintor = 'Mondrian'"
   ]
  },
  {
   "cell_type": "code",
   "execution_count": 2,
   "metadata": {},
   "outputs": [
    {
     "name": "stdout",
     "output_type": "stream",
     "text": [
      "Mondrian\n"
     ]
    }
   ],
   "source": [
    "print(nome_pintor)"
   ]
  },
  {
   "cell_type": "code",
   "execution_count": 3,
   "metadata": {},
   "outputs": [],
   "source": [
    "nome_pintora = \"Kahlo\""
   ]
  },
  {
   "cell_type": "code",
   "execution_count": 4,
   "metadata": {},
   "outputs": [
    {
     "name": "stdout",
     "output_type": "stream",
     "text": [
      "Kahlo\n"
     ]
    }
   ],
   "source": [
    "print(nome_pintora)"
   ]
  },
  {
   "cell_type": "code",
   "execution_count": 5,
   "metadata": {},
   "outputs": [
    {
     "name": "stdout",
     "output_type": "stream",
     "text": [
      "Mondrian\n",
      "Mondrian \n"
     ]
    }
   ],
   "source": [
    "nome_pintor_2 = 'Mondrian '\n",
    "print(nome_pintor)\n",
    "print(nome_pintor_2)"
   ]
  },
  {
   "cell_type": "code",
   "execution_count": 6,
   "metadata": {},
   "outputs": [
    {
     "name": "stdout",
     "output_type": "stream",
     "text": [
      "False\n"
     ]
    }
   ],
   "source": [
    "print(nome_pintor == nome_pintor_2)"
   ]
  },
  {
   "cell_type": "markdown",
   "metadata": {},
   "source": [
    "## Newline (\\n) & other special characters\n",
    "- `\\n` line break\n",
    "- `\\t` tab\n",
    "- `\\` *escape character*"
   ]
  },
  {
   "cell_type": "code",
   "execution_count": 7,
   "metadata": {},
   "outputs": [
    {
     "name": "stdout",
     "output_type": "stream",
     "text": [
      "Marinetti\n",
      "Boccioni\n",
      "Balla\n"
     ]
    }
   ],
   "source": [
    "pintores_futuristas = \"Marinetti\\nBoccioni\\nBalla\"\n",
    "print(pintores_futuristas)"
   ]
  },
  {
   "cell_type": "code",
   "execution_count": 8,
   "metadata": {},
   "outputs": [
    {
     "data": {
      "text/plain": [
       "'Marinetti\\nBoccioni\\nBalla'"
      ]
     },
     "execution_count": 8,
     "metadata": {},
     "output_type": "execute_result"
    }
   ],
   "source": [
    "pintores_futuristas"
   ]
  },
  {
   "cell_type": "code",
   "execution_count": 9,
   "metadata": {},
   "outputs": [
    {
     "name": "stdout",
     "output_type": "stream",
     "text": [
      "1o Degrau\n",
      "\t2o Degrau\n",
      "\t\t3o Degrau\n",
      "\t\t\t4o Degrau\n"
     ]
    }
   ],
   "source": [
    "escada = '1o Degrau\\n\\t2o Degrau\\n\\t\\t3o Degrau\\n\\t\\t\\t4o Degrau'\n",
    "print(escada)"
   ]
  },
  {
   "cell_type": "code",
   "execution_count": 10,
   "metadata": {},
   "outputs": [
    {
     "data": {
      "text/plain": [
       "'1o Degrau\\n\\t2o Degrau\\n\\t\\t3o Degrau\\n\\t\\t\\t4o Degrau'"
      ]
     },
     "execution_count": 10,
     "metadata": {},
     "output_type": "execute_result"
    }
   ],
   "source": [
    "escada"
   ]
  },
  {
   "cell_type": "code",
   "execution_count": 11,
   "metadata": {},
   "outputs": [
    {
     "name": "stdout",
     "output_type": "stream",
     "text": [
      "\\ e \\\n"
     ]
    }
   ],
   "source": [
    "duas_barras = '\\\\ e \\\\'\n",
    "print(duas_barras)"
   ]
  },
  {
   "cell_type": "code",
   "execution_count": 12,
   "metadata": {},
   "outputs": [
    {
     "data": {
      "text/plain": [
       "'\\\\ e \\\\'"
      ]
     },
     "execution_count": 12,
     "metadata": {},
     "output_type": "execute_result"
    }
   ],
   "source": [
    "duas_barras"
   ]
  },
  {
   "cell_type": "markdown",
   "metadata": {},
   "source": [
    "## String concatenation\n",
    "\n"
   ]
  },
  {
   "cell_type": "code",
   "execution_count": 13,
   "metadata": {
    "ExecuteTime": {
     "end_time": "2020-07-15T00:09:04.671167Z",
     "start_time": "2020-07-15T00:09:04.667200Z"
    }
   },
   "outputs": [
    {
     "name": "stdout",
     "output_type": "stream",
     "text": [
      "Frida Kahlo\n"
     ]
    }
   ],
   "source": [
    "# Your code here\n",
    "nm_comp_pintora = 'Frida ' + nome_pintora\n",
    "print(nm_comp_pintora)"
   ]
  },
  {
   "cell_type": "code",
   "execution_count": 14,
   "metadata": {},
   "outputs": [
    {
     "name": "stdout",
     "output_type": "stream",
     "text": [
      "Kahlo Mondrian\n"
     ]
    }
   ],
   "source": [
    "nm_pintores = nome_pintora + ' ' + nome_pintor\n",
    "print(nm_pintores)"
   ]
  },
  {
   "cell_type": "markdown",
   "metadata": {},
   "source": [
    "Cuidado com tipos não numéricos! Listas podem **conter strings**, mas são **listas**!"
   ]
  },
  {
   "cell_type": "code",
   "execution_count": 20,
   "metadata": {},
   "outputs": [
    {
     "ename": "TypeError",
     "evalue": "can only concatenate list (not \"str\") to list",
     "output_type": "error",
     "traceback": [
      "\u001b[1;31m---------------------------------------------------------------------------\u001b[0m",
      "\u001b[1;31mTypeError\u001b[0m                                 Traceback (most recent call last)",
      "Input \u001b[1;32mIn [20]\u001b[0m, in \u001b[0;36m<cell line: 1>\u001b[1;34m()\u001b[0m\n\u001b[1;32m----> 1\u001b[0m \u001b[38;5;28mprint\u001b[39m(\u001b[43m[\u001b[49m\u001b[38;5;124;43m'\u001b[39;49m\u001b[38;5;124;43mFrida \u001b[39;49m\u001b[38;5;124;43m'\u001b[39;49m\u001b[43m]\u001b[49m\u001b[43m \u001b[49m\u001b[38;5;241;43m+\u001b[39;49m\u001b[43m \u001b[49m\u001b[43mnome_pintora\u001b[49m)\n",
      "\u001b[1;31mTypeError\u001b[0m: can only concatenate list (not \"str\") to list"
     ]
    }
   ],
   "source": [
    "print(['Frida '] + nome_pintora)"
   ]
  },
  {
   "cell_type": "code",
   "execution_count": 19,
   "metadata": {},
   "outputs": [
    {
     "name": "stdout",
     "output_type": "stream",
     "text": [
      "Frida Kahlo\n"
     ]
    }
   ],
   "source": [
    "print(['Frida '][0] + nome_pintora)"
   ]
  },
  {
   "cell_type": "markdown",
   "metadata": {},
   "source": [
    "Números não são strings!"
   ]
  },
  {
   "cell_type": "code",
   "execution_count": 21,
   "metadata": {},
   "outputs": [
    {
     "ename": "TypeError",
     "evalue": "unsupported operand type(s) for +: 'int' and 'str'",
     "output_type": "error",
     "traceback": [
      "\u001b[1;31m---------------------------------------------------------------------------\u001b[0m",
      "\u001b[1;31mTypeError\u001b[0m                                 Traceback (most recent call last)",
      "Input \u001b[1;32mIn [21]\u001b[0m, in \u001b[0;36m<cell line: 1>\u001b[1;34m()\u001b[0m\n\u001b[1;32m----> 1\u001b[0m \u001b[38;5;28mprint\u001b[39m(\u001b[38;5;241;43m1\u001b[39;49m\u001b[43m \u001b[49m\u001b[38;5;241;43m+\u001b[39;49m\u001b[43m \u001b[49m\u001b[43mnome_pintor\u001b[49m)\n",
      "\u001b[1;31mTypeError\u001b[0m: unsupported operand type(s) for +: 'int' and 'str'"
     ]
    }
   ],
   "source": [
    "print(1 + nome_pintor)"
   ]
  },
  {
   "cell_type": "code",
   "execution_count": 22,
   "metadata": {},
   "outputs": [
    {
     "name": "stdout",
     "output_type": "stream",
     "text": [
      "1Mondrian\n"
     ]
    }
   ],
   "source": [
    "print('1' + nome_pintor)"
   ]
  },
  {
   "cell_type": "markdown",
   "metadata": {},
   "source": [
    "Alguns objetos podem ser convertidos em strings através da função `str()`"
   ]
  },
  {
   "cell_type": "code",
   "execution_count": 23,
   "metadata": {},
   "outputs": [
    {
     "name": "stdout",
     "output_type": "stream",
     "text": [
      "1Mondrian\n"
     ]
    }
   ],
   "source": [
    "x = 1\n",
    "print(str(x) + nome_pintor)"
   ]
  },
  {
   "cell_type": "code",
   "execution_count": 24,
   "metadata": {},
   "outputs": [],
   "source": [
    "lista_y = []\n",
    "for i in range(1, 10):\n",
    "    y = str(i) + nome_pintor\n",
    "    lista_y.append(y)"
   ]
  },
  {
   "cell_type": "code",
   "execution_count": null,
   "metadata": {},
   "outputs": [],
   "source": []
  },
  {
   "cell_type": "code",
   "execution_count": 26,
   "metadata": {},
   "outputs": [
    {
     "name": "stdout",
     "output_type": "stream",
     "text": [
      "['1Mondrian', '2Mondrian', '3Mondrian', '4Mondrian', '5Mondrian', '6Mondrian', '7Mondrian', '8Mondrian', '9Mondrian']\n"
     ]
    }
   ],
   "source": [
    "print(lista_y)"
   ]
  },
  {
   "cell_type": "markdown",
   "metadata": {},
   "source": [
    "## String repetition\n",
    "\n",
    "Podemos utilizar o `operador` multiplicação (`*`) para criar um string a partir de sua repetição."
   ]
  },
  {
   "cell_type": "code",
   "execution_count": 27,
   "metadata": {},
   "outputs": [
    {
     "name": "stdout",
     "output_type": "stream",
     "text": [
      "Olá! Olá! Olá! \n"
     ]
    }
   ],
   "source": [
    "print(3 * 'Olá! ')"
   ]
  },
  {
   "cell_type": "code",
   "execution_count": 28,
   "metadata": {},
   "outputs": [
    {
     "name": "stdout",
     "output_type": "stream",
     "text": [
      "Olá!\n",
      "Olá!\n",
      "Olá!\n",
      "\n"
     ]
    }
   ],
   "source": [
    "print(3 * 'Olá!\\n')"
   ]
  },
  {
   "cell_type": "markdown",
   "metadata": {},
   "source": [
    "Podemos combinar esses dois operadores para simplificar a construção de strings complexos:"
   ]
  },
  {
   "cell_type": "code",
   "execution_count": 33,
   "metadata": {
    "scrolled": true
   },
   "outputs": [
    {
     "name": "stdout",
     "output_type": "stream",
     "text": [
      "----------------------------------------------------------------------------------------------------\n",
      "\t\t\t\tEl programa corrió con éxito!\n",
      "----------------------------------------------------------------------------------------------------\n"
     ]
    }
   ],
   "source": [
    "print('-' * 100 + '\\n' + '\\t' * 4 + 'El programa corrió con éxito!\\n' + '-' * 100)"
   ]
  },
  {
   "cell_type": "markdown",
   "metadata": {},
   "source": [
    "## Multiline strings\n",
    "\n",
    "Além da declaração através de aspas simples ou duplas (`'` ou `\"`) podemos utilizar a notação de 3 aspas simples (`'''`) para declarar strings de múltiplas linhas (sem precisar utilizar `\\n`)"
   ]
  },
  {
   "cell_type": "code",
   "execution_count": 34,
   "metadata": {},
   "outputs": [
    {
     "name": "stdout",
     "output_type": "stream",
     "text": [
      "Marinetti\n",
      "Boccioni\n",
      "Balla\n"
     ]
    }
   ],
   "source": [
    "pintores_futuristas = \"Marinetti\\nBoccioni\\nBalla\"\n",
    "print(pintores_futuristas)"
   ]
  },
  {
   "cell_type": "code",
   "execution_count": 35,
   "metadata": {},
   "outputs": [
    {
     "name": "stdout",
     "output_type": "stream",
     "text": [
      "Marinetti\n",
      "Boccioni\n",
      "Balla\n"
     ]
    }
   ],
   "source": [
    "pintores_futuristas_2 = '''Marinetti\n",
    "Boccioni\n",
    "Balla'''\n",
    "print(pintores_futuristas_2)"
   ]
  },
  {
   "cell_type": "code",
   "execution_count": 36,
   "metadata": {},
   "outputs": [
    {
     "data": {
      "text/plain": [
       "True"
      ]
     },
     "execution_count": 36,
     "metadata": {},
     "output_type": "execute_result"
    }
   ],
   "source": [
    "pintores_futuristas == pintores_futuristas_2"
   ]
  },
  {
   "cell_type": "code",
   "execution_count": 37,
   "metadata": {},
   "outputs": [
    {
     "name": "stdout",
     "output_type": "stream",
     "text": [
      "\n",
      "Marinetti\n",
      "Boccioni\n",
      "Balla\n",
      "\n"
     ]
    }
   ],
   "source": [
    "pintores_futuristas_3 = '''\n",
    "Marinetti\n",
    "Boccioni\n",
    "Balla\n",
    "'''\n",
    "print(pintores_futuristas_3)"
   ]
  },
  {
   "cell_type": "code",
   "execution_count": 38,
   "metadata": {},
   "outputs": [
    {
     "data": {
      "text/plain": [
       "False"
      ]
     },
     "execution_count": 38,
     "metadata": {},
     "output_type": "execute_result"
    }
   ],
   "source": [
    "pintores_futuristas == pintores_futuristas_3"
   ]
  },
  {
   "cell_type": "code",
   "execution_count": 39,
   "metadata": {},
   "outputs": [
    {
     "name": "stdout",
     "output_type": "stream",
     "text": [
      "\n",
      "    SELECT\n",
      "        *\n",
      "    FROM\n",
      "        tabela\n",
      "\n"
     ]
    }
   ],
   "source": [
    "query = '''\n",
    "    SELECT\n",
    "        *\n",
    "    FROM\n",
    "        tabela\n",
    "'''\n",
    "print(query)"
   ]
  },
  {
   "cell_type": "markdown",
   "metadata": {},
   "source": [
    "# Concatenating string lists\n",
    "\n",
    "Podemos concatenar os strings em uma lista (ou outro iterável qualquer) de strings utilizando o método `.join()` - tomando cuidado para lembrar que este método é um método de strings!"
   ]
  },
  {
   "cell_type": "code",
   "execution_count": 45,
   "metadata": {
    "ExecuteTime": {
     "end_time": "2020-07-15T00:30:13.652436Z",
     "start_time": "2020-07-15T00:30:13.648477Z"
    }
   },
   "outputs": [
    {
     "name": "stdout",
     "output_type": "stream",
     "text": [
      "['Emiliano', 'Balcazar', 'Dot']\n"
     ]
    }
   ],
   "source": [
    "nomes = ['Emiliano', 'Balcazar', 'Dot']\n",
    "print(nomes)"
   ]
  },
  {
   "cell_type": "code",
   "execution_count": 46,
   "metadata": {},
   "outputs": [
    {
     "data": {
      "text/plain": [
       "'Emiliano Balcazar Dot'"
      ]
     },
     "execution_count": 46,
     "metadata": {},
     "output_type": "execute_result"
    }
   ],
   "source": [
    "' '.join(nomes)"
   ]
  },
  {
   "cell_type": "code",
   "execution_count": 47,
   "metadata": {},
   "outputs": [
    {
     "name": "stdout",
     "output_type": "stream",
     "text": [
      "Emiliano Balcazar Dot\n"
     ]
    }
   ],
   "source": [
    "espaco = ' '\n",
    "nome_completo = espaco.join(nomes)\n",
    "print(nome_completo)"
   ]
  },
  {
   "cell_type": "code",
   "execution_count": 48,
   "metadata": {},
   "outputs": [
    {
     "name": "stdout",
     "output_type": "stream",
     "text": [
      "<class 'list'>\n",
      "<class 'str'>\n"
     ]
    }
   ],
   "source": [
    "print(type(nomes))\n",
    "print(type(nome_completo))"
   ]
  },
  {
   "cell_type": "code",
   "execution_count": 49,
   "metadata": {},
   "outputs": [
    {
     "name": "stdout",
     "output_type": "stream",
     "text": [
      "Emiliano Balcazar Dot\n"
     ]
    }
   ],
   "source": [
    "print(' '.join(nomes))"
   ]
  },
  {
   "cell_type": "code",
   "execution_count": 50,
   "metadata": {},
   "outputs": [
    {
     "data": {
      "text/plain": [
       "'Emiliano Balcazar Dot'"
      ]
     },
     "execution_count": 50,
     "metadata": {},
     "output_type": "execute_result"
    }
   ],
   "source": [
    "ws = ' '\n",
    "ws.join(nomes)"
   ]
  },
  {
   "cell_type": "markdown",
   "metadata": {},
   "source": [
    "O string pelo qual chamamos o método é o **separador** e pode ser qualquer caracter (ou sequência de carácteres)."
   ]
  },
  {
   "cell_type": "code",
   "execution_count": 51,
   "metadata": {},
   "outputs": [
    {
     "data": {
      "text/plain": [
       "'Emiliano@Balcazar@Dot'"
      ]
     },
     "execution_count": 51,
     "metadata": {},
     "output_type": "execute_result"
    }
   ],
   "source": [
    "'@'.join(nomes)"
   ]
  },
  {
   "cell_type": "code",
   "execution_count": 52,
   "metadata": {},
   "outputs": [
    {
     "name": "stdout",
     "output_type": "stream",
     "text": [
      "Emiliano\n",
      "Balcazar\n",
      "Dot\n"
     ]
    }
   ],
   "source": [
    "print('\\n'.join(nomes))"
   ]
  },
  {
   "cell_type": "code",
   "execution_count": 53,
   "metadata": {},
   "outputs": [
    {
     "name": "stdout",
     "output_type": "stream",
     "text": [
      "Emiliano\tBalcazar\tDot\n"
     ]
    }
   ],
   "source": [
    "print('\\t'.join(nomes))"
   ]
  },
  {
   "cell_type": "code",
   "execution_count": 54,
   "metadata": {},
   "outputs": [
    {
     "name": "stdout",
     "output_type": "stream",
     "text": [
      "EmilianoQualquercoisaBalcazarQualquercoisaDot\n"
     ]
    }
   ],
   "source": [
    "print('Qualquercoisa'.join(nomes))"
   ]
  },
  {
   "cell_type": "markdown",
   "metadata": {},
   "source": [
    "## Um exemplo concreto\n",
    "Como vimos na aula passada, dicionários nos possibilitam guardar informações de uma forma estruturada. Muitas vezes, no entanto, precisamos alterar a estrutura dessa informação: para enviar à um cliente, uma API ou mesmo um algoritmo de ML. Vamos utilizar um pouco do que aprendemos até agora para transformar uma lista de dicionários complexos em uma lista de dicionários simples."
   ]
  },
  {
   "cell_type": "code",
   "execution_count": 55,
   "metadata": {},
   "outputs": [],
   "source": [
    "cadastro_clientes = [{'nome' : 'José Antonio', 'endereco' : {'rua' : 'Al. dos Flamboyans', 'numero' : 1637, 'cidade' : 'Pirassununga', 'UF' : 'SP'}},\n",
    "                     {'nome' : 'Antonio Francisco', 'endereco' : {'rua' : 'Rua das Acacias', 'numero' : 1765, 'cidade' : 'Piracicaba', 'UF' : 'SP'}},\n",
    "                     {'nome' : 'Francisco João', 'endereco' : {'rua' : 'Rua dos Jequitibas', 'numero' : 455, 'cidade' : 'Belo Horizonte', 'UF' : 'MG'}},\n",
    "                     {'nome' : 'João Carlos', 'endereco' : {'rua' : 'Rua dos Jequitibas', 'numero' : 1826, 'cidade' : 'Belém', 'UF' : 'PA'}}]"
   ]
  },
  {
   "cell_type": "code",
   "execution_count": 56,
   "metadata": {},
   "outputs": [
    {
     "name": "stdout",
     "output_type": "stream",
     "text": [
      "{'nome': 'José Antonio', 'endereco': {'rua': 'Al. dos Flamboyans', 'numero': 1637, 'cidade': 'Pirassununga', 'UF': 'SP'}}\n"
     ]
    }
   ],
   "source": [
    "print(cadastro_clientes[0])"
   ]
  },
  {
   "cell_type": "code",
   "execution_count": 59,
   "metadata": {},
   "outputs": [
    {
     "name": "stdout",
     "output_type": "stream",
     "text": [
      "[{'nome': 'José Antonio', 'endereco': 'Al. dos Flamboyans 1637 Pirassununga-SP'}, {'nome': 'Antonio Francisco', 'endereco': 'Rua das Acacias 1765 Piracicaba-SP'}, {'nome': 'Francisco João', 'endereco': 'Rua dos Jequitibas 455 Belo Horizonte-MG'}, {'nome': 'João Carlos', 'endereco': 'Rua dos Jequitibas 1826 Belém-PA'}]\n"
     ]
    }
   ],
   "source": [
    "lista_clientes = []\n",
    "for cadastro in cadastro_clientes:\n",
    "    dict_cliente = dict()\n",
    "    dict_cliente['nome'] = cadastro['nome']\n",
    "    dict_cliente['endereco'] = f\"{cadastro['endereco']['rua']} {cadastro['endereco']['numero']} {cadastro['endereco']['cidade']}-{cadastro['endereco']['UF']}\"\n",
    "    lista_clientes.append(dict_cliente)\n",
    "print(lista_clientes)"
   ]
  },
  {
   "cell_type": "code",
   "execution_count": 60,
   "metadata": {},
   "outputs": [
    {
     "data": {
      "text/plain": [
       "{'nome': 'José Antonio', 'endereco': 'Al. dos Flamboyans 1637 Pirassununga-SP'}"
      ]
     },
     "execution_count": 60,
     "metadata": {},
     "output_type": "execute_result"
    }
   ],
   "source": [
    "lista_clientes[0]"
   ]
  },
  {
   "cell_type": "markdown",
   "metadata": {},
   "source": [
    "## String `len`\n",
    "Como vimos na aula passada, a função `len()` calcula o número de elementos em um iterável. Como strings são iteráveis, podemos calcular o comprimento de um string utilizando essa mesma função!"
   ]
  },
  {
   "cell_type": "code",
   "execution_count": 61,
   "metadata": {},
   "outputs": [
    {
     "name": "stdout",
     "output_type": "stream",
     "text": [
      "5\n"
     ]
    }
   ],
   "source": [
    "print(len('Pedro'))"
   ]
  },
  {
   "cell_type": "code",
   "execution_count": 62,
   "metadata": {},
   "outputs": [
    {
     "name": "stdout",
     "output_type": "stream",
     "text": [
      "11\n"
     ]
    }
   ],
   "source": [
    "print(len('Pedro' + ' Teche'))"
   ]
  },
  {
   "cell_type": "code",
   "execution_count": 63,
   "metadata": {},
   "outputs": [
    {
     "name": "stdout",
     "output_type": "stream",
     "text": [
      "6\n"
     ]
    }
   ],
   "source": [
    "print(len('Pedro\\n'))"
   ]
  },
  {
   "cell_type": "code",
   "execution_count": 64,
   "metadata": {},
   "outputs": [
    {
     "name": "stdout",
     "output_type": "stream",
     "text": [
      "6\n"
     ]
    }
   ],
   "source": [
    "print(len('''Pedro\n",
    "'''))"
   ]
  },
  {
   "cell_type": "markdown",
   "metadata": {},
   "source": [
    "## String slicing\n",
    "Assim como a função `len()`, **slices** também podem ser utilizados em strings! A notação é igual a que aprendemos com lista mas cada elemento de um string é um dos carácteres que o compõe."
   ]
  },
  {
   "cell_type": "code",
   "execution_count": 72,
   "metadata": {},
   "outputs": [
    {
     "name": "stdout",
     "output_type": "stream",
     "text": [
      "miliano\n"
     ]
    }
   ],
   "source": [
    "print('Emiliano'[1:])"
   ]
  },
  {
   "cell_type": "code",
   "execution_count": 73,
   "metadata": {},
   "outputs": [
    {
     "name": "stdout",
     "output_type": "stream",
     "text": [
      "Emiliano\n"
     ]
    }
   ],
   "source": [
    "nome = 'Emiliano'\n",
    "print(nome[:1] + nome[1:])"
   ]
  },
  {
   "cell_type": "code",
   "execution_count": 74,
   "metadata": {},
   "outputs": [
    {
     "name": "stdout",
     "output_type": "stream",
     "text": [
      "iano\n"
     ]
    }
   ],
   "source": [
    "print(nome[-4:])"
   ]
  },
  {
   "cell_type": "code",
   "execution_count": 75,
   "metadata": {},
   "outputs": [
    {
     "name": "stdout",
     "output_type": "stream",
     "text": [
      "Emili\n"
     ]
    }
   ],
   "source": [
    "print(nome[:-3])"
   ]
  },
  {
   "cell_type": "code",
   "execution_count": 76,
   "metadata": {},
   "outputs": [
    {
     "name": "stdout",
     "output_type": "stream",
     "text": [
      "Emiliano\n"
     ]
    }
   ],
   "source": [
    "print(nome[:-3] + nome[-3:])"
   ]
  },
  {
   "cell_type": "code",
   "execution_count": 77,
   "metadata": {},
   "outputs": [
    {
     "name": "stdout",
     "output_type": "stream",
     "text": [
      "i\n"
     ]
    }
   ],
   "source": [
    "print(nome[4])"
   ]
  },
  {
   "cell_type": "code",
   "execution_count": 78,
   "metadata": {},
   "outputs": [
    {
     "ename": "IndexError",
     "evalue": "string index out of range",
     "output_type": "error",
     "traceback": [
      "\u001b[1;31m---------------------------------------------------------------------------\u001b[0m",
      "\u001b[1;31mIndexError\u001b[0m                                Traceback (most recent call last)",
      "Input \u001b[1;32mIn [78]\u001b[0m, in \u001b[0;36m<cell line: 1>\u001b[1;34m()\u001b[0m\n\u001b[1;32m----> 1\u001b[0m \u001b[38;5;28mprint\u001b[39m(\u001b[43mnome\u001b[49m\u001b[43m[\u001b[49m\u001b[38;5;241;43m14\u001b[39;49m\u001b[43m]\u001b[49m)\n",
      "\u001b[1;31mIndexError\u001b[0m: string index out of range"
     ]
    }
   ],
   "source": [
    "print(nome[14])"
   ]
  },
  {
   "cell_type": "markdown",
   "metadata": {},
   "source": [
    "## String splitting\n",
    "Além de converter listas em strings, podemos converter strings em listas de strings. Para tanto utilizamos o método `.split()`.\n",
    "\n",
    "Este método recebe como argumento o separador que utilizaremos para dividir o string em múltiplos strings."
   ]
  },
  {
   "cell_type": "code",
   "execution_count": 79,
   "metadata": {
    "ExecuteTime": {
     "end_time": "2020-07-15T01:22:37.366210Z",
     "start_time": "2020-07-15T01:22:37.361194Z"
    }
   },
   "outputs": [
    {
     "data": {
      "text/plain": [
       "['Pedro', 'Teche', 'de', 'Lima']"
      ]
     },
     "execution_count": 79,
     "metadata": {},
     "output_type": "execute_result"
    }
   ],
   "source": [
    "nome_completo = 'Pedro Teche de Lima'\n",
    "nome_completo.split(' ')"
   ]
  },
  {
   "cell_type": "markdown",
   "metadata": {},
   "source": [
    "Além disso, podemos passar um segundo argumento especificando o número máximo de quebras que podemos fazer:"
   ]
  },
  {
   "cell_type": "code",
   "execution_count": 88,
   "metadata": {},
   "outputs": [
    {
     "data": {
      "text/plain": [
       "['Pedro', 'Teche', 'de Lima']"
      ]
     },
     "execution_count": 88,
     "metadata": {},
     "output_type": "execute_result"
    }
   ],
   "source": [
    "'Pedro Teche de Lima'.split(' ', 2)"
   ]
  },
  {
   "cell_type": "code",
   "execution_count": 89,
   "metadata": {},
   "outputs": [
    {
     "name": "stdout",
     "output_type": "stream",
     "text": [
      "['Pedro', 'Teche', 'de Lima']\n"
     ]
    }
   ],
   "source": [
    "print('''Pedro\n",
    "Teche\n",
    "de Lima'''.split('\\n'))"
   ]
  },
  {
   "cell_type": "code",
   "execution_count": 92,
   "metadata": {},
   "outputs": [
    {
     "data": {
      "text/plain": [
       "['Emiliano', 'Balcazar', 'Dot']"
      ]
     },
     "execution_count": 92,
     "metadata": {},
     "output_type": "execute_result"
    }
   ],
   "source": [
    "wrong_list = 'Emiliano Balcazar     Dot'.split(' ')\n",
    "good_list = [w for w in wrong_list if len(w)>0]\n",
    "good_list"
   ]
  },
  {
   "cell_type": "code",
   "execution_count": 94,
   "metadata": {},
   "outputs": [
    {
     "data": {
      "text/plain": [
       "['Pedro', 'Teche', 'de', 'Lima']"
      ]
     },
     "execution_count": 94,
     "metadata": {},
     "output_type": "execute_result"
    }
   ],
   "source": [
    "nome_completo.split()"
   ]
  },
  {
   "cell_type": "code",
   "execution_count": null,
   "metadata": {},
   "outputs": [],
   "source": []
  },
  {
   "cell_type": "code",
   "execution_count": null,
   "metadata": {},
   "outputs": [],
   "source": []
  },
  {
   "cell_type": "code",
   "execution_count": null,
   "metadata": {},
   "outputs": [],
   "source": []
  },
  {
   "cell_type": "markdown",
   "metadata": {},
   "source": [
    "Uma outra forma de quebrar strings é transformando-os em listas através da função `list()`: ela transformará um string em uma lista de carácteres!"
   ]
  },
  {
   "cell_type": "code",
   "execution_count": 95,
   "metadata": {},
   "outputs": [
    {
     "data": {
      "text/plain": [
       "['a', 'b', 'c', 'd', 'd', ' ', ' ', ' ', 'a', 's', '\\n', 'c']"
      ]
     },
     "execution_count": 95,
     "metadata": {},
     "output_type": "execute_result"
    }
   ],
   "source": [
    "list('abcdd   as\\nc')"
   ]
  },
  {
   "cell_type": "markdown",
   "metadata": {},
   "source": [
    "Por fim, se não passarmos nenhum argumento para o método `.split()` ele dividirá o string a partir dos espaços em branco, equivalente à `.split(\" \")`"
   ]
  },
  {
   "cell_type": "code",
   "execution_count": 98,
   "metadata": {},
   "outputs": [],
   "source": [
    "nome_completo = 'Emiliano Balcazar Dot'"
   ]
  },
  {
   "cell_type": "code",
   "execution_count": 99,
   "metadata": {},
   "outputs": [
    {
     "data": {
      "text/plain": [
       "['Emiliano', 'Balcazar', 'Dot']"
      ]
     },
     "execution_count": 99,
     "metadata": {},
     "output_type": "execute_result"
    }
   ],
   "source": [
    "nome_completo.split()"
   ]
  },
  {
   "cell_type": "markdown",
   "metadata": {},
   "source": [
    "## Other String Methods\n",
    "\n",
    "Além dos métodos `.join()` e `.split()`, strings possuem outros métodos que nos ajudam a formata-los e altera-los.\n",
    "\n",
    "### Change character capitalization\n",
    "Métodos para alterar a forma das letras - uma etapa crítica quando queremos comparar strings, já que `\"A\" != \"a\"`!!!"
   ]
  },
  {
   "cell_type": "code",
   "execution_count": 100,
   "metadata": {},
   "outputs": [],
   "source": [
    "nome_errado = 'pEDRO tECHE DE lIMA'"
   ]
  },
  {
   "cell_type": "markdown",
   "metadata": {},
   "source": [
    "`.capitalize()` converte a primeira letra em maiúscula e o restante em minúscula."
   ]
  },
  {
   "cell_type": "code",
   "execution_count": 101,
   "metadata": {},
   "outputs": [
    {
     "name": "stdout",
     "output_type": "stream",
     "text": [
      "Pedro teche de lima\n"
     ]
    }
   ],
   "source": [
    "print(nome_errado.capitalize())"
   ]
  },
  {
   "cell_type": "markdown",
   "metadata": {},
   "source": [
    "`.upper()` converte todas em maiúsculas."
   ]
  },
  {
   "cell_type": "code",
   "execution_count": 102,
   "metadata": {},
   "outputs": [
    {
     "name": "stdout",
     "output_type": "stream",
     "text": [
      "PEDRO TECHE DE LIMA\n"
     ]
    }
   ],
   "source": [
    "print(nome_errado.upper())"
   ]
  },
  {
   "cell_type": "markdown",
   "metadata": {},
   "source": [
    "`.lower()` converte todas em minúsculas."
   ]
  },
  {
   "cell_type": "code",
   "execution_count": 103,
   "metadata": {},
   "outputs": [
    {
     "name": "stdout",
     "output_type": "stream",
     "text": [
      "pedro teche de lima\n"
     ]
    }
   ],
   "source": [
    "print(nome_errado.lower())"
   ]
  },
  {
   "cell_type": "markdown",
   "metadata": {},
   "source": [
    "`.title()` converte a primeira letra de cada palavra (primeira letra e toda letra que segue um espaço) em maiúsculas e o restante em minúsculas."
   ]
  },
  {
   "cell_type": "code",
   "execution_count": 104,
   "metadata": {
    "scrolled": true
   },
   "outputs": [
    {
     "name": "stdout",
     "output_type": "stream",
     "text": [
      "Pedro Teche De Lima\n"
     ]
    }
   ],
   "source": [
    "print(nome_errado.title())"
   ]
  },
  {
   "cell_type": "code",
   "execution_count": 116,
   "metadata": {},
   "outputs": [],
   "source": [
    "name_list = ['Emiliano', 'Balzazar', 'Dot', 1, 2, [1,2,'mexico']]"
   ]
  },
  {
   "cell_type": "code",
   "execution_count": 117,
   "metadata": {},
   "outputs": [
    {
     "data": {
      "text/plain": [
       "['EMILIANO', 'BALZAZAR', 'DOT']"
      ]
     },
     "execution_count": 117,
     "metadata": {},
     "output_type": "execute_result"
    }
   ],
   "source": [
    "[name.upper() for name in name_list if type(name)==str]"
   ]
  },
  {
   "cell_type": "markdown",
   "metadata": {},
   "source": [
    "### Cleaning spaces\n",
    "\n",
    "Além da limpeza de letras maiúsculas, muitas vezes precisamos tratar os espaços em branco presentes em um string. Para isso utilizaremos os métodos `.strip()`, `.lstrip()` e `.rstrip()`."
   ]
  },
  {
   "cell_type": "code",
   "execution_count": 118,
   "metadata": {},
   "outputs": [
    {
     "data": {
      "text/plain": [
       "'Pedro Teche de Lima'"
      ]
     },
     "execution_count": 118,
     "metadata": {},
     "output_type": "execute_result"
    }
   ],
   "source": [
    "# Your code here\n",
    "'     Pedro Teche de Lima           '.strip()"
   ]
  },
  {
   "cell_type": "markdown",
   "metadata": {},
   "source": [
    "O método `.strip()` só limpa espaços no começo e fim do string:"
   ]
  },
  {
   "cell_type": "code",
   "execution_count": 119,
   "metadata": {},
   "outputs": [
    {
     "data": {
      "text/plain": [
       "'Pedro          Teche         de Lima'"
      ]
     },
     "execution_count": 119,
     "metadata": {},
     "output_type": "execute_result"
    }
   ],
   "source": [
    "'     Pedro          Teche         de Lima           '.strip()"
   ]
  },
  {
   "cell_type": "code",
   "execution_count": 120,
   "metadata": {},
   "outputs": [
    {
     "data": {
      "text/plain": [
       "'Pedro Teche de Lima'"
      ]
     },
     "execution_count": 120,
     "metadata": {},
     "output_type": "execute_result"
    }
   ],
   "source": [
    "' '.join('     Pedro          Teche         de Lima           '.split())"
   ]
  },
  {
   "cell_type": "code",
   "execution_count": 121,
   "metadata": {},
   "outputs": [
    {
     "data": {
      "text/plain": [
       "'     Pedro Teche de Lima'"
      ]
     },
     "execution_count": 121,
     "metadata": {},
     "output_type": "execute_result"
    }
   ],
   "source": [
    "'     Pedro Teche de Lima           '.rstrip()"
   ]
  },
  {
   "cell_type": "code",
   "execution_count": 122,
   "metadata": {},
   "outputs": [
    {
     "data": {
      "text/plain": [
       "'Pedro Teche de Lima           '"
      ]
     },
     "execution_count": 122,
     "metadata": {},
     "output_type": "execute_result"
    }
   ],
   "source": [
    "'     Pedro Teche de Lima           '.lstrip()"
   ]
  },
  {
   "cell_type": "markdown",
   "metadata": {},
   "source": [
    "### Checking ends and begginings\n",
    "\n",
    "Podemos verificar se um string começa/termina com um outro string através dos métodos `.startswith()` e `.endswith()`"
   ]
  },
  {
   "cell_type": "code",
   "execution_count": 123,
   "metadata": {},
   "outputs": [
    {
     "data": {
      "text/plain": [
       "False"
      ]
     },
     "execution_count": 123,
     "metadata": {},
     "output_type": "execute_result"
    }
   ],
   "source": [
    "# Your code here\n",
    "'Frida Kahlo'.startswith('Ped')"
   ]
  },
  {
   "cell_type": "code",
   "execution_count": 124,
   "metadata": {},
   "outputs": [
    {
     "data": {
      "text/plain": [
       "False"
      ]
     },
     "execution_count": 124,
     "metadata": {},
     "output_type": "execute_result"
    }
   ],
   "source": [
    "'Frida Kahlo'.startswith('fri')"
   ]
  },
  {
   "cell_type": "code",
   "execution_count": 125,
   "metadata": {},
   "outputs": [
    {
     "data": {
      "text/plain": [
       "True"
      ]
     },
     "execution_count": 125,
     "metadata": {},
     "output_type": "execute_result"
    }
   ],
   "source": [
    "'Frida Kahlo'.startswith('Fri')"
   ]
  },
  {
   "cell_type": "markdown",
   "metadata": {},
   "source": [
    "Podemos construir um encadeamento de funções (nosso primeiro pipeline!) para tratar automaticamente algumas das mazelas presentes em strings antes de avaliar uma condição booleana:"
   ]
  },
  {
   "cell_type": "code",
   "execution_count": 126,
   "metadata": {},
   "outputs": [
    {
     "name": "stdout",
     "output_type": "stream",
     "text": [
      "True\n"
     ]
    }
   ],
   "source": [
    "nome = '     Frida Kahlo   '\n",
    "frida_strip = nome.strip()\n",
    "frida_strip_lower = frida_strip.lower()\n",
    "frida_starts = frida_strip_lower.startswith('fri')\n",
    "print(frida_starts)"
   ]
  },
  {
   "cell_type": "code",
   "execution_count": 127,
   "metadata": {},
   "outputs": [
    {
     "name": "stdout",
     "output_type": "stream",
     "text": [
      "True\n"
     ]
    }
   ],
   "source": [
    "frida_ends = frida_strip_lower.endswith('kahlo')\n",
    "print(frida_ends)"
   ]
  },
  {
   "cell_type": "markdown",
   "metadata": {},
   "source": [
    "#### Application I\n",
    "Recebemos um arquivo com diversas colunas. Queremos contruir uma lista apenas com o nome de apenas algumas colunas desejadas."
   ]
  },
  {
   "cell_type": "code",
   "execution_count": 132,
   "metadata": {
    "ExecuteTime": {
     "end_time": "2020-07-15T01:31:25.398715Z",
     "start_time": "2020-07-15T01:31:25.394726Z"
    }
   },
   "outputs": [],
   "source": [
    "# Escolher apenas as colunas da T1\n",
    "colunas = ['T1_id', ' t1_nome', '    T1_id_fatura', 't1_cd_sku', 'T2_cd_promo', 'T3_qt_vendido', 'T4_vl_total', \n",
    "           'T5_vl_custo', 'T1_tipo_frete', 'T1_rua', 't1_num', 't1_cep', 'T1_cidade', 'T1_uf',\n",
    "           'T1_vl_frete', 'T2_tp_promo', 'T3_vl_promo', 'T4_vl_sv', 'T5_qt_doado']"
   ]
  },
  {
   "cell_type": "code",
   "execution_count": 134,
   "metadata": {},
   "outputs": [
    {
     "name": "stdout",
     "output_type": "stream",
     "text": [
      "['T1_id', ' t1_nome', '    T1_id_fatura', 't1_cd_sku', 'T1_tipo_frete', 'T1_rua', 't1_num', 't1_cep', 'T1_cidade', 'T1_uf', 'T1_vl_frete']\n"
     ]
    }
   ],
   "source": [
    "colunas_t1 = []\n",
    "for coluna in colunas:\n",
    "    if coluna.lower().strip().startswith('t1'):\n",
    "        colunas_t1.append(coluna)\n",
    "print(colunas_t1)"
   ]
  },
  {
   "cell_type": "code",
   "execution_count": 139,
   "metadata": {},
   "outputs": [
    {
     "name": "stdout",
     "output_type": "stream",
     "text": [
      "['T1_id', ' t1_nome', '    T1_id_fatura', 't1_cd_sku', 'T1_tipo_frete', 'T1_rua', 't1_num', 't1_cep', 'T1_cidade', 'T1_uf', 'T1_vl_frete']\n"
     ]
    }
   ],
   "source": [
    "columnas = [coluna for coluna in colunas if coluna.lower().strip().startswith('t1')]\n",
    "print(columnas)"
   ]
  },
  {
   "cell_type": "code",
   "execution_count": null,
   "metadata": {},
   "outputs": [],
   "source": []
  },
  {
   "cell_type": "code",
   "execution_count": null,
   "metadata": {},
   "outputs": [],
   "source": []
  },
  {
   "cell_type": "markdown",
   "metadata": {},
   "source": [
    "### `in` Operator\n",
    "\n",
    "Além dos métodos `.startswith()` e `.endswith()` podemos utilizar o operador `in` para verificar se um substring ocorre em qualquer trecho de outro string."
   ]
  },
  {
   "cell_type": "code",
   "execution_count": 135,
   "metadata": {
    "ExecuteTime": {
     "end_time": "2020-07-15T01:32:27.326315Z",
     "start_time": "2020-07-15T01:32:27.322325Z"
    }
   },
   "outputs": [
    {
     "data": {
      "text/plain": [
       "True"
      ]
     },
     "execution_count": 135,
     "metadata": {},
     "output_type": "execute_result"
    }
   ],
   "source": [
    "'a' in 'abc'"
   ]
  },
  {
   "cell_type": "code",
   "execution_count": 136,
   "metadata": {},
   "outputs": [
    {
     "data": {
      "text/plain": [
       "True"
      ]
     },
     "execution_count": 136,
     "metadata": {},
     "output_type": "execute_result"
    }
   ],
   "source": [
    "'ab' in 'abc'"
   ]
  },
  {
   "cell_type": "code",
   "execution_count": 137,
   "metadata": {},
   "outputs": [
    {
     "data": {
      "text/plain": [
       "False"
      ]
     },
     "execution_count": 137,
     "metadata": {},
     "output_type": "execute_result"
    }
   ],
   "source": [
    "'ba' in 'abc'"
   ]
  },
  {
   "cell_type": "markdown",
   "metadata": {},
   "source": [
    "#### Application II\n",
    "Novamente temos uma lista de nomes de coluna que precisamos filtrar a partir da presença de sub-strings no nome. Desta vez utilizaremos o operador `in`."
   ]
  },
  {
   "cell_type": "code",
   "execution_count": 140,
   "metadata": {},
   "outputs": [],
   "source": [
    "colunas = ['T1_id', 'T1_nome', 'T1_id_fatura', 'T1_cd_sku', 'T2_cd_promo', 'T3_qt_vendido', 'T4_vl_total', \n",
    "           'T5_vl_custo', 'T1_tipo_frete', 'T1_rua', 'T1_num', 'T1_cep', 'T1_cidade', 'T1_uf',\n",
    "           'T1_vl_frete', 'T2_tp_promo', 'T3_vl_promo', 'T4_vl_sv', 'T5_qt_doado']"
   ]
  },
  {
   "cell_type": "code",
   "execution_count": 141,
   "metadata": {},
   "outputs": [
    {
     "name": "stdout",
     "output_type": "stream",
     "text": [
      "['T1_vl_frete']\n"
     ]
    }
   ],
   "source": [
    "colunas_vl_qt = []\n",
    "for coluna in colunas:\n",
    "    if 'vl_' in coluna and 'T1' in coluna:\n",
    "        colunas_vl_qt.append(coluna)\n",
    "        \n",
    "print(colunas_vl_qt)"
   ]
  },
  {
   "cell_type": "code",
   "execution_count": 146,
   "metadata": {},
   "outputs": [
    {
     "data": {
      "text/plain": [
       "['T1_vl_frete']"
      ]
     },
     "execution_count": 146,
     "metadata": {},
     "output_type": "execute_result"
    }
   ],
   "source": [
    "columnas = [coluna for coluna in colunas if 'vl_' in coluna and 'T1' in coluna]\n",
    "columnas"
   ]
  },
  {
   "cell_type": "markdown",
   "metadata": {},
   "source": [
    "### Changing strings\n",
    "\n",
    "Por fim temos o método `.replace(\"DE\", \"PARA\")` que nos permite substituir todas a as ocorrências do sub-string `\"DE\"` pelo sub-string `\"PARA\"` em um string. **CUIDADO** o método `.replace()` não altera o string original (strings são imutáveis!) - se quisermos guardar o resultado devemos utilizar uma variável."
   ]
  },
  {
   "cell_type": "code",
   "execution_count": 147,
   "metadata": {
    "ExecuteTime": {
     "end_time": "2020-07-15T01:39:01.002185Z",
     "start_time": "2020-07-15T01:39:00.998220Z"
    }
   },
   "outputs": [
    {
     "name": "stdout",
     "output_type": "stream",
     "text": [
      "Pão\n",
      "Queijo\n",
      "Presunto\n"
     ]
    }
   ],
   "source": [
    "lista_compras = '''Pão\n",
    "Queijo\n",
    "Tomate'''\n",
    "\n",
    "print(lista_compras.replace('Tomate', 'Presunto'))"
   ]
  },
  {
   "cell_type": "code",
   "execution_count": 148,
   "metadata": {},
   "outputs": [
    {
     "name": "stdout",
     "output_type": "stream",
     "text": [
      "Pão\n",
      "Presunto\n",
      "Salame\n"
     ]
    }
   ],
   "source": [
    "novas_compras = lista_compras.replace('Queijo', 'Presunto').replace('Tomate', 'Salame')\n",
    "print(novas_compras)"
   ]
  },
  {
   "cell_type": "code",
   "execution_count": 157,
   "metadata": {},
   "outputs": [
    {
     "name": "stdout",
     "output_type": "stream",
     "text": [
      "Pão-Presunto-Salame\n"
     ]
    }
   ],
   "source": [
    "print(novas_compras.replace('\\n', '-'))"
   ]
  },
  {
   "cell_type": "markdown",
   "metadata": {},
   "source": [
    "## Challenge\n",
    "\n",
    "Vamos utilizar o que aprendemos até agora para tratar uma (a última!) lista de colunas. Precisamos criar uma nova lista que contenha todas as colunas da tabela **T1** além de todas as colunas de **valor** (reconhecidas pelo substring `vl_`). Além disso precisamos limpar os nomes, guardando apenas strings sem espaços em branco e sem letras maiúsculas."
   ]
  },
  {
   "cell_type": "code",
   "execution_count": null,
   "metadata": {},
   "outputs": [],
   "source": [
    "colunas_erradas = ['T1_id ', ' T1_nome', '  T1_id_fatura', 'T1_cd_sku', 'T2_cd_promo', 'T3_qt_vendido', 'T4_vl_total', \n",
    "                   'T5_vl_custo ', 'T1_tipo_frete ', ' T1_rua ', 'T1_num'  , 'T1_cep ', 'T1_cidade ', 'T1_uf  ',\n",
    "                   'T1_vl_frete ', '  T2_tp_promo', ' T3_vl_promo', 'T4_vl_sv       ', 'T5_qt_doado  ']"
   ]
  }
 ],
 "metadata": {
  "kernelspec": {
   "display_name": "Python 3 (ipykernel)",
   "language": "python",
   "name": "python3"
  },
  "language_info": {
   "codemirror_mode": {
    "name": "ipython",
    "version": 3
   },
   "file_extension": ".py",
   "mimetype": "text/x-python",
   "name": "python",
   "nbconvert_exporter": "python",
   "pygments_lexer": "ipython3",
   "version": "3.9.12"
  },
  "toc": {
   "base_numbering": 1,
   "nav_menu": {},
   "number_sections": true,
   "sideBar": true,
   "skip_h1_title": false,
   "title_cell": "Table of Contents",
   "title_sidebar": "Contents",
   "toc_cell": false,
   "toc_position": {},
   "toc_section_display": true,
   "toc_window_display": false
  },
  "varInspector": {
   "cols": {
    "lenName": 16,
    "lenType": 16,
    "lenVar": 40
   },
   "kernels_config": {
    "python": {
     "delete_cmd_postfix": "",
     "delete_cmd_prefix": "del ",
     "library": "var_list.py",
     "varRefreshCmd": "print(var_dic_list())"
    },
    "r": {
     "delete_cmd_postfix": ") ",
     "delete_cmd_prefix": "rm(",
     "library": "var_list.r",
     "varRefreshCmd": "cat(var_dic_list()) "
    }
   },
   "types_to_exclude": [
    "module",
    "function",
    "builtin_function_or_method",
    "instance",
    "_Feature"
   ],
   "window_display": false
  },
  "vscode": {
   "interpreter": {
    "hash": "31f2aee4e71d21fbe5cf8b01ff0e069b9275f58929596ceb00d14d90e3e16cd6"
   }
  }
 },
 "nbformat": 4,
 "nbformat_minor": 4
}
