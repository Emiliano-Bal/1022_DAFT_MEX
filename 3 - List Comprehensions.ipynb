{
 "cells": [
  {
   "cell_type": "markdown",
   "metadata": {
    "id": "8U4QS8anhGpS"
   },
   "source": [
    "# List Comprehensions\n",
    "\n",
    "**List comprehensions** are a compact way to create lists from loops. In this class we will learn to use them to write clearer code!\n",
    "\n",
    "## Creating Lists with Loops"
   ]
  },
  {
   "cell_type": "code",
   "execution_count": 21,
   "metadata": {
    "id": "O4SsmBHapfjX"
   },
   "outputs": [],
   "source": [
    "lista_orig = [1, 2, 6, 10, 24, 42]\n",
    "new_list = lista_orig"
   ]
  },
  {
   "cell_type": "code",
   "execution_count": 24,
   "metadata": {
    "colab": {
     "base_uri": "https://localhost:8080/"
    },
    "id": "U6lB1BfWrjIe",
    "outputId": "b457ed7a-febb-4447-e6a8-4e864a4dad2e"
   },
   "outputs": [
    {
     "name": "stdout",
     "output_type": "stream",
     "text": [
      "[1, 4, 6, 10, 24, 42]\n"
     ]
    }
   ],
   "source": [
    "new_list[1] = new_list[1] + 2\n",
    "print(new_list)"
   ]
  },
  {
   "cell_type": "code",
   "execution_count": 25,
   "metadata": {
    "colab": {
     "base_uri": "https://localhost:8080/"
    },
    "id": "e-yc25gerc0i",
    "outputId": "8821f2eb-b5e2-4895-c527-609e8ccf612a"
   },
   "outputs": [
    {
     "data": {
      "text/plain": [
       "[1, 4, 6, 10, 24, 42]"
      ]
     },
     "execution_count": 25,
     "metadata": {},
     "output_type": "execute_result"
    }
   ],
   "source": [
    "lista_orig"
   ]
  },
  {
   "cell_type": "code",
   "execution_count": 18,
   "metadata": {
    "id": "z32zBi96rMKO"
   },
   "outputs": [],
   "source": [
    "new_list[1] = new_list[1] + 2"
   ]
  },
  {
   "cell_type": "code",
   "execution_count": 19,
   "metadata": {
    "colab": {
     "base_uri": "https://localhost:8080/"
    },
    "id": "2ND5Z4PBrOen",
    "outputId": "e4ffb6cf-1ed5-459a-9822-9474ccd5b826"
   },
   "outputs": [
    {
     "data": {
      "text/plain": [
       "[1, 4, 6, 10, 24, 42]"
      ]
     },
     "execution_count": 19,
     "metadata": {},
     "output_type": "execute_result"
    }
   ],
   "source": [
    "lista_orig"
   ]
  },
  {
   "cell_type": "code",
   "execution_count": 17,
   "metadata": {
    "colab": {
     "base_uri": "https://localhost:8080/"
    },
    "id": "saCGuKAUhGpT",
    "outputId": "a3d8edb0-5c85-455f-bc7a-119407414b4d"
   },
   "outputs": [
    {
     "name": "stdout",
     "output_type": "stream",
     "text": [
      "['1 Pedro', '2 Pedro', '6 Pedro', '10 Pedro', '24 Pedro', '42 Pedro']\n"
     ]
    }
   ],
   "source": [
    "# create a list of squared numbers\n",
<<<<<<< HEAD
    "original_list = [1, 2, 6, 10, 24, 42]\n",
    "new_list = []\n",
    "for i in original_list:\n",
    "    new_list.append(i ** 2)\n",
=======
    "lista_vazia = []\n",
    "\n",
    "for i in lista_orig:\n",
    "  x = str(i) + ' Pedro'\n",
    "  lista_vazia.append(x)\n",
>>>>>>> d054788c2bcce974b2897466f2ef7e02fb4a73f0
    "\n",
    "print(new_list)"
   ]
  },
  {
   "cell_type": "code",
   "execution_count": 4,
   "metadata": {
    "colab": {
     "base_uri": "https://localhost:8080/"
    },
    "id": "s8Xqwqk1p5rG",
    "outputId": "6c7cdb8f-cc6f-4487-fd61-b9e4cbb7d851"
   },
   "outputs": [
    {
     "name": "stdout",
     "output_type": "stream",
     "text": [
      "[1, 2, 6, 10, 24, 42]\n",
      "[1, 4, 36, 100, 576, 1764]\n"
     ]
    }
   ],
   "source": [
    "print(lista_orig)\n",
    "print(lista_vazia)"
   ]
  },
  {
   "cell_type": "code",
   "execution_count": 6,
   "metadata": {
    "id": "m7s61mhnqDJx"
   },
   "outputs": [],
   "source": [
    "lista_ex = [1, 3, 4]"
   ]
  },
  {
   "cell_type": "code",
   "execution_count": 9,
   "metadata": {
    "id": "sjKJR0zcqThg"
   },
   "outputs": [],
   "source": [
    "sets1 = set([1,2,3])"
   ]
  },
  {
   "cell_type": "code",
   "execution_count": 12,
   "metadata": {
    "id": "Jb7tnrfNqY5u"
   },
   "outputs": [],
   "source": [
    "sets1.add(4)"
   ]
  },
  {
   "cell_type": "code",
   "execution_count": 13,
   "metadata": {
    "colab": {
     "base_uri": "https://localhost:8080/"
    },
    "id": "tO3dlGe-qaS9",
    "outputId": "21a9e5b1-60a2-4b71-9c20-0abc4d5ea61c"
   },
   "outputs": [
    {
     "data": {
      "text/plain": [
       "{1, 2, 3, 4}"
      ]
     },
     "execution_count": 13,
     "metadata": {},
     "output_type": "execute_result"
    }
   ],
   "source": [
    "sets1"
   ]
  },
  {
   "cell_type": "code",
   "execution_count": 14,
   "metadata": {
    "id": "d5RaC0fSqeVQ"
   },
   "outputs": [],
   "source": [
    "dict1 = dict()\n",
    "dict1['new_key'] = 'value'"
   ]
  },
  {
   "cell_type": "code",
   "execution_count": 15,
   "metadata": {
    "colab": {
     "base_uri": "https://localhost:8080/"
    },
    "id": "uBERcY_rqkIC",
    "outputId": "e7f39f75-b13e-476e-8c5c-c13ce19a9e69"
   },
   "outputs": [
    {
     "data": {
      "text/plain": [
       "{'new_key': 'value'}"
      ]
     },
     "execution_count": 15,
     "metadata": {},
     "output_type": "execute_result"
    }
   ],
   "source": [
    "dict1"
   ]
  },
  {
   "cell_type": "code",
   "execution_count": null,
   "metadata": {
    "id": "1-Y4geqQrHvX"
   },
   "outputs": [],
   "source": []
  },
  {
   "cell_type": "markdown",
   "metadata": {
    "id": "kcSOdnimhGpU"
   },
   "source": [
    "## Comprehensions"
   ]
  },
  {
   "cell_type": "code",
<<<<<<< HEAD
   "execution_count": 3,
=======
   "execution_count": null,
   "metadata": {
    "id": "ryxA3HaxsmQH"
   },
   "outputs": [],
   "source": []
  },
  {
   "cell_type": "code",
   "execution_count": 26,
   "metadata": {
    "colab": {
     "base_uri": "https://localhost:8080/"
    },
    "id": "1sNKM2Lpr92U",
    "outputId": "5fcb507e-3b62-4b86-afdd-bc9c8fd401b9"
   },
   "outputs": [
    {
     "data": {
      "text/plain": [
       "[1, 2, 6, 10, 24, 42]"
      ]
     },
     "execution_count": 26,
     "metadata": {},
     "output_type": "execute_result"
    }
   ],
   "source": [
    "lista_orig = [1, 2, 6, 10, 24, 42]\n",
    "lista_orig"
   ]
  },
  {
   "cell_type": "code",
   "execution_count": 29,
   "metadata": {
    "colab": {
     "base_uri": "https://localhost:8080/"
    },
    "id": "XSQNAMZFsANi",
    "outputId": "f8a0de71-aa79-431d-b08e-b8d6e0a2e3b2"
   },
   "outputs": [
    {
     "data": {
      "text/plain": [
       "[1, 4, 36, 100, 576, 1764]"
      ]
     },
     "execution_count": 29,
     "metadata": {},
     "output_type": "execute_result"
    }
   ],
   "source": [
    "[item ** 2 for item in lista_orig]"
   ]
  },
  {
   "cell_type": "markdown",
   "metadata": {
    "id": "vFVR3p4JsNuV"
   },
   "source": [
    "* first part `[item ...` - WHAT WE WANT\n",
    "* second part `...for item in lista_orig]` - WHERE WE GET IT "
   ]
  },
  {
   "cell_type": "code",
   "execution_count": 30,
>>>>>>> d054788c2bcce974b2897466f2ef7e02fb4a73f0
   "metadata": {
    "ExecuteTime": {
     "end_time": "2020-06-03T14:42:07.887522Z",
     "start_time": "2020-06-03T14:42:07.883533Z"
    },
    "colab": {
     "base_uri": "https://localhost:8080/"
    },
    "id": "gM9VrdmfhGpV",
    "outputId": "ad68209d-9be2-40e9-b4b0-93f43d2b8683"
   },
   "outputs": [
    {
     "name": "stdout",
     "output_type": "stream",
     "text": [
      "[1, 4, 36, 100, 576, 1764]\n"
     ]
    }
   ],
   "source": [
<<<<<<< HEAD
    "original_list = [1, 2, 6, 10, 24, 42]\n",
    "new_list = [item**2 for item in original_list]\n",
    "print(new_list)"
=======
    "new_lc = [item**2 for item in lista_orig]\n",
    "print(new_lc)"
>>>>>>> d054788c2bcce974b2897466f2ef7e02fb4a73f0
   ]
  },
  {
   "cell_type": "code",
<<<<<<< HEAD
   "execution_count": 4,
   "metadata": {},
=======
   "execution_count": 31,
   "metadata": {
    "colab": {
     "base_uri": "https://localhost:8080/"
    },
    "id": "eRI-Vz7nsm6o",
    "outputId": "0f9541fb-cfa2-417b-8ea6-420f47acd62e"
   },
   "outputs": [
    {
     "name": "stdout",
     "output_type": "stream",
     "text": [
      "[1, 4, 36, 100, 576, 1764]\n"
     ]
    }
   ],
   "source": [
    "# create a list of squared numbers\n",
    "lista_vazia = []\n",
    "\n",
    "for i in lista_orig:\n",
    "  x = i ** 2\n",
    "  lista_vazia.append(x)\n",
    "\n",
    "print(lista_vazia)"
   ]
  },
  {
   "cell_type": "code",
   "execution_count": 32,
   "metadata": {
    "colab": {
     "base_uri": "https://localhost:8080/"
    },
    "id": "UvlC3ZEthGpV",
    "outputId": "819dfc0b-2001-43a7-c805-3cf7da5353b3"
   },
>>>>>>> d054788c2bcce974b2897466f2ef7e02fb4a73f0
   "outputs": [
    {
     "data": {
      "text/plain": [
       "[0, 1, 2, 3, 4, 5, 6, 7, 8, 9]"
      ]
     },
<<<<<<< HEAD
     "execution_count": 4,
=======
     "execution_count": 32,
>>>>>>> d054788c2bcce974b2897466f2ef7e02fb4a73f0
     "metadata": {},
     "output_type": "execute_result"
    }
   ],
   "source": [
    "[item for item in range(10)]"
   ]
  },
  {
   "cell_type": "code",
<<<<<<< HEAD
   "execution_count": 11,
   "metadata": {
    "scrolled": true
   },
   "outputs": [
    {
     "name": "stdout",
     "output_type": "stream",
     "text": [
      "[2, 4, 6, 8, 10, 12, 14]\n"
     ]
    }
   ],
   "source": [
    "list_orig = [1,2,3,4,5,6,7,8,9,10,11,12,13,14]\n",
    "even_numbers = [num for num in list_orig if num%2 == 0]\n",
    "print(even_numbers)"
   ]
  },
  {
   "cell_type": "code",
   "execution_count": 18,
   "metadata": {},
   "outputs": [
    {
     "data": {
      "text/plain": [
       "[0, 5, 10, 15, 20]"
      ]
     },
     "execution_count": 18,
=======
   "execution_count": 35,
   "metadata": {
    "colab": {
     "base_uri": "https://localhost:8080/"
    },
    "id": "j4IXQRkes_Rl",
    "outputId": "da71d0eb-75fe-44a8-bed2-c79f3f08bfa3"
   },
   "outputs": [
    {
     "data": {
      "text/plain": [
       "[0.5, 1.0, 1.5]"
      ]
     },
     "execution_count": 35,
>>>>>>> d054788c2bcce974b2897466f2ef7e02fb4a73f0
     "metadata": {},
     "output_type": "execute_result"
    }
   ],
   "source": [
<<<<<<< HEAD
    "[i for i in range(25) if i%5 == 0]"
=======
    "[item/2 for item in set([1,2,3])]"
>>>>>>> d054788c2bcce974b2897466f2ef7e02fb4a73f0
   ]
  },
  {
   "cell_type": "markdown",
   "metadata": {
    "id": "oDw5ZM2ghGpV"
   },
   "source": [
    "## Functions in `list comprehensions`"
   ]
  },
  {
   "cell_type": "code",
<<<<<<< HEAD
   "execution_count": 27,
   "metadata": {},
=======
   "execution_count": 36,
   "metadata": {
    "colab": {
     "base_uri": "https://localhost:8080/"
    },
    "id": "5juHGh5YhGpV",
    "outputId": "25c2f41b-9e58-4b93-ba5a-5e4efee170b0"
   },
>>>>>>> d054788c2bcce974b2897466f2ef7e02fb4a73f0
   "outputs": [
    {
     "data": {
      "text/plain": [
       "16"
      ]
     },
<<<<<<< HEAD
     "execution_count": 27,
=======
     "execution_count": 36,
>>>>>>> d054788c2bcce974b2897466f2ef7e02fb4a73f0
     "metadata": {},
     "output_type": "execute_result"
    }
   ],
   "source": [
    "def cuadrado(x):\n",
    "    '''\n",
    "    Regresa el cuadrado de un numero \n",
    "    Parameters:\n",
    "        x Float: número a ser elevado al cuadrado\n",
    "    Returns:\n",
    "        Float: x al cuadrado\n",
    "    '''\n",
    "    return x ** 2\n",
    "\n",
    "quadrado(4)"
   ]
  },
  {
   "cell_type": "code",
<<<<<<< HEAD
   "execution_count": 28,
   "metadata": {},
=======
   "execution_count": null,
   "metadata": {
    "id": "s8yVUnjpuHfN"
   },
>>>>>>> d054788c2bcce974b2897466f2ef7e02fb4a73f0
   "outputs": [],
   "source": []
  },
  {
   "cell_type": "code",
   "execution_count": 37,
   "metadata": {
    "colab": {
     "base_uri": "https://localhost:8080/"
    },
    "id": "JqCB7g4LtoCx",
    "outputId": "e117c070-c084-42dd-ff52-ce04e5688b84"
   },
   "outputs": [
    {
     "data": {
      "text/plain": [
       "4"
      ]
     },
     "execution_count": 37,
     "metadata": {},
     "output_type": "execute_result"
    }
   ],
   "source": [
<<<<<<< HEAD
    "new_list = [cuadrado(x) for x in range(10)]"
=======
    "quadrado(2)"
>>>>>>> d054788c2bcce974b2897466f2ef7e02fb4a73f0
   ]
  },
  {
   "cell_type": "code",
<<<<<<< HEAD
   "execution_count": 29,
   "metadata": {},
=======
   "execution_count": 48,
   "metadata": {
    "colab": {
     "base_uri": "https://localhost:8080/"
    },
    "id": "eUm8gCsFuNkY",
    "outputId": "3bc4dd60-cb46-45aa-85f3-e5b8c8c695b0"
   },
   "outputs": [
    {
     "data": {
      "text/plain": [
       "[[2, 3], [1, 2], [1, 2, 3, 4, 5, 6]]"
      ]
     },
     "execution_count": 48,
     "metadata": {},
     "output_type": "execute_result"
    }
   ],
   "source": [
    "l_o_l = [[2,3], [1, 2], [1,2,3,4,5,6]]\n",
    "l_o_l"
   ]
  },
  {
   "cell_type": "code",
   "execution_count": 49,
   "metadata": {
    "colab": {
     "base_uri": "https://localhost:8080/"
    },
    "id": "4UkdgSqehGpW",
    "outputId": "8b05dcd8-b4ae-47a9-abe3-050e7f0b0697"
   },
>>>>>>> d054788c2bcce974b2897466f2ef7e02fb4a73f0
   "outputs": [
    {
     "name": "stdout",
     "output_type": "stream",
     "text": [
      "[[2, 3], [1, 2], [1, 2]]\n"
     ]
    }
   ],
   "source": [
<<<<<<< HEAD
    "print(new_list)"
   ]
  },
  {
   "attachments": {
    "image.png": {
     "image/png": "iVBORw0KGgoAAAANSUhEUgAAAw0AAAC4CAYAAAChDgC7AAAAAXNSR0IArs4c6QAAAARnQU1BAACxjwv8YQUAAAAJcEhZcwAAFiUAABYlAUlSJPAAAKHzSURBVHhe7Z0HYBRFF8dfCiWU0HvvvTdp0gWBT3pHERVFQEEsgIqIBQFFlKo0C72ICNJ77713CL2EkIT0st/83+5eLpdLuAup+H7wsrezs7Ozs7Mz82bezLpoCtIoZeNs/FyMrTPnxeccgPNSevoJgiAIgiAIwjOQdEqDNKwtRKokFwRBEARBEITUQsIpDQgjll73eAVvNqxdXNRPx0OAXxd1jjOY4cfnvPheSxAEQRAEQRBSCwmrNNgBztYNZecazfBrKg2On+fi4spbTYvkrSPE5xyA85yNnyAIgiAIgiCkJhJcabBnemMqCvYa5GZj3R7ONuBTC2Z6CIIgCIIgCEJqIMmUBlMBMBvMMOuJS2EA8At/z6vyIAiCIAiCIAipgURXGiIjI6MUhkirY8ZUANe4RhoQKIfn3LyBlEykdRoIgiAIgiAIQiogwZQG1gtU2x7B8b5lq5QG1VA296FEWBQLcxsH5nnPC7JykiAIgiAIgpDaeDalweo8szFsrSxAQdB3otwjeOQBSkR0ZcIWhMfjC2yeZN+PLaY/N1dXjpoz57mqc3A9Rxv1OEc3sXIufrhvNzd37BiuTwc+rdOCV2yK63yrOOE8y/lPwQzRDN/p85TwOU+Ln8L2Wo7C4eOHcY9PjZ+9tEjK+D3tfHvx4724MUM0w3fmPPaXVPEztg6dZ+9aT4ufwnItB/xaw+Hjh3HdpIqf5bpPweLPjN/TrmUvfrwXN2aISR0/Z4hxLfyOC5tr8flPi5/CPOqIX2s4fPx4lvjxXtzYxs+Z89ifGb+n3V8yxA9YrvW0+Clsr+UoHD5+GPf41PjZS4ukjN/TzrcXP96LGzNEM3xnzmN/SRU/Y+vQefau9bT4KSzXcsCvNRw+fhjXTar4Wa77FCz+zPg97Vr24sd7UcRPabDjH41t82K4TER4GIVHRHAkXRFRA/jTlYm4L2quSmSaNjkCJ4giMlydg59KTLe4gJ/IiKjruLg6dg7HzzA3cuwcpZio8yLCwtWO4egACDuaaZcDmPFx6jx1Ct9XPK7Fz96ZS8Unfor4poXT8UO+Uf+TKn6IW9T74wDP8qziEz+FU+c9S/yeu7yk/0mq+AGnzkvpzyqlx0/B14rHOfLe63D8nrv3HomRdPGTvKQTr2cVn/gp4psWzucl/U9SxQ/Edt4zKQ3WvfJmZjUVgjDVMA4PC+MbdXd354cP5cE8x/QfN9aKyNMxJ1Y7o2ioszhuzp0Tn2up+3fVz4mMjOCto5gKFNLDUeKTFlzIqXjGLy2S4Fmp+OFf4j+reMYvyfJSfOOnn8cvfCI/qxSfl1LLs5L3PsXHD3GTvKST4p+Vip/UITrxi59+ntQh4L/53ieo0oCL8MRnpaGEhIRQaFgoN5TTpUvPW3PEgW/BwQfqqL/UgP4S6Pek/3IMMwVS4jlA4hcFzkvp8QOJfS2JXxTPcq2UHj+Q2NdK6fEDOC+lxw8k9rUkflE8y7VSevxAYl9L4hfFs1wroeOXwCMNGkWER7BZUnBQEIWFh/Eog4eHhzrmwnMNnOV5VBoEQRAEQRAEITWRKEpDcEiwUhqClfIQTmnSpKVMmTKxH4w0ONtwfp6UBkEQBEEQBEFIjTjf9W8FlABTdPQtvkUQERlBoaFhpEVGOj08IgiCIAiCIAhCyuGZlIaYaDz6gLkNmNcQERGuJMIyATg+YGQiKUQQBEEQBEEQBPvErzWPNrZNO9tseGNlIDYpUrvhYUppUPs4ZpkEzUpFyhNBEITEIDQ01PglmKDMRYeSIAiCkHp4tpEGU3lQoje+2dXSCMecBpgq2SoYgiAI/xVkJFMQBEF4Hng2pQG6gSkAigOUBGMfH0xzdl1ZQRAEQRAEQRBSFs88pwFzGCLwbQZ8owFzGczhBkEQBEEQBEEQngueSWmwXnLVHrrJkjH6IAiCIAiCIAhCquSZRxoEQRAEQRAEQXi+eSalwXqCn5glCYIgCIIgpC7QekMbDibmkZGRvLJZeHg4S1hYGAtWgQuBhIREidqHO/sJD2P/OBeCcEyTdWkdPj/E74vQJuo8/bsMEP3bDMhAwcHBKjOF0MMHD8kziyflz5dflApBEOIFKqL79+8be87h6uZGefPkMfaSB1SoadKkMfYEgPoAjQo39XwE4XkGef3uvXt0X0lAQADlyp2bsmXLRjlz5DB8JD/cOlPx3LdvHx0/ftxo8JttNrTvjF9WbuaymGbnsfUWv9KmTUuNGzemEiVKwFEW0XxOSBClAZjfZwgNEaVBEIRnJ417Gtq+czstWLCQ3N3dDVfnQAVWpEhh6t27t6qkcxquSQsqYJ/Hj7lctB6djQ+ZMmWiLJ6eqb48RfxFaRCeV9Ko8srX35/WrVtH27Zt4w/cIr8j3+M3JHv2bNShQ0eqXKkyt5+Sm/Pnz9Nvv/1Gvn5+hsuzgbIOHTaDBw+mLFmyGK5Caif+SoPVOVAcUoLSgIZFfL4+jZ7ApIjf00Dc42ocodDBsF9KiKujPO2eAHqScW+CYE06j3TUqWPnZ65wkLfeevMtqlWrpuGStDx48ICGDR/+zAoDqFatGvV9/XXKmDGj4ZI0IO5m+QqzhGcFZVhyKg24H4iUO0JCg3dk3/799Mcff3DbAvnMrLdRc6MUgB8I3GvUqE5DBg9hK43kqtvxHmzevJn+Wr48QcopE9zPe4MGUcWKFVNVu0WInWcbaQDGubzsqhJUKMmlNEydOpWOHD3KcXA04+fKlYsGDhigD6ElI4jv/oMHafKkSYZLTKpUrkwdO3Wi4sWKGS4pn+07ttPs2XNiff7oOX23f3+qrO5NEKy57uVFo0ePpnTp0hku8adVq1bUpnXreI9YPAuPHj2i78aOTZAyEJVvt65dycPDw3BJGh4+fEizZs2ifQcO0OpVqywdLdjiq//Ogm/44Lkmx/NAQ+3ipUvkre6pplIk06VNx3UGOi/iA54FGoCCgPdh85YttHLlSjaNTJc2LdWr9wLVrFmb6233tO7k/9iPLl25Qnv27KYzZ86Sn58fm/IMGTKESqp2SHLkJSgNW1S8/16xwnBJGFBGDBo4kCpUqJAkbUAh8XlmpcHMB6YmHZqMSsPs2bPpxMmTTikNOXPmpDffeIOKFi1quCQPiC8UnhkzZhgu9kHF9vbbb1OtmsnTa+ose/bsoXnz58f6/KE0vP56H6pQvoLhkrLgnkgnO15cXaQBkRDcvHWLvvjiiwRRGlorhaH1yy8nS8823tnHvr56r6PhFl8yZMhAnp6exl7SgXu4pBrakyZPphm//sr7QUFB9I9qHJ09e8bw5Th5cuehXr16JYvZwtWrV2n2nDl09+5datCgPvV7qx+tWbOG9uzda/hwHHeVn97q10/dT27DRfivAgUY78O///5L2bNnp/r161PDBg34fbVX/6HNdOHCBVq3fj1vwRuqLZIcdbupNCAeeRJoDhjuGCZPHdq3F6XhOcLtS4Xx23lUHjAzAn/5Wf1GZYKXARIYGEjp0qejzJkzs5/E5rrXdQp4EkCZ1PVwTYiraoxjhj9A4yO3KtzNYxAoDZUqVuTfyQmUhjuqEjt8+DDvlyldmlq+9BKVVy9b+XLleCIlzBzgz8vLi6pWrZrkvY3xAb2sXtevc2PnyZMnFmUO6Z5RuWVVjYbKVSpT9mzZ2T0lgd6f2XNm04P7D6hQwULk5h69wRkSHEIbN27kyWNlSpch9zR6r6mjCmtSAAXa57EP+fr6cfpDoNSbvaPIU+jpgru/ksCgQHJzdUsRE3f9/P1p69atCdIbXapUKZbk6MVDWZhZKccQKMm2AlMjmHiGGeVUXKRReTJ9AihRzmKaUuzatYvatmnDjYzwiHC6rBQJHx8fVsacEZQHlSpVovTp0xtXSDoe+z6mY8eOcp4vUqQIm3xBIYKSinfXGXFT6VK9enXKlMTmYs8r+w8coFMnT1LevHktnQUHDx6kk6dO8eRhvC93792lQ4cOUXBIMNfnKaExivJy67Zt9Ndff3Gd1qlTJ2qglIa48jfeKVg6lCtbVtWT3nTz5i1e8KFkyZKW9gjyWFKANIQynUele6uWLbmRX758+WcS3Mf1a9eoQIEC/JyE54P4jTRY+YdZEogxp0E1VtBg5JGG/PktH3hLzBccNoGo2KzZt38fLVy4iCuqwoUL0xt9+0brqcNLicZhcjQmrEE89qrGJ+wgQZMmjalH9x7cOwmgjI349FNWxFAQvf7661RZVbpJVajEFzwP5AU0Ul/r04cL/YKqEMHkKDwTgMohudMf+RgNAIA0RT4dO24sXbt2nbJmzUJv93ubihcvzsdNzp47S7NmzeZnUqxYUbZLxb2Yedw6zKQGDW2Yhm3YsJH8VePbGhTgGDJGb9i3337Lyqo1eC41a9ag/7X9HzdoE/OdjYvnZaQBeRt5yrZsMkGnBswZ9jrQ040Ojm7du1OGZOgwQM88yqB5c+dGN0+K5b7iAudCCYdpUFIDhQcNJG9VP1WrWpUbfLgPlLHxISWUX88LM2bOZCXhw6FD2RQPz2TOnDlcNw79YIhSNCtzbzjXkyrJx44dSyFBzz7H5llBfh44aBD/btG8ObVr107v1EO2UMUnOphswZwtEBai3iX17+uvvqbbd+5Q06ZN6X//+5+l4wY1vFknJVZ9j3di2/ZtXG80bNAwQa6Dd2r+ggVUt+4L3KkmPB+kupIOmRkZGy+UraCBA4UAAk0dLy3cTVCwp1MNbribggZ4SizwcZ+IFxo5EC6ADFB4xKeiTg4Q96xZs9LKVStZOUPc69Wvz8/KfAYpLf2hBPww4QdWGBDfDu07cK+JLTCp6t6tK1dsV65cpem/TOfer+QGjRiYX/z++x90+/Zt8vX1jSZQIswKCL9tjz9+/Jg2b95Cv86YQQEqLYRn44pqoJ47f55XVLGLehYw9cGIz9MEzwNzx5KDfPny0YL58y0dGcg/eKfN99gZQbnr8szGWvED5Q3e5xfq1LHUD9jai6cjkhLrj9QKj2Cp8hRbkyg3vfMC+TC9SverV67RrRu3UkT6//333xxPxKW5UhpQ7y1evJi6dulGUyZPidFZAX9fffkVjRnzHZe5UCz69+/P9fq5c+d0NwOzyyZ5um4EITrxNk9CowOZmM2S1C+MJGCIHZneFFSEFvOkBMrxqDjnzZtHK1asYNOF2ASNJfRUeN3wouPHT/BLisZrzZo1k2VI/GmgAr558yavkQwKFSrEDWtvb2+6d+8ebVH3dPnyZU532AG3a/cKV9g4L6WDyV+ffz6SRxmyZ8vGE1KT2xzMFqQrTNmgMCxdupROnDjJeeaNN/pSg/oN7CppOKd4yeI8bH7ixAl+VhhVQYMEiq0ZZlKCxs+/q1fz+4ERBeSTN994k9q1b0dt27Rm05ImjZvwO4B7atCgAbUx3Nu2bcu98SVKFKf79++p/HaF7wcjWsnB82KeFKYaPB999BGVKVuWcmTPHiMOeGalVJ6BMo1exrikdq1ayfLuIC9DWUB+QAMOjaBnKXsQHhpZto2ppARxSK3wwiMq/hjVD1D1bJDaQgdD3oK7eW9PAgK4HsZolvnMuN42woASijDwbPlZWB03JSnrmEOHD9OtW7eofr16bFuPPHLkyBG6ceMG1VNuMFtCeYCODUxmR9lbrlw5u+VzUoE4zp03l7/BAJNimA6j0b9w0SJ+DrdUWyRL1ixs6QDSpklL8xfOp8PqvrwferMSZNb3165d4/uqXbuWaq9kY//AfAaJ9SwQz2vXr3H+KVK4SIJcB+ly8uRJdW8Fk225ayHhiX8NaidTJUXRgsyMSYUwqYhLHvn4GGekTnbs2Eljx42j73/4gX6eNIknKaGyRi9yt27dKFPGTIbPlM/WzVu5QASFChdKcQqDSZCqQDds3EBHjh7hyujNN9+genXrWXpW7YGhcQzn9u37OuVQBSMmfmPpuhBU4skARg7++WcFx/9/Sglo2qQppzfMQIKD8RVP3XyQ5zAov7opIb7yGUrubu6sTFSpXIVe7/M6FSxYUDXat5D3I+9kaWw/L6BChinYlClTaOeuXZY5ViY4joYQ7OKfJpjTYDYIkxI0PrEqDGy2Mc8HCjLAyJqfv5/TEhQcxOcnB1DiMC/s7Nmz/B6gTkHZivfBWcH5yQHMHn1VwxkdaCM//5w++fhjWrJ4sYqTHwWqZwW5rRrfEydOpGHDhtHXX39Nu3fv4jgHqDg/UduTJ0+weQ+Of/XVV6rO2UERKh3Q0WEtKQ3kfyg4KJNgAp1YDWlHwbwwvJJQXKpVr8bxQ4ceVmREOYzvxBSzWvEQc4GqVKnCZttQFvIpRQjgvAoVK/B9+fn6WdpTlm0KfBbCf494z2nAKTjV/CgJltDDPuYVoDcKkhhzGlDozZo927LaQGxgCU8s5blLFZR//jmXCxmskPTOO+/wRKWUBgoE6zkN9kDawZYZ9o740iJI6QUJGhfjxo/nESJMfuzatSubBaQ03FSjbfr0aXTq1Gnu4erUqSOVK1vOqfx65uwZWrZsGT186M3L476j8l94HApHYnD8+DGaPGUq5cuXlz7/7HPLfABUYqNVwwDmFLFhPd8HFSDuZcPGjby6FZSPuJSnxMCZOQ14TqikEe/r168brlEk55yG+6pRMWrUKP4NpQxxadyokcU0Bo1YTDA2RxnjAqMlzZs1cyhNEhKU6+gBXrVqFb8r/fr1Q6Kzgvy0stge2ZQS9YoqxzD6m9QgfyxYuJAe3L9PtWrVotdee41XTtq9e7fhw3GQn3r17MlKYVKCcn/d+nW0YsU/hov+DhQvXky963reQGMW5a9ZR6D8RUcA9uEXx0zlDyBvYk1927lbSQnmNGBuz8cffcR1OJQ5LPW7e88e+ujDD7mxDTf0YE+dNo2qqv3BQwbbnTOQVKCHftq06TyJeb5S4sxyEnUengHSHaMJtty4eUPlH3deecssly5evEg/KkXPHPnFaBCeXmLX8xgVkDkNgiOkuu5DmLhgydFxY8fSD99/T/Xq1TWOEPXo0YPGjxvHx/qoiiA1kztXLqpQAasQlGMpUCA/N4gwDA3zk2MONDBSAsdUI9bszUPhiXtKiWBNbQyDo3GUI0cOKlG8hFMKAyhWtBg3gqAwHz5ySFUESf96BQbpPbimrbmJi6sLTzA8duxYrIJ4m6DySO+Rnp8bTLaSy/7cFjM+qORM8JzQ4EFvK1b+wKpcKRXEHZNww63MKUxFx94zsRWs8oNGU1KD9EUnUNp0aemDIUPIQ+1D2bly5QorO87KqVOnouW3pARmJGjg4cu3SE/07EIhspfeTxPcS3KMNuA9sG7wA7idPXvOEjfcI9xMEE/E14w3zF6twTuFUaDkBF87x/PAilzWcbfF30+fl4WRkRRSNHF8XN2jynx0wKAjw57CALAiX351zLojA3MuLajwEOazdbM6D9I9IDCAli37i83FsI8l9Jf//TetXbuO9zFCjaVil/31F5ugo0w6eOgQLVm6NEHMSYWUS6obabAGmXP+gvm0bdt23scax3Vq147WoEitIw3Nmzejnr16UkSYnr44jg+vYJUV3EuNGjXozTffTCnlpV1Q+OOjVrDTxHNHD2nnzp2NoykLzMdBz+P3P3xP/v5PeP12zAVAfnYE5MU//vyDzco8PTPTiOEjKGu2bEk+vH/5ymWeXAfl5bNPP7X0gOJZYDKudQVlC2xuzcm6eH/xfY2dO3fSkA8GU83qNZO8sWpvpAG2zDC5+FnJY9XoA+jRGzNmDH88CfkMPZCYY2JNShlpgLkCelGxtQY20A9tGoH2wHymnEqpTWrQAP11xq+qkRbB78TbqhwtWqQIf/QNS/o6S+bMnjy/wxxtSUqwtDDK0SuXL1Ov3r15PglGsGHW6iwol0sUL56g9ZqjnDlzhib+9JOlkYZ39u23+1GuXPrylps2buSGHNIY8cufPx917dqN96Go4t1GRwLuAcfR0fDtN98kq/kolrBeumwZ1VL126DB77H5p+1IA+L++x+/c1nbs0cPelm9146W04kB6rdp06fzqMK0qVO5swZpijIX26eB9orZZoEy98uvv3JZ1bpNG3ZDGCy8lzjg+uZIA0aV1yuF4JNhn1CLFi1o9JejuTx97/33uD5ZtHAR3fC6QcOGD+PlbzEy5PvYl77+5mvVFtvG4eTIloPzo4w0PH+I0pBCQKFgrTQ0bdqEl1y1bqhduXqFvv12DBfuWOMc5iToAUxJ6HlCT//zF86rtP9TNYj82O2771RjVqU9CtOUBoaB0WBGRTznt994eclWrVpSr569HMqzmAi3ffsOVWHnpHfefoeH+NETm9RLrmIZv8HvD2bFp2HDBtSxQ0fOL6hxMGfBxKzMrO8NlTGAze3ZM2dVxfwH/57886QEfW8dxVZpwPv+wQcf8DdM0Mj7ZNgwzletW7/MK1yhzAGYzzR+/PhoK5Akt9KA+0BjAoocJqhbl1GpAUymxRwAfOMA+aRO7Trck+pow8gWhIG6gvNmEoP48nXVqxkeqn9XCG7xLZfM9yapQZm1fft2bmhjFOG1116lBuqdxz0BLEAxdfJUOnX6NH8X56033+Q1800wUoHGt5dqAGJ0deDAgZQta9ZkeddNMMLwhVKwkd+gwOA7Blhy1VQaYLKEkbqZSpG4c+cOTZ0yhevAZI2zUprHj/+eFetBgwZStarV+HlgjsiTgEAVt9jzB/Jdjeo1eEQC/LPyH1q3bj19qO61aNEi7OZifCyU3zX+lfCgPDKVBiz8gTLXHDUJDdYn0bul0ctO7CMuyF8Aih3206TTOwBwHM9DzJOeT57t424K82U1tyhATUmM1ZOsQUaFbSOWxgT4SA++AWBdgKTW1ZNy5czFBb3+YS5fXmVh69Zt3JjFvaBRio8KxafCTkxgrgD7YCwziRWI8MEa83mgd/WeKlhxX8nRwxgXiCNSEnkEZlSokMxGEoaRY5sLgImHCxctpF27dnMF16FDBypbrqwKS++9S/KJhCqpCxcuQqdVQ+H6dS91H7e5gQ3zC5jAQPCxOjQSUEHgI0kXL11kd7wr2O7ff4B7mlBRdOnShSfrJQfWqydBsDIJbND5Wal0RaMVkwjR02j9zuNZwXYbJjBomMJvcq6ehJ5tvBdDlcKDvG8dV4AKG6NA6PXFyilxCUxrkM+S+j7wvsLMAhM6YbpnKnK4l/gI7hmSHEoc4DoqXP+2kIltHB2V5AAjo8jX6Ahr1qwZvwPonAsP05crheB3NVVHtGzZkho2bEgZM2Xi5XrN46gHX6jzAr9XOI6PBtq7n6SsY/DuIh5eN25wJxrM4G7eukn37t2nMmXK8KqIK1et4tHFXr16cmMb95KceKT34HobnaShISHcDsF9nD5zhhU6lKloo9gTdApiBTvUOTD5Wf7Xcs6baGh7emZRaa8r5eYzSKxngeduWT2pSBFOU7wfEGC7D/9x7QOcI6snPX+I0pBCQGFgrTT4PH5MJ9S9wc7+yJGjdPDQQb5P+EOFjbWgUYknViESXw4fOcy2kFgeFjaz5rNAPM3VSjBKElsjPLlAPHm1EJVP0BuXN08eunDxAi876u39kAtScwUoEygWi5csocOHsdpSVp7kjV4msyFkhpmU4JpomMJ0BCvUnD59hoeWT548ZRFUvGh8Y37QjBkzaM+evZZjaGhjZRnMoWnTpg33giV1A9XEWmnAF0bbt2tnaawiTrAHRkMCx23BZPZiqkGFpYrR4E1OpQF5v2aNGrFOloVig3iigYFJxXEJGhkVK1RIcqUbiuemTZu4IQdFE8rDs7zDyKdoVCSX0oAV+DAiZU78T20gTyWVJDVYshpKP0YODx8+zGY/GFVBuQVzK9TxrZSSVKum3oGQEsBkZkykR72NcgkKHBSaNGnTkNd1L7umnahnOnbsSIXUvWLkCyZzmKuIpeLr1KnDZZ3lORjnJNbzQDrKkquCI4h5UgoBLymGYGfPnm24xAT3BUVsxIjh/GEx3FNiFSLxBSt6zJ+/IFazg5IlS/DXldHTnZJApWRtSoR0xdrg3475lhubmHxvu8wterumTZ/GjWyYn+TOlTtao9Q2zKQGPVcY7od5DN5HM6+gJ69s2bJcKUFJDVbHAN5N9zTulDtnLh4VQqMwuRQGYJonodOhXt26lF8pMs6Aiej79u7nHvrkNE96Gkh3fAkWjaKnYSqESf3eIy/BLARLr2LpWHxJHO8wlvHEKJazoHe2Q8cOlMY96UccoezPnz+f8xd62bFKDUZHT6kGjgmUfUdqKuSnl1q2tCybKSQcZjsCzwrKQn9Vd6PzAGmOjr+UVPehLMXytRhdQEfGO6q+wPwjKAtQuLdu20onjp/g+0FnTb369ahmjZo8wuCR0YN2bN9Bc+b8xmVu927dWGmwvj+MLIHE6oRC20JWTxIcIdUrDfPmz2OzHfDWW2/FUBp27tpJf0BpUI0f9I7hq4spVWmApg/NPDYwsoDCBjaD5j2mpIITXLp8mU6fPhVr4wyN0erVqqe4kQZ7DXw0mPGNAvTqxvZdDIychIWHUY7sOaLlO5DcSoMJ8oh1LjHfXRDXseQGJgoYCEWFjLSNT7xwf3iOrVq14o8K2huVSAqepnzxc3DgXUY62OazpABxg832mO/0L9hiXX98qHHuvHl05PBhw5fj5MyVi95/7z0eEUpqMOIJO3msnoTRKOSxv5Yvp39WrjR8KBzMa8hPn332Gfd+C4mDvSVXUyKYT/Z2v3e4sYxVHXv36s31IMotbM0yAPvme4z8s2//Pvr11xn8u1LFijRo0CC77zgUh8RWGtDZV79efYfKoqeB57Rg4QJWgERpeH5I1UoDXkQM659TlQCoW68er49vfQ2YmKz+dzU33nLlzs0rEmBZt5QICpW4GjV4sc0C07zHhHi5ExI8k9gUBoB44x4SMh8kBLE18PFMENfY4ms29uwV8ilFaUitoBJ+tfdrz2yK4+rqQm+91Y+qVa1quCQtyENHjh419p4N9O6jgZrU7z3KcyhxWDL2xx9/1Ecasmfn1VIwIucsMPXr2q1rsow0YGQECzTcuHmTXlbKJOYhYdKq9YpbjqYvni3M+FDHCYlDalEakGduqLyFZd9hEYARwVdffZXzBo4hr2CLugT1Bfzg/Vmzdi2fj84RjKxiMrpt/uNzlCSm0rBj504eTezapQt/RPJZeeTtzaNEr7R7hUqVLGW4CqmdVK00/JfhdFQFSMpSGVIvKDRRqCckiRHmfwko0PjC9vYdO9Ve/MsNlD9oHCb1B7hMsJTqyJEjjb1nA42m11RDBGYNSYmvny9t3LiJRxvQk9q7Vy9WYPD9D0cb2NaYE3bj6iRJTDCfAZPKCxcqJHVSCue3336jXbt30+D33+fFP1Kq0gCQl86fP8/fUsJSrHhXSpcqRaXLlKZ8+fKzaShGuG7fvsUr1GGZX7zLmOeHOVuYdwnsKQ2Q+LxrjoJ3/O+/V/DvhLgO2oAw22v1cqtk6RwQEgdRGgRBSNHAnj5ElSvxAVUfKuWEbpyaNsaOgK+Cr12n9yY6CxrW1pfCBNHq1aolW2NbEJKa7Tt2EL5036rVy1SubFleZCWlg8nbx47rHzLEAgb2Rt8xLwOdAFWrVuUvW1tjNtqTur2E+RfoGEC586y4p0lDeZXSgBWwhOcHURoEQRASmfj2jnLhbFVkYuQqLvM/QXjeQJsC70/adOnIPRXlfV5BMjiYgoOCeAlymMXBvC9nzhw86oBVkzC3z1wlSRBSA6I0CIIgCIIgJBJQCkzhJpchgpDaEINrQRAEQRCERAIKAkx+MPqgmxyKwiCkTkRpEARBEARBEAQhTkRpEARBEARBEAQhTkRpEARBEARBEAQhTkRpEARBEARBEAQhTkRpEARBEARBEAQhTkRpEARBEARBEAQhTkRpEARBEARBEAQhTkRpEARBEARBEAQhTkRpEARBEARBEAQhTp5ZaXB1dSMXF1dycXUxXKK+fqjvEKVJk0b/rbD+nHpiiSAIgiAIgiAICUfCjTQ87avoSdWWF51BEARBEARBEBKUJDNP4lEA1yQQGWkQBEEQBEEQhATFRYMt0dNGCWxR/nEKTuVdmCNFRLBJUmhoKAUHB7M8fvyYj3l6elr8JgVJeS1BEARBEARBeN5JdKXBM4snFSlahP0JgiAIgiAIgpD6SHylwVOUBkEQBEEQBEFIzciSq4IgCIIgCIIgxIkoDYIgCIIgCIIgxIkoDYIgCIIgCIIg2MdYmFSUBkEQBEEQBEEQYqIUhmGfDOefojQIzy8uWnQRBEEQBEEQnML8BpooDUKKBE38GKL+aJHqh8O40JMnIRTAEk4B/noYQiKDZ2Sms+XhiYikIhEEQRAsFCxYkLf/mSVXIyM1FR8fCgkJoYwZM3K8YqAUKZ9HPuTm6kaZPTPL16WTAqu8p6nkhphYZ8tg9dzWrtlJN68GUP+BrSldujTGkdjQ1ON0oU8G/U1PAkPVs9QoR7as9NHIJpQ5SzrDTxS47CMfH0qTJg1lypRJd1TIAEUUkU95HXD4iX8A/TrxXypaOge9/Eo9ypg+g35QEFITT8nrgiAI/0USRGmIjFQKQ0Qk7zujNJgNxHAl+AkJgoMCTQ2zw9IdDop4NeBUoGv+XUMffvQRubu7cTxfatmSJv70ox64NcpvoYKFqG7duvTLL79Q9uzZjQNCYmGtJMRFREQ4/bviGH01bBvVb1aOJv/aJubzs4YziwuVKfgd3bwTRB07laLyZbLToI+aKYUwve5HwYqKymmu6l+Rgl/Ti42K089T2lG2bBnVUaV2GNeAP+RT85KItpvag2LC++oAjqFh7ap+6K6Og3PD1Ulu+i6HkRoJCwujn8duo9mTT9GEmW2odbvSxpEUgErf7Vu30+Ejh6lOnTpUv35940B05syZQw8fPqR3332XvK570cZNG+n111+nrFmzGj6Irl+/TmvXriU3Nzfq93a/aBkjKCCIJk2exJ0TL774IlWuXNk4SHT/wX1aMH+BsWcflKNlSpeh1m1aGy5xc+rkKdq0eRP16N6D8uTLExUXExWn9evW09mzZ6lD+w7k/cib/v33X467NRk8MnBHSa3atWJNG3v8+eefdOfOHRr8/mBK7xH1bpn4+/vTmjVruMPmtddeM1yJLl26RNu3b6cnT57Q/9r+j4qXLG6JO8pfdEJlypiJXn75ZcqVO5d+QOGjlPs//viDmjZtSsWKFaPp06dT2rRpjaPRcXd3p/Tp05OHhwf16t0rZtoIgiAIjgOlQYt0UiLURklEeCRLWGiYFhIUogUHBmt+j/20+3fva17XvLQTx05o165ci3m+IebPECWhSsKU+Cp5rCTccMMx05/lhxMS8CQQ1QRL0SJFtV49e2vz5s5XB6P8WEQBf+XLldfu3rkb83hiiaJJ4yZaFs8s2rat2+z7SWUS8CRAG/DuAC1f3nxaeJh6mnb8QOw4xSL6v48HrFXPaIS2YMFp5Wo5GFP0P1rpgmO1rBm+1g4eU/kQbtZ+jN0Izm149v206pV/1O7e81Hu+Kew8nflpq/mSiO1CiUnc76MMPyY/iKVIA9jazngoOAchImYqFcrxvHUJD7eT7Tu/1uhlc7+i3JQThHK0cZPsoji0xGf8Tv+3Zixdv34PvbVChcqzH6e+D/RJk+aovRFF23H9h3KQ5S/zZs2a7ly5tJy58wdzR38vfxvPh/njfl2jO5oHF/1zyo+Zi2uLqwiRpOunbtGhfkUmfHLDD5n7h9zlUOUu0UUHTt01EoUL6Ed2H9A+/yzz2Ncz1qGfzI8ZhixicqsSsHh865euWrXz+VLl7UqlatoFStUUg6Gu2LCDxO0NO5p+NxxY8fpjsY5eXLnZffs2bJrSxYtiTqm2L5tO6ft559+zs/IjLcpOAaxdsufN79+shG+iIiIiIiDohhm1AspbE4DyncTs7yP/tNZ/lq2jLcv1HmBrl67SvPmz6VevXvGGt7MGTNpxIgRpBrwhksSE8/7TKkEBwUbv+yDqt0x0ZsC46e2ohZ1S9ObPZeS9z1zXMoOyq++RRaPVNu4zJn01+DnX9+iz79rRZk9Y5ovReFCAX6haqsiFc143woz0s8Aom/egrOY5zp6vqP+HfWXNXtG+mx0PXLJ4ELt2nYgF9ennJCE1KpVi7dXrlzirS1XrlzhHnGQMRNGm5xnzuw5xi/i3n2liBh7RPXq16Nfpv3CMmvGLHqj7xukVE9q+VJLi/v0qdPpvfffM854Ojlz5uTy6u7du4ZLTK5du0ZZsmSJVq7Vr1efr2XKr9N/pZm/zqTuPbobPhzDHEnZtWsPb23B6FNAQCCVLVvGcCEKVPsXLlygsPAw3p83dx5vbXnk84jWrltLIcH6M7EFz+jHCRNp6pRpLB8O/ZBNDDF8/sfvf9LPP02i78d/Tz/99JNxhiAIghBfUojSgAaW3shqXS2Upn4fYTHTiA9KKaJbt27RxYsX6fiJE+xWT1WQFy9cZLl7R1WuVu0YmFFhqPzC+QvUsmVLeumllyhtOvvD3QEBAVzZ3b59m02w0Mg4evQonT59Wq+0rcK9d+8eux86dIiOHz/OfnG+6QfD8nBDfIKCgng4HvFGXBB3XMM6PEd59OgRh+Hj85gbC8eOHaOTJ09y2NHCU79hOoBr4fjhw4d5C9OL2K6L+N6/f5/je/XqVb4vnIN7R/zhfv78ebp86TL5+flRREQEh28K0gT+4o3KJhv2vE6B2ijKkcfDcIyLuBPQxzuYrl5Sz//CI2rduiTVqpmf0qaNnvt8HgXR5QvedOO6L4cWHh6p9h8p8aELZ70pNCRC92gQHhFJXl4+dOb0PTp65DZduviIngSEWnI5xOdxsEojH7pz5wkdOqie+UVveuwTRBfPP6QjB2/S3dv+T4m5Y+hvVcKAsRhTot2MrajHW7FaLjp3423659+/SYuEY8qgdq2avL1//wHnw/DwcPL19eW8CpBf0citUL4C78eHVatXsalPp46daOfOnWy6Y5I9R3Z65913WN7s9ya1bduW3WvWrGlx7z+gPzVo2IDdHcFTKQMwhTpy9Ajv475wTyhrUBYCHIN5VZasUUpD6dKl+VqmvN3/bXrr7beoStUqhg/HKFG8BG9PndLLWpQBMO8yyzps79y5TeXLl9fzhwLHUd60ebkNZcuSjU6ePqny/kX9oBWemTxp//79XJ7ZIzwsnD4YOoQGDHyXpVvXbqw0gNf6vErvD36PPvr4I+rSrYvl2oIgCIJzFChQgLfJpzS4wB5co/u3NXr0EI0uNCQj6dI5on2b4EHvxX30QKNIVHxO9Nyip/DLUV9Sm9Zt6I8/fmc3bLEPGTt2HLuZLFq0mNq1a0dt2rRhO9m3336HK117HD50mJWKL7/8kiZNmkwdOnSgF154gZo0aUJ9+vQxfBHt2b2H+vbty+HVrl2bt+3bt6fZs2cbPogrw549evKxkydOUmBgIA0fMZwbEq1ataJRo0YZPp1j1sxZfJ+ffPwxde7cWSlM9ahhwxepW7dutGH9BsOXzrBhw9R9t2Xb68aNGytpwufM+HUG9wZag8ZI927dacyYMfT1199Qx44dOWyc99XorzjNoHA0UWF06tSJ1q1dR/5P/Ol///ufJe1/+OEHVraeBcwtgDjUCNCgACCbq62dLvLFv5+hHv9bRl3bLKH/NVtMH7+3ifz9ono10eBd988F6tzqTxr4+t+szD545E+dX56v3JbQyw3n0qXzjyy6yRP/YJo1ax917/w7vdR0BrVoPIPatV5IH3+8iS5ef8zzFkKV/LX8PLVvu4hef+0feqHOVGrfZi59OHAldXzpd2pYewq90WOZUvriGElxAE4eda2njQzAnylxgnAcFEt46k+KWVBAxSV/Qb3gQ8MWSvuOHTtowIAB6vl8zJ0Ht27e4mMVK1Zkf87yz4p/eNvoxUbUo2cPVrDRyWDBTBhOHJUXQjFqBUVU5WjrY8ZxR8ieLRt5ZvZUCvl93oeS8v7776t3bYIlfMAjDUpMoCDFuKYpTmCmldlxsGzZMnrjjTfo558nsfsT/ydctqEcNLlz+w530rTv0J66duvKbmvWruGtNSiXvb0f8ZwIe50NLtaZTQnKflNRYqyOCYIgCPFAlZ/vvTeIfybzSEMEDX81gt74nxvt34Z9DFW7qwiiaRZOm1dG0IAuofTjp8GqanC81MekuI8/+ZjmzptL3bv3YDc07rEPGThwALuZtG3bhn777TdauXIlXbp8iW7c8OLeRnsEBQfRda/rXDH+8st0bohv3LiRvv32W56gB7D94osveFh9yJAP6MiRI7R+/Xp66623VKUWVYlXr16dpk6bSkuXLqWy5cryZL1PR3zKk/zmz59PH374oeHTOW7cuEEXLl2gBQsXUJ06L9DWrVvp888/p917dnMcMBJgcvLkKdX470B/LfuLJyUuWbKYe/UGDx5Mf6/42/Clg8r4ytUrHL+5f/5J77zTn8/5+aefKVv2bNxAKVq0KC37axnNnDWTGjdpTJkzZeaJkmba9+/fn9Kli8v85+kg0yZUM/R/XUrR1N/b0LwVnenchZvkdd1XPXvjoAKmNc3blKSZCzvTNz+2VDk2knLmyEgzF3RUbu1o/j9dqHAxoyGmFNvVK87SN5/uoOAnaWnGgva0bkcfevPdmrRi0Xka+OoaQh8o4o5RhUsX7lHNWoVoxer36PrlB7Rt4zX69KtGNGDgC7R+x2lat/osB+ssZhtJV7ufjq6u6xIXjvpL6VSqWJlH2KDk4r3HezJv3jw6euQo3b5zm9/xWjV1MyaTGTNm0NAPhtLQoUP5vZw+bTqHYcuypbo55CBVwJYrV45y5cxFy5cvZ7fEAiMIWPHr5Em9p3/b1m00d+5cFcdpXI6dO3uO3fPkycOTgk0OHTzE92MKJjJ/9OFHbFLlDJg4DTDqiDTBBPFV/66iCT/8wO43bt7g+JlL9oF9+/eRq5srVatWjfq91Y/d7KVT5SqVqVmzpjR16tRoIzaCIAhCMqAagjEnPTxNEmIiNP8J1X7/KVwroGJRzF3TJn4ZpmV307Ru7TVt3PBwLSeFanWLBmn/LjamiNqG4YCMGzue21CjvvjS7vFoooDf6tWqa/fu3rPrZ93adewHFvbz5823TPLENiIcCaNpx44e10qWKKm5u6qbMjH82J0UqrBMhN7y7BOhBw0YxHHMmCFj1PUUrV9uw+7fjfnO4hdxZj9WjP1uLPvr0L6DxR8EE5pzZM+heaT30I4cPhLtXmzvy5wInS1rtjgnQsdHMFEYYu9YNFGUzv+jPhH6qP2J7dhwWApMsK5XZ7Z2776fxUuUv0hjIvTnWrG8PxgToS2H+e/dO75a2xaztXT0heZ131u5BSsJ1YIiI7U61eeo8L/QTpz25fO+/36vlp5Ga/4h4bxfu/I0rW7N6drFS3e1AwcuK79DtOFDV0ddwAlBeBBMyjbjaOvHWuDPFHvHTXHUH8T8ae0WL3EUe+faE0WnDp20qlWqaRfOX7RMek6XNp2mlF9t9Jejef+fFf+wX3MiNNzsifVE6EsXL2mlSpZid3Dzxk2tcaPGWpbMWXjfXlwWLVzE/od9MizmcQfF39dfa9a0meW6fV57zRK/82fP86Rt/Dbf+6dNhF65YmWMa8QqKoMFGotNpE2TVrt29ZpWp3YdS1iBAYHa+HHfq3QprdL7guW8Fxu8qNWrW0/zuu6lHPRyt1jRYtrJkyf5uDkReuaMmdrihYu1rFmyat9+/S37tZ4IHR4avWzZuX2nlsEjA5/LWB0TEfmvy/bt27VzZ89pmzZt0vbv28+C33DDMXvniIiAEcNH8O9kHWlQMaA+g8PpmvaYerwdSuO+dKWIiEhatSKSJqp269v9NdpwjqhNV4wzpLz+zZ69elpML7B1ddWTs1SpkpQtWzYKjwwn1Qgh1YDm7mX0WielqUbfPn2jXa9HD33U5fLly7wF6O2Dn7+X/80mRh9/9DHbGwOVT3hrS6NGjSh//vzRwk7K+0o8YI4F0ynkNdt7x/1BwtTGziiUasYEPomgO7dCKEfWLDRz8gn6/PN9SvbQtyO3kWdmzJFxV3n7OI+UaBSqWllHiEJgfkeUK78HZcmSjtJ7qDzihtEob7p3/9l6Vu3dhT0c9QfgL/oMjkREJffSxUupedPm1LZ121jljzl/6I/GQSpXqUJ+vr506OBBHhUc8+0YCgkNoXPnzpGXlxf7gbmedaJM/HEi9+BDVKOVz8FyoNZghA8mTlWrVOX93LlzU/Vq1cnX35dOnzrtVBydIVPmTJQhg/49DC1co9Onz9ILtV+galWq0dFjR+nEcX0EIleuqGVLQcMGDS33ZMqO7Tucmk8BPDJGzS1SihI9ePCA3hukT+ResmQpeXt7U968eXgklVHpsGPXDipZsqTFXKpTxy5sGgazTluqVa/G9rSfjfzMcBEEIT7kyJGDvhj1hXovl7DlAQS/R34xknJkz2H4EoSY4FtnIHnNk1RDEzMbgkNcqfd7IVStdjjXqzBOqlMzkgZ8EaEa4mbdnUg1bjzBsHpsLa0MGTPQ+++9T8WLFafRo0dzpV6xfEX6aeJPeoM8iW6laPGixi+d4sWL8RYTpAGUgpGfjWRlpnv37jRt2jRasGABmxMBVPb2gDlEbOuip37i/3DCwiIpwD+UwpTiO3fWCZo/54KSczRvzlm6ds2XShTKTkEBusKhVANy0dz4ahB86drN3Y0VT3c3fJkESmj84xJL1oyB7g9/sd7M087S/ZlnJQX7D+ynY8ePceM3Njl+8rjh2zFKlChBTwKe0J69e3nOTevWrfk7AadOnbLMZcqaLWs0G3p816FR40YsLzZ6kRo0aEAeGaIay3iXoEw8ePiA5zddvXKVrly+Ymko491KNNTjKFWqFP88e/4sHTt6lBv++LYBzChPnjpJ6dKmoyJFon8vB+lg3pMpDV9syKaGzlKrZm02hTp+4jh//wHzucBx9ewuXrzAplGcFipLT540hfN4rly56ebNmzy3oV69Fyg0PJSuqHTjuRZWlCpdiheoAB8O/SjaxxcFQXCcoMAgNgfEt6g2bdrEgt/9+vXjuVyCEBv58uXjbfIpDRhgVurBga3uNGZYJnq/WyZVyaHRpBq7xVwoR0HVkH0xLU39Jh1dvYDGFVSJlEOePHmNX3ZQlXjvV3vT33+v4MbCoIGD+KNHmHQ8dGj85inEh7DQ6D3iWFUJ4CN3APMsvhnzDVWuVJkWLVpEW7ZsoV27dtGsWbP4uDlyYkuWLFkpTZrkUxrMhnbyYP2Jt+ig4RgRoVGTF4vSlt29lHRW0kVJV1q/tTtt2NaDPhxWl8+GWuCu2qTuqn3kphzcI9Uz0ZCmbpQ9O3pfI9QrEtVodZbjR2/T6VN3VcPVm7Cakz3UK0gRKs6nT92hUyfvqAabodDaLjqg9vHvupePaljfoZPHb1FAUGiSPIRPPvmEtm3bRhs3bIxV4McZKleqxLb3Bw8eIFcXN6pSpQqPnmGUAaud4cNqtoRjojJA0ijhOU9WyQRl48zZMypJXGjiTxNZyYBigd8AynhiUqCAPl8A7y6UTUw6hlJw4sQJXvEM84is5xQAVoqM+4khTlKhQgV1mkabN2+hQoUK8UpJRYsU5TIGigBGFMyOBiwGAcVg8uRJVKtWbapWrTqNHPkFH8O8jBidFSo++NBezhw5aebMGXTmzBnjgCAIzoBV2lAuoQMBH3CE4HeD+g34mCDYRZXBgwe/zz+Td6RBVbAzxrjS5uUR9Pr7Gn0/x43c00RQsdIaTV7oTu8Oc6Wlv7nQ2qWosJOvmRhfKleuxBN/J06cyBMp0Rs4d96fPIRv73ZQkfr560s/JgQbNm40fumsMFZ2KVVK/0rvjh07eYtVkDBRHBV9seLFeEJjQoEVah5jZCNVPD5MU9Z7+XVsW08R6oVxJ5/HUMZsjHRUwzqTZ1oqVDQrXb/6mIoU87SSjEoyU9HimcnTE2vI41xcwzpR8CqaorvHo+3Gp3qr+LVrOYN6dvyTRnywnAKe2F/jHle5dvmR8reYendarPyu0w/YAWaDY0dvo17Kb/tW8+jyhQfGkUREJQBMfLA6T/kK5WOVvHmVAu9oYil/BQsV5AnByOf87QCVEHgHsMQxTPcwgdlZsErSmdNnuOLdvWs3T+rFQgJoNJcrW44e+z6mA/sOGL4TnmrVqpJHeg/+mnWWrFlV2VOFalSvwYoQlnzG/eLryYnFCy/U4e369eu4nIOSgpWPoEidP3+OzYsye2bmVZOOnzhGxYsXp1UrV7F/yIYN66lF8xZKkTtIt27d5rCsgSnTN19/wyND6HwRBCF+oCzAktAwaWRRvy2mg4LwFJJdaRg9g2j7NXfq8oYLZc+lXNCrqWmUIb0LdX7ThZbuJur3Sdr4NaAcAS0nUwwwvJ45c2aLe2y2/bGBnrL1WNrUON89jTuPTJh2/2i02N5Q+XLl2WSCG+zGefG5tjWw2T6wXzVU9MvS7DmzKI17Gmpo2Cy7u6OBjIo+Kq6wK4Z9I3pMnwUURhjOwsebsDINY1zjGYNOOFQ8EJWol8BFPXtXypQ5nfql/7NO/mIFslI4RVJIqEZrVp63NO/N28mRy4PKV85Fp87cp6+H7VbH3ZS4K0mrGu5h9F6f9bwf9fCj915HoYeIkYD4EBIaQTcf3KfLFx+Q17VHFltEewQFhip/j/hbEl7X7C8zbHLrpi/7vXXXm0KCjbinQpDvscoXlud8+eWX2Q32/uiJxwhC8+bN2c0ZzJEGmPnhA27ozTMFSw2DSZP0JUgTA/Tu4758/Xwpb+48VLp0KapYqSL37qNcQYeA7aplvG9mYFtxEpg4AKygxt9jUGGY36DAiAZsqQGUGlC2bFl6qeVLljSq36A+Lz8N865zWL3JTpbFNyxgZoUVrgRBeAas3/F4vO/CfwyVRz777HP+maxKA+YzFCym4mM1QTgiwp20CD1acMpfiMj4Vk+iALvj7t16UIN6Dahxw8bshnXVmzdvQS/UqUvNm7Vw+ou2+IDca6+9Sq4urtTqpVbUqUMnKleuLJ06fYrGjhlr+IrOO/3f4S0a7Pny5uOvtb4/6H2nr22Nf4A/V8wvt2ptSd+qVauxG+jZU58YvXffHsqXJx/7g0KTVyk4MDV4VkqVLEVZMmehIUOHUPq06anxi43psxGfkZ/vs42mwHrG1oImbuyb51y/7E/9u2+j1vUX0iuNFiqXDHThrA91abGU2tRbQi9WnK/SX/dr0qZleQqKCKZO7eZRpUI/Ub1yv9Ke7TfUERdKny4N9exTmXLmy0Bfjt9K5Qr/Sn1fXUNNGyymrJkn0rQ/95CfUqLCleKAsYqwiFoUmtGFwt3Ub1eV7/kKMFPSLxrfTxxqLjjPjcdFIpXENXEZ14Q/SLh5s7baitrXIl0owsXdKqxkLTqeCXQKQGkAmJ8A0ODGEsiARy6c5J9//uEvO9esUVNPVCugREABnb9wPrJJolCyVEmLOWE91QjH+16xQkW+V4CefVuwLDL82UoPY5lqh1H3i6VRgaenp1K+VKGtaN5MV74yZMhoSdPp06fzFt9uiYYKo3ad2tzruXrtak5Le0yYMMH4JQhCfMB3kqy/lWS7Lwj2MOeaJXvNj/oVkUBdClm4yZXe+ECvWROifs2ZMydPSLZdOcQELwu+Vnr/wX26ffc2fwm2QIH89EDte3s/pNv4irIVmIRXulRpKly4sOESk0KFC1G3bt2pTJky3PuINclRaUIJGDZiWMzRA7VbqXIlts9u90o7jitMJQICAwwPTmIk3Phx43kVmNNKWSlWtJhqDPSkAwf3Wxo1+DbEpo2bqUjhIpQufTo6q+L6v7av0IkTJ6lggYIxJk4CfEU2X768Dk3S7dKlC5tpvNzqZSparCjdUumMVWrMhswzDKI4DGKpRWp0/cojunr5EZvZmDzxD6NrN3zp1n1fun7bhyqVz0u582Skm3d96cYD/xi96WGqCb583Ws0e04navZiSXJXDf77j/0ps6duq437qftCIdpxpC/17FSFXNK50JZN58nLy5sa1C5Inw1vQZ7u0IA1ypEjA5Urn0017dGcJJWfPFV+ya4aTe5KSXZTz6sAFcgf9SEuZ0jjTlQsf14qXz4PFS+Rg9xjmZsC0qd3V/5ysRQvHvsEWNWWVHHMouKcmwoXwqTWuDV555S6pAUKQuXKlblHHMo53gd8Rbh5i+bsZk4qBtmzZ2c3c3UiE3yBGe8CBOAL6C+1eMlu4xwTrWHyhNHEnYZJoAka2bD9hxnWM6HuAXbJUNT/9z+9hz9j5oxsdgg3UyECKF8wbwNlna1A0YirbIuBVTFQuWJlVpowysFljMp2MDmqohQKlCWYhIkRXFynYcOG+klWYMU5fGgyJCiE07VsmbK86IIJ3uOBgwZShXIV+JlwmtkUQ3hOMAczv1ItCEJ0zI8wwnQSgt9wE4S4yJNHr6NcVAPW+U5l5R+nmI3fyMgIilSNMexjeNrUXLH8ICrFIkVjNj6fd5A0ISHBPPk4ODhEVYhZOS2wQk68cOIZDRkyhH6e9DPN+GUGvdbnNTaXwvKQ6TN4UNq00Rt7iKemCg0vrxuUJYsnV+ouLvoyrEnBs6wQ9FRU0M1qz6KbN3z4OqXL5KQ5S7tSdtVgT0ysG8xXLl/l1bRy5cppUZaElIc5uJKSlR2AeCZkHBM6PCHhSS15U0gdeN3w4rlO+Egr6NOnD3cUFC7kRGeBsyDvGvlYSN0k+0jD8wosPTDhCN8zKFasKHmqBjm+iZDUwG45X/58fP206OXGy2sKFk9he3cX7gnMmjWbUmrcOZ6ubi66qMZ2YkpiM+X3drRkdW9avKoXfT+lDWXxTM+Vb2KKNcVLFOM16kVhEARBEJKbAvkLsOk0VjyD4DfcBMERRGlIDMy2MLZKMC8BjcZovfdoXMJSxlFxAtM+kZeFVPB1cWnzaePaRuOWG+9KOYCSwwKvVtE07yHRJBFBspUpn4sqV89HlZSULpeL3N0lywuCIAj/TdAWse7Est0XhBiottrnn4/kn9KCSgxseptjYNVoTww++fgT+m32b9SsWTPdwbheRHgkr6QTaZiVMfbiYs9NSDRgfmCaIAiCINhDygghIUCnIj7kFhgYyILfZkejIMRGuPGtIlEakotErACKlyxOr7/xOpUpVyZa4x8jDq6GRMNUEmwVBVEcBEEQBOG5AN9B2bV7F133uk579uxhwW+44ZggxAYWFQIyETqxsW6f26azM+keXyXD6hp4PrFOcE5EJSa5iDTuybw12/kGKQWZ6Jj8pJZngHgmZBwTOjwh4THzJpBnJTwL586fo88//5wbgFjdEZw/f54ePnxI33zzDa9Yligg31rlYyH1IkrD846jz/Y5fKFTi9KAeCKO0iBIPkRpEFIqZt7EY3KVZyU8A7t27aI8efPw6kmZM2VmN3xlHasn3bt7jz+0mCgg3xr5WEjdiNLwvOPos30OX+jUpDQAaRAkH6I0PKfg3swCIDVixB23AZEyQkiVpPb38L+OenZfjBxFX301WuY0PBfgZZQXMgojPfTMja8YQpxcgio5QOvNfJYp+Xk+LX7mfaQGOK74Nn0SR9m8oLU4AHsz4izEgZPpmiJRzzg8PFyJnj8FQRCSCwwIABlpSOWgUlnx9wrKkSMHNWnaxHC1wtFn+xzVSlcuPqTXOi+kfSdvkLfvl/xtBiSDi5YydWSMNISGhpH3g0C6cPYuBfiHEL7Y3q5zZfVOGZ4MkvMxhYdFqvc6nE4cvUMZPNJQlZr5eUUuCy7WipmKqeZC7mlSeL+EapgFPgmlDWvPUbVahalIkdi/ip1Q4KvkG9ecpkfe+OI7nqgLla9UgKrWiHut9ICAUNq28TJVr52f8hXIrNL32dP2eRxpQB5dt+I8L7VcvHR2wzX14ecbSM2qT6NDV73ot+mvUc+3qlMaN9cUU1Sjrn/y5Al/TT2zJ/KjccAK1E9+fn6UKVMmCgkJ4XPwNXV8w8gafAQV4eCYq/EFe9jZm79tgT98gwjtjkePH/G3BgDaIGnTpuWwbK+BLx+jTQLshYswcZ5DqIcQ8CSAy+1MmWI5T/nxfujN8wjxZXOzXWQPxBtfRI/tfh3B19eX0xdpjjTAh1rTpktreS4+Pj6WNpstiGOWLFl4NSWzcRgb8Ivn6XBaGeAZ2wPh4Uvu6dKnU2WifT/WYHlYxFVIQlReHj/ue/rkk49FaUjt7N2zl+o1qEfdunajRYsWGa5WOPpsk7Emgn3lzh07qWLFilSlWhXH4xwrGu3ZcYUGvLlSFUTutGJDL8qb31Pdops6lEQ36sQ9RKh6YsbsJfTdV5coMjyCPFSDPCwkmK7d+JJC1HEzxmZ1gi13Nuu7SUakuuju7deoV8fFVKVyHlq1tS+pt14diR4TP99g2rzuEhUqmo1q107hHw1SUZ/58276cMg/NPzzZvTp183Vs0ucNctNM7QnT4Jp6LvL6PLFBxQUGEknTt6lDz9pTqPHtdQ9WGF5zi4RShn2pjplJ9G4yW3o9f61VEPJnf3ECxXoLS9f2rrxPNV7sTgVL6mvjJGScezV1Wjh78epX9+/qM+r1Wnqn+1VGjp0YspDKeGPvYOob9cldOLYHZqxpDs1aVIs5up3ycTevXtp7NixVLpUafp+wvd2y7wDBw7QyJEjadzYcbR8+XLas3cPDRw4iDp0aG/40GnZsqUqK2rTRx9+RFmyZaEA/wBq3qI5tx/sMXDgQHql3St09/Zd6tipIzeQARQDfKisQIEC9L9XXqEaNZSiZTRur169Sv379+ffUChsFwX57NPPqFadWo6V3erUnyb+RLt376GPP/6I4x4D5adpk6aqPPeg2bNm019//UUrV600DkYnICCAli5dSvny5TNcHAdtLqTt8r+W042bN8hbNbwLFMhPLzZ8kfq/25/DRHusW7dusSotaIT/8P0PNHvObNq3b5/hah8oDMOGDbN/z7Gh0qJJ4yaszNiC8AYPHkwvNnqRWjRv8VTFqVixYjR9+vQYz09IGuKv1iYWaCUhX0t++M9w4sQJpcF+QuvWrTNcnp16jYrRsrW96f7dAHq101K6dwe9ukkI8q+DAjvlkR/PpyJ5sqlCuystWvoq/bXiTXWQyF3VYG6GuBqC0/BHUy1KtIeSSlzUtfMXyEydu5WlVv8rzfFTzjHk4f0n9O3I1bTqr2NqL6WjUZkKuem1vnWoWq1Cah93kDiY6ZM5U3oaPbYt/bboNRr/cwcKUoWeC/+L8mMtJpk901P3PjUJHyl0sTc8YM/NHoa/syce0MfvrqYj+2/xfkqHFShb4fdBFzxLSPFSWanPa1WpoWpgw0fqxYWy5shAMxZ1odr1i9APY7bTrZt+xrHkx83NnZfsXLTYTmeVAp2IJ06cpI0bN1KGjBnoyNEjtHnLZrqpGrbWwB/8nD59msIj9LXgvb29ad/+fXT9+nUqWLAgNxStJWuWrOwPoxd79+2lK1euUNGiRXnEfdv27TRm7Bh6VzWYz507x/6QDe7cvsPX8ff3Z2UEioa1oHHvDLj/devW0rVr1wyX6Fy+eJm2bttKmzdvJo8MHlzPbdi4gRvJJUqUiHY/2HdX4TkLlI2OHTvSm2+8yUumtmrVit588w3Knz8/ffXNV3Tq1Gnd35MA2rJlC18/d+7cVKFCRZaKFStxumEiNEZu8uTJY4kT3G7fvs1pZu0OwaiMs2C0Bef6PvblePg88qFSpUpRkSJFLUqf9TWgyECBgV/4K1yoMEv+fPnZr5BMqBdW0yKdlAi1URIRHskSFhqmhQSFaMGBwZrfYz/t/t37mtc1L+3EsRPatSvXYp4fh3wzfIk2f/pptRPlFm+JC0f8WfuxlthwxN/Tjltj7VdJZETMk/bv3c81Zfdu3WP4Z1HPKVZ5GtbhxIW1P0f8K6zvZcumLVqBfAW0n378yXCxwjZcR0X9idTCNT//QM3PL0ALjwjTD9j6S06xgqiZNvidFcaeTkQk7sH4p37bwzZI+76iY++cp4k9omKnflvF7+5tX61W2W+1bz9fbbhY8bRAgXnckTwKrMN0VGIAR1xQbeP0Z4O136dI9F381bRrl33Usx+ojfxkvc1xXfQ/1sABeTnUjkf+YR/j1qzZvem6lt/9a231srOGixXwG1f64/01LxkfiY24/NmNT2yerbD28hSvjD3/ySHGD/x7EhCied3z00JCVSLY+ksmuXzpslawQEGuf2KgjkeER2hjvxur5cqZS1MNdq1N6zbsd/KkydHCQV2gVGatfbsO2sMHD/l0tB/gt2f3ntqD+w+0kOCQaIKwAdoX8NerZy9NNUK14KBgltYvt9ZcXVy18ePGa+Fh4ex3987dfJ3vx3+vqUa0xa8pHKZVvOIUxdo16zRXctVmzphpcbOg9rdt3c5xq1C+Iof/9ltv8/7OHTv5Wrb3xHWiGb6D8sfvf2hurm6aRzoP7cG9B9wWw/1CNm3YpB0/epz9Pbz/UMuUMRNfH2kWGhJqEVwbW1yf23JGfPx8/bRBA9/jNPO67mVxh1+n0gqivCMNcP5XX37F8Rg3dpw6oLGbGZ55Dchx1X4sXqw4+zX9QXD9GOGLJK4oRn0xin8n60iD5hJBGHYPddFYwpVMHN+FFiwpj6MU5hKpJIL9sV9ncCFa9c8qqlKpCg9jQUqXKkOzZswilfEMTzrY/+ZrrFFcjv0VVZrv73N+56HOGKhwTxw/SS82eJFUgcn+GzZoSIsXLeZjFtTvX6f/SiWKlWA/FZVW/9eyv6L58ffzp0EDBlHNajUp6EkQdenUhXLmyMma9PJly6OHp3BxdaFFCxdRvjz5KG2atNSrRy/uiQGx2gIijFjk9s3bVO+FetSiWQtatXIVFS1clDwze1Kzpi3o0UMVHvwBtX1w9z59OuIzqqzSE/ajHuk9qEXzl0gVTFH+rLhy+Qq1avkyrVu7XqXXKfpf21coXdp0VFylx9w/5/G99HmtDzVu1JiGfDCEHjx4QFOmTuHhyWZNm5GqBOjC+QtGaPGAizo3ypzRgzJnykBuMOVAd7kdYDZiLbHhqL/g0FC+lOkPpZ49Pnl3E7Wpu4AaN1F5h1rR0mU3qGbFP6lmhT+pcqk/2AwB1qWhFMl56NMRu6hMoRmU1uULqlhmAq1Yc4aTXr0deq8rRO3vOXCHGtacQQvmHaOlC05Qxxa/q/M/oIr5vqfl809H+XVUVJgrV62hNi9PV/IrvdTsFxozdptyN+On/Kj4DRr4N7V6aQZ17zaXLl5/TNN+3avuZSLLSy/Oph27vdR7rvwb8jgwlEZ+toaK5Bmlzn+balf+gZYsO0ER6lgI3nfXcJoy/SC9rOLfo+tSdd/fUJ3qv9Dj0GCqVn4mZXT7jib+dIACIiIpGJF0gvt3ntAnA9fSy03mUasm8+l/LebT8r/P6fdjFcdL1/zpzd6baPq047R+oxc1rDFPPZdvqVnz3+nuo0AVTz08R4iervqJQdy5mJbC1DNUzgwfV0UPtkiLDwZspZdfnEttGs9TsoDWrb9CSm1Q5SVFiX4mnTrrQ/Uqz6dMaX6idC5jqFa1mTRm3E4eUw5UAZ68/JBat1pMjV6cTsO+XE33w4Poo8/+VftTqXHdX+jl5rPp5n0/vnecs3jpMXrnrQWUK/MQ9Yxep+qVvlb7C9Ux9eyVHydLZQt3vYOo32v/kKfL11Qo4w/Uqt5cOnTqjnpf9NEzE3//J/T1qI30Wu+lHJ8PPlhNBXOPVvc2mAZ/sIiehIdRiHo//ELCafL0HUYenany4a80+4/DKl2jv/Z4H4MjI+iLL7ZRydxT1D2Noh6vrKRZs05Rhw7/0LbNqjy18g/M99iUhCaWYkk/oAR5JaNHWiqUOzOldU85xgHFSxTn3mkQ+CSQAgMCadPGTfTbrN84DVU7g27cuMHfBDD9AcyDsIebK+Zr6IkREBjIW9QTMGmxFdOEJcz4Si2u5e7uzteBbfzo0aPZDSMNEZggpnBPo/fko0ef/dmIU/MJ1LtZt+4LKudF6rb6KtqnTp7iOn/dmnW8f/XqFfZarVpVLh9d3fTw+Vrqt+09wY9TKO+//PILRaj8POLTEZQzd05OA9j8Q5q1aEaVq1bWvap0NMG1YLJlirmP6+N86zilTaubdpn+TL/xmXuB++bzjTCDAoN4CzczPPMaEHf36GaipjuuLyQ9wUa72fknn4AgG29f60JHD0RSCOcfTGIKV5kF1aemMhXRzk2aarA6v3rEvj372J7v8tXLVKhgIWpQvwH5+fmy3T8mZplgGLR7t+408ouR5PPIm2pWVw34oCDq+2ZfGjduvB5Jg/DwCJr882Sqol5EDJ0io5cpXYbOnDlD3Xt0N3ypxoZqNHbu1Jn6D+hPj30fU5HCRejOnTvUuYtye7u/JUwUkBiyPXzsML/c6zes5xcCcerUpRPfg+kXCsz347+nHj17UKBKmLx587J9ZNfuXfm40wWOAi/x3v17adOWTdS7d28uVDGEuHXrZrYJ3b1rj+FTKWCrV9N3Y8fQ3Tu3qUKFCnx879491KJlCxo3dnwMBQsVw/bt22jhwgUqvSrRnj27eVgUz+DgwQPs5+bNmzwkjYoFBd+9e/d4H+mJD87gOSQ1zqdiTBwJw883hC5efUwXrj2m8+e81TmYZBxKDx89oYc+T+iBapAChBUcGE61KixS6b+DAkJCVX72pHt3/KlDm8n0zVfryN3miscP3aZdh6/Q9Il76KP3VtGhIzepXOF85K/y5bIlpwxfzvHg/n06efQOHdrrRRu3nKbNa86zO65sXj0sNFxd24sunLnDv4MCQ8jbx5/l7r0nqqHuz/7gH5OPW9abSuPHQOnUqFThAnTzlg/17jKHfhy/2VLR37rmR+s2XaLV/1yi7Nk86PDRW5Qt3Ui6/+AJZciUhsaP2kUBKqzoKfB0QkMj6Mo1bzp77oHKj7dog7rGtcs+xtEonviF0t49N+mnMXuo9Ut/0s27/lQgVybasfkiVS8+1enr2gLF4GmcOHSPzpx/SCdO3acN2y/T5YuY0GgctOLosYdUqfwkOqv8Fi7qSSVLZlXvmA99Nnw9BavyFIV9ujRu5HXdj65cfETnT95XyrQLPbz7hK5c8KZr1x7RdSUBT2AupdP/1d9pybwDlCmzB1UtV5x8HwXQrNm7qFCuEXTtio/z969O8Fd5v2nNWbRw/nHKmz8TZciRlg4cvkkt6vxJGzdcMe5Nv8GwsAg6deIOnThyl+pUm0QzJ+9QDSIXypffk2ZP2U7hIREcB+S308ducx7dv+uqUvBO0YGd12LELywskqZO2E8/fLOTglQea1ilOG3bcYX69VtBK1acoYtnHxo+7eP0/SYkDuSVJEUV+SVLluSfR48e5TkDb7/9Nr3R7w3av/cAualG3+XLl9lkCI09E5jUoJPIFEx4tsWsz2B+hPoQfkzBfrihLMT2RMwJz/YamLi+dXgQNPyhZDgD7i93rjyqbLvH+5MmTeI6f/jw4XT71m06e1Y3jcJcPR09rpiQ/NjncbTr456czVzoVMPkZ4B5IjHA7di5Jdv0hCBOSU182ixC8oG2IaNelJhDEU8TjCQpeWbzJC1Ue69TmFYqo6aN+iBCO3ksVMuTVtM6vKRpp46HaB+/E6rVKRKkjfskQPkNtx+GHUF8vvnqGy1tmrTaooWLlKPu/sj7EQ8NKg2X9zEct3DBQs0jfQbt3Xfe1R49fMReb3jd0Bq92Ei5e2j3791nN/jfv++AVrhQYfY/49cZPMQJ9/Pnzmvv9n/X4m/N6jVantx52O+pk6fYGduqVarya6yUAXbz9/XXGjZoyG4tX2ql3fS6qXk/9NY+HPoRuynFg/0hzGNHj/HwomdmTx52hNu+vfu04kX14buWLVqymzOCIUuci+HNvq/35eFdfz9/7eOPPmF3mDxhOBAgztOnTue04fMVW7dsY3/ly5XXbt28FS3sE8dPaJkzZdbSp0uv7udD7drV6+x+5vQZbcP6DdGGN/9Z8Y+WM0dObeyYsQjW4p5UomJiETjZHjfF2h/Enh+I0sj5p+mPLXdsBO+PbtITCUMTlY5faB+9r9JF/Y4u4drkHw5omV0maJVLzNDu3Xus3IK1bVvOasVyjdJcqZ925JietiyKGb8cU+GN0ArmGKN9/+0O9cx8lWuEdvrEHe3fZeej/Doo5s8I9XfntqtaoexfaG0b/6ZcrOMZJRcuPNCqlhqjfTp0td3joE+XJVpG+lQb8u4K7ZGPv3IJ1y5evKMVzPalVr/mRO3cJXVP2iPt8xEbtfT0g/bTj7u05StOap7pvtZc6HPt9oNAbfr0w5pn2nHakZN3OQ0tEXVIYPQBs4UwbdrkPZo7jdQm/bibDX+s5cSJh1rV0r9p6egbbeb0o8pF5eHzPtorbReoNP5cXVs3p4gZvgOiuHAV5kkfasM/Wc9pw874Y+yYPyEXLnhrmegr7dep+7WwiDCLO55LhPrXqfnfWhr6Tvty2DYtMDCUXW/d8tFmTTmkfCEs/INv3HeEtu7fs1rONN9oyxeeVm76tawFjP1yg7Zr61VV1oVzPg5TifJy/cnq2b2nffv5hpgnPU0Ur3dYomVN/402csQGzR9lqOLPOYdV3L/Qeql88eiRKp/5iYZqqoGj9ew8V6X/F1rN8hNV/ruuPfYL1nx8A7VF8/dpIaEh6k7C+a5Mmf/7MZVH3tMG91up9o3LGtd/6B2oVSv7s/ZCjV+0Eycf8PFLV/y0Ri/MVXlgjDZ72mH4joqvkqh01p2sjyWEYGPrlipEJcjHH37MdcCSxUu03bt2a1k8s/D+iGEjlAdNq1K5ita1S1c2lzHNk/Lny69VrlQ5mmA8pVOHTpr3A28+79zZ8+w3e7bsHEb1atUt0qB+A65fwMULl9lfu1faaYcOHuL6ZeU/K7XmzVpomTJk0mbNnKXXNYr9+/bzdYoUKhItPEjjRo011ZC3f5+xiO9jX61G9Rraq71fVQ6auq8Cmruru1amVBm+1rv9B3Dc1q5ZyyY1A4z9UiVL8XnmtatVrabVq1uPw7B3ndjk8KHDWoniJThMxnCHGVBgQCCL2dZBu8I0T0J9bX3vEG5rGOdbhzP0g6GcZjAvsz3ulJgvj5LvxnzH8Rg9arRyiHK3ldOnTkczT7LnRyTpJflGGriLTaPPJkXS+DmBdPGURkN6u3HP0unjETSgqyvduKSaUj+7UJ8hGFa0YyoUC9BgMdlI3SJPfvLxVlq0UmqxpBm+eGguxRYeHk7//vuv+qVR8eLFeaLQX0v/4lUh0JMfFBxES5YsZb9g//595HXDi95/7z3q93Y/XiYMlC5dmqZNm4ZgGPSUQ3sfM2YMVahYgd3RO9+uXTs+PmfOHN5aM/HHiVSgUAHKnj07derYkU15sPKECb7k+CTgCb3yv1d42BHUqVOHunXvxr+fBfTGDBk8hDXJTJkz0Xcq3uDs2bP8lUjEv84LdXjlCfTgrF27jpYuWcbLs2XwyMATy65f9+JzbGnTpg2NHz+eihQpzPvlypWjFi2evkLCfwP0tJi9LbEZerjSrh1e5K/506gxDSh3biw150INmxSnNu3K8PF5s/eyTwu89Gk41XqhIL0zuI7KV5nVI3ShcpXyUJuO+gTm+IG44rmp9yeuokNVM0SYVOhu+UqGtYSq/PTH0pOURb2PBQrnot27bqr38Bydv+BNLzQoTqdPeqv3FqOB6E10oXTpPah4qSxUuTomAEdQ7szpKF9ODypU2JMye6bhVYBcnSgfdMx7Qcqgt1rFTJUX5hOJkkglIVRdpd1b/asqX2FUqnQmerFRCXV3GenEYb2XMWlAAQMDKtyr9f0iphrlLQATkEi6dcOPfP0ClUsE5c2fkfoOrKZc9XWucIf6mAPMgGASBdNP3TTKDNUUPKuPRrWgWg2L0JEjN2nd2nO0ZOEhqv5CCQpWYZw5c5/NdfC4HRWw4O8jPMLQ/bXKlCFjWnWtCHq1b1WqXScfnTx6gx7cxYiUmVsA4utCvy/uSQ0aFSbPzGl5GeWuPetw2eWijmPU1vJP5U0Xlf/0rRVq5zJGWM49pF7qeqXL5eD7LFQkE/V+U5XTSNtoywY/X6xYsYJXyIlLVq60v7pPbJQpgzJI1RVnztLFSxepUKFCpBrrtG69vqjFpUuXeEIteuVNUAe88sor0SQ2sBJSw4YNqdGLjSzSpEkTrsut2bVrN73++uvUvXsPUo14rqthPYBJwrZ1TclSJXnCcOvWrS3SuHFju6MScZFW1dFlypZhKwKva150+84truMxegKz4SOHD7O/2rWMVYaMzIhrtW3blutGCK7fvn301aQcASMmYWFhlCG93g4BFy9eogEDBlCnTp1YsMqULQ0aNIx275BE+xK08NwRR82f+KCqyp1fo7ZdQ2nK8gDKkkNVYKrivndPo3y5ImnhpghqodrZufOhokO15hiw56tZsyYrDkM/HErFihejF+q8QDNnzOThTvPlVVoTnTl9hpWDj4d9TJ27dmbp2q0rLV4CO3MsKxdlooPCALRUBU5swDQJ/mCuYyksDJSGz1uYJNlSrkJZJAgDsyEoPgjL5NpVfYWGWrVr8dYEBfCzgkK1YiVjCFXFwS2NG5UrW15fNtfXl58J0qxJ06asqLRu87JKoy7Upm1rNpWKVOmIwsseUJZkGDJu9NTBw4+Zx588CVMNQJhphVHz1sXVFn5whgvVqFNQNXo0pbTZLqOHho9GRQpnoYwZzYpQP+fZQRhoAMRVdCg/mrquhjWf9Bhby/lzUAg0eugTSh+P2Ejt/rdIyUJ6pc1CWrbqND0OCaS7D/SGo/7e43pQHtxVXoygXLn0lTtgpoL2QEgIlAv4cxbci96MjhLd1RQ93EgqVxFLkuI4FIxISp8+jYqVOwUGRL2j8UGPtX4le8S8Kzxxew1bjd4bUV3lkkCat+A0VS81h9q+uISWzj+rnpSrKuvMc8w7Q8jWEtMFqb575zUqX3AUtW4yhdq1+YVefe1PGjdhE6V3SUePfHUTOkfBVbGaWahKQ+TL/IV0BRjgOdeuV4jLkQiOqxkLdVxpG3lyZ6KSpXOwS3TM+7EG++5KabB1Jzpz8j5vc6g8hPwDXF1ddDOpDNFtqJ83Zs6cyfVcXGKvQysuqlatyttz587TsaPHqG7dutwgP3rsKIUEhVBAYIB6X3OxH5Omqh754osvLIIlWWPjBRXet998S2PHjbUI/MM81prsSomoUaMmZcyQgXz9fblDEGKuymMNOq0+//zzaHH49NNPLZ2AjgKb+xLFS7Bpz+bNW9itS9eurEjBLOvhI93sKnvO7FwHuhjfkujbty+NGjWK7wOC3x988IGe3Z0AKxhhbmNgcNR7iLbHoUOH6eTJU7R23VrasWOHcSQKLBFrfe8QKBqCECuqqBw9+iv+mXxKAwp07glypatXPahX40y0ZTsKcX1hyQ27XKlJxTR02ws9SRhpcK4XoH7D+rR+/Xpq07qNanT50v4D++nt/m/TG2+8wROQASoq2E5jMu7mTVvo0MHD0eTA/oPc+wJQmaFHHWCyUGzAn2lnaLvGNBrn6AlDYeYspo03FCJrsLRaQmBO0jJxd0/DChbmJmAS1YdDP6Jt27daJokf2HeAzp85R7Vqxr1Wc8GCWMYyBeMStZQpBA1CfRTMBvYXGc2vXX8Gen+uEWbMtosFhBDXSxiqGsThYfqz1/NdVGBu7np+unNLz5dRoJnooRpC+LAV/McRgcQA6eKiFBmXMH5zo0RjuXvVV8UoLZUrlZsO7e9HBw68RQcO6nLoYH/at78/tWxeQp0RSW5K8XBV776rUkJcNXf1O51qzOplgasqP+CGxqGrpVc6ocG9hKj3A8oBFGPYZrupa+KOlPIS14iLA7jx+VD67JcJ5tOzFpxhz71MmVx04fy71L1LMZVnQmn9zivUvfdKKphxCrm5uqvU5NwdJeqkSJcIVs30cYjonD57nxq9+DXdvvuIuvSoSqs3DqQjJ4fTmvWDKUALVooIruocYWGIPUZ+n5CrC8oyCNyUCqYaYVCSMd8kKpZAowKFM1m9R+YdO09EhP03DmFbTxa14Gj5AMxocf43/GBjz7vFr76Jdk4igcU+1q5eG6d8OepLw7djYDI0uHDxPI8qYHnUNm3bsNusWbN4YQ3bOgr1IHr1rSU23DBhOF3U5FhzIqxtR9QLdV9QStEM2rNvD0+wRUfgH3/8QeeMeQXWoA61vT7EWbAgCL6BgFGFrapuBO3avcJzGI4fO06PlTJRorg+5wOYUUY5jrxmfe242hSxAcuA9B7RP2BXr35dOn7iGP3zzwrDJSbW17UWQYgLc45pzNIzCcGL/3m/MKpQPB2pd5w27o1UBYRGL7/iQquU4h76xIUaF3eh5X+G6wWrM6jyF73yq1av4p5yrG5Uv1599TKtpLt37rIXXB+9IGGhYVS5ciWqUbN6NKlVu6ZqeOXlsPBSmV8hROEYGxkzZeQ1hsGx49HXqb93/54KSqOyZcoaLo5jfiAP61Fbgw+jPStIn8uXLht7OhcunOOejJw5c/DKGD9OnMCrTmDN5j59+/BHcEqXK2NRpGJD08yK/+mYilFSglGSmdP20Q9jttGEsdtp9y59NSp7HDhwk75X/uD395kH6UmMHn6dSJWeE76Fvy00+ceddOa0nt/iQ44cGSizJ8xOXOjalegrZJ0/c1+5ulCBQva+eqtymrq3hAdhQp7+XPUeY2v0t7hYSU8OIb2HO1WrnZdq1Cqg3rcoqVO7kFK4o1eGUST0PTlbsujXd7o8igUofggtQj0rHtF7Kriy/avD1KhU6dw0Z0k3uh00lObP60D5s2amW4F+tOqf6GUW8g1C0S9p/7orlhxUFUQa6t6zDs2e24taNC9FVSrmV40h9Gw6nwK4SoFCMFvTKCQkgh55Rx+pOHXiNj/3dOnQgLK+T6WCO16MGNhv3MMkCeDr5mZyY/vYJ1gpLDFHjVA+/Do1qnzYszv28vbQnls04as99OPXu2nuzGMqvOir9FlQt7V9w1X6fvRW+vGb7bRxzQWlTDl9g05TrUY1atW6VZxStbo+cuAo2bLrZkKHjxzmbwLAzLd5s+bstuyvZdzTn1AdW3GBuoOtCNSzREN6+rRflCJzgXbt3hVjkY5nxsg3UH5geoWFVbZs3sIKAq5du05t2rh5k8pTvlS9WjX2i7aGrZnUswITLXMk5e/lf+uvC+KmJLaPuAlCfPHEV98Vyao0oO8xS3ZX+nJ4CM1ZQ1T1hbRKe49QCkQk1W/iTn9scqUu/ZRGzgsvOF5JofK9f+++PqJgvESw78N8gMDAALp16xYHhx4HfNUQQ4mW+QOGfyzDiuFWa6pUqULZsmajsd99R94PvA1Xnf3791teWvQA4EMxc/+cqzfclDsa15s2bWK/MJ1yliJFilD6dOlp4cKFFBGuN64xooEvQT4rKHB379qt76i4bt28lUJCQ5RClZuXy4u2RJ5xj2D1v2vo3Pmz+s4zAHMsKGWWL1HiGkmCxqvB/DhuN43+bAt9/fkW2rAq9mVeN6++qPxtZr+/TN6v8hcKZiMxTFRDxfdxEI1WYY3+bBuNHb2djh6AIhJ7xRXX7SL0fPmyUlryoF9+OGG52oP7/rR9I5SGTFS3YUm+rgUX9FrDPtv5Ea2nwksf+6qXx/pjebh2lLi5YplEFzp9/IZ6j8K4kME96uJCJUtnoWLZ89Hdmz605q+L/EEnva87kkLDQujq1QcUFPRsZj9PB88DIwcqVsYcEP3ebOB0VcdNP3yebsb0THC4GhUtlEk1yzPQxXOPyPuhI+Y+6BFEikIQXwjCUor+GayCgjBC1dFI6tqrPNWtmV+dEUGnj9yznKU/DzelkGZSjWeNvK76UGQ47ss6vEjyeYT3PpzSebiovxrLI79Amv/bPlVyq4Y9uk6VV9yKowJK58lFjx+F0okjN1SDLlzFR6OLF+7TySMPqHCxnJQlKxRG3CfEOMlR4N0FzxWjGWprns4X16hMuWyUO7cHrfr7LD18EMjPMTgojNauuKx+2/b2aiqeqnz4bpdRPmylTaoMsIsKf92ay/T5qB008ovdNHXaMXqslIZwldgs6kKmgMWLTtKILzfRFyO30D/Lz1BoaCK8q7boSfB0cZIK5XXTVpjToue9YOGClMUzC23bvo0yZcwUwzwp0VH30L59O6pWtRpNnjw54VcGMp4h2hmYg5g9ew66dfsmtWz5ErtjRaknqr6P0CKoajVTCTNOSkCgNKBdA3788Ue6eeMm/xaEBEe9UzDhA86PiSUw732Zjlw9rF8pDFfre0VUW2jkRKKM6dJwWeboawfznz/+/IP27d3H9oWYqHzhwgVa/vdyVhLKlS/HiQCloUePHrRm7RoaNGgQtfq3FfeUQGE4f+E8bd26lYc3M2aGGQJRs2bNeNLQ/AXzqZ0qlBo3bqIqoFwc9pIlS+j+A91e9qWXXuLRhiVLl3DvfJVqVXi9aISHT+6/88477M8ZYAfavHlz+nf1vzy5C/v4AuSGDRsMH/EH6fXd2O/o6rWrKo1daM5vc3jbs2dPfcKZSvhyZcvR2XNn6Y2+b/DchsePfZy2f42NUiVL8XKs+Fpopw6dePJ4bqWwdOzUMZF7qZCj0IQyUb9hLgLTOVvYzdbmGefa+IU/i8kKGmBojMGPnTANzCNms82WvgNq0MIF51W+O60abi5UtHgGpWDdoMPHHlGl0oWp5+s1DJ/W4I1JAFTk/FS2/nnSEvLIkoMunb9PTwKD6Mq1BzRp0nYKCQml4iVzUYtW5ZSirC+rmCm7BxUvn5PWrzxNPTrNVfk/P5sYtGlfnipUysuFzsI1r9BL9X+hzz5dT5u3FafyVbLRtUvedOvGY1YcvhrbikoWz2KkO3pssbVNf2CWDPaO2QeK/NHDN2nbpnNEad3o4F70HkfSxvWXKSDIhcJCXKlFm5KqrMjLz0RXZ2BwhuY3nm0Cpa0CIXV8pRJt3X6F3umzjMqWUg0s1cr8bmorPrhn9z3atf2OSoZAevQwSKk5LrR12w3y9lVKlZaOsmRJS28OrKJCcaV+b66ijBkz0Av1C1L2bOnp7OlHtOfgbVZ1mrQpES1v4XeJ0rmpQOEs9Ou0vXTq5G0qUTaHUt7d6M0B9cnTMx21bF+NJk7aQiv+OkYZ1H7uvJlp55YLtGm9l3qGMNTBuKnCmeRQj2ryzNepQ/sZNPbLjXThlFJmXNPRkoWnyedxCDVpUYJy5kZ5i2cKzFEH9VddB2IewmUh2L14yYdW/XVS7UTQvj0YNXWh/Sdu0A/jt5GbaqnXbVCc6jYqRJk9Pei1N2vSlJ/30xs9VlC1yvnowuX7tGXjVXWOLSrkaOZn2DfEFnaz9usEZpj2wk0FYJ7b6TOnKE+e3JYlWFu2bMn1H76EbDtp2Rkwso3lwG176Tt17ETdesS+CAg6u3r3flU1dEbQDz9M4OXCTebNm8edfLYmTl27dOU5jY7mZ5yPnv7s2bPR3Xt3qEOHjuyOJWbRyYeRjlq19DmIkRERbLoM0PiCH+sREIySDBnyATVp0thwcQxM/t6/bz8t/WsptwtefPFFjhMWTgH57Hw9GZOjbedvwKrgww8/tFoeNoFRj6/1y605buZXupcuXUrnzp/jDtb+7/SPMV9TSKEobTnackoOSYTaKHnWJVfNn1jUEwvsYYnDoe9FanPmqR8KuOGY6c/y4ymC5c2+Gq1/ddBaMnhk0P5d9S8vtWr6xXJs6qXjZdBs/devVz9auKb/T4d/GsNvxQoVlQfdD8I/deKUVqKYvhyaKS82fNHyxUv4Q1pVqliJj5luECylCjelcERzBwjDDC+rZ1b+Sh9+16lVJ8qfg2IuuYqlac3l4EyZM2uOvtwq/CouX7zMS8pZ+5kyaYrWpFETXpp208bN0cI+cvgI+/lp4s/R0tueIE2xLF2Z0mUsYWfLmo3TwZ7/hJSH955oeTIir3yg5GPtowH/2vUH+fzDjcrPEPZbpsB47eZ1H7v+bt/0VX6GKnlPNes+0mZP263c1QErP/qSq/ouIBqsvfXGKs7vthKk0u/0BX+teO4Zyt83SsYqGa21bDJPexIcyqvZ6YHyD23SpD3q+LvayOFRy3iaEm3HEVHcvID4VVfylpK+Sl5T0kfJG7zfovnPmtc9Xy1IncCibmzHvqtag3o/aR4uWD54gEqHEdqsOYfUcXU/SoKVHDh6WytdbII6jrQapORd3r7Rd6529yHek0Dtw0EblNv32vJl57Ubd/zV7xFaoazj1TFNW7XyopbZ9TttwcJT6qpIUOXogISHRWhTftiqwupnXLO/sX1PCeI7Qhs7Rl8W+dDRW1qh3F9r/d9epoWrEipE/YVMHHdU+Zug/fj9EfZn7zpxivEDS4ReufpI69h2rmoy4trIXx/CA3sZ+v5utT9JyeeGDFeC8gcyVqtQ4jctQHmEtGr5h3H8C0NGadnTTNDWrL9qKUutJVCV3Ws3XtDqVPtZ+cW9v6u5q+sfP3eXnxHK4+mzdin3rkpeZylS4GNty+6b6verWu3qkzQVRNQ9OSLqMYWHRmqz5xzQ8mUZqe55iGqWowwboY0cuUnzV/UIFoY1/T986Ke1bfGHVrbYj6o80pfdNoJhQRyxnbvghAoDaYdyDHF9VQmeK/LVEO3DfhuUL/iN1O49DFDl3RrljuuO1GqV+0Ub8ckWLXuW8dqvU/azP8v1VfmQM/2Xyp9ePnzy3hrLMVsZMXgLh4e0L1Nkmnb9po+Kn6of1WFrAb07L1X+Biv5kJcf9vdTT8ROmClakPCKr7/6Wt0HaTVr1OSyHGDZU7hhOVXTDUulwm3k5yOjhYP6Ae7NmzXnrz+DUyfPsFtsMnTIUPZ37uwF3u/SuYtleVFTUK/nzJGLjz/xf6Lt3bM3Whi2MuzjYRymdRhxirotfBUbdT/OZ5T77Vu3tRfqvBDNDcuX4qvV1tezlalTpkcP30HBcrZjvh0TIzykt7lUKtodtsdtBXWwdbhIz7f76V+xtl1S3WlR2F7PFBdy0ZfGtznn+LHjWtYsWdkPY3NcJAlF8dXor/m3C3b40TmD8m88Sd6NjIxQmjRsRDUeooQ9Ha+88/gxTwY27fFtMTtWDCMBFvSKoRcMA9TQw3GFNEb8nOqHUZ4Rp6tXrvIyqfjAW8nSxqQkIzwLRsBY7eHoseOUKVNGKl+uHLnC3tjWLzD83719l+7eu6uvIKHcVIJG9V4YG8wHQA89bB9z5c4VPTzDD7B3LrB2R/qak/Xw9Ulemch68p69uMaB90Nv/ooklk3FKhcw57p//z6VKIlJqAo7cb176y75+ftR6bJ2lu6M5d4cipe1f2ucvCensXfd2K7poN/QUMzNsel1tPHHrw7CU4KfFt9PubbPgxC6cPYhVamZi9Jn0L8kjEPu5sukzo9UgZnhmeMcJqaJiFPwSdahxIJ12LF5t+PH50EQXbuCFcc0qlHXLCtUzDVVEvBkWZu0VMDG3ViMxEAFbKaBIzjiFYlne41o6L3tFi/OXN8Ay50iHNszVYNEf7cdCZKD0MMBp49iDo1GWbNloAJF9XlYMaJuElv4pn/j+LGD16lYiVyUJbtzK8zYYgaLrWpz0bVLjygwIJyqVM3DyQ3hsWbL9fHDiITpZg9H0knVLAgfwbiqq1if8vc/Z6lL+2W0e/dbVKdevhj3H43Y4uGoXz0CMYkt3JSKGV/rezHdrNNCuVnXXYztvdr4t5uWttj6iytMR7ENIy7g14F7543t/ceGM9e3xgj6/LnzPGpRuYr+JWi7cYoL2+vbuZf4wO0YY7WyWInj2tHaR0LSo5J++LARNHbsd6pIRm52NjMo/zgFp4KEVBowPxuhYlFFs4CPl9IAbE8wwomVZ/Efm19H/MQHM9xnCDOa0hAQ4FiYiXU/yYj1IjD4aWmw2GC7WIxrLP5CQiOU0qAvNwrshcmvDh+ISsbYwouGJQ7wHKmUbL3WsigNilDjJ45Aoo7EjIcjmEHbPdfaMR6NZibaadZGNCgBgHEXMBUxr2cvUk5eH94dSg87nvDdA8QUR9KaLYd43L/5jQR0lsDkByHw5SDOBBctjlYnWjs7CsKKkb7Gvk14kSoj/7viIvn5Ws17igGrAZRNKRyt25W03C9cTaMyKF8wvTLdzMsifZDOkHTxSF+AMPR1o/QcFRgUTgHBWN/ejbDsKpSW0Z9tpd/mnKTLXoMpd+6M0ZLT0fLBgrUHB+LscD5MaSDO8XskzwdO3L/eVEqChq8ZfErLT//1vJLaUc8Oq69hqeLUoTQoAamyYE3BxFAa/qMkvNIQyjb85mF7YfKrwwdiv54jmBMr3a3CSFKlIRUTr8aa1Qkot7Cnz+RQONBAtAfCCFOnmtb7fAlI/IJLUh76BVPHNvPI65o52dRepNWdqbSpUDkv/bW2G98aFAMzf5ogPWMqDbrCoCsN7OQ01s85XL14c2YcoAnjt1DjxqUpd55MvArZli3X6O0PGtDnIxqSR3qob1E4rTQ4SbzyYUoAcbZOqP8a//X7dwZJq+eGZFUaTMz+ROQpcw0JVKBmtKwrFiHhwESsQYPe44lIEybo36NI6Vi3yxKqorUO0xliuz6WGnVzxZowOolZVpoNGmsFxvp9st4KCYTx4M10do1HBuKGotqiMQwQJPZT27MKDY+k40fv8ApEsaOX4Jk801Hlanm4YLd3r0hPWyUXILUhz1QP6I+MN+fP3qPFi3bS3dv36NGjR2yOWblKWWrWqhzlzO6hX98qEsapFmzjJwiC8F8hRSgNQjKhaj98CAdDpunTYxZJyic1KA1JiRn3lBCX/xTWCR5PpQFAacBPN3l+iYdN2qLawko24eHhqt6KoDTGB8PwZWgLzj9SQRCE5xNVHn77zRj67LNPpRP/P42qPDHKkFoUBkFIMaDVb4qQssEjshJMoE+bLg1lyOhBmTwzUbr0ackVkzSt/QmCIAgWzA/5itIgCIIgCILDYKQGpl3e3t6iZAnCfwDz2x6iNAhCcgGzCSXSYS3I8xdSE5s2beIPqOXMldNwEQThuUW1U774YiT/FKVBSGUYLW2W54Dn5DaE+ICHj+m/kDgyAs+SNkQQBEEQkglRGtDDZ4qzxPc8R0jMsFMjRnpgJfuYn8JKpVi1AfmOjHt0CMOvM6cIKYegwFC6ftmHrl71pqtXHpGPNxabtgM/XPMpK0GecUQEQRAEISFQVc93343ln/95pSEwIJC/rhwUGEz4Iq0zcvfOXXrk/cio2BMQFd6d23fp+jWvhA87leL7+Am1azqH8nt8TaFhwaRpYSptVOsoAXpfrTtynZGEAkEFh0bQuXOPKDA4jCJV4FhK1Z6wGYuSu3dD6dxZX7pwjMjvHgfzXMEmW9hix7hnWzHNuiz+khDLtW0Ezy62uFoze8o+KlbyGypd/HsqV2ICjR+zTd1DzLvw9g6gkjk/IReX92jL+otcYmuuyicLftuXJMX6Xu1hfdxabIntmLW7EnPVPsC/bY7HKs7wtHOsw3VEnCWuc62POSom9o7ZiiLOdBUE4T+Hr68vb5/rJVfxHQLzo2WZPTPrkbYC8f3jjz+o7xt96cTxk1SpUkXjiGPgs/Cv9nqVpv8ynTJmxOfoEoYdO3ZSo8YvUpFCReia17UY8U4NIG3xOXtMmMucWaX9s+ISQSeP3aVXOy+hTB5padfJ/soRn4FCZkylNZmx0H+kuo2zpx9SxYpTacpPbemd96qRq6v9lt9jnyDq32chLV11SNXf6dXdb6bff51HffpVMnwkH1CkgwLDVJw0cnd3pXTp3OP1BVTO7jjNyPe3bvrQ1AlbafP6s+TjHUg16xahlm0rUNfetSl9+jSWdkxS5oLYshycv/tyHW1df44yeaanl1Q8u/SsTtlzRP/K8OVLD2jl0lMUrhw/+XQDffZJY/p6bEt1vk3AavfWzcdUttA35JnZgzbsfo/KV8oVdTAWElKpfRr4Sujly5dp5q8zeTUiW9CxgjIyNDSMBg8eTAMGvEvlypWjL774Iip/qM2c2XPo2LFj9NFHH1HhwoV1d8WTJ0/op59+okuXLlHBAgXpmzHfWPIGzuverbtlkl5sFCxYkL76+quo8+JChdnypZZUv359+vjjj3mFOVu2b9tOE36cQJ07daZmzZvRhAkTeGKw7XuL8q9BvQb0zoB3HLu2we5du2nu3LlUo2YN6vd2P8u5qNMOHjhIf/z+B6XzSE9DVHqeOHGC5s6by+WsWSebwH+7V9pRh44d+Nj7778f64c8UYd9+eWXlCNHDk6DXj17qXc4nXGUqFTJUhzGx598TOvWraN27dqpaKl/uKYT9yYIQipDlQdfjhqtyodR6l0HkU5KhNooiQiPZAkLDdNCgkK04MBgze+xn3b/7n3N65qXduLYCe3alWsxz08iuXL5ipYndx4tq2dW5RDlbopSdLT58+ar+t9FO33qTIzjT5MK5Stoo74YpQUFBtk9Hl/ZvWuPljZNWq1ShUrKIco9NUnAkwBt0MBBWs4cubTwsHC7fpwSTYWhhWkL/zis5c7wlfbJoJXK3Tho7S81iX5LeJ20y5cfa9XL/KYtXXRWC1cvF9yiRL1nfIKm/T7rgJbV/ROtXYvp2oRvt2nTJmzQjh/wtx9+Akv0OEWX0LBIbc6Mg1r5wuO1ikW+1br8b6Z25LCX3XCeJqpI0ULUTwhIS+9o+XJ8rNWqOlZrUOdHrUTBUVp6Gqq90nqWdvXG4yi/NuEkliDbqccWQ27e8dde77FMS0cjtVqVJmoNak3ScmUaobVp8Yv28LEqI4AZBv/QtAtXHqrm1mDts0/WWbKztWADzp66q5Ut8I028PW/NF/fIOWuhxCb2HVMJKlZoyaajJpqzNo9fuH8Ba1c2XJaq5attHNnz7HfShUraY99Hkf5U7zd720tR/acKt8ciXb+gf0HtOLFinM5jXMjwlWOM46FhYRpRQoX0SqUq8BSrGgxzc2Vv3qhVa5Uma9bpnQZrXWr1rhEtHBjFQXOr1+vvnbn9h27fj4b8Rn7Gfn5SO3smbN8Px7pPbTyKg7ly5W3iGpoa7179VYnRZ3riCxetFjLljWb1rNHL+Wgu6GOXb5sOd9fLlWujh83XgsMCNQm/jhRc3dz1zwze2oVK1SMdv2yZcpyHHG+Ut60rFmycrxLlyrNaWMtdWrX0W7euMl+UafDH64Fv1UqV+G6FG6om9r9r53leZjxExERef4lyQay0TPniCydHUHb10YqzQbl0bODniz0eD+NeHSI0qJFi+itt96itGnTGi5CosFZ1Y26vVaVfpvfmSpVLUDBQeF6pknlaKFEeXNnojkLW1Pj5kXs9M5z3cy/Thy9RXnyetKno9rQkE8aUf/+LahSxZi9u3GjqWSLVIItRE9GXeBuHGOfUcfso/tat+ocvf32EnqpTRkaNuol8vMNpXGjN+penER/0rqAnj3r0MzfX6V5S16nBX+9Tr8vfJXq1y1FuzZfpX3br5JLpKb86umTtJgppE9mXjr/BC1ddIr+90oZmv/3q/Tnst7Upl0FWrPxOP08fhNOsMJIUE7YCBWKMexkg94sIypbIQ/NX96HmrYsRRGhkcpdb7LFJkmJalDydteuXby1BaPOWJqzWLHihotzoCf9zp07VLtWbd6fPXs2b4F7Wnf6Z8U/tHDRQpbRX462lMdrVq+hRQsX0cKFC+nnSZPYzVGUokF+fn4q3o8Ml+icP3+et+XKlectKFq0KC1ZskRdD9fUZenSZTRq1CjDR/zBiMXy5ctpyAdDKFu2bDR7zmwekfHIoI+ChEeEU5UqVeiff1ZGu/7ixYupX79+7MeaX375RR1XaWYls2bN4hWRrMEoy88//czhzJs3j74c9SWFhoXSylUrDR+CIPyXSDKlITZQZVq3R74bHkZ//ITvpCq4BtR/Oozyv3fvXnrrzbe4AsHQdlBIEA0aMIjdICeOn4gRbr58+WjChB+pWdNmVLFiRZr440Q2tbJlxowZPMQOmTlzJu3bt49Ns+wxfPgI6tPndbrhdYPmz5tPL730Eg+7v9PvHQoICNQ9qXicOnWa2rRuQ6VKlaL3Br1HDx8+tNNwdBwU7rjf/Qf20+TJk6lGjZrUpUtXNsWKdt/qN0yhRqh4NmjQgIoVL8b+vvrqK92fTRQw1P3BB0NpwYKFdOniJfr0s8+oerXqqrKqqiqc2dw4uHDhAvXu1ZvvY8+evVzxvt3vbUva/zbnN7vp+nRUZLiB5Uovty9Lvd6sRuk90uiHUjE//PArfTR0MY0csYz+nLWXrl56QJpNC33jv9fo/T5badCbS2jLujMU4B9EP43fQoPeWkrvDphK27Y7OalBvVfff7mV+vdaRitUI9e8GvpXXVT69un4G30+9B+6ouLiKOv/PU/hFEoTp71CPfuo/Na9Om3fcsk4qsBFTHkK8IKCCYL27+Rfe1LrtpXU+5GHChbIpvJqCRo4uCGFhWh0ZN9NigyPcK4gs45LXALsuOPVdFc/3dUOBLF8/CiIDuy9QQFaAM2c156Kl8hBWbJ4KMU2lNIrlebbMf8qf/bQz9clDtTh6rUKUsdulShbjrhNcZKacuXL8fbatWu89VLl3b//rtYb1ur20GkDpaFyZedN6IKCguj06dNs5jr6q9HstnTJUj3ZgEqXKlWrUKVKlViKlyhuKTsLFCpAlatUpmrVqlHJkiWemsTWlChRgs14/P39+FobN2ykrVu20r276l1T+6fPnGZ/VSpX5i2AKU+FiuX5Pk2poq5fsmRJp65tDY95KFDeDh8xnPz9/OngwYPUpEkTCgsNY9EMT5kyZVL3Xyza9Sur+BUqVIiPWwPzMCgZ1oJ6z9ocCcDcqoRKuzJlylDzFs1p1JejqFjRYsZRQRD+E6gyb/z48fpvVeDYHYKIUzA6rMQZ86SYw/n6APu5c+HadS89ULiV9AjXujaA3YZ+sasXsDX3ni5g9b+rUYpaxBxGNWXun3PZn7V5Uq2ataL5gSxeuJj9WV+gbeu20fz0e6sfm+JY+zElX5587GfUyFHRzoFMnjRZedK033/7HU3EGMch8TVPGvjuQD4/e9bsMcL8aOhHypPhV+GR1iOGH0iN6jW127duRwsXZkZZMmfRWr7USsuVM1c0/82bNtdUhcpD9dbubq7u0fY7duik+T72jRauM2K9G20nNYp6EUoXbajSpZ6Splo66q/98ssOLSQC70LUu/L9twfV8QlKBmru9KHy94n6PVjJB0rKa3OmH7cffiwSrv5duHKHz8+SdqS2c+d1tpQCLRvOVNcYob312nzlpt5t5WaKaYoUUyK0caM3qfC+0NatPqdcNG3ooBVazTI/cTlhcvVMmOZ7R4Wq3OIUFUebKBuim+SATWu9tMw0Vpv+82EtTJVB7G54NDYsKjiLmPdweJ+mnTymaSdUsp2yI8ePKE8qQYLCIrXjJwNi+jmpzj3vreSBdvTMPeVZ0y5c89Ea1PlNK5LnRy1UXSlY/Z27GM/tfS0NDVHb/trZEzeVTz2CiBu4cPkxHxv2yWpNFUdREU9F8u8qvbxt1rQZ1wVm+dOsSTPlQdM2rNvA+8ePHbeYJ1WpVEULDQnl4yYDBwyMYZ506+Ytre4LdbXWL+vmRTi3cKHC2uVLl6PFwZRdO3dpGTwysD/Gjp+niuLniT9ruXPl1tatXcf7CA/y6fBPtSd+T9hcyryGaZ5UvVp13reLvevEIaZ50qu9X2MTrDTuaTTPTJ7a5o2bdT8GeFd+nDCR49K2TVvD1Q7Kn7V5EpfB9jCub5onweQJ5mWmO4AJFOpMMU8SEfmPiGLYJ8P5d7KONKhChzpU9acXCrvQgpmuFBZmOcCD9TNVO6l1RdU86hYGJ4dAKda6TWvufXns85jy5c1H6dOl531Ter/aW/doxdEjR+nMmXN8fM7s3yhP7jw0ddpU42gUq1avsoSD+Mc2YRWYx77+5msa8+13lvMwAlKtWnXyfuhNkyZN4qj8OOFHPoYepfJWQ97xwexpCwgMoHl/zuNwt27eym4/TvyRlDLHv0GDFxvS33/9bYkbpHatOnT4yCGOmy2ubq60fsM67vlTjQD2f/7ceerZqxepio3KlitrCeejDz/mSXXmPuSv5cvIM4unEdp/AK5WdVEVvEUiIiIpIpzo/NUdKl1207VLK8mNXPnZ2eb1jz6tqfwMVTKF+vSuS1UqFSavG9+ofeSZ09T3najeTkcpVSwvzfylK/mHhtC4Udvo0aMgWrniAq3feZHyZM9EP0zvaPuKxMm7H9ajnB4Z6OU2Cyizy6c0fcpe6vVmTfVOR9LWLSepWd0vqFz5FjR5yi4VZ+OkZ2DOtEPk5kZUonRWtXW0dNBHL95881OqVLUpVa7SlCpWaWxII4tUqV6dZs+6pd7fCHrttTejHWO/lTpQ5TJTlcylauXn0rIVZyhC3WdwcDgVKqrn7bDQCPru013UtXNVKlYsO7s9r1SvXo23t2/f5hU2bt2+xfubt27m7bXr1yhH9hzRzDivXL1CLV5qQY1ebMTSuFFjNuWxxc/Pny5cuEgvv/wy73fr3I0ePHjAve2JSdWqVXmkASOlB/YdYDc3Vze6c/cOXz84KJiU8sLuJigH69WtR0rJsUi1qtVozqw5XKfFh3v37vJIQUREBJsmNW7SmN0xwoBKEkU9j3y5udPunbupQf0G0a5fq2YtWrt6LZ9jTbNmzalJ46bR5LVXXzOOxgRlN0ykwKnTp3grCMJ/B7P8TjKlAf3N0cRw/3OjJ7VS9cHP4yNp8IBI8lOVrY+qfHv1ekI//RxIbV4NotcHo8RVjXR1niNiNtKwmgUKOwtWx0zMhv3o0aOpXLkyfKy1qqAwpH3+/AU+Fg07YTyNHt170Ijhwy3nYdWQ+vXr0blz5ziOtWvWpg+GfsDHMCzeqWMnVkieleLFi1Ov3r043MZNG/NKT5FaJK1dZ1Qiyn3DhvXUrn07Xj72+rXrdOvmLWrbpg0fhgJjj4L5C9K/q/7loW+EUbp0aerb93XKlj0b70OwlG2gUlqwslZEeITF3SLxJNpzjgMM31gvUwqJjRhLmsaCtT+IQ8CfIa6uUDJ1cVPKlxssAYz0CAr1p2C3cOUNpjaRFpt+HqexSrTgoDAKiowkX59Aa2cncaVwdeJb77xAb7/eiE4c96avRmyl/n3/ofzZPOmfjb0pY4aYpl+u6lp2RYWVOWNaOnG5Lw17vwa16VSJer5al255BVO9qlPo/Xc2UrZc5ejXWRPovU/qqPtXyaHSI1ZR17J9zthEqCOw/Z8z6xAtXnWU2ncuRTVq5Y6RH6zPtY6nu5FYg99rT6OHDafRnwynTwZ/SB+9r2TwECUfKBlK773zKVWpkU5dzY16du6n3AYZx5W89yl9NGgADR3YUEkNGtSvJpUq7akaVEEUFPBYNd7C1VkafTl8g1La/enNd2pRzpx40BF06QLMyAzTSz0q5OKGdLZv3pgYoBGMJaaPHz8eq8CsCKaGjgLTToAVlNCghplSoYK6ScwNr5tcruTPnz/aCkfh4eHcqQPzUVN4FT4lljJbZYRNmzaqxvsTbsSD9h3bU1BwEHfyoCGdWOCeAgMDeQXAnTt3sluxYsVYgblw8QKFKGXbvG+TCBV3mF5aC0yz7K2+5CgbNm4gP38/VgpwzzDzAmnSqHyDF8VIKhChxbw+xN71Yfbl5+cbTQKexFxVCc8Jc1WwktM777yjFCV9JcQ8efLwVhCE/wCqnPnKMA9NMqXBHijvajRwpakriEZNdKFDOyMpMkKjIweJLhx1o0lzXejLKWmoWj1zSmTi0bJlS0sBjMllmGzm6/tYd3hGXn/9deNXdB7cf8CVeL169QwXnZo1a5K7u6lWxZ/27dsbv3ReafcKb2EjzKhK59SpU/T++4OpT58+1Lt3b+rUqRNPuAO+qiKxR81aNWNMmBOeHW7oGr+jYaX14K+rbWvBSaCQ4p962+jbiU2oRavi9NuMoxTyJILmL+tONaoXVkf1q1hL7OCoK9285k9ZsqWl0HBS77CXyj/+9EL9EtSoUWlq2boU1W9SmDJ7orGDLlJnGsrwq9/v1In7aOi7q6lWhfz04af1KVsOJxpknI5Efd6pQSPHNqGR4xrQmJ9eorE/t6SxP7VX0o5l4vTOVK1GTnJVGsyHI5oqty7GMeVnUgP6bnI9+m5KVSVVaMKMqlSufA4VOOLoRhkzeiil5jhNmbiXuvSoRnXU/evFrBuP0sVMSexHso+40zhh2LZ1G/Xs1ZM6d+4cqwwaNIiXN3UYFfG8efJyI/7c2XNsd49lWMGyZUvJ+5E3FShQINqy1JjbhblXKGtMadGihXE0it9/+50nJefOnZv327Rpo56LK0+OxtyvREHlkTx583AZByVo3fp1lCtnLho3bhzdv3+Pdu3cxUrOSy1eMk7QKVKkCK1YsSLaPa1evZra/q+t4cN53F3dacyYMdStWzfavmM7/f3330qxivnuYCJ0zRo1eSlU6+v/888/VOeFOoavKKZPnx7NH+Snn38yjkYRHBxCn376KQ0bNoxWrfqXypQpTaO+GMVL0QqC8N8jeZUGo5EU4E+0Yi5WpEBPokbhqhI9f9ad/pziTqEhSVGVEmXMlHDfWbAFk87sgd48DPnaNsBh+vMsE6FNSpSIvlqJ2eNkVrYYXWjWrBlNmTqZe65effVV+vDDj+j9we/zcfRS2SNXrlyUPn16Yy9uXFQFnxwg9XBlszEWV2qa/ky/sWHtDxKn53jgSHDxVxWiiEoPF8qWNT0VLZaNww0Lj6Ra9Yvwb1OxMP0+LW6zp22mlxvPpukT9lL5Cjlp3opuVLZMblr5z1GaPnsbvf/uRhrYZw3dvglFFFdw5k40ld4u9Psvh+mrzzepNrZGfyzvSuUr6w1Jp1A3cvTQbdqy7rKSa7R901XasfkK7dh0mXZsVL83etGWtTfo4T19cvXJI97K7Zo6ro7Bz6YbSm7S9i13lNymrZtukZeXL6VN66rKkHS0Z9dVGjZkNRUukI1GfNlUKQpuqjGtX7pYcfP7ClawMpgQT9UxMFG4/zv9eaGC2ATlgNlId5SKFStxTztMV1CWQvkAx44d58URYKZoPckWQ90wu0FDG1K4iFIorb/nopLF18eXDh89TBcvXaS+r/flbyd07dKVR0vhdv/+fcNzwoNOG0wMvnb1Gh06dIgaN27MCguueez4MR5pqGaYZZmgfC1YqKDlniAYneD7iucjbq2uOXjIYBrx6QjKmzcvDR8+XJ9wbueFxETo7DmyR7s+VnSyN9JQyCaeEHsTpjNmzMArJ2HBj4MHD/AqS1AiYqvTBEF4DlHlzQ8/TOCf3PZJFlRl6aoi8v1HqgBTbebt611o/kp3SpvOlVq1Ske/Lo2kLatCqUEhX9r0l3FOPIASkhAN8GcBQ8v2gDkPet8wBG4NbIPt9SY5i5fXTeOXDg9pKwoapgP4QND9B/epR9ce9O/qf+ntd96mLl07R/uwkj1cXd1UJnIsTWF+lRzpf/2qN/21+CgtXnCY/l50ipcAtYuK2up/ztHiecdpyYITdPpU7CsGXTj/iP1BsFpQUIA5CSdhcLF8zhdir2GtEVagd1HadkKkKBri2zbfoG++2U5ZM6YjfJbt5Vpz4xG2CzVvVYVmL+hG1/1H0+hvW1D2rFlo3p9nKb17Znro8wOt3dadLl8Ip41r7pA+lcqBosewMcKYyJZNF1lh8AkMpUs+Q6l0acwTQEwdCMcE4SnefXUJNX/5VyVzqFmL2dS0uZIWc6jpS5Df6aU2s2jl2nMUpNKjc/slym26Oj5L99PiD3WO8tPsD5ZWyv3IYW9yS5Oe0mdIQ0HB4fQo4DFtONSfMmbOQHduB1BAYLi6agQVKJhDPUL17tg+1iSkYqWKNGDQAHp/yPuxymt9XnNaaTDnNWCZz9KlSnPHxyv/a0d/zv2Dbty4wQ1as/xxlGnTp/E2MCiQ9uzbw6Y66zasY7dLly+x+WQ089MEBGaruXPlpo2bNtJj38dUv159VnSg/GCUA2D0JLFBugGYgL75xpvk7+9PzZs3Z7fEundrUHbDDMtUQNDBZT03RRCE/wZmZ7MTNW7icHg7UStV36w5QtT6fypCqh0QFqZRr84arT3mTrkKutHxA/GzXUWBh8lrgcGB5OfjZ7imHKAwoPcNw/QmqAiuXruaIPa6S5cuiaZ8LF60mLcF8ufnrWmCwMPXqH+MOgjKREJgKgs3byjlJSFauU6wduVJerX779S912x6vdefdPe2v3EkOt73A2jAGwup+6uzqWevOTRv1j7jSEwW/HZI+Zuj5Df6ePAK8nlkLJubiuncfAGVLJKdFq3uQa+8XIZ2nrxK343a7XSDpEjxXNSuUxWVhTS22vd+GMiTgQcMaU7ZshJVrpqb6jfNR3duPdFPcIJrVx/Te2+uUsp1EB041p9yemZkY6D40r5LJfpkUBMljWjoUCUfGtuhL9LQDxrQwHcbUelyunnSsNH1lXtTJY0NPw0Mf/jdkAYNbETVaualXLkzULlKuShYC6PBA1tT0bz6hOhTx+/Qg3v+VKF0UfLM7tjoXKJivudPEyeBaQw4c/Y097a7p3GnatX0eQgYFUCDM1366Mt5Po0F8xeQZ2ZPWv3vas6PpsCsEyZK+w/uT7R5DW5ublSseHGexA0waRvXxtLU172us1vtOrXjlVbxAfHBAh6YR4b64fPPRpILKktBEIQkII0q00GyKw3T1hItUwpDoeJE6I9DlGBPTeRBJct60F+7stIHY1RkDZtuZ0BFBVMagDW+8f2Go0eP8jyC+ICVQTAfAD1NZm+Tj48Pf2cB+8ftfP8hLsqWLUvly5enu/fv0vRp0+nixYu0ceNGWrBggaqLnr02wjA2Pthz8uRJWrZ0Gc35fQ7b5nbq3ImPY+4EmDZ9Oh04cIBOq/v4Zfov/JEk3TAl/mDSIyZ1Y9Iv7JsP7j9Ix44do6tXE0Yhehpp0qSlTB5ZKRNlo0wZM6lGhv15MWh8ZMiYXvnzoExuHpTWZp1ya9KlTUMZ4U/9xf05anqF9remWrks6tYhkUru3PahkycuqXS5SufP3iRXzZVu3/Cn44dv0rFDt+nKRX3SYxQJ00jAXIbA4BD6X4vZFES+1OuNKlS3UQGaOKctlS6Yj777dg+tXnmJwiL0T46ZEivGXAE9x+pvb978GShPniy0ZN4J9c7dpc1rb9HR/X5UrEQ2PW85/D670Bvd/mYToLcG1KJHD0Noy9brtGPrNSXX6cJZH6UYO/iuGPEc/tVLNHbyK0r+RxN+aEsTvlfyQ0slL9GECU1pytSm1KhOHkqv/PbrW9k4Zkpr+uGHl2ncj0omtKaJU16hYoWyU8b06alB3RKUK1NOWr/iIh0/cY+O7LlJ82cdIV+fYBrxub76DxPj1tOrNEv8eVuJSf0G9Xnrkd6DyzRgzqnK4JGB54g5hUr7U2dOcc82yknOXIbApBMLVSz/62+eqJsYoJFeuHAhzqtZMmeh8hXKs9KARjvcShTHXJXoYJ7Dju07aOvWrRbZsmWLPpHa0eweB5hM3rdvXx65/nbMN7Rr527jiA4mSe/ftz/a9SGHDx82fESButDW344dOxJvnoggCKkXVe5+/fXX/DNZlQY0prJhxN7YR2QaNnelGi/qJSz+Zsmu3J8hlpi09UrbV2jmrJm8bN8rr7xC+/bui1chvn37dv5wWfv2HVgAGvndu3endu3a80Ria9KoRmZcoELEqk0Y+h4wcABXsgMGDKD8+fJzxfSsoFcMk/c6dujIcSxUsDD9NPEnttUFUB66de1GFy6eZ3vdjp060vhx4+mLkV+oZ2I+leg4M0G7ebPm1KtnL1qzdg01atxIpVE71SibwKuSJD6IP5QTNCqQlvbvRwf+TL/YxgKbtxj+XJxorODyyMNKrC2Qli7ZS6/2+krlm6/p409+Ud5cafb0ndS93Qzq1vZP+uLD9Tg7Blit6FkI8A+hD95ZTus3naYuXSpTv4G1eHWh/HnT09J/O1M6l0j6ZsRmOnXkXrTVhxwFt5stWzr68NM6FKFe8s5N19DQd/dS3QZ5qWnLmHbTsWIoFlsPXuTtr5MPULvmf9D/mv6uZK6S+fTz2AOqERmnSpMo6I9Qny5uSutXStFHw+pTgF8IvVx/FvXpslgpSndp2LCW1OPVavazoAvM5tKqs9U/wxwr1aGinL+APnqZPVt2XrUNVK1WlZUImNg4a8rz888/87ZUyVIxbO1h+lSnTh26dOmi3iB+9qIyBjBPgkkOlpE2F5CAIoEPyOF+0CFlC1aPwtwHzBOzSPNm1KplK8PHs/PGG2+w4gDef+89XoEPIJ579u6hunXrRrt+02ZN6d3+77IfE+S1Xr16RfMHQR2AD3IKgiDEhovGY77GnqMo/zgFpwJeKi8ikvcxeRYTfCGw1UcBX6SovkybLeZlI1Shj9+o+h88xJc1iTB3DHUB+t/0ZSfjB3q1EQ/0wpg93AULFrRMusOow61bt7iiMyfqwaTnzp07bD/KvVwGGGm4e/durPMNUKmULlPacmOoRLDkHuxReV5DLJUbroWwd+/eTRUqVOC4YC4AbEcxcdGSUA6CyYxTpk2haVOn0YsvNqL9+/fxmuIlS5XkitAyx0BtsOwhbI5PnDhJ+fPn48oQPVoY9UAawb81cM+UKTPlyZ3bWA0mdpBOSF/0XplrfGfJkoUn9MX1fYuEwOdxIN2/94QiVZ50c3Hjyb5p08bszY2I0OjqVW8Kw7Kwihw5MlLuXLodsS0PHgaoe9HNa9Klc1dpmk0pUU+/D+tOdetH+eCWP3k/eMz5Xz0UDI9wXsdyAOTiqhpcadS7Y9VDq7zcuulHgaHhVCi/J6VXcYgPWGnl2lU8ExfKk9dTNfCjJkoiGhfPP1IR1Shv/syUKXOU/bLVbdjFvE/zHpG2d24/ocCAcD6WJ3cGypo1HTe4HUadd/qUUl5UXrN+69BIB1mzpFf5KWNUnnYA6+cR3za6dRjWhARHsCnc4QN3KCI8nGrWLcjp6OHhHu1a8387Sj+M204BIZF06bo3Df/oRRrzPVYPUgHHFnhKRkX57JmzPG8BCgJPvlVuFy/oCh/KFEyQDg0J5YnRGKlDWWNdDnCZ6+fPk6JRZqMMzJo1K59rDeoZlCkQ2Ntnhf2bkbZYSvT69etc1leoWMHiHh+wBOmNmzcoe/bslDtPbg4L4aO8xP0VKqyUGeWGOu/mzZtc1tsDeRPfr3EmLig3UdfAhLVAQaVwWZ2LesnLy8uS1rguJmib9bEtWLQCE7KRJjBJja3+wrPIn7+AKvczcVhnzpzhTiKcazuPYe3ataxkoPHA13Xi3gRBSGWosvzHCRNp6NAPkllpMOpGNNc4PCVm/y2aQzgMeRalIcWAezDuN1ZwPAHu1VQaZs2cRW+++WbUdeMK2xE/1jhyP8kI8pZ5K2Y0Y2sgWn9zAT8d8Qec6X1/GggKygOaUNaXsY6L+b7ACe420Ul2rONnYt08wWG+P2sPDmA+y+hKgw7CjE94Js6e6zCWa6gLWF/QYPGfJ+nXiQco1A1fn3Ch3q9WpXeG6OaC9vwLQkpClAZB+A+hqqThw0bQ2LHfOdfpJyQyiVXwItynhe2IH0EQHOMp71O3PpVoy7E3adfht2nn4X5KYahlHBEEQRCElAUsaUCKURrQt2YdGe6R1H8KTsJL5BUuYjHB+k+SyhQgM//Hled5dAGC37pTikTeWytiGTUwdQrMaIDhHg/38pCKpJ4gCIKQglDV07fffsM/U5bSgFrUgNejN34LzoHP/a9Zs5aaNm1quPwHSYWZx1FTmUQzqUkgTMVGcBwXURYEQRCEFE6KUBrMNpAZGeyjCk3pjaOUSo6cOah8+XIxvjQtPJ3kzHLPVbNR3l2HkGQSUiNY2ML5yZCCIKRKVOPEXNEuWZUG7pFUkkYJRhZABrXNaPxG5J6LSdDgeetITOH3g3xlLhVq5rPYYAXVSkwrEVtR/6NJYmDG9WlxTkmY6WPCv5VgAytIUyydAjb+nwbSAc8RZYEp1s/WWVJC+prXT6cE5Z8gpCawDC2voSKToAXhP8GdO3d5myJGGgRBEARBSCVAUTBFEITnHnN57GRdclUQUgLO9Hpbk5w91SkJST9BEARBeP6RkQZBEARBEARBEOJElAZBEARBEARBEGLiQjR58hT+KUqDIAiCIAiCIAh2uXXrFm9FaRAEQRAEQRAEIU5kIrQgCIIgCIIgCHEiIw2CIAiCIAiCIMSJKA2CIAiCIAiCIMTEhWjKFJkILQiCIAiCIAhCHNy8KROhBUEQBEEQBEGIA3MOc6JNhA4JCSEfHx/yzOpJRYoU0U8QBEEQBEEQBCH14KJEteNlpEEQBEEQBEEQBPsYHf+iNAiCIAiCIAiCEBMXomnTpvNPURoEQRAEQRAEQbCLl5cXb0VpEARBEARBEATBLpGRkbyVidCCIAiCIAiCINhHJkILgiAIgiAIghAnRse/KA2CIAiCIAiCIMTEhejXX3/ln6I0CIIgCIIgCIJgl6tXr/FWlAZBEARBEARBEOwSERHBW5kILQiCIAiCIAhCDNC2d3F14Xa8jDQIgiAIgiAIghADFxddYQCiNAiCIAiCIAiCEBOlM8ycOYt/itIgCIIgCIIgCIJdLl++zFtRGgRBEARBEARBsItMhBYEQRAEQRAEIVZkIrQgCIIgCIIgCHEiE6EFQRAEQRAEQYgbpTPMmTOHf4rSIAiCIAiCIAiCXS5cuMhbURoEQRAEQRAEQbBLeHg4b2UitCAIgiAIgiAIMZCJ0IIgCIIgCIIgxIlMhBYEQRAEQRAEIW6UzvD773/wT1EaBEEQBEEQBEGwy7lz53grSoMgCIIgCIIgCHYJCwvjrUyEFgRBEARBEAQhBokwEVoFZgVPmjBwsTkmCIIgCIIgCELKJ8EnQiNAU1GIpjBAMxGdQRAEQRAEQRBSH6odP3fuPP4Zb6UBuoCrlaJgrSC4urmSFqlRGvc0ykldQkyTBEEQBEEQBCHVcfr0ad4+80iDqThYAyUCEyXc3N0MF0EQBEEQBEEQUhuYrwziPRHalvDICIoID+dPTYeFhdPjx4/V7zBKny49FSxU0PAlCIIgCIIgCEJqIBEmQisMRQILKvFIgxap7xtugiAIgiAIgiCkHniustGOTzilQRAEQRAEQRCE55IEUxp4aoP6Y66e5OYq8xkEQRAEQRAE4XkgweY0RBgfeAsLD6PQ0DDy8/Wl0LBQSp/egwoWKmD4EgRBEARBEAQhtZFgSkOkCiYyIkIpDeE8yzog4AkFBwWTn78fBQYGsluYUibwG1+MxoTpiEj9K9KCIAiCIAiCICQvaJaHhemrJUWH6P+q0CGgoJcKQgAAAABJRU5ErkJggg=="
    }
   },
=======
    "new_lc = [x[:2] for x in l_o_l]\n",
    "print(new_lc)"
   ]
  },
  {
   "cell_type": "code",
   "execution_count": null,
   "metadata": {
    "id": "ck-1F6v3uaEJ"
   },
   "outputs": [],
   "source": []
  },
  {
>>>>>>> d054788c2bcce974b2897466f2ef7e02fb4a73f0
   "cell_type": "markdown",
   "metadata": {
    "ExecuteTime": {
     "end_time": "2020-07-16T22:46:10.223420Z",
     "start_time": "2020-07-16T22:46:10.219430Z"
    },
    "id": "kOKJmcu-hGpW"
   },
   "source": [
    "## Filters in `list comprehensions`\n",
    "\n",
    "![image.png](attachment:image.png)"
   ]
  },
  {
   "cell_type": "code",
<<<<<<< HEAD
   "execution_count": 30,
=======
   "execution_count": 55,
   "metadata": {
    "colab": {
     "base_uri": "https://localhost:8080/"
    },
    "id": "uqLRb4N9uzMd",
    "outputId": "513b11db-108a-480b-d759-8355b4a3a208"
   },
   "outputs": [
    {
     "data": {
      "text/plain": [
       "False"
      ]
     },
     "execution_count": 55,
     "metadata": {},
     "output_type": "execute_result"
    }
   ],
   "source": [
    "3 % 2 == 0"
   ]
  },
  {
   "cell_type": "code",
   "execution_count": 58,
>>>>>>> d054788c2bcce974b2897466f2ef7e02fb4a73f0
   "metadata": {
    "ExecuteTime": {
     "end_time": "2020-06-03T14:49:13.891051Z",
     "start_time": "2020-06-03T14:49:13.887055Z"
    },
    "colab": {
     "base_uri": "https://localhost:8080/"
    },
    "id": "vfKcYXckhGpX",
    "outputId": "ede92fd4-141e-4ca9-ad5e-a7aa1fb292ba"
   },
   "outputs": [
    {
     "name": "stdout",
     "output_type": "stream",
     "text": [
      "[6, 8, 10]\n"
     ]
    }
   ],
   "source": [
    "new_list = []\n",
    "\n",
    "for item in [1,3,6,7,8,9,10]:\n",
    "    if item % 2 == 0:\n",
    "        new_list.append(item)\n",
    "        \n",
    "print(new_list)"
   ]
  },
  {
   "cell_type": "markdown",
   "metadata": {
    "id": "8Tinr9-ZvYy8"
   },
   "source": [
    "* first part `[item ...` - WHAT WE WANT\n",
    "* second part `...for item in lista_orig...` - WHERE WE GET IT \n",
    "* third part `... if x % 2 ==0]` - WHAT WE KEEP"
   ]
  },
  {
   "cell_type": "code",
<<<<<<< HEAD
   "execution_count": 31,
=======
   "execution_count": 62,
>>>>>>> d054788c2bcce974b2897466f2ef7e02fb4a73f0
   "metadata": {
    "ExecuteTime": {
     "end_time": "2020-06-03T14:51:30.490979Z",
     "start_time": "2020-06-03T14:51:30.487961Z"
    },
    "colab": {
     "base_uri": "https://localhost:8080/"
    },
    "id": "m6Dh_cnDhGpX",
    "outputId": "4a152c29-148e-4db7-fe3d-93b44b8a977d"
   },
   "outputs": [
    {
     "name": "stdout",
     "output_type": "stream",
     "text": [
      "[3, 4, 5]\n"
     ]
    }
   ],
   "source": [
    "lista_orig = [1,2,3,4,5]\n",
    "new_lc = [x for x in lista_orig if x > 2]\n",
    "print(new_lc)"
   ]
  },
  {
   "cell_type": "code",
<<<<<<< HEAD
   "execution_count": 32,
=======
   "execution_count": 64,
>>>>>>> d054788c2bcce974b2897466f2ef7e02fb4a73f0
   "metadata": {
    "ExecuteTime": {
     "end_time": "2020-06-03T14:52:05.976206Z",
     "start_time": "2020-06-03T14:52:05.971216Z"
    },
    "colab": {
     "base_uri": "https://localhost:8080/"
    },
    "id": "zFIsYhvshGpX",
    "outputId": "2cca29a1-892e-4cc3-e851-e23241605e62"
   },
   "outputs": [
    {
     "name": "stdout",
     "output_type": "stream",
     "text": [
      "[0, 4, 16, 36, 64]\n"
     ]
    }
   ],
   "source": [
    "new_list = []\n",
    "\n",
    "for item in range(10):\n",
    "  \n",
    "    if item % 2 == 0:\n",
    "        new_list.append(item ** 2)\n",
    "        \n",
    "print(new_list)"
   ]
  },
  {
   "cell_type": "code",
<<<<<<< HEAD
   "execution_count": 33,
=======
   "execution_count": 65,
>>>>>>> d054788c2bcce974b2897466f2ef7e02fb4a73f0
   "metadata": {
    "ExecuteTime": {
     "end_time": "2020-06-03T14:53:07.801931Z",
     "start_time": "2020-06-03T14:53:07.796944Z"
    },
    "colab": {
     "base_uri": "https://localhost:8080/"
    },
    "id": "hZWUnnvlhGpY",
    "outputId": "a33c5c58-ac60-43fb-df00-f2792dbe9312"
   },
   "outputs": [
    {
     "name": "stdout",
     "output_type": "stream",
     "text": [
      "[0, 4, 16, 36, 64]\n"
     ]
    }
   ],
   "source": [
    "new_lc = [x ** 2 for x in range(10) if x % 2 == 0]\n",
    "print(new_lc)"
   ]
  },
  {
   "cell_type": "code",
<<<<<<< HEAD
   "execution_count": 37,
   "metadata": {},
=======
   "execution_count": 70,
   "metadata": {
    "colab": {
     "base_uri": "https://localhost:8080/"
    },
    "id": "tWZu8xjIhGpY",
    "outputId": "208cfa7e-24a1-488b-a021-8d93314c33cb"
   },
>>>>>>> d054788c2bcce974b2897466f2ef7e02fb4a73f0
   "outputs": [
    {
     "name": "stdout",
     "output_type": "stream",
     "text": [
      "[0, 1, 36, 49, 64, 81]\n"
     ]
    }
   ],
   "source": [
<<<<<<< HEAD
    "new_lc = [x**2 for x in range(10) if x > 5 or x < 2]\n",
=======
    "new_lc = [quadrado(x) for x in range(10) if x > 5 or x < 2]\n",
>>>>>>> d054788c2bcce974b2897466f2ef7e02fb4a73f0
    "print(new_lc)"
   ]
  },
  {
   "cell_type": "code",
   "execution_count": 69,
   "metadata": {
    "id": "d5Qt43MGw_Kl"
   },
   "outputs": [],
   "source": [
    "# BACK @ 15H28!"
   ]
  },
  {
   "cell_type": "markdown",
   "metadata": {
    "id": "vV2r00jlhGpY"
   },
   "source": [
    "## NesteD `for` loops"
   ]
  },
  {
   "cell_type": "code",
<<<<<<< HEAD
   "execution_count": 38,
=======
   "execution_count": 71,
>>>>>>> d054788c2bcce974b2897466f2ef7e02fb4a73f0
   "metadata": {
    "ExecuteTime": {
     "end_time": "2020-06-03T15:09:43.009113Z",
     "start_time": "2020-06-03T15:09:43.005124Z"
    },
    "colab": {
     "base_uri": "https://localhost:8080/"
    },
    "id": "wZCOngCWhGpY",
    "outputId": "cb9e518b-b608-4ae5-f8d4-543d9116f464"
   },
   "outputs": [
    {
     "name": "stdout",
     "output_type": "stream",
     "text": [
      "[6, 7, 8, 6, 8]\n"
     ]
    }
   ],
   "source": [
    "list_of_lists = [[1,2,3,4], [5,6,7,8], [1,3,6,8]]\n",
    "my_results = []\n",
    "\n",
    "for lista in list_of_lists:\n",
    "    for item in lista:\n",
    "        if item > 5:    \n",
    "            my_results.append(item)\n",
    "#\n",
    "print(my_results)"
   ]
  },
  {
   "cell_type": "code",
<<<<<<< HEAD
   "execution_count": 43,
   "metadata": {},
=======
   "execution_count": 72,
   "metadata": {
    "id": "qF6cHYtThGpY"
   },
>>>>>>> d054788c2bcce974b2897466f2ef7e02fb4a73f0
   "outputs": [],
   "source": [
    "new_lc = [item \n",
    "          for lista in list_of_lists \n",
    "          for item in lista \n",
    "          if item > 5]"
   ]
  },
  {
   "cell_type": "code",
<<<<<<< HEAD
   "execution_count": 44,
   "metadata": {},
=======
   "execution_count": 73,
   "metadata": {
    "colab": {
     "base_uri": "https://localhost:8080/"
    },
    "id": "65RpXosUhGpZ",
    "outputId": "e4000259-3acc-4160-e603-3c32c0681b92"
   },
>>>>>>> d054788c2bcce974b2897466f2ef7e02fb4a73f0
   "outputs": [
    {
     "name": "stdout",
     "output_type": "stream",
     "text": [
      "[6, 7, 8, 6, 8]\n"
     ]
    }
   ],
   "source": [
    "print(new_lc)"
   ]
  },
  {
   "cell_type": "code",
<<<<<<< HEAD
   "execution_count": 48,
   "metadata": {},
   "outputs": [],
   "source": [
    "new_lc = [item \n",
    "          for lista in list_of_lists \n",
    "          for item in lista  \n",
    "          if item < 5]"
=======
   "execution_count": 76,
   "metadata": {
    "colab": {
     "base_uri": "https://localhost:8080/"
    },
    "id": "wQE3ND0GhGpZ",
    "outputId": "20b96dba-52c9-4a04-afb3-0aaf33f936bd"
   },
   "outputs": [
    {
     "name": "stdout",
     "output_type": "stream",
     "text": [
      "[9, 10, 100]\n"
     ]
    }
   ],
   "source": [
    "list_of_lists = [[1,2,3,4], [5,6,7,8], [1,3,6,8], [9, 10], [100]]\n",
    "new_lc = [item for lista in list_of_lists for item in lista  if item > 5 and len(lista) < 3 ]\n",
    "print(new_lc)"
>>>>>>> d054788c2bcce974b2897466f2ef7e02fb4a73f0
   ]
  },
  {
   "cell_type": "code",
<<<<<<< HEAD
   "execution_count": 49,
   "metadata": {},
=======
   "execution_count": 81,
   "metadata": {
    "colab": {
     "base_uri": "https://localhost:8080/"
    },
    "id": "yWZr9QqZ0Ayz",
    "outputId": "3d2add05-dce1-4c53-ac50-060d57d91f5d"
   },
   "outputs": [
    {
     "data": {
      "text/plain": [
       "1"
      ]
     },
     "execution_count": 81,
     "metadata": {},
     "output_type": "execute_result"
    }
   ],
   "source": [
    "[[[1,2,3], [1,2,3]], [[4,5,6], [4,5,6]]][0][0][0]"
   ]
  },
  {
   "cell_type": "code",
   "execution_count": 82,
   "metadata": {
    "colab": {
     "base_uri": "https://localhost:8080/"
    },
    "id": "WjvvFUSYzxaL",
    "outputId": "97d7883e-91dd-49e1-cd62-c9248d300fab"
   },
>>>>>>> d054788c2bcce974b2897466f2ef7e02fb4a73f0
   "outputs": [
    {
     "name": "stdout",
     "output_type": "stream",
     "text": [
<<<<<<< HEAD
      "[1, 2, 3, 4, 1, 3]\n"
=======
      "[1, 1, 4, 4]\n"
>>>>>>> d054788c2bcce974b2897466f2ef7e02fb4a73f0
     ]
    }
   ],
   "source": [
<<<<<<< HEAD
=======
    "list_of_lists_of_lists = [[[1,2,3], [1,2,3]], [[4,5,6], [4,5,6]]]\n",
    "new_lc = [lista[0] for lista_of_lists in list_of_lists_of_lists for lista in lista_of_lists]\n",
>>>>>>> d054788c2bcce974b2897466f2ef7e02fb4a73f0
    "print(new_lc)"
   ]
  },
  {
   "cell_type": "markdown",
   "metadata": {
    "id": "CWyyHbA6hGpa"
   },
   "source": [
    "## Conditional Application/Return"
   ]
  },
  {
   "cell_type": "code",
<<<<<<< HEAD
   "execution_count": 54,
=======
   "execution_count": 83,
   "metadata": {
    "id": "Hv_QZ4AK0Xx9"
   },
   "outputs": [],
   "source": [
    "lista_ex = [1,2,3,4,5,6,7,8,9]"
   ]
  },
  {
   "cell_type": "code",
   "execution_count": 85,
>>>>>>> d054788c2bcce974b2897466f2ef7e02fb4a73f0
   "metadata": {
    "ExecuteTime": {
     "end_time": "2020-06-03T15:11:55.148634Z",
     "start_time": "2020-06-03T15:11:55.142650Z"
    },
    "colab": {
     "base_uri": "https://localhost:8080/"
    },
    "id": "ltJaEAgphGpa",
    "outputId": "cc789074-f6a1-4d84-a0a2-77ca354c19ec"
   },
   "outputs": [
    {
     "name": "stdout",
     "output_type": "stream",
     "text": [
<<<<<<< HEAD
      "[1, 1, 1, 1, 1, 1, 0, 0, 0, 0]\n"
=======
      "[1, 2, 3, 4, 5, 6, 7, 8, 9]\n",
      "['Smaller than five', 'Smaller than five', 'Smaller than five', 'Smaller than five', 'Greater than or equal to five', 'Greater than or equal to five', 'Greater than or equal to five', 'Greater than or equal to five', 'Greater than or equal to five']\n"
>>>>>>> d054788c2bcce974b2897466f2ef7e02fb4a73f0
     ]
    }
   ],
   "source": [
    "lista_ex = [1,2,3,4,5,6,7,8,9]\n",
    "lst = []\n",
<<<<<<< HEAD
    "for item in range(10):\n",
    "    if item > 5:\n",
    "        lst.append(0)\n",
    "    else:\n",
    "        lst.append(1)\n",
=======
    "\n",
    "for item in lista_ex:\n",
    "\n",
    "    if item < 5:\n",
    "        lst.append('Smaller than five')\n",
    "    else:\n",
    "        lst.append('Greater than or equal to five')\n",
    "print(lista_ex)\n",
>>>>>>> d054788c2bcce974b2897466f2ef7e02fb4a73f0
    "print(lst)"
   ]
  },
  {
   "cell_type": "code",
<<<<<<< HEAD
   "execution_count": 57,
=======
   "execution_count": null,
   "metadata": {
    "id": "q4V8836x0XV6"
   },
   "outputs": [],
   "source": []
  },
  {
   "cell_type": "code",
   "execution_count": 86,
>>>>>>> d054788c2bcce974b2897466f2ef7e02fb4a73f0
   "metadata": {
    "ExecuteTime": {
     "end_time": "2020-06-03T15:12:45.198991Z",
     "start_time": "2020-06-03T15:12:45.194006Z"
    },
    "colab": {
     "base_uri": "https://localhost:8080/"
    },
    "id": "34--zDtohGpa",
    "outputId": "1d218bd2-785a-4b21-846c-1891ba335106"
   },
   "outputs": [
    {
     "name": "stdout",
     "output_type": "stream",
     "text": [
      "[1, 2, 3, 4, 5, 6, 7, 8, 9]\n",
      "[0, 0, 0, 0, 1, 1, 1, 1, 1]\n"
     ]
    }
   ],
   "source": [
<<<<<<< HEAD
    "new_lc = [0 if i < 5 else 1 for i in range(10)]\n",
    "print(list(range(10)))\n",
=======
    "new_lc = [\n",
    "    0 if i < 5 \n",
    "    else 1 \n",
    "    for i in lista_ex\n",
    "    ]\n",
    "    \n",
    "print(lista_ex)\n",
>>>>>>> d054788c2bcce974b2897466f2ef7e02fb4a73f0
    "print(new_lc)"
   ]
  },
  {
   "cell_type": "code",
   "execution_count": 90,
   "metadata": {
    "colab": {
     "base_uri": "https://localhost:8080/"
    },
    "id": "NKOsqlEy1CV8",
    "outputId": "e4fd3aad-b838-47d3-8962-09f84a8a84eb"
   },
   "outputs": [
    {
     "data": {
      "text/plain": [
       "[0, 0, 0, 0, 1, 1, 1, 1, 1]"
      ]
     },
     "execution_count": 90,
     "metadata": {},
     "output_type": "execute_result"
    }
   ],
   "source": [
    "new_lc = [0 if i < 5 else 1 for i in lista_ex]\n",
    "new_lc"
   ]
  },
  {
   "cell_type": "markdown",
   "metadata": {
    "id": "z2gN6bwIhGpb"
   },
   "source": [
    "## Multiple Assignment in `comprehensions`"
   ]
  },
  {
   "cell_type": "code",
<<<<<<< HEAD
   "execution_count": 58,
   "metadata": {},
=======
   "execution_count": 91,
   "metadata": {
    "colab": {
     "base_uri": "https://localhost:8080/"
    },
    "id": "e-Se9O8Y1g7M",
    "outputId": "bbee3293-9e64-4f9e-a05e-800e8e93aeea"
   },
   "outputs": [
    {
     "name": "stdout",
     "output_type": "stream",
     "text": [
      "1 2\n"
     ]
    }
   ],
   "source": [
    "a, b = (1, 2)\n",
    "print(a, b)"
   ]
  },
  {
   "cell_type": "code",
   "execution_count": 93,
   "metadata": {
    "colab": {
     "base_uri": "https://localhost:8080/"
    },
    "id": "3PN1hcCk1kBj",
    "outputId": "244a1506-2dff-488d-efd4-c20ef1975cb1"
   },
   "outputs": [
    {
     "data": {
      "text/plain": [
       "[38, 36, 48, 30]"
      ]
     },
     "execution_count": 93,
     "metadata": {},
     "output_type": "execute_result"
    }
   ],
   "source": [
    "list_of_uples = [(19, 2), (12, 3), (12, 4), (15, 2)]\n",
    "lista_vazia = []\n",
    "for x, y in list_of_uples:\n",
    "  lista_vazia.append(x * y)\n",
    "\n",
    "lista_vazia"
   ]
  },
  {
   "cell_type": "code",
   "execution_count": 94,
   "metadata": {
    "colab": {
     "base_uri": "https://localhost:8080/"
    },
    "id": "_9_p6brihGpb",
    "outputId": "87a906eb-dc6b-4d74-cfb6-5abd4c6874a0"
   },
>>>>>>> d054788c2bcce974b2897466f2ef7e02fb4a73f0
   "outputs": [
    {
     "name": "stdout",
     "output_type": "stream",
     "text": [
      "[361, 1728, 20736, 225]\n"
     ]
    }
   ],
   "source": [
    "tuple_list = [(19, 2), (12, 3), (12, 4), (15, 2)]\n",
    "empty_list = []\n",
    "\n",
    "for x, y in tuple_list:\n",
    "    empty_list.append(x ** y)\n",
    "\n",
    "print(empty_list)"
   ]
  },
  {
   "cell_type": "code",
<<<<<<< HEAD
   "execution_count": 60,
   "metadata": {},
   "outputs": [
    {
     "name": "stdout",
     "output_type": "stream",
     "text": [
      "[1728, 20736]\n"
     ]
    }
   ],
   "source": [
    "tuple_list = [(19, 2), (12, 3), (12, 4), (15, 2)]\n",
    "\n",
    "new_lc = [x ** y for x, y in tuple_list if x%2 == 0]\n",
    "print(new_lc)"
   ]
  },
  {
   "cell_type": "code",
   "execution_count": 62,
   "metadata": {},
   "outputs": [
    {
     "name": "stdout",
     "output_type": "stream",
     "text": [
      "[9, 16, 4]\n"
     ]
    }
   ],
   "source": [
    "tuple_list = [(19, 2), (12, 3), (12, 4), (15, 2)]\n",
    "new_list = [y**2 for x, y in tuple_list if x%3 == 0]\n",
    "print(new_list)"
   ]
  },
  {
   "cell_type": "markdown",
   "metadata": {},
   "source": [
    "# Aplications"
   ]
  },
  {
   "cell_type": "markdown",
   "metadata": {},
   "source": [
    "## Reading files conditionally"
   ]
  },
  {
   "cell_type": "code",
   "execution_count": 81,
=======
   "execution_count": 97,
>>>>>>> d054788c2bcce974b2897466f2ef7e02fb4a73f0
   "metadata": {
    "colab": {
     "base_uri": "https://localhost:8080/"
    },
    "id": "0XS6FwvxhGpb",
    "outputId": "d66ec31c-e081-41c5-d728-05afea1c7acd"
   },
<<<<<<< HEAD
   "outputs": [],
   "source": [
    "import os"
   ]
  },
  {
   "cell_type": "code",
   "execution_count": 89,
   "metadata": {},
   "outputs": [],
   "source": [
    "archives_list = os.listdir('data-labs/lab-tuple-set-dict')"
=======
   "outputs": [
    {
     "name": "stdout",
     "output_type": "stream",
     "text": [
      "[[361, 21, 38], [1728, 15, 36], [20736, 16, 48], [225, 17, 30]]\n"
     ]
    }
   ],
   "source": [
    "lista_uplas = [(19, 2), (12, 3), (12, 4), (15, 2)]\n",
    "\n",
    "new_lc = [[x ** y, x + y, x * y] for x, y in lista_uplas]\n",
    "print(new_lc)"
>>>>>>> d054788c2bcce974b2897466f2ef7e02fb4a73f0
   ]
  },
  {
   "cell_type": "markdown",
   "metadata": {
    "id": "f7NDOJmahGpb"
   },
   "source": [
    "# Aplications"
   ]
  },
  {
   "cell_type": "markdown",
   "metadata": {
    "id": "YeY4y9nmhGpb"
   },
   "source": [
    "## Reading files conditionally"
   ]
  },
  {
   "cell_type": "code",
   "execution_count": 90,
   "metadata": {},
   "outputs": [
    {
     "name": "stdout",
     "output_type": "stream",
     "text": [
      "['shape-of-you-ed-sheeran-lyrics.txt']\n"
     ]
    }
   ],
   "source": [
    "import os"
   ]
  },
  {
   "cell_type": "code",
   "execution_count": 10,
   "metadata": {
    "ExecuteTime": {
     "end_time": "2020-06-03T15:13:51.770836Z",
     "start_time": "2020-06-03T15:13:51.765850Z"
    },
    "id": "MuExs9k4hGpb"
   },
   "outputs": [
    {
     "name": "stdout",
     "output_type": "stream",
     "text": [
      "['.DS_Store', 'knn.png', 'example', 'PLS.png', 'boosting.png', 'sample_1.csv', 'sample_2.csv', 'ensemble.png', 'sample_3.csv', 'sample_2.txt', 'sample_3.txt', 'sample_1.txt']\n"
     ]
    }
   ],
   "source": [
    "lista_arquivos = os.listdir('arquivos/')\n",
    "print(lista_arquivos)"
   ]
  },
  {
   "cell_type": "code",
   "execution_count": 8,
   "metadata": {},
   "outputs": [
    {
     "data": {
      "text/plain": [
       "False"
      ]
     },
     "execution_count": 8,
     "metadata": {},
     "output_type": "execute_result"
    }
   ],
   "source": [
    "my_name = 'Pedro'\n",
    "my_name.endswith('whatever')"
   ]
  },
  {
   "cell_type": "markdown",
   "metadata": {
    "id": "Gah94QeFhGpc"
   },
   "source": [
    "### Loop Solution"
   ]
  },
  {
   "cell_type": "code",
   "execution_count": 12,
   "metadata": {
    "id": "J2p-93Z-hGpc"
   },
   "outputs": [
    {
     "name": "stdout",
     "output_type": "stream",
     "text": [
      "['.DS_Store', 'knn.png', 'example', 'PLS.png', 'boosting.png', 'sample_1.csv', 'sample_2.csv', 'ensemble.png', 'sample_3.csv', 'sample_2.txt', 'sample_3.txt', 'sample_1.txt']\n",
      "['sample_1.csv', 'sample_2.csv', 'sample_3.csv']\n"
     ]
    }
   ],
   "source": [
    "lista_csv = []\n",
<<<<<<< HEAD
    "for file in archives_list:\n",
    "    if file.lower().endswith('txt'):\n",
    "        lista_csv.append(file)\n",
    "\n",
=======
    "for file_name in lista_arquivos:\n",
    "    if file_name.endswith('csv'):\n",
    "        lista_csv.append(file_name)\n",
    "print(lista_arquivos)\n",
>>>>>>> d054788c2bcce974b2897466f2ef7e02fb4a73f0
    "print(lista_csv)"
   ]
  },
  {
   "cell_type": "markdown",
   "metadata": {
    "id": "EUJHd1o4hGpc"
   },
   "source": [
    "### List Comprehension"
   ]
  },
  {
   "cell_type": "code",
<<<<<<< HEAD
   "execution_count": 91,
   "metadata": {},
=======
   "execution_count": 13,
   "metadata": {
    "id": "ZYqnQFozhGpc"
   },
>>>>>>> d054788c2bcce974b2897466f2ef7e02fb4a73f0
   "outputs": [
    {
     "name": "stdout",
     "output_type": "stream",
     "text": [
<<<<<<< HEAD
      "['shape-of-you-ed-sheeran-lyrics.txt']\n"
=======
      "['sample_1.csv', 'sample_2.csv', 'sample_3.csv']\n"
>>>>>>> d054788c2bcce974b2897466f2ef7e02fb4a73f0
     ]
    }
   ],
   "source": [
<<<<<<< HEAD
    "lista_csv = [file for file in archives_list if file.lower().endswith('txt')]\n",
=======
    "lista_csv = [file for file in lista_arquivos if file.endswith('csv')]\n",
>>>>>>> d054788c2bcce974b2897466f2ef7e02fb4a73f0
    "print(lista_csv)"
   ]
  },
  {
   "cell_type": "code",
   "execution_count": null,
   "metadata": {},
   "outputs": [],
   "source": []
  }
 ],
 "metadata": {
  "colab": {
   "provenance": []
  },
  "kernelspec": {
   "display_name": "Python 3 (ipykernel)",
   "language": "python",
   "name": "python3"
  },
  "language_info": {
   "codemirror_mode": {
    "name": "ipython",
    "version": 3
   },
   "file_extension": ".py",
   "mimetype": "text/x-python",
   "name": "python",
   "nbconvert_exporter": "python",
   "pygments_lexer": "ipython3",
   "version": "3.9.12"
  },
  "toc": {
   "base_numbering": 1,
   "nav_menu": {},
   "number_sections": true,
   "sideBar": true,
   "skip_h1_title": false,
   "title_cell": "Table of Contents",
   "title_sidebar": "Contents",
   "toc_cell": false,
   "toc_position": {},
   "toc_section_display": true,
   "toc_window_display": false
  },
  "varInspector": {
   "cols": {
    "lenName": 16,
    "lenType": 16,
    "lenVar": 40
   },
   "kernels_config": {
    "python": {
     "delete_cmd_postfix": "",
     "delete_cmd_prefix": "del ",
     "library": "var_list.py",
     "varRefreshCmd": "print(var_dic_list())"
    },
    "r": {
     "delete_cmd_postfix": ") ",
     "delete_cmd_prefix": "rm(",
     "library": "var_list.r",
     "varRefreshCmd": "cat(var_dic_list()) "
    }
   },
   "types_to_exclude": [
    "module",
    "function",
    "builtin_function_or_method",
    "instance",
    "_Feature"
   ],
   "window_display": false
  },
  "vscode": {
   "interpreter": {
    "hash": "014f4a4a5af8f0104b12c029e500f4146d6d785e8cf714d2a35b7a9514230cd3"
   }
  }
 },
 "nbformat": 4,
 "nbformat_minor": 1
}
